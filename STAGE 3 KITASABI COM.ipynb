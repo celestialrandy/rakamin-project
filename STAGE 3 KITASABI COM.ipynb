{
  "nbformat": 4,
  "nbformat_minor": 0,
  "metadata": {
    "colab": {
      "name": "Stage 3.ipynb",
      "provenance": [],
      "collapsed_sections": [
        "MWNNTGL-pxyc",
        "ZNhUVceYrWd_",
        "8nX58C4-wXjO",
        "Ig47B9dIw4QY",
        "xIuyfNyeuC9L",
        "Tm8g5ZhYu3Vf",
        "zyQD6JvrvmjS",
        "hpXJZCiBwJ26",
        "jiM3reaRxVws",
        "pnzvZSPCwx_o",
        "GAt8q1YRyJf8",
        "NgJvTpox16WV",
        "sK7OzgW6334n",
        "oJ2oM4J0K_cN",
        "7XrUOOpTz7-2"
      ]
    },
    "kernelspec": {
      "name": "python3",
      "display_name": "Python 3"
    },
    "language_info": {
      "name": "python"
    }
  },
  "cells": [
    {
      "cell_type": "markdown",
      "source": [
        "#**Kitasabi.com (Kelompok 5)**\n",
        "\n",
        "\n",
        "*   M Choiril Iman\n",
        "*   Yehezkiel Novianto\n",
        "\n",
        "*   Ahmad Reza\n",
        "*   Celestial Randy\n",
        "\n",
        "\n",
        "*   Risca Naquitasia\n",
        "*   Sonia Epifany Sandah\n",
        "\n",
        "*   Oky Hariawan\n",
        "\n",
        "\n",
        "\n",
        "\n"
      ],
      "metadata": {
        "id": "MWNNTGL-pxyc"
      }
    },
    {
      "cell_type": "code",
      "execution_count": 123,
      "metadata": {
        "id": "KQ_gMaXzor5g"
      },
      "outputs": [],
      "source": [
        "import numpy as np\n",
        "import pandas as pd\n",
        "import seaborn as sns\n",
        "import matplotlib.pyplot as plt\n",
        "from sklearn.preprocessing import LabelEncoder"
      ]
    },
    {
      "cell_type": "code",
      "source": [
        "from sklearn.preprocessing import LabelEncoder, StandardScaler, MinMaxScaler\n",
        "from sklearn.model_selection import train_test_split, cross_val_score, GridSearchCV, StratifiedKFold\n",
        "from sklearn.feature_selection import SelectFromModel, SelectPercentile\n",
        "from sklearn.metrics import f1_score, confusion_matrix, recall_score, accuracy_score, classification_report\n",
        "\n",
        "from sklearn.linear_model import LogisticRegression, RidgeClassifier, SGDClassifier\n",
        "from sklearn.svm import LinearSVC\n",
        "from sklearn.tree import DecisionTreeClassifier, export_graphviz\n",
        "from sklearn.ensemble import RandomForestClassifier, GradientBoostingClassifier, AdaBoostClassifier\n",
        "from sklearn.neighbors import KNeighborsClassifier\n",
        "from sklearn.neural_network import MLPClassifier\n",
        "from sklearn.naive_bayes import GaussianNB\n",
        "from sklearn import metrics\n",
        "from sklearn.svm import SVC\n",
        "from sklearn.pipeline import Pipeline"
      ],
      "metadata": {
        "id": "hUye4OIVA_nc"
      },
      "execution_count": 124,
      "outputs": []
    },
    {
      "cell_type": "code",
      "source": [
        "df = pd.read_csv('hotel_booking.csv')"
      ],
      "metadata": {
        "id": "ILgOszGypJMP"
      },
      "execution_count": 125,
      "outputs": []
    },
    {
      "cell_type": "code",
      "source": [
        "df.info()"
      ],
      "metadata": {
        "colab": {
          "base_uri": "https://localhost:8080/"
        },
        "id": "om-HYasGpLHQ",
        "outputId": "a5a5e7f0-c4c9-4870-9be1-202c8f7ff6c4"
      },
      "execution_count": 126,
      "outputs": [
        {
          "output_type": "stream",
          "name": "stdout",
          "text": [
            "<class 'pandas.core.frame.DataFrame'>\n",
            "RangeIndex: 119390 entries, 0 to 119389\n",
            "Data columns (total 36 columns):\n",
            " #   Column                          Non-Null Count   Dtype  \n",
            "---  ------                          --------------   -----  \n",
            " 0   hotel                           119390 non-null  object \n",
            " 1   is_canceled                     119390 non-null  int64  \n",
            " 2   lead_time                       119390 non-null  int64  \n",
            " 3   arrival_date_year               119390 non-null  int64  \n",
            " 4   arrival_date_month              119390 non-null  object \n",
            " 5   arrival_date_week_number        119390 non-null  int64  \n",
            " 6   arrival_date_day_of_month       119390 non-null  int64  \n",
            " 7   stays_in_weekend_nights         119390 non-null  int64  \n",
            " 8   stays_in_week_nights            119390 non-null  int64  \n",
            " 9   adults                          119390 non-null  int64  \n",
            " 10  children                        119386 non-null  float64\n",
            " 11  babies                          119390 non-null  int64  \n",
            " 12  meal                            119390 non-null  object \n",
            " 13  country                         118902 non-null  object \n",
            " 14  market_segment                  119390 non-null  object \n",
            " 15  distribution_channel            119390 non-null  object \n",
            " 16  is_repeated_guest               119390 non-null  int64  \n",
            " 17  previous_cancellations          119390 non-null  int64  \n",
            " 18  previous_bookings_not_canceled  119390 non-null  int64  \n",
            " 19  reserved_room_type              119390 non-null  object \n",
            " 20  assigned_room_type              119390 non-null  object \n",
            " 21  booking_changes                 119390 non-null  int64  \n",
            " 22  deposit_type                    119390 non-null  object \n",
            " 23  agent                           103050 non-null  float64\n",
            " 24  company                         6797 non-null    float64\n",
            " 25  days_in_waiting_list            119390 non-null  int64  \n",
            " 26  customer_type                   119390 non-null  object \n",
            " 27  adr                             119390 non-null  float64\n",
            " 28  required_car_parking_spaces     119390 non-null  int64  \n",
            " 29  total_of_special_requests       119390 non-null  int64  \n",
            " 30  reservation_status              119390 non-null  object \n",
            " 31  reservation_status_date         119390 non-null  object \n",
            " 32  name                            119390 non-null  object \n",
            " 33  email                           119390 non-null  object \n",
            " 34  phone-number                    119390 non-null  object \n",
            " 35  credit_card                     119390 non-null  object \n",
            "dtypes: float64(4), int64(16), object(16)\n",
            "memory usage: 32.8+ MB\n"
          ]
        }
      ]
    },
    {
      "cell_type": "code",
      "source": [
        "# initialize df_clean\n",
        "df_clean = df.copy()"
      ],
      "metadata": {
        "id": "K9RmstwDuyWo"
      },
      "execution_count": 127,
      "outputs": []
    },
    {
      "cell_type": "code",
      "source": [
        "#Numeric\n",
        "numerical = df_clean.loc[:, (df_clean.dtypes == int) | (df_clean.dtypes == float)].columns.tolist()\n",
        "\n",
        "#Categorical\n",
        "categorical = df_clean.loc[:, (df_clean.dtypes != int) & (df_clean.dtypes != float)].columns.tolist()"
      ],
      "metadata": {
        "id": "bfENoThhyERI"
      },
      "execution_count": 128,
      "outputs": []
    },
    {
      "cell_type": "code",
      "source": [
        "numerical"
      ],
      "metadata": {
        "colab": {
          "base_uri": "https://localhost:8080/"
        },
        "id": "huvX64I8RXvP",
        "outputId": "96a48329-4757-426e-db8f-638461394716"
      },
      "execution_count": 129,
      "outputs": [
        {
          "output_type": "execute_result",
          "data": {
            "text/plain": [
              "['is_canceled',\n",
              " 'lead_time',\n",
              " 'arrival_date_year',\n",
              " 'arrival_date_week_number',\n",
              " 'arrival_date_day_of_month',\n",
              " 'stays_in_weekend_nights',\n",
              " 'stays_in_week_nights',\n",
              " 'adults',\n",
              " 'children',\n",
              " 'babies',\n",
              " 'is_repeated_guest',\n",
              " 'previous_cancellations',\n",
              " 'previous_bookings_not_canceled',\n",
              " 'booking_changes',\n",
              " 'agent',\n",
              " 'company',\n",
              " 'days_in_waiting_list',\n",
              " 'adr',\n",
              " 'required_car_parking_spaces',\n",
              " 'total_of_special_requests']"
            ]
          },
          "metadata": {},
          "execution_count": 129
        }
      ]
    },
    {
      "cell_type": "code",
      "source": [
        "categorical"
      ],
      "metadata": {
        "colab": {
          "base_uri": "https://localhost:8080/"
        },
        "id": "qOQeUE0pRakp",
        "outputId": "40407b03-8f20-42ad-e105-2f6546ac0cb8"
      },
      "execution_count": 130,
      "outputs": [
        {
          "output_type": "execute_result",
          "data": {
            "text/plain": [
              "['hotel',\n",
              " 'arrival_date_month',\n",
              " 'meal',\n",
              " 'country',\n",
              " 'market_segment',\n",
              " 'distribution_channel',\n",
              " 'reserved_room_type',\n",
              " 'assigned_room_type',\n",
              " 'deposit_type',\n",
              " 'customer_type',\n",
              " 'reservation_status',\n",
              " 'reservation_status_date',\n",
              " 'name',\n",
              " 'email',\n",
              " 'phone-number',\n",
              " 'credit_card']"
            ]
          },
          "metadata": {},
          "execution_count": 130
        }
      ]
    },
    {
      "cell_type": "markdown",
      "source": [
        "# **Handle missing values**"
      ],
      "metadata": {
        "id": "ZNhUVceYrWd_"
      }
    },
    {
      "cell_type": "code",
      "source": [
        "#Checking Missing Values\n",
        "df_clean.isnull().sum().sort_values(ascending=False)"
      ],
      "metadata": {
        "colab": {
          "base_uri": "https://localhost:8080/"
        },
        "id": "PNAJSKyPpPZB",
        "outputId": "c22894a0-4668-42b2-bc43-f8a74cfd7eb2"
      },
      "execution_count": 131,
      "outputs": [
        {
          "output_type": "execute_result",
          "data": {
            "text/plain": [
              "company                           112593\n",
              "agent                              16340\n",
              "country                              488\n",
              "children                               4\n",
              "hotel                                  0\n",
              "booking_changes                        0\n",
              "deposit_type                           0\n",
              "days_in_waiting_list                   0\n",
              "customer_type                          0\n",
              "adr                                    0\n",
              "reserved_room_type                     0\n",
              "required_car_parking_spaces            0\n",
              "total_of_special_requests              0\n",
              "reservation_status                     0\n",
              "reservation_status_date                0\n",
              "name                                   0\n",
              "email                                  0\n",
              "phone-number                           0\n",
              "assigned_room_type                     0\n",
              "previous_bookings_not_canceled         0\n",
              "is_canceled                            0\n",
              "previous_cancellations                 0\n",
              "is_repeated_guest                      0\n",
              "distribution_channel                   0\n",
              "market_segment                         0\n",
              "meal                                   0\n",
              "babies                                 0\n",
              "adults                                 0\n",
              "stays_in_week_nights                   0\n",
              "stays_in_weekend_nights                0\n",
              "arrival_date_day_of_month              0\n",
              "arrival_date_week_number               0\n",
              "arrival_date_month                     0\n",
              "arrival_date_year                      0\n",
              "lead_time                              0\n",
              "credit_card                            0\n",
              "dtype: int64"
            ]
          },
          "metadata": {},
          "execution_count": 131
        }
      ]
    },
    {
      "cell_type": "code",
      "source": [
        "data_missing_value = df_clean.isnull().sum().reset_index()\n",
        "data_missing_value.columns = ['feature','missing_value']\n",
        "data_missing_value['percentage'] = round((data_missing_value['missing_value']/len(df_clean))*100,3)\n",
        "data_missing_value = data_missing_value.sort_values('percentage', ascending=False).reset_index(drop=True)\n",
        "data_missing_value = data_missing_value[data_missing_value['percentage']>0]\n",
        "data_missing_value"
      ],
      "metadata": {
        "colab": {
          "base_uri": "https://localhost:8080/",
          "height": 0
        },
        "id": "61gFAk0sras-",
        "outputId": "f1e55fcb-559d-46e2-961f-8a682c6573a5"
      },
      "execution_count": 132,
      "outputs": [
        {
          "output_type": "execute_result",
          "data": {
            "text/plain": [
              "    feature  missing_value  percentage\n",
              "0   company         112593      94.307\n",
              "1     agent          16340      13.686\n",
              "2   country            488       0.409\n",
              "3  children              4       0.003"
            ],
            "text/html": [
              "\n",
              "  <div id=\"df-66e84ec8-890a-4068-a81a-919ed6c862d3\">\n",
              "    <div class=\"colab-df-container\">\n",
              "      <div>\n",
              "<style scoped>\n",
              "    .dataframe tbody tr th:only-of-type {\n",
              "        vertical-align: middle;\n",
              "    }\n",
              "\n",
              "    .dataframe tbody tr th {\n",
              "        vertical-align: top;\n",
              "    }\n",
              "\n",
              "    .dataframe thead th {\n",
              "        text-align: right;\n",
              "    }\n",
              "</style>\n",
              "<table border=\"1\" class=\"dataframe\">\n",
              "  <thead>\n",
              "    <tr style=\"text-align: right;\">\n",
              "      <th></th>\n",
              "      <th>feature</th>\n",
              "      <th>missing_value</th>\n",
              "      <th>percentage</th>\n",
              "    </tr>\n",
              "  </thead>\n",
              "  <tbody>\n",
              "    <tr>\n",
              "      <th>0</th>\n",
              "      <td>company</td>\n",
              "      <td>112593</td>\n",
              "      <td>94.307</td>\n",
              "    </tr>\n",
              "    <tr>\n",
              "      <th>1</th>\n",
              "      <td>agent</td>\n",
              "      <td>16340</td>\n",
              "      <td>13.686</td>\n",
              "    </tr>\n",
              "    <tr>\n",
              "      <th>2</th>\n",
              "      <td>country</td>\n",
              "      <td>488</td>\n",
              "      <td>0.409</td>\n",
              "    </tr>\n",
              "    <tr>\n",
              "      <th>3</th>\n",
              "      <td>children</td>\n",
              "      <td>4</td>\n",
              "      <td>0.003</td>\n",
              "    </tr>\n",
              "  </tbody>\n",
              "</table>\n",
              "</div>\n",
              "      <button class=\"colab-df-convert\" onclick=\"convertToInteractive('df-66e84ec8-890a-4068-a81a-919ed6c862d3')\"\n",
              "              title=\"Convert this dataframe to an interactive table.\"\n",
              "              style=\"display:none;\">\n",
              "        \n",
              "  <svg xmlns=\"http://www.w3.org/2000/svg\" height=\"24px\"viewBox=\"0 0 24 24\"\n",
              "       width=\"24px\">\n",
              "    <path d=\"M0 0h24v24H0V0z\" fill=\"none\"/>\n",
              "    <path d=\"M18.56 5.44l.94 2.06.94-2.06 2.06-.94-2.06-.94-.94-2.06-.94 2.06-2.06.94zm-11 1L8.5 8.5l.94-2.06 2.06-.94-2.06-.94L8.5 2.5l-.94 2.06-2.06.94zm10 10l.94 2.06.94-2.06 2.06-.94-2.06-.94-.94-2.06-.94 2.06-2.06.94z\"/><path d=\"M17.41 7.96l-1.37-1.37c-.4-.4-.92-.59-1.43-.59-.52 0-1.04.2-1.43.59L10.3 9.45l-7.72 7.72c-.78.78-.78 2.05 0 2.83L4 21.41c.39.39.9.59 1.41.59.51 0 1.02-.2 1.41-.59l7.78-7.78 2.81-2.81c.8-.78.8-2.07 0-2.86zM5.41 20L4 18.59l7.72-7.72 1.47 1.35L5.41 20z\"/>\n",
              "  </svg>\n",
              "      </button>\n",
              "      \n",
              "  <style>\n",
              "    .colab-df-container {\n",
              "      display:flex;\n",
              "      flex-wrap:wrap;\n",
              "      gap: 12px;\n",
              "    }\n",
              "\n",
              "    .colab-df-convert {\n",
              "      background-color: #E8F0FE;\n",
              "      border: none;\n",
              "      border-radius: 50%;\n",
              "      cursor: pointer;\n",
              "      display: none;\n",
              "      fill: #1967D2;\n",
              "      height: 32px;\n",
              "      padding: 0 0 0 0;\n",
              "      width: 32px;\n",
              "    }\n",
              "\n",
              "    .colab-df-convert:hover {\n",
              "      background-color: #E2EBFA;\n",
              "      box-shadow: 0px 1px 2px rgba(60, 64, 67, 0.3), 0px 1px 3px 1px rgba(60, 64, 67, 0.15);\n",
              "      fill: #174EA6;\n",
              "    }\n",
              "\n",
              "    [theme=dark] .colab-df-convert {\n",
              "      background-color: #3B4455;\n",
              "      fill: #D2E3FC;\n",
              "    }\n",
              "\n",
              "    [theme=dark] .colab-df-convert:hover {\n",
              "      background-color: #434B5C;\n",
              "      box-shadow: 0px 1px 3px 1px rgba(0, 0, 0, 0.15);\n",
              "      filter: drop-shadow(0px 1px 2px rgba(0, 0, 0, 0.3));\n",
              "      fill: #FFFFFF;\n",
              "    }\n",
              "  </style>\n",
              "\n",
              "      <script>\n",
              "        const buttonEl =\n",
              "          document.querySelector('#df-66e84ec8-890a-4068-a81a-919ed6c862d3 button.colab-df-convert');\n",
              "        buttonEl.style.display =\n",
              "          google.colab.kernel.accessAllowed ? 'block' : 'none';\n",
              "\n",
              "        async function convertToInteractive(key) {\n",
              "          const element = document.querySelector('#df-66e84ec8-890a-4068-a81a-919ed6c862d3');\n",
              "          const dataTable =\n",
              "            await google.colab.kernel.invokeFunction('convertToInteractive',\n",
              "                                                     [key], {});\n",
              "          if (!dataTable) return;\n",
              "\n",
              "          const docLinkHtml = 'Like what you see? Visit the ' +\n",
              "            '<a target=\"_blank\" href=https://colab.research.google.com/notebooks/data_table.ipynb>data table notebook</a>'\n",
              "            + ' to learn more about interactive tables.';\n",
              "          element.innerHTML = '';\n",
              "          dataTable['output_type'] = 'display_data';\n",
              "          await google.colab.output.renderOutput(dataTable, element);\n",
              "          const docLink = document.createElement('div');\n",
              "          docLink.innerHTML = docLinkHtml;\n",
              "          element.appendChild(docLink);\n",
              "        }\n",
              "      </script>\n",
              "    </div>\n",
              "  </div>\n",
              "  "
            ]
          },
          "metadata": {},
          "execution_count": 132
        }
      ]
    },
    {
      "cell_type": "markdown",
      "source": [
        "Ditemukan 4 kolom yang memiliki missing values:\n",
        "\n",
        "*   company\n",
        "*   agent\n",
        "*   country\n",
        "*   children\n",
        "\n",
        "Treatment:\n",
        "\n",
        "*   Kolom `children` karena hanya memiliki 4 baris data yang kosong maka missing value tersebut akan di hapus\n",
        "*   Kolom `agent` karena merupakan ID maka nilai akan di set 0 untuk data yang tidak memiliki ID dan 1 untuk data yang memiliki ID.\n",
        "*   Kolom `company` karena banyak missing value (94%) maka feature `company` dapat di drop\n",
        "*   Kolom `country` karena sebagian besar nilainya adalah PRT dan missing value rationya kecil, maka missing value tersebut akan diisi dengan nilai PRT\n"
      ],
      "metadata": {
        "id": "djk2C0-Irqud"
      }
    },
    {
      "cell_type": "code",
      "source": [
        "#Remove rows that have no children data\n",
        "df_clean.dropna(subset=['children'], inplace=True)"
      ],
      "metadata": {
        "id": "CxXLp-8LteHR"
      },
      "execution_count": 133,
      "outputs": []
    },
    {
      "cell_type": "code",
      "source": [
        "#Change value agent to 0 and 1\n",
        "df_clean['agent'] = df_clean['agent'].apply(lambda x: 0 if pd.isnull(x) else 1)\n",
        "df_clean['agent'].value_counts()"
      ],
      "metadata": {
        "colab": {
          "base_uri": "https://localhost:8080/"
        },
        "id": "AEiJpJnoubKK",
        "outputId": "fb8f57f0-e9a4-4317-9515-38937d697f8c"
      },
      "execution_count": 134,
      "outputs": [
        {
          "output_type": "execute_result",
          "data": {
            "text/plain": [
              "1    103048\n",
              "0     16338\n",
              "Name: agent, dtype: int64"
            ]
          },
          "metadata": {},
          "execution_count": 134
        }
      ]
    },
    {
      "cell_type": "code",
      "source": [
        "df_clean.shape"
      ],
      "metadata": {
        "colab": {
          "base_uri": "https://localhost:8080/"
        },
        "id": "94lxZa7wlus_",
        "outputId": "e9ce431f-a178-4362-ef29-79265e0e82da"
      },
      "execution_count": 135,
      "outputs": [
        {
          "output_type": "execute_result",
          "data": {
            "text/plain": [
              "(119386, 36)"
            ]
          },
          "metadata": {},
          "execution_count": 135
        }
      ]
    },
    {
      "cell_type": "code",
      "source": [
        "#Drop feature company\n",
        "df_clean.drop(columns=['company'], inplace = True)\n",
        "df_clean.shape"
      ],
      "metadata": {
        "colab": {
          "base_uri": "https://localhost:8080/"
        },
        "id": "GT901ylWk8R2",
        "outputId": "dc854665-f03d-444f-de76-499c166b7156"
      },
      "execution_count": 136,
      "outputs": [
        {
          "output_type": "execute_result",
          "data": {
            "text/plain": [
              "(119386, 35)"
            ]
          },
          "metadata": {},
          "execution_count": 136
        }
      ]
    },
    {
      "cell_type": "code",
      "source": [
        "#Fill NaN value in country with the value of mode\n",
        "df_clean['country'].fillna(df_clean['country'].mode()[0], inplace = True)\n",
        "df_clean['country'].value_counts()"
      ],
      "metadata": {
        "colab": {
          "base_uri": "https://localhost:8080/"
        },
        "id": "P7RnuJJKv5b5",
        "outputId": "53df4285-ea68-4c25-e83c-d51905ff56bd"
      },
      "execution_count": 137,
      "outputs": [
        {
          "output_type": "execute_result",
          "data": {
            "text/plain": [
              "PRT    49074\n",
              "GBR    12129\n",
              "FRA    10415\n",
              "ESP     8568\n",
              "DEU     7287\n",
              "       ...  \n",
              "DJI        1\n",
              "BWA        1\n",
              "HND        1\n",
              "VGB        1\n",
              "NAM        1\n",
              "Name: country, Length: 177, dtype: int64"
            ]
          },
          "metadata": {},
          "execution_count": 137
        }
      ]
    },
    {
      "cell_type": "code",
      "source": [
        "df_clean.isna().sum()"
      ],
      "metadata": {
        "colab": {
          "base_uri": "https://localhost:8080/"
        },
        "id": "G-NIF5WMwCGG",
        "outputId": "3b251e98-13ec-4037-b276-9df1aa1ff9a1"
      },
      "execution_count": 138,
      "outputs": [
        {
          "output_type": "execute_result",
          "data": {
            "text/plain": [
              "hotel                             0\n",
              "is_canceled                       0\n",
              "lead_time                         0\n",
              "arrival_date_year                 0\n",
              "arrival_date_month                0\n",
              "arrival_date_week_number          0\n",
              "arrival_date_day_of_month         0\n",
              "stays_in_weekend_nights           0\n",
              "stays_in_week_nights              0\n",
              "adults                            0\n",
              "children                          0\n",
              "babies                            0\n",
              "meal                              0\n",
              "country                           0\n",
              "market_segment                    0\n",
              "distribution_channel              0\n",
              "is_repeated_guest                 0\n",
              "previous_cancellations            0\n",
              "previous_bookings_not_canceled    0\n",
              "reserved_room_type                0\n",
              "assigned_room_type                0\n",
              "booking_changes                   0\n",
              "deposit_type                      0\n",
              "agent                             0\n",
              "days_in_waiting_list              0\n",
              "customer_type                     0\n",
              "adr                               0\n",
              "required_car_parking_spaces       0\n",
              "total_of_special_requests         0\n",
              "reservation_status                0\n",
              "reservation_status_date           0\n",
              "name                              0\n",
              "email                             0\n",
              "phone-number                      0\n",
              "credit_card                       0\n",
              "dtype: int64"
            ]
          },
          "metadata": {},
          "execution_count": 138
        }
      ]
    },
    {
      "cell_type": "markdown",
      "source": [
        "# **Handle duplicated data**"
      ],
      "metadata": {
        "id": "8nX58C4-wXjO"
      }
    },
    {
      "cell_type": "code",
      "source": [
        "df_clean.duplicated().sum()"
      ],
      "metadata": {
        "colab": {
          "base_uri": "https://localhost:8080/"
        },
        "id": "TL2PpGg9wczU",
        "outputId": "dd7eddc3-23e4-46e1-a540-2cba07a4c612"
      },
      "execution_count": 139,
      "outputs": [
        {
          "output_type": "execute_result",
          "data": {
            "text/plain": [
              "0"
            ]
          },
          "metadata": {},
          "execution_count": 139
        }
      ]
    },
    {
      "cell_type": "code",
      "source": [
        "df_clean.duplicated(subset=['name', 'email', 'phone-number', 'credit_card']).sum()"
      ],
      "metadata": {
        "colab": {
          "base_uri": "https://localhost:8080/"
        },
        "id": "reO4tRXMwoJe",
        "outputId": "b2c7304a-fe95-4724-b71f-52ac9901b044"
      },
      "execution_count": 140,
      "outputs": [
        {
          "output_type": "execute_result",
          "data": {
            "text/plain": [
              "0"
            ]
          },
          "metadata": {},
          "execution_count": 140
        }
      ]
    },
    {
      "cell_type": "markdown",
      "source": [
        "Tidak ditemukan adanya duplicated values"
      ],
      "metadata": {
        "id": "GRjiHwETwvaK"
      }
    },
    {
      "cell_type": "markdown",
      "source": [
        "# **Handle outliers**"
      ],
      "metadata": {
        "id": "Ig47B9dIw4QY"
      }
    },
    {
      "cell_type": "code",
      "source": [
        "plt.figure(figsize = (30, 10))\n",
        "x = 1 \n",
        "\n",
        "for column in df_clean.describe().columns:\n",
        "    plt.subplot(6,4,x)\n",
        "    sns.boxplot(df_clean[column])\n",
        "    x+=1\n",
        "    \n",
        "plt.tight_layout()"
      ],
      "metadata": {
        "colab": {
          "base_uri": "https://localhost:8080/",
          "height": 0
        },
        "id": "bbv9rBVoQQiq",
        "outputId": "2bc8cd68-3d6d-4db3-a840-bfe0d7ec7ef8"
      },
      "execution_count": 141,
      "outputs": [
        {
          "output_type": "stream",
          "name": "stderr",
          "text": [
            "/usr/local/lib/python3.7/dist-packages/seaborn/_decorators.py:43: FutureWarning: Pass the following variable as a keyword arg: x. From version 0.12, the only valid positional argument will be `data`, and passing other arguments without an explicit keyword will result in an error or misinterpretation.\n",
            "  FutureWarning\n",
            "/usr/local/lib/python3.7/dist-packages/seaborn/_decorators.py:43: FutureWarning: Pass the following variable as a keyword arg: x. From version 0.12, the only valid positional argument will be `data`, and passing other arguments without an explicit keyword will result in an error or misinterpretation.\n",
            "  FutureWarning\n",
            "/usr/local/lib/python3.7/dist-packages/seaborn/_decorators.py:43: FutureWarning: Pass the following variable as a keyword arg: x. From version 0.12, the only valid positional argument will be `data`, and passing other arguments without an explicit keyword will result in an error or misinterpretation.\n",
            "  FutureWarning\n",
            "/usr/local/lib/python3.7/dist-packages/seaborn/_decorators.py:43: FutureWarning: Pass the following variable as a keyword arg: x. From version 0.12, the only valid positional argument will be `data`, and passing other arguments without an explicit keyword will result in an error or misinterpretation.\n",
            "  FutureWarning\n",
            "/usr/local/lib/python3.7/dist-packages/seaborn/_decorators.py:43: FutureWarning: Pass the following variable as a keyword arg: x. From version 0.12, the only valid positional argument will be `data`, and passing other arguments without an explicit keyword will result in an error or misinterpretation.\n",
            "  FutureWarning\n",
            "/usr/local/lib/python3.7/dist-packages/seaborn/_decorators.py:43: FutureWarning: Pass the following variable as a keyword arg: x. From version 0.12, the only valid positional argument will be `data`, and passing other arguments without an explicit keyword will result in an error or misinterpretation.\n",
            "  FutureWarning\n",
            "/usr/local/lib/python3.7/dist-packages/seaborn/_decorators.py:43: FutureWarning: Pass the following variable as a keyword arg: x. From version 0.12, the only valid positional argument will be `data`, and passing other arguments without an explicit keyword will result in an error or misinterpretation.\n",
            "  FutureWarning\n",
            "/usr/local/lib/python3.7/dist-packages/seaborn/_decorators.py:43: FutureWarning: Pass the following variable as a keyword arg: x. From version 0.12, the only valid positional argument will be `data`, and passing other arguments without an explicit keyword will result in an error or misinterpretation.\n",
            "  FutureWarning\n",
            "/usr/local/lib/python3.7/dist-packages/seaborn/_decorators.py:43: FutureWarning: Pass the following variable as a keyword arg: x. From version 0.12, the only valid positional argument will be `data`, and passing other arguments without an explicit keyword will result in an error or misinterpretation.\n",
            "  FutureWarning\n",
            "/usr/local/lib/python3.7/dist-packages/seaborn/_decorators.py:43: FutureWarning: Pass the following variable as a keyword arg: x. From version 0.12, the only valid positional argument will be `data`, and passing other arguments without an explicit keyword will result in an error or misinterpretation.\n",
            "  FutureWarning\n",
            "/usr/local/lib/python3.7/dist-packages/seaborn/_decorators.py:43: FutureWarning: Pass the following variable as a keyword arg: x. From version 0.12, the only valid positional argument will be `data`, and passing other arguments without an explicit keyword will result in an error or misinterpretation.\n",
            "  FutureWarning\n",
            "/usr/local/lib/python3.7/dist-packages/seaborn/_decorators.py:43: FutureWarning: Pass the following variable as a keyword arg: x. From version 0.12, the only valid positional argument will be `data`, and passing other arguments without an explicit keyword will result in an error or misinterpretation.\n",
            "  FutureWarning\n",
            "/usr/local/lib/python3.7/dist-packages/seaborn/_decorators.py:43: FutureWarning: Pass the following variable as a keyword arg: x. From version 0.12, the only valid positional argument will be `data`, and passing other arguments without an explicit keyword will result in an error or misinterpretation.\n",
            "  FutureWarning\n",
            "/usr/local/lib/python3.7/dist-packages/seaborn/_decorators.py:43: FutureWarning: Pass the following variable as a keyword arg: x. From version 0.12, the only valid positional argument will be `data`, and passing other arguments without an explicit keyword will result in an error or misinterpretation.\n",
            "  FutureWarning\n",
            "/usr/local/lib/python3.7/dist-packages/seaborn/_decorators.py:43: FutureWarning: Pass the following variable as a keyword arg: x. From version 0.12, the only valid positional argument will be `data`, and passing other arguments without an explicit keyword will result in an error or misinterpretation.\n",
            "  FutureWarning\n",
            "/usr/local/lib/python3.7/dist-packages/seaborn/_decorators.py:43: FutureWarning: Pass the following variable as a keyword arg: x. From version 0.12, the only valid positional argument will be `data`, and passing other arguments without an explicit keyword will result in an error or misinterpretation.\n",
            "  FutureWarning\n",
            "/usr/local/lib/python3.7/dist-packages/seaborn/_decorators.py:43: FutureWarning: Pass the following variable as a keyword arg: x. From version 0.12, the only valid positional argument will be `data`, and passing other arguments without an explicit keyword will result in an error or misinterpretation.\n",
            "  FutureWarning\n",
            "/usr/local/lib/python3.7/dist-packages/seaborn/_decorators.py:43: FutureWarning: Pass the following variable as a keyword arg: x. From version 0.12, the only valid positional argument will be `data`, and passing other arguments without an explicit keyword will result in an error or misinterpretation.\n",
            "  FutureWarning\n",
            "/usr/local/lib/python3.7/dist-packages/seaborn/_decorators.py:43: FutureWarning: Pass the following variable as a keyword arg: x. From version 0.12, the only valid positional argument will be `data`, and passing other arguments without an explicit keyword will result in an error or misinterpretation.\n",
            "  FutureWarning\n"
          ]
        },
        {
          "output_type": "display_data",
          "data": {
            "text/plain": [
              "<Figure size 2160x720 with 19 Axes>"
            ],
            "image/png": "[encoded data removed]"
          },
          "metadata": {
            "needs_background": "light"
          }
        }
      ]
    },
    {
      "cell_type": "markdown",
      "source": [
        "\n",
        "*   Dapat terlihat jika dalam data ini memiliki banyak outliers\n",
        "*   Dalam hal ini kami akan menangani outlier seperti keterangan di bawah\n"
      ],
      "metadata": {
        "id": "-zj1AsjPSDc7"
      }
    },
    {
      "cell_type": "markdown",
      "source": [
        "## Lead Time Feature"
      ],
      "metadata": {
        "id": "IccLzUxbYhzn"
      }
    },
    {
      "cell_type": "code",
      "source": [
        "#Cek nilai outlier\n",
        "Q1 = df_clean['lead_time'].quantile(0.25)\n",
        "Q3 = df_clean['lead_time'].quantile(0.75)\n",
        "IQR = Q3 - Q1\n",
        "low_limit = Q1 - (1.5*IQR)\n",
        "high_limit = Q3 + (1.5*IQR)"
      ],
      "metadata": {
        "id": "gjAGSdrKYjWF"
      },
      "execution_count": 142,
      "outputs": []
    },
    {
      "cell_type": "code",
      "source": [
        "low_limit,high_limit,Q1,Q3"
      ],
      "metadata": {
        "colab": {
          "base_uri": "https://localhost:8080/"
        },
        "id": "r-irm01snZDo",
        "outputId": "71623950-6e5b-48fa-fc31-3dfcdd7614f6"
      },
      "execution_count": 143,
      "outputs": [
        {
          "output_type": "execute_result",
          "data": {
            "text/plain": [
              "(-195.0, 373.0, 18.0, 160.0)"
            ]
          },
          "metadata": {},
          "execution_count": 143
        }
      ]
    },
    {
      "cell_type": "code",
      "source": [
        "df_clean.loc[(df_clean.lead_time > high_limit,'lead_time')] = high_limit\n",
        "#Karena lead time dibatasi hanya 1 tahun"
      ],
      "metadata": {
        "id": "DNbwIRDRnfB5"
      },
      "execution_count": 144,
      "outputs": []
    },
    {
      "cell_type": "code",
      "source": [
        "sns.boxplot(x = df_clean.lead_time)"
      ],
      "metadata": {
        "colab": {
          "base_uri": "https://localhost:8080/",
          "height": 0
        },
        "id": "O6U-EOzUnpeO",
        "outputId": "9f0a8176-da28-44ac-98bb-4b539a28adf8"
      },
      "execution_count": 145,
      "outputs": [
        {
          "output_type": "execute_result",
          "data": {
            "text/plain": [
              "<matplotlib.axes._subplots.AxesSubplot at 0x7ff16ac70a10>"
            ]
          },
          "metadata": {},
          "execution_count": 145
        },
        {
          "output_type": "display_data",
          "data": {
            "text/plain": [
              "<Figure size 432x288 with 1 Axes>"
            ],
            "image/png": "[encoded data removed]"
          },
          "metadata": {
            "needs_background": "light"
          }
        }
      ]
    },
    {
      "cell_type": "markdown",
      "source": [
        "## Stays in Weekend Nights"
      ],
      "metadata": {
        "id": "vrNaSYubYrqc"
      }
    },
    {
      "cell_type": "code",
      "source": [
        "#Cek nilai Oulier\n",
        "Q1 = df_clean['stays_in_weekend_nights'].quantile(0.25)\n",
        "Q3 = df_clean['stays_in_weekend_nights'].quantile(0.75)\n",
        "IQR = Q3 - Q1\n",
        "low_limit = Q1 - (1.5*IQR)\n",
        "high_limit = Q3 + (1.5*IQR)"
      ],
      "metadata": {
        "id": "T2YIWBMCYube"
      },
      "execution_count": 146,
      "outputs": []
    },
    {
      "cell_type": "code",
      "source": [
        "low_limit,high_limit,Q1,Q3"
      ],
      "metadata": {
        "colab": {
          "base_uri": "https://localhost:8080/"
        },
        "id": "jbtcXr3voKQw",
        "outputId": "40bb8cd6-0d67-4b46-a4fc-9ade97cfb91a"
      },
      "execution_count": 147,
      "outputs": [
        {
          "output_type": "execute_result",
          "data": {
            "text/plain": [
              "(-3.0, 5.0, 0.0, 2.0)"
            ]
          },
          "metadata": {},
          "execution_count": 147
        }
      ]
    },
    {
      "cell_type": "code",
      "source": [
        "df_clean.stays_in_weekend_nights.value_counts()"
      ],
      "metadata": {
        "colab": {
          "base_uri": "https://localhost:8080/"
        },
        "id": "s_J77fz6oYMo",
        "outputId": "ad0b9510-b2cf-4fad-f143-d2be5c6bf964"
      },
      "execution_count": 148,
      "outputs": [
        {
          "output_type": "execute_result",
          "data": {
            "text/plain": [
              "0     51996\n",
              "2     33307\n",
              "1     30625\n",
              "4      1855\n",
              "3      1259\n",
              "6       153\n",
              "5        79\n",
              "8        60\n",
              "7        19\n",
              "9        11\n",
              "10        7\n",
              "12        5\n",
              "13        3\n",
              "16        3\n",
              "14        2\n",
              "18        1\n",
              "19        1\n",
              "Name: stays_in_weekend_nights, dtype: int64"
            ]
          },
          "metadata": {},
          "execution_count": 148
        }
      ]
    },
    {
      "cell_type": "code",
      "source": [
        "df_clean.loc[(df_clean.stays_in_weekend_nights > high_limit,'stays_in_weekend_nights')] = 2.0\n",
        "#Karena kita anggap customer paling banyak stay 2 hari (modus = 0 diabaikan)"
      ],
      "metadata": {
        "id": "c__J07OqY31V"
      },
      "execution_count": 149,
      "outputs": []
    },
    {
      "cell_type": "code",
      "source": [
        "sns.boxplot(x = df_clean.stays_in_weekend_nights)"
      ],
      "metadata": {
        "colab": {
          "base_uri": "https://localhost:8080/",
          "height": 0
        },
        "id": "47_y-XPMY9LV",
        "outputId": "470a5983-d539-45b6-b488-b15782c1f251"
      },
      "execution_count": 150,
      "outputs": [
        {
          "output_type": "execute_result",
          "data": {
            "text/plain": [
              "<matplotlib.axes._subplots.AxesSubplot at 0x7ff1673f69d0>"
            ]
          },
          "metadata": {},
          "execution_count": 150
        },
        {
          "output_type": "display_data",
          "data": {
            "text/plain": [
              "<Figure size 432x288 with 1 Axes>"
            ],
            "image/png": "[encoded data removed]"
          },
          "metadata": {
            "needs_background": "light"
          }
        }
      ]
    },
    {
      "cell_type": "markdown",
      "source": [
        "## **Stays in Week Nights**"
      ],
      "metadata": {
        "id": "gPwg8J6uqSsN"
      }
    },
    {
      "cell_type": "code",
      "source": [
        "Q1 = df_clean['stays_in_week_nights'].quantile(0.25)\n",
        "Q3 = df_clean['stays_in_week_nights'].quantile(0.75)\n",
        "IQR = Q3 - Q1\n",
        "low_limit = Q1 - (1.5*IQR)\n",
        "high_limit = Q3 + (1.5*IQR)"
      ],
      "metadata": {
        "id": "Bzp_PByyqahp"
      },
      "execution_count": 151,
      "outputs": []
    },
    {
      "cell_type": "code",
      "source": [
        "low_limit,high_limit,Q1,Q3"
      ],
      "metadata": {
        "colab": {
          "base_uri": "https://localhost:8080/"
        },
        "id": "hKp78fK_qti4",
        "outputId": "8d82ce13-469d-46c7-85ce-ac63a614d67d"
      },
      "execution_count": 152,
      "outputs": [
        {
          "output_type": "execute_result",
          "data": {
            "text/plain": [
              "(-2.0, 6.0, 1.0, 3.0)"
            ]
          },
          "metadata": {},
          "execution_count": 152
        }
      ]
    },
    {
      "cell_type": "code",
      "source": [
        "df_clean.stays_in_week_nights.value_counts()"
      ],
      "metadata": {
        "colab": {
          "base_uri": "https://localhost:8080/"
        },
        "id": "uF3R367Zqv7A",
        "outputId": "4cf8978b-323a-4233-d764-5d8f25784f47"
      },
      "execution_count": 153,
      "outputs": [
        {
          "output_type": "execute_result",
          "data": {
            "text/plain": [
              "2     33682\n",
              "1     30310\n",
              "3     22258\n",
              "5     11076\n",
              "4      9563\n",
              "0      7644\n",
              "6      1499\n",
              "10     1036\n",
              "7      1029\n",
              "8       656\n",
              "9       231\n",
              "15       85\n",
              "11       56\n",
              "19       44\n",
              "12       42\n",
              "20       41\n",
              "14       35\n",
              "13       27\n",
              "16       16\n",
              "21       15\n",
              "22        7\n",
              "25        6\n",
              "18        6\n",
              "30        5\n",
              "17        4\n",
              "24        3\n",
              "40        2\n",
              "33        1\n",
              "42        1\n",
              "50        1\n",
              "32        1\n",
              "26        1\n",
              "34        1\n",
              "35        1\n",
              "41        1\n",
              "Name: stays_in_week_nights, dtype: int64"
            ]
          },
          "metadata": {},
          "execution_count": 153
        }
      ]
    },
    {
      "cell_type": "code",
      "source": [
        "df_clean.loc[(df_clean.stays_in_week_nights > high_limit,'stays_in_week_nights')] = 2.0\n",
        "#Karena kita anggap customer paling banyak stay 2 hari "
      ],
      "metadata": {
        "id": "2YpNl2K5q7uA"
      },
      "execution_count": 154,
      "outputs": []
    },
    {
      "cell_type": "code",
      "source": [
        "sns.boxplot(x = df_clean.stays_in_week_nights)"
      ],
      "metadata": {
        "colab": {
          "base_uri": "https://localhost:8080/",
          "height": 0
        },
        "id": "V7Y-c_M9rAlQ",
        "outputId": "2007d636-e33b-4673-a6b2-de513b20f5d6"
      },
      "execution_count": 155,
      "outputs": [
        {
          "output_type": "execute_result",
          "data": {
            "text/plain": [
              "<matplotlib.axes._subplots.AxesSubplot at 0x7ff16a802110>"
            ]
          },
          "metadata": {},
          "execution_count": 155
        },
        {
          "output_type": "display_data",
          "data": {
            "text/plain": [
              "<Figure size 432x288 with 1 Axes>"
            ],
            "image/png": "[encoded data removed]"
          },
          "metadata": {
            "needs_background": "light"
          }
        }
      ]
    },
    {
      "cell_type": "markdown",
      "source": [
        "## **Adults**"
      ],
      "metadata": {
        "id": "WvJcYONHyHdI"
      }
    },
    {
      "cell_type": "code",
      "source": [
        "Q1 = df_clean['adults'].quantile(0.25)\n",
        "Q3 = df_clean['adults'].quantile(0.75)\n",
        "IQR = Q3 - Q1\n",
        "low_limit = Q1 - (1.5*IQR)\n",
        "high_limit = Q3 + (1.5*IQR)"
      ],
      "metadata": {
        "id": "8cuxGZoNrTno"
      },
      "execution_count": 156,
      "outputs": []
    },
    {
      "cell_type": "code",
      "source": [
        "df_clean.adults.value_counts()"
      ],
      "metadata": {
        "colab": {
          "base_uri": "https://localhost:8080/"
        },
        "id": "kr3rv14qrdti",
        "outputId": "470bc599-6fb4-49bc-9eb3-3c89579de8ec"
      },
      "execution_count": 157,
      "outputs": [
        {
          "output_type": "execute_result",
          "data": {
            "text/plain": [
              "2     89677\n",
              "1     23027\n",
              "3      6201\n",
              "0       403\n",
              "4        62\n",
              "26        5\n",
              "27        2\n",
              "20        2\n",
              "5         2\n",
              "40        1\n",
              "50        1\n",
              "55        1\n",
              "6         1\n",
              "10        1\n",
              "Name: adults, dtype: int64"
            ]
          },
          "metadata": {},
          "execution_count": 157
        }
      ]
    },
    {
      "cell_type": "code",
      "source": [
        "#Karena ada nilai 0 (Customer tidak boleh anak kecil atau babies maka nilai 0 diganti 1\n",
        "df_clean.loc[(df_clean.adults == 0,'adults')] = 1"
      ],
      "metadata": {
        "id": "MBNLHPvProHB"
      },
      "execution_count": 158,
      "outputs": []
    },
    {
      "cell_type": "code",
      "source": [
        "df_clean.adults.value_counts()"
      ],
      "metadata": {
        "colab": {
          "base_uri": "https://localhost:8080/"
        },
        "id": "6OXjspdqsMHa",
        "outputId": "8cc06958-acb1-4626-8212-c61823d5f8e5"
      },
      "execution_count": 159,
      "outputs": [
        {
          "output_type": "execute_result",
          "data": {
            "text/plain": [
              "2     89677\n",
              "1     23430\n",
              "3      6201\n",
              "4        62\n",
              "26        5\n",
              "27        2\n",
              "20        2\n",
              "5         2\n",
              "40        1\n",
              "50        1\n",
              "55        1\n",
              "6         1\n",
              "10        1\n",
              "Name: adults, dtype: int64"
            ]
          },
          "metadata": {},
          "execution_count": 159
        }
      ]
    },
    {
      "cell_type": "code",
      "source": [
        "sns.boxplot(x = df_clean.adults)"
      ],
      "metadata": {
        "colab": {
          "base_uri": "https://localhost:8080/",
          "height": 0
        },
        "id": "GAzca80VsTDy",
        "outputId": "7d0a0616-1be2-4479-9188-c4594e7714f6"
      },
      "execution_count": 160,
      "outputs": [
        {
          "output_type": "execute_result",
          "data": {
            "text/plain": [
              "<matplotlib.axes._subplots.AxesSubplot at 0x7ff1674dcdd0>"
            ]
          },
          "metadata": {},
          "execution_count": 160
        },
        {
          "output_type": "display_data",
          "data": {
            "text/plain": [
              "<Figure size 432x288 with 1 Axes>"
            ],
            "image/png": "[encoded data removed]"
          },
          "metadata": {
            "needs_background": "light"
          }
        }
      ]
    },
    {
      "cell_type": "markdown",
      "source": [
        "## **Children**"
      ],
      "metadata": {
        "id": "ZKKqdaB0rMzI"
      }
    },
    {
      "cell_type": "code",
      "source": [
        "Q1 = df_clean['children'].quantile(0.25)\n",
        "Q3 = df_clean['children'].quantile(0.75)\n",
        "IQR = Q3 - Q1\n",
        "low_limit = Q1 - (1.5*IQR)\n",
        "high_limit = Q3 + (1.5*IQR)"
      ],
      "metadata": {
        "id": "1knx2iBJspXi"
      },
      "execution_count": 161,
      "outputs": []
    },
    {
      "cell_type": "code",
      "source": [
        "low_limit,high_limit,Q1,Q3"
      ],
      "metadata": {
        "colab": {
          "base_uri": "https://localhost:8080/"
        },
        "id": "tOZzuyktsz4D",
        "outputId": "d16e07ce-d750-4b82-d424-4c4072d16d5d"
      },
      "execution_count": 162,
      "outputs": [
        {
          "output_type": "execute_result",
          "data": {
            "text/plain": [
              "(0.0, 0.0, 0.0, 0.0)"
            ]
          },
          "metadata": {},
          "execution_count": 162
        }
      ]
    },
    {
      "cell_type": "code",
      "source": [
        "df_clean.children.value_counts()"
      ],
      "metadata": {
        "colab": {
          "base_uri": "https://localhost:8080/"
        },
        "id": "Aoih_WPWs5vS",
        "outputId": "1e596a09-b212-4921-bcdb-f94ba2fc891f"
      },
      "execution_count": 163,
      "outputs": [
        {
          "output_type": "execute_result",
          "data": {
            "text/plain": [
              "0.0     110796\n",
              "1.0       4861\n",
              "2.0       3652\n",
              "3.0         76\n",
              "10.0         1\n",
              "Name: children, dtype: int64"
            ]
          },
          "metadata": {},
          "execution_count": 163
        }
      ]
    },
    {
      "cell_type": "code",
      "source": [
        "df_clean.loc[(df_clean.children ==10,'children')] = 3\n",
        "#Karena kita anggap 10 anak case yg sangat spesial"
      ],
      "metadata": {
        "id": "k6PZFLjcs9kj"
      },
      "execution_count": 164,
      "outputs": []
    },
    {
      "cell_type": "code",
      "source": [
        "df_clean.children.value_counts()"
      ],
      "metadata": {
        "colab": {
          "base_uri": "https://localhost:8080/"
        },
        "id": "9Z77yFK_tKFv",
        "outputId": "bc5433dc-53b3-4876-940a-cdf02f3f6599"
      },
      "execution_count": 165,
      "outputs": [
        {
          "output_type": "execute_result",
          "data": {
            "text/plain": [
              "0.0    110796\n",
              "1.0      4861\n",
              "2.0      3652\n",
              "3.0        77\n",
              "Name: children, dtype: int64"
            ]
          },
          "metadata": {},
          "execution_count": 165
        }
      ]
    },
    {
      "cell_type": "code",
      "source": [
        "sns.boxplot(x = df_clean.children)"
      ],
      "metadata": {
        "colab": {
          "base_uri": "https://localhost:8080/",
          "height": 0
        },
        "id": "0xJfhnKJtQBT",
        "outputId": "2c417a62-2b2c-4017-9156-b5a075dd9b8a"
      },
      "execution_count": 166,
      "outputs": [
        {
          "output_type": "execute_result",
          "data": {
            "text/plain": [
              "<matplotlib.axes._subplots.AxesSubplot at 0x7ff16739d5d0>"
            ]
          },
          "metadata": {},
          "execution_count": 166
        },
        {
          "output_type": "display_data",
          "data": {
            "text/plain": [
              "<Figure size 432x288 with 1 Axes>"
            ],
            "image/png": "[encoded data removed]"
          },
          "metadata": {
            "needs_background": "light"
          }
        }
      ]
    },
    {
      "cell_type": "markdown",
      "source": [
        "## **Babies**"
      ],
      "metadata": {
        "id": "ELfXLgI4shpR"
      }
    },
    {
      "cell_type": "code",
      "source": [
        "Q1 = df_clean['babies'].quantile(0.25)\n",
        "Q3 = df_clean['babies'].quantile(0.75)\n",
        "IQR = Q3 - Q1\n",
        "low_limit = Q1 - (1.5*IQR)\n",
        "high_limit = Q3 + (1.5*IQR)"
      ],
      "metadata": {
        "id": "BJBDiks2tY1j"
      },
      "execution_count": 167,
      "outputs": []
    },
    {
      "cell_type": "code",
      "source": [
        "low_limit,high_limit,Q1,Q3"
      ],
      "metadata": {
        "colab": {
          "base_uri": "https://localhost:8080/"
        },
        "id": "TlOQ4vWLtiA7",
        "outputId": "fc8fec15-3b8e-4b4d-e3fd-bb007df3ab0c"
      },
      "execution_count": 168,
      "outputs": [
        {
          "output_type": "execute_result",
          "data": {
            "text/plain": [
              "(0.0, 0.0, 0.0, 0.0)"
            ]
          },
          "metadata": {},
          "execution_count": 168
        }
      ]
    },
    {
      "cell_type": "code",
      "source": [
        "df_clean.babies.value_counts()"
      ],
      "metadata": {
        "colab": {
          "base_uri": "https://localhost:8080/"
        },
        "id": "njZBGgCqtkhD",
        "outputId": "f7cd6dbc-7c81-40e1-f61c-7bc4732e94e9"
      },
      "execution_count": 169,
      "outputs": [
        {
          "output_type": "execute_result",
          "data": {
            "text/plain": [
              "0     118469\n",
              "1        900\n",
              "2         15\n",
              "10         1\n",
              "9          1\n",
              "Name: babies, dtype: int64"
            ]
          },
          "metadata": {},
          "execution_count": 169
        }
      ]
    },
    {
      "cell_type": "code",
      "source": [
        "df_clean.loc[(df_clean.babies > 5,'babies')] = 2\n",
        "#Karena kita anggap babies > 5 case spesial"
      ],
      "metadata": {
        "id": "aTuhNTbPtrjl"
      },
      "execution_count": 170,
      "outputs": []
    },
    {
      "cell_type": "code",
      "source": [
        "df_clean.babies.value_counts()"
      ],
      "metadata": {
        "colab": {
          "base_uri": "https://localhost:8080/"
        },
        "id": "qUYNSlwptyvM",
        "outputId": "1fee3290-1419-4442-8550-4cb6e04548d6"
      },
      "execution_count": 171,
      "outputs": [
        {
          "output_type": "execute_result",
          "data": {
            "text/plain": [
              "0    118469\n",
              "1       900\n",
              "2        17\n",
              "Name: babies, dtype: int64"
            ]
          },
          "metadata": {},
          "execution_count": 171
        }
      ]
    },
    {
      "cell_type": "code",
      "source": [
        "sns.boxplot(x = df_clean.babies)"
      ],
      "metadata": {
        "colab": {
          "base_uri": "https://localhost:8080/",
          "height": 0
        },
        "id": "HXozQG8Vt8Og",
        "outputId": "f0ad67d9-9c10-42f9-e0a7-f89103215b9e"
      },
      "execution_count": 172,
      "outputs": [
        {
          "output_type": "execute_result",
          "data": {
            "text/plain": [
              "<matplotlib.axes._subplots.AxesSubplot at 0x7ff167501850>"
            ]
          },
          "metadata": {},
          "execution_count": 172
        },
        {
          "output_type": "display_data",
          "data": {
            "text/plain": [
              "<Figure size 432x288 with 1 Axes>"
            ],
            "image/png": "[encoded data removed]"
          },
          "metadata": {
            "needs_background": "light"
          }
        }
      ]
    },
    {
      "cell_type": "markdown",
      "source": [
        "## **Previous Cancellations**"
      ],
      "metadata": {
        "id": "SGKvk5LztVLc"
      }
    },
    {
      "cell_type": "code",
      "source": [
        "Q1 = df_clean['previous_cancellations'].quantile(0.25)\n",
        "Q3 = df_clean['previous_cancellations'].quantile(0.75)\n",
        "IQR = Q3 - Q1\n",
        "low_limit = Q1 - (1.5*IQR)\n",
        "high_limit = Q3 + (1.5*IQR)"
      ],
      "metadata": {
        "id": "vab0naxUuLnN"
      },
      "execution_count": 173,
      "outputs": []
    },
    {
      "cell_type": "code",
      "source": [
        "low_limit,high_limit,Q1,Q3"
      ],
      "metadata": {
        "colab": {
          "base_uri": "https://localhost:8080/"
        },
        "id": "sOAChwZ3ucbg",
        "outputId": "e262dabe-32ee-4d22-f5bb-a8e662c6dc44"
      },
      "execution_count": 174,
      "outputs": [
        {
          "output_type": "execute_result",
          "data": {
            "text/plain": [
              "(0.0, 0.0, 0.0, 0.0)"
            ]
          },
          "metadata": {},
          "execution_count": 174
        }
      ]
    },
    {
      "cell_type": "code",
      "source": [
        "df_clean.previous_cancellations.value_counts()"
      ],
      "metadata": {
        "colab": {
          "base_uri": "https://localhost:8080/"
        },
        "id": "Yy8Sz4bIud5y",
        "outputId": "80d01d02-36b5-4704-9199-ce379e574f84"
      },
      "execution_count": 175,
      "outputs": [
        {
          "output_type": "execute_result",
          "data": {
            "text/plain": [
              "0     112902\n",
              "1       6051\n",
              "2        116\n",
              "3         65\n",
              "24        48\n",
              "11        35\n",
              "4         31\n",
              "26        26\n",
              "25        25\n",
              "6         22\n",
              "19        19\n",
              "5         19\n",
              "14        14\n",
              "13        12\n",
              "21         1\n",
              "Name: previous_cancellations, dtype: int64"
            ]
          },
          "metadata": {},
          "execution_count": 175
        }
      ]
    },
    {
      "cell_type": "code",
      "source": [
        "df_clean.loc[(df_clean.previous_cancellations > 0,'previous_cancellations')] = 1\n",
        "#Karena kita bagi hanya 2 keadaan pernah cancel atau tidak"
      ],
      "metadata": {
        "id": "_ggtXyjsujrr"
      },
      "execution_count": 176,
      "outputs": []
    },
    {
      "cell_type": "code",
      "source": [
        "df_clean.previous_cancellations.value_counts()"
      ],
      "metadata": {
        "colab": {
          "base_uri": "https://localhost:8080/"
        },
        "id": "2j7akOZqup5-",
        "outputId": "3aaca73e-630e-441b-dfa3-56dd8b325597"
      },
      "execution_count": 177,
      "outputs": [
        {
          "output_type": "execute_result",
          "data": {
            "text/plain": [
              "0    112902\n",
              "1      6484\n",
              "Name: previous_cancellations, dtype: int64"
            ]
          },
          "metadata": {},
          "execution_count": 177
        }
      ]
    },
    {
      "cell_type": "code",
      "source": [
        "sns.boxplot(x = df_clean.previous_cancellations)"
      ],
      "metadata": {
        "colab": {
          "base_uri": "https://localhost:8080/",
          "height": 0
        },
        "id": "zGQ2CnasuuQj",
        "outputId": "6ea7b4dd-95b0-4601-f3d9-2e7dc20b9c3a"
      },
      "execution_count": 178,
      "outputs": [
        {
          "output_type": "execute_result",
          "data": {
            "text/plain": [
              "<matplotlib.axes._subplots.AxesSubplot at 0x7ff167666b90>"
            ]
          },
          "metadata": {},
          "execution_count": 178
        },
        {
          "output_type": "display_data",
          "data": {
            "text/plain": [
              "<Figure size 432x288 with 1 Axes>"
            ],
            "image/png": "[encoded data removed]"
          },
          "metadata": {
            "needs_background": "light"
          }
        }
      ]
    },
    {
      "cell_type": "markdown",
      "source": [
        "## **Previous Bookings Not Cancelled**"
      ],
      "metadata": {
        "id": "xIuyfNyeuC9L"
      }
    },
    {
      "cell_type": "code",
      "source": [
        "Q1 = df_clean['previous_bookings_not_canceled'].quantile(0.25)\n",
        "Q3 = df_clean['previous_bookings_not_canceled'].quantile(0.75)\n",
        "IQR = Q3 - Q1\n",
        "low_limit = Q1 - (1.5*IQR)\n",
        "high_limit = Q3 + (1.5*IQR)"
      ],
      "metadata": {
        "id": "b5gxl6Etu-Ml"
      },
      "execution_count": 179,
      "outputs": []
    },
    {
      "cell_type": "code",
      "source": [
        "low_limit,high_limit,Q1,Q3"
      ],
      "metadata": {
        "colab": {
          "base_uri": "https://localhost:8080/"
        },
        "id": "Nk_tbK4UvFHF",
        "outputId": "0f373497-b397-405f-c505-49c9c99c9d6b"
      },
      "execution_count": 180,
      "outputs": [
        {
          "output_type": "execute_result",
          "data": {
            "text/plain": [
              "(0.0, 0.0, 0.0, 0.0)"
            ]
          },
          "metadata": {},
          "execution_count": 180
        }
      ]
    },
    {
      "cell_type": "code",
      "source": [
        "df_clean.previous_bookings_not_canceled.value_counts()"
      ],
      "metadata": {
        "colab": {
          "base_uri": "https://localhost:8080/"
        },
        "id": "wwGqZN0evN0L",
        "outputId": "9634d2ad-a5c4-41e2-85ef-6af9013e2bdf"
      },
      "execution_count": 181,
      "outputs": [
        {
          "output_type": "execute_result",
          "data": {
            "text/plain": [
              "0     115766\n",
              "1       1542\n",
              "2        580\n",
              "3        333\n",
              "4        229\n",
              "       ...  \n",
              "47         1\n",
              "49         1\n",
              "50         1\n",
              "51         1\n",
              "72         1\n",
              "Name: previous_bookings_not_canceled, Length: 73, dtype: int64"
            ]
          },
          "metadata": {},
          "execution_count": 181
        }
      ]
    },
    {
      "cell_type": "code",
      "source": [
        "df_clean.loc[(df_clean.previous_bookings_not_canceled > 0,'previous_bookings_not_canceled')] = 1\n",
        "#Karena kita bagi hanya 2 keadaan pernah cancel atau tidak"
      ],
      "metadata": {
        "id": "oStMxzX8vR3m"
      },
      "execution_count": 182,
      "outputs": []
    },
    {
      "cell_type": "code",
      "source": [
        "df_clean.previous_bookings_not_canceled.value_counts()"
      ],
      "metadata": {
        "colab": {
          "base_uri": "https://localhost:8080/"
        },
        "id": "D9XH_aDpvY-z",
        "outputId": "35e6c47b-8509-4c3b-8638-7a9d1398d6e7"
      },
      "execution_count": 183,
      "outputs": [
        {
          "output_type": "execute_result",
          "data": {
            "text/plain": [
              "0    115766\n",
              "1      3620\n",
              "Name: previous_bookings_not_canceled, dtype: int64"
            ]
          },
          "metadata": {},
          "execution_count": 183
        }
      ]
    },
    {
      "cell_type": "code",
      "source": [
        "sns.boxplot(x = df_clean.previous_bookings_not_canceled)"
      ],
      "metadata": {
        "colab": {
          "base_uri": "https://localhost:8080/",
          "height": 0
        },
        "id": "-itVvpoHvdrr",
        "outputId": "603899ea-f705-4a7c-cb02-89a05729dc14"
      },
      "execution_count": 184,
      "outputs": [
        {
          "output_type": "execute_result",
          "data": {
            "text/plain": [
              "<matplotlib.axes._subplots.AxesSubplot at 0x7ff164eb8290>"
            ]
          },
          "metadata": {},
          "execution_count": 184
        },
        {
          "output_type": "display_data",
          "data": {
            "text/plain": [
              "<Figure size 432x288 with 1 Axes>"
            ],
            "image/png": "[encoded data removed]"
          },
          "metadata": {
            "needs_background": "light"
          }
        }
      ]
    },
    {
      "cell_type": "markdown",
      "source": [
        "## **Booking Changes**"
      ],
      "metadata": {
        "id": "Tm8g5ZhYu3Vf"
      }
    },
    {
      "cell_type": "code",
      "source": [
        "Q1 = df_clean['booking_changes'].quantile(0.25)\n",
        "Q3 = df_clean['booking_changes'].quantile(0.75)\n",
        "IQR = Q3 - Q1\n",
        "low_limit = Q1 - (1.5*IQR)\n",
        "high_limit = Q3 + (1.5*IQR)"
      ],
      "metadata": {
        "id": "tF0LQpRlvrEH"
      },
      "execution_count": 185,
      "outputs": []
    },
    {
      "cell_type": "code",
      "source": [
        "low_limit,high_limit,Q1,Q3"
      ],
      "metadata": {
        "colab": {
          "base_uri": "https://localhost:8080/"
        },
        "id": "yvBD80umvv6t",
        "outputId": "b4bbf7c4-2288-4979-bc5f-0f083ce656b6"
      },
      "execution_count": 186,
      "outputs": [
        {
          "output_type": "execute_result",
          "data": {
            "text/plain": [
              "(0.0, 0.0, 0.0, 0.0)"
            ]
          },
          "metadata": {},
          "execution_count": 186
        }
      ]
    },
    {
      "cell_type": "code",
      "source": [
        "df_clean.booking_changes.value_counts()"
      ],
      "metadata": {
        "colab": {
          "base_uri": "https://localhost:8080/"
        },
        "id": "WdS0Bdc4vyPv",
        "outputId": "f8378dd7-ae0e-4890-b253-1bc917f13813"
      },
      "execution_count": 187,
      "outputs": [
        {
          "output_type": "execute_result",
          "data": {
            "text/plain": [
              "0     101310\n",
              "1      12701\n",
              "2       3805\n",
              "3        927\n",
              "4        376\n",
              "5        118\n",
              "6         63\n",
              "7         31\n",
              "8         17\n",
              "9          8\n",
              "10         6\n",
              "13         5\n",
              "14         5\n",
              "15         3\n",
              "16         2\n",
              "17         2\n",
              "12         2\n",
              "11         2\n",
              "20         1\n",
              "21         1\n",
              "18         1\n",
              "Name: booking_changes, dtype: int64"
            ]
          },
          "metadata": {},
          "execution_count": 187
        }
      ]
    },
    {
      "cell_type": "code",
      "source": [
        "df_clean.loc[(df_clean.booking_changes > 0,'booking_changes')] = 1\n",
        "#Karena kita bagi hanya 2 keadaan pernah booking change atau tidak"
      ],
      "metadata": {
        "id": "9wjNa0xEv5ZQ"
      },
      "execution_count": 188,
      "outputs": []
    },
    {
      "cell_type": "code",
      "source": [
        "df_clean.booking_changes.value_counts()"
      ],
      "metadata": {
        "colab": {
          "base_uri": "https://localhost:8080/"
        },
        "id": "z3uZJuWJv-qi",
        "outputId": "46ffb11d-fceb-474a-f8a5-35b22dccf301"
      },
      "execution_count": 189,
      "outputs": [
        {
          "output_type": "execute_result",
          "data": {
            "text/plain": [
              "0    101310\n",
              "1     18076\n",
              "Name: booking_changes, dtype: int64"
            ]
          },
          "metadata": {},
          "execution_count": 189
        }
      ]
    },
    {
      "cell_type": "code",
      "source": [
        "sns.boxplot(x = df_clean.booking_changes)"
      ],
      "metadata": {
        "colab": {
          "base_uri": "https://localhost:8080/",
          "height": 0
        },
        "id": "xfluYaP4wDTp",
        "outputId": "674f4ef8-e251-48a6-fa88-13f0797cfa4e"
      },
      "execution_count": 190,
      "outputs": [
        {
          "output_type": "execute_result",
          "data": {
            "text/plain": [
              "<matplotlib.axes._subplots.AxesSubplot at 0x7ff167c02390>"
            ]
          },
          "metadata": {},
          "execution_count": 190
        },
        {
          "output_type": "display_data",
          "data": {
            "text/plain": [
              "<Figure size 432x288 with 1 Axes>"
            ],
            "image/png": "[encoded data removed]"
          },
          "metadata": {
            "needs_background": "light"
          }
        }
      ]
    },
    {
      "cell_type": "markdown",
      "source": [
        "## **Days in Waiting List**"
      ],
      "metadata": {
        "id": "zyQD6JvrvmjS"
      }
    },
    {
      "cell_type": "code",
      "source": [
        "Q1 = df_clean['days_in_waiting_list'].quantile(0.25)\n",
        "Q3 = df_clean['days_in_waiting_list'].quantile(0.75)\n",
        "IQR = Q3 - Q1\n",
        "low_limit = Q1 - (1.5*IQR)\n",
        "high_limit = Q3 + (1.5*IQR)"
      ],
      "metadata": {
        "id": "x6_Ar1WzwPUD"
      },
      "execution_count": 191,
      "outputs": []
    },
    {
      "cell_type": "code",
      "source": [
        "low_limit,high_limit,Q1,Q3"
      ],
      "metadata": {
        "colab": {
          "base_uri": "https://localhost:8080/"
        },
        "id": "CXmmHA-8wYZe",
        "outputId": "b00172ed-2641-49be-e083-c970cb93a573"
      },
      "execution_count": 192,
      "outputs": [
        {
          "output_type": "execute_result",
          "data": {
            "text/plain": [
              "(0.0, 0.0, 0.0, 0.0)"
            ]
          },
          "metadata": {},
          "execution_count": 192
        }
      ]
    },
    {
      "cell_type": "code",
      "source": [
        "df_clean.days_in_waiting_list.value_counts()"
      ],
      "metadata": {
        "colab": {
          "base_uri": "https://localhost:8080/"
        },
        "id": "QbUae37ewbe0",
        "outputId": "4fd1bf6f-6305-42af-acf6-862584c288bd"
      },
      "execution_count": 193,
      "outputs": [
        {
          "output_type": "execute_result",
          "data": {
            "text/plain": [
              "0      115688\n",
              "39        227\n",
              "58        164\n",
              "44        141\n",
              "31        127\n",
              "        ...  \n",
              "116         1\n",
              "109         1\n",
              "37          1\n",
              "89          1\n",
              "36          1\n",
              "Name: days_in_waiting_list, Length: 128, dtype: int64"
            ]
          },
          "metadata": {},
          "execution_count": 193
        }
      ]
    },
    {
      "cell_type": "code",
      "source": [
        "df_clean.loc[(df_clean.days_in_waiting_list > 1,'days_in_waiting_list')] = 1\n",
        "#Karena kita bagi hanya 2 keadaan waiting list atau tidak"
      ],
      "metadata": {
        "id": "2MjY8gElwh33"
      },
      "execution_count": 194,
      "outputs": []
    },
    {
      "cell_type": "code",
      "source": [
        "df_clean.days_in_waiting_list.value_counts()"
      ],
      "metadata": {
        "colab": {
          "base_uri": "https://localhost:8080/"
        },
        "id": "yneTDB5pwnOJ",
        "outputId": "9fa0f497-0d7c-4be2-c355-9bdfccd44fb0"
      },
      "execution_count": 195,
      "outputs": [
        {
          "output_type": "execute_result",
          "data": {
            "text/plain": [
              "0    115688\n",
              "1      3698\n",
              "Name: days_in_waiting_list, dtype: int64"
            ]
          },
          "metadata": {},
          "execution_count": 195
        }
      ]
    },
    {
      "cell_type": "code",
      "source": [
        "sns.boxplot(x = df_clean.days_in_waiting_list)"
      ],
      "metadata": {
        "colab": {
          "base_uri": "https://localhost:8080/",
          "height": 0
        },
        "id": "kSWO4sTFwqrP",
        "outputId": "b05a98e4-9aa0-4102-c271-71effc7172e0"
      },
      "execution_count": 196,
      "outputs": [
        {
          "output_type": "execute_result",
          "data": {
            "text/plain": [
              "<matplotlib.axes._subplots.AxesSubplot at 0x7ff167bf0250>"
            ]
          },
          "metadata": {},
          "execution_count": 196
        },
        {
          "output_type": "display_data",
          "data": {
            "text/plain": [
              "<Figure size 432x288 with 1 Axes>"
            ],
            "image/png": "[encoded data removed]"
          },
          "metadata": {
            "needs_background": "light"
          }
        }
      ]
    },
    {
      "cell_type": "markdown",
      "source": [
        "## **ADR**"
      ],
      "metadata": {
        "id": "hpXJZCiBwJ26"
      }
    },
    {
      "cell_type": "code",
      "source": [
        "Q1 = df_clean['adr'].quantile(0.25)\n",
        "Q3 = df_clean['adr'].quantile(0.75)\n",
        "IQR = Q3 - Q1\n",
        "low_limit = Q1 - (1.5*IQR)\n",
        "high_limit = Q3 + (1.5*IQR)"
      ],
      "metadata": {
        "id": "MoM1ScYZw2I1"
      },
      "execution_count": 197,
      "outputs": []
    },
    {
      "cell_type": "code",
      "source": [
        "low_limit,high_limit,Q1,Q3"
      ],
      "metadata": {
        "colab": {
          "base_uri": "https://localhost:8080/"
        },
        "id": "Yg9Rbdc7w70h",
        "outputId": "ce33d928-4322-48dc-8dc4-ee777bd1b18d"
      },
      "execution_count": 198,
      "outputs": [
        {
          "output_type": "execute_result",
          "data": {
            "text/plain": [
              "(-15.774999999999991, 211.065, 69.29, 126.0)"
            ]
          },
          "metadata": {},
          "execution_count": 198
        }
      ]
    },
    {
      "cell_type": "code",
      "source": [
        "df_clean.loc[(df_clean.adr > high_limit,'adr')] = high_limit"
      ],
      "metadata": {
        "id": "mjUCsOCdw-HV"
      },
      "execution_count": 199,
      "outputs": []
    },
    {
      "cell_type": "code",
      "source": [
        "sns.boxplot(x = df_clean.adr)"
      ],
      "metadata": {
        "colab": {
          "base_uri": "https://localhost:8080/",
          "height": 0
        },
        "id": "DhEGd6eixKM5",
        "outputId": "cbcfb7d8-93a0-4f65-cd30-618b554c5313"
      },
      "execution_count": 200,
      "outputs": [
        {
          "output_type": "execute_result",
          "data": {
            "text/plain": [
              "<matplotlib.axes._subplots.AxesSubplot at 0x7ff167412390>"
            ]
          },
          "metadata": {},
          "execution_count": 200
        },
        {
          "output_type": "display_data",
          "data": {
            "text/plain": [
              "<Figure size 432x288 with 1 Axes>"
            ],
            "image/png": "[encoded data removed]"
          },
          "metadata": {
            "needs_background": "light"
          }
        }
      ]
    },
    {
      "cell_type": "markdown",
      "source": [
        "## **Required Car Parking Spaces**"
      ],
      "metadata": {
        "id": "jiM3reaRxVws"
      }
    },
    {
      "cell_type": "code",
      "source": [
        "Q1 = df_clean['required_car_parking_spaces'].quantile(0.25)\n",
        "Q3 = df_clean['required_car_parking_spaces'].quantile(0.75)\n",
        "IQR = Q3 - Q1\n",
        "low_limit = Q1 - (1.5*IQR)\n",
        "high_limit = Q3 + (1.5*IQR)"
      ],
      "metadata": {
        "id": "o3MqCXS-xmmt"
      },
      "execution_count": 201,
      "outputs": []
    },
    {
      "cell_type": "code",
      "source": [
        "low_limit,high_limit,Q1,Q3"
      ],
      "metadata": {
        "colab": {
          "base_uri": "https://localhost:8080/"
        },
        "id": "D1Szif6sxvS_",
        "outputId": "54751334-e92e-455f-b94f-9ef4f1a5f655"
      },
      "execution_count": 202,
      "outputs": [
        {
          "output_type": "execute_result",
          "data": {
            "text/plain": [
              "(0.0, 0.0, 0.0, 0.0)"
            ]
          },
          "metadata": {},
          "execution_count": 202
        }
      ]
    },
    {
      "cell_type": "code",
      "source": [
        "df_clean.required_car_parking_spaces.value_counts()"
      ],
      "metadata": {
        "colab": {
          "base_uri": "https://localhost:8080/"
        },
        "id": "jH7Q0qJwxwv8",
        "outputId": "a8fb4b58-4f59-4898-ff3b-00a72d6cd9d8"
      },
      "execution_count": 203,
      "outputs": [
        {
          "output_type": "execute_result",
          "data": {
            "text/plain": [
              "0    111970\n",
              "1      7383\n",
              "2        28\n",
              "3         3\n",
              "8         2\n",
              "Name: required_car_parking_spaces, dtype: int64"
            ]
          },
          "metadata": {},
          "execution_count": 203
        }
      ]
    },
    {
      "cell_type": "code",
      "source": [
        "df_clean.loc[(df_clean.required_car_parking_spaces > 1,'required_car_parking_spaces')] = 1\n",
        "#Karena kita bagi hanya 2 keadaan butuh parkir atau tidak"
      ],
      "metadata": {
        "id": "t9E6QRnWx1Sk"
      },
      "execution_count": 204,
      "outputs": []
    },
    {
      "cell_type": "code",
      "source": [
        "df_clean.required_car_parking_spaces.value_counts()"
      ],
      "metadata": {
        "colab": {
          "base_uri": "https://localhost:8080/"
        },
        "id": "QfpYma_6x-eG",
        "outputId": "7568e0e4-6a36-4d00-ebe8-0ccc955dc53d"
      },
      "execution_count": 205,
      "outputs": [
        {
          "output_type": "execute_result",
          "data": {
            "text/plain": [
              "0    111970\n",
              "1      7416\n",
              "Name: required_car_parking_spaces, dtype: int64"
            ]
          },
          "metadata": {},
          "execution_count": 205
        }
      ]
    },
    {
      "cell_type": "code",
      "source": [
        "sns.boxplot(x = df_clean.required_car_parking_spaces)"
      ],
      "metadata": {
        "colab": {
          "base_uri": "https://localhost:8080/",
          "height": 0
        },
        "id": "IJQL0fF_yDtM",
        "outputId": "1e3d0996-0a1b-4d4a-8040-4c27fc7e8843"
      },
      "execution_count": 206,
      "outputs": [
        {
          "output_type": "execute_result",
          "data": {
            "text/plain": [
              "<matplotlib.axes._subplots.AxesSubplot at 0x7ff167325e50>"
            ]
          },
          "metadata": {},
          "execution_count": 206
        },
        {
          "output_type": "display_data",
          "data": {
            "text/plain": [
              "<Figure size 432x288 with 1 Axes>"
            ],
            "image/png": "[encoded data removed]"
          },
          "metadata": {
            "needs_background": "light"
          }
        }
      ]
    },
    {
      "cell_type": "markdown",
      "source": [
        "## **Total of Special Requests**"
      ],
      "metadata": {
        "id": "pnzvZSPCwx_o"
      }
    },
    {
      "cell_type": "code",
      "source": [
        "Q1 = df_clean['total_of_special_requests'].quantile(0.25)\n",
        "Q3 = df_clean['total_of_special_requests'].quantile(0.75)\n",
        "IQR = Q3 - Q1\n",
        "low_limit = Q1 - (1.5*IQR)\n",
        "high_limit = Q3 + (1.5*IQR)"
      ],
      "metadata": {
        "id": "pCUfOP64ySlu"
      },
      "execution_count": 207,
      "outputs": []
    },
    {
      "cell_type": "code",
      "source": [
        "low_limit,high_limit,Q1,Q3"
      ],
      "metadata": {
        "colab": {
          "base_uri": "https://localhost:8080/"
        },
        "id": "ii9wRTnSyZzY",
        "outputId": "b85fbdc4-36b9-465b-d29d-3b8629f18f25"
      },
      "execution_count": 208,
      "outputs": [
        {
          "output_type": "execute_result",
          "data": {
            "text/plain": [
              "(-1.5, 2.5, 0.0, 1.0)"
            ]
          },
          "metadata": {},
          "execution_count": 208
        }
      ]
    },
    {
      "cell_type": "code",
      "source": [
        "df_clean.total_of_special_requests.value_counts()"
      ],
      "metadata": {
        "colab": {
          "base_uri": "https://localhost:8080/"
        },
        "id": "ZSElrCnTycVN",
        "outputId": "3ffdddcb-9f4a-4dcf-b766-a71cb6366cbd"
      },
      "execution_count": 209,
      "outputs": [
        {
          "output_type": "execute_result",
          "data": {
            "text/plain": [
              "0    70318\n",
              "1    33223\n",
              "2    12968\n",
              "3     2497\n",
              "4      340\n",
              "5       40\n",
              "Name: total_of_special_requests, dtype: int64"
            ]
          },
          "metadata": {},
          "execution_count": 209
        }
      ]
    },
    {
      "cell_type": "code",
      "source": [
        "df_clean.loc[(df_clean.total_of_special_requests > high_limit,'total_of_special_requests')] = 2\n",
        "#Karena nilai high limit adalah pecahan maka outlier kita jadikan angka terdekat"
      ],
      "metadata": {
        "id": "_zQARMtFyh2a"
      },
      "execution_count": 210,
      "outputs": []
    },
    {
      "cell_type": "code",
      "source": [
        "df_clean.total_of_special_requests.value_counts()"
      ],
      "metadata": {
        "colab": {
          "base_uri": "https://localhost:8080/"
        },
        "id": "CYQJGR5hyt7l",
        "outputId": "e9b4c6ff-ad0e-418f-c810-08aa940b5e42"
      },
      "execution_count": 211,
      "outputs": [
        {
          "output_type": "execute_result",
          "data": {
            "text/plain": [
              "0    70318\n",
              "1    33223\n",
              "2    15845\n",
              "Name: total_of_special_requests, dtype: int64"
            ]
          },
          "metadata": {},
          "execution_count": 211
        }
      ]
    },
    {
      "cell_type": "code",
      "source": [
        "sns.boxplot(x = df_clean.total_of_special_requests)"
      ],
      "metadata": {
        "colab": {
          "base_uri": "https://localhost:8080/",
          "height": 0
        },
        "id": "2uGFa28ty4P0",
        "outputId": "50d94d75-7966-4ac8-d6ca-baf878d7bd77"
      },
      "execution_count": 212,
      "outputs": [
        {
          "output_type": "execute_result",
          "data": {
            "text/plain": [
              "<matplotlib.axes._subplots.AxesSubplot at 0x7ff1673a6ed0>"
            ]
          },
          "metadata": {},
          "execution_count": 212
        },
        {
          "output_type": "display_data",
          "data": {
            "text/plain": [
              "<Figure size 432x288 with 1 Axes>"
            ],
            "image/png": "[encoded data removed]"
          },
          "metadata": {
            "needs_background": "light"
          }
        }
      ]
    },
    {
      "cell_type": "code",
      "source": [
        "plt.figure(figsize = (30, 10))\n",
        "x = 1 \n",
        "\n",
        "for column in df_clean.describe().columns:\n",
        "    plt.subplot(6,4,x)\n",
        "    sns.boxplot(df_clean[column])\n",
        "    x+=1\n",
        "    \n",
        "plt.tight_layout()"
      ],
      "metadata": {
        "colab": {
          "base_uri": "https://localhost:8080/",
          "height": 0
        },
        "id": "7rR8VogDy-Dn",
        "outputId": "8f4cafb7-a973-4ecd-d1f6-4b6c0ecc7c52"
      },
      "execution_count": 213,
      "outputs": [
        {
          "output_type": "stream",
          "name": "stderr",
          "text": [
            "/usr/local/lib/python3.7/dist-packages/seaborn/_decorators.py:43: FutureWarning: Pass the following variable as a keyword arg: x. From version 0.12, the only valid positional argument will be `data`, and passing other arguments without an explicit keyword will result in an error or misinterpretation.\n",
            "  FutureWarning\n",
            "/usr/local/lib/python3.7/dist-packages/seaborn/_decorators.py:43: FutureWarning: Pass the following variable as a keyword arg: x. From version 0.12, the only valid positional argument will be `data`, and passing other arguments without an explicit keyword will result in an error or misinterpretation.\n",
            "  FutureWarning\n",
            "/usr/local/lib/python3.7/dist-packages/seaborn/_decorators.py:43: FutureWarning: Pass the following variable as a keyword arg: x. From version 0.12, the only valid positional argument will be `data`, and passing other arguments without an explicit keyword will result in an error or misinterpretation.\n",
            "  FutureWarning\n",
            "/usr/local/lib/python3.7/dist-packages/seaborn/_decorators.py:43: FutureWarning: Pass the following variable as a keyword arg: x. From version 0.12, the only valid positional argument will be `data`, and passing other arguments without an explicit keyword will result in an error or misinterpretation.\n",
            "  FutureWarning\n",
            "/usr/local/lib/python3.7/dist-packages/seaborn/_decorators.py:43: FutureWarning: Pass the following variable as a keyword arg: x. From version 0.12, the only valid positional argument will be `data`, and passing other arguments without an explicit keyword will result in an error or misinterpretation.\n",
            "  FutureWarning\n",
            "/usr/local/lib/python3.7/dist-packages/seaborn/_decorators.py:43: FutureWarning: Pass the following variable as a keyword arg: x. From version 0.12, the only valid positional argument will be `data`, and passing other arguments without an explicit keyword will result in an error or misinterpretation.\n",
            "  FutureWarning\n",
            "/usr/local/lib/python3.7/dist-packages/seaborn/_decorators.py:43: FutureWarning: Pass the following variable as a keyword arg: x. From version 0.12, the only valid positional argument will be `data`, and passing other arguments without an explicit keyword will result in an error or misinterpretation.\n",
            "  FutureWarning\n",
            "/usr/local/lib/python3.7/dist-packages/seaborn/_decorators.py:43: FutureWarning: Pass the following variable as a keyword arg: x. From version 0.12, the only valid positional argument will be `data`, and passing other arguments without an explicit keyword will result in an error or misinterpretation.\n",
            "  FutureWarning\n",
            "/usr/local/lib/python3.7/dist-packages/seaborn/_decorators.py:43: FutureWarning: Pass the following variable as a keyword arg: x. From version 0.12, the only valid positional argument will be `data`, and passing other arguments without an explicit keyword will result in an error or misinterpretation.\n",
            "  FutureWarning\n",
            "/usr/local/lib/python3.7/dist-packages/seaborn/_decorators.py:43: FutureWarning: Pass the following variable as a keyword arg: x. From version 0.12, the only valid positional argument will be `data`, and passing other arguments without an explicit keyword will result in an error or misinterpretation.\n",
            "  FutureWarning\n",
            "/usr/local/lib/python3.7/dist-packages/seaborn/_decorators.py:43: FutureWarning: Pass the following variable as a keyword arg: x. From version 0.12, the only valid positional argument will be `data`, and passing other arguments without an explicit keyword will result in an error or misinterpretation.\n",
            "  FutureWarning\n",
            "/usr/local/lib/python3.7/dist-packages/seaborn/_decorators.py:43: FutureWarning: Pass the following variable as a keyword arg: x. From version 0.12, the only valid positional argument will be `data`, and passing other arguments without an explicit keyword will result in an error or misinterpretation.\n",
            "  FutureWarning\n",
            "/usr/local/lib/python3.7/dist-packages/seaborn/_decorators.py:43: FutureWarning: Pass the following variable as a keyword arg: x. From version 0.12, the only valid positional argument will be `data`, and passing other arguments without an explicit keyword will result in an error or misinterpretation.\n",
            "  FutureWarning\n",
            "/usr/local/lib/python3.7/dist-packages/seaborn/_decorators.py:43: FutureWarning: Pass the following variable as a keyword arg: x. From version 0.12, the only valid positional argument will be `data`, and passing other arguments without an explicit keyword will result in an error or misinterpretation.\n",
            "  FutureWarning\n",
            "/usr/local/lib/python3.7/dist-packages/seaborn/_decorators.py:43: FutureWarning: Pass the following variable as a keyword arg: x. From version 0.12, the only valid positional argument will be `data`, and passing other arguments without an explicit keyword will result in an error or misinterpretation.\n",
            "  FutureWarning\n",
            "/usr/local/lib/python3.7/dist-packages/seaborn/_decorators.py:43: FutureWarning: Pass the following variable as a keyword arg: x. From version 0.12, the only valid positional argument will be `data`, and passing other arguments without an explicit keyword will result in an error or misinterpretation.\n",
            "  FutureWarning\n",
            "/usr/local/lib/python3.7/dist-packages/seaborn/_decorators.py:43: FutureWarning: Pass the following variable as a keyword arg: x. From version 0.12, the only valid positional argument will be `data`, and passing other arguments without an explicit keyword will result in an error or misinterpretation.\n",
            "  FutureWarning\n",
            "/usr/local/lib/python3.7/dist-packages/seaborn/_decorators.py:43: FutureWarning: Pass the following variable as a keyword arg: x. From version 0.12, the only valid positional argument will be `data`, and passing other arguments without an explicit keyword will result in an error or misinterpretation.\n",
            "  FutureWarning\n",
            "/usr/local/lib/python3.7/dist-packages/seaborn/_decorators.py:43: FutureWarning: Pass the following variable as a keyword arg: x. From version 0.12, the only valid positional argument will be `data`, and passing other arguments without an explicit keyword will result in an error or misinterpretation.\n",
            "  FutureWarning\n"
          ]
        },
        {
          "output_type": "display_data",
          "data": {
            "text/plain": [
              "<Figure size 2160x720 with 19 Axes>"
            ],
            "image/png": "[encoded data removed]"
          },
          "metadata": {
            "needs_background": "light"
          }
        }
      ]
    },
    {
      "cell_type": "markdown",
      "source": [
        "# **Feature transformation**"
      ],
      "metadata": {
        "id": "GAt8q1YRyJf8"
      }
    },
    {
      "cell_type": "markdown",
      "source": [
        "**Normalization**\n",
        "\n",
        "> Normalized/re-scale kolom numerical yang memiliki angka variance tinggi guna mempermudah interpretasi beberapa model ML\n",
        "\n"
      ],
      "metadata": {
        "id": "dS5pDTRoy3ci"
      }
    },
    {
      "cell_type": "code",
      "source": [
        "df_clean.var()"
      ],
      "metadata": {
        "id": "aNdZXv-lJ_WX",
        "colab": {
          "base_uri": "https://localhost:8080/"
        },
        "outputId": "818779d9-266b-4e8c-c31d-f6d5a9ff2d37"
      },
      "execution_count": 214,
      "outputs": [
        {
          "output_type": "stream",
          "name": "stderr",
          "text": [
            "/usr/local/lib/python3.7/dist-packages/ipykernel_launcher.py:1: FutureWarning: Dropping of nuisance columns in DataFrame reductions (with 'numeric_only=None') is deprecated; in a future version this will raise TypeError.  Select only valid columns before calling the reduction.\n",
            "  \"\"\"Entry point for launching an IPython kernel.\n"
          ]
        },
        {
          "output_type": "execute_result",
          "data": {
            "text/plain": [
              "is_canceled                           0.233205\n",
              "lead_time                         10233.142643\n",
              "arrival_date_year                     0.500494\n",
              "arrival_date_week_number            185.105119\n",
              "arrival_date_day_of_month            77.102158\n",
              "stays_in_weekend_nights               0.902301\n",
              "stays_in_week_nights                  1.966724\n",
              "adults                                0.326374\n",
              "children                              0.158101\n",
              "babies                                0.008047\n",
              "is_repeated_guest                     0.030895\n",
              "previous_cancellations                0.051362\n",
              "previous_bookings_not_canceled        0.029403\n",
              "booking_changes                       0.128485\n",
              "agent                                 0.118123\n",
              "days_in_waiting_list                  0.030016\n",
              "adr                                1996.974979\n",
              "required_car_parking_spaces           0.058260\n",
              "total_of_special_requests             0.513534\n",
              "dtype: float64"
            ]
          },
          "metadata": {},
          "execution_count": 214
        }
      ]
    },
    {
      "cell_type": "code",
      "source": [
        "from sklearn.preprocessing import MinMaxScaler\n",
        "\n",
        "df_clean['lead_time_norm'] = MinMaxScaler().fit_transform(df_clean['lead_time'].values.reshape(len(df_clean), 1))\n",
        "df_clean['arrival_date_week_number_norm'] = MinMaxScaler().fit_transform(df_clean['arrival_date_week_number'].values.reshape(len(df_clean), 1))\n",
        "df_clean['arrival_date_day_of_month_norm'] = MinMaxScaler().fit_transform(df_clean['arrival_date_day_of_month'].values.reshape(len(df_clean), 1))\n",
        "df_clean['adr_norm'] = MinMaxScaler().fit_transform(df_clean['adr'].values.reshape(len(df_clean), 1))"
      ],
      "metadata": {
        "id": "DOar65CCy5bq"
      },
      "execution_count": 215,
      "outputs": []
    },
    {
      "cell_type": "code",
      "source": [
        "df_clean[['lead_time_norm','arrival_date_week_number_norm','arrival_date_day_of_month_norm','adr_norm']].describe()"
      ],
      "metadata": {
        "colab": {
          "base_uri": "https://localhost:8080/",
          "height": 0
        },
        "id": "1PFFqxd-0SXd",
        "outputId": "1b392fb6-077a-4720-8499-bfc2f5dff09b"
      },
      "execution_count": 216,
      "outputs": [
        {
          "output_type": "execute_result",
          "data": {
            "text/plain": [
              "       lead_time_norm  arrival_date_week_number_norm  \\\n",
              "count   119386.000000                  119386.000000   \n",
              "mean         0.274082                       0.503173   \n",
              "std          0.271204                       0.261641   \n",
              "min          0.000000                       0.000000   \n",
              "25%          0.048257                       0.288462   \n",
              "50%          0.184987                       0.519231   \n",
              "75%          0.428954                       0.711538   \n",
              "max          1.000000                       1.000000   \n",
              "\n",
              "       arrival_date_day_of_month_norm       adr_norm  \n",
              "count                   119386.000000  119386.000000  \n",
              "mean                         0.493285       0.492270  \n",
              "std                          0.292693       0.205512  \n",
              "min                          0.000000       0.000000  \n",
              "25%                          0.233333       0.347996  \n",
              "50%                          0.500000       0.464347  \n",
              "75%                          0.733333       0.608798  \n",
              "max                          1.000000       1.000000  "
            ],
            "text/html": [
              "\n",
              "  <div id=\"df-93d659d7-9bbf-4cb3-b3d4-50f2fe9c6d99\">\n",
              "    <div class=\"colab-df-container\">\n",
              "      <div>\n",
              "<style scoped>\n",
              "    .dataframe tbody tr th:only-of-type {\n",
              "        vertical-align: middle;\n",
              "    }\n",
              "\n",
              "    .dataframe tbody tr th {\n",
              "        vertical-align: top;\n",
              "    }\n",
              "\n",
              "    .dataframe thead th {\n",
              "        text-align: right;\n",
              "    }\n",
              "</style>\n",
              "<table border=\"1\" class=\"dataframe\">\n",
              "  <thead>\n",
              "    <tr style=\"text-align: right;\">\n",
              "      <th></th>\n",
              "      <th>lead_time_norm</th>\n",
              "      <th>arrival_date_week_number_norm</th>\n",
              "      <th>arrival_date_day_of_month_norm</th>\n",
              "      <th>adr_norm</th>\n",
              "    </tr>\n",
              "  </thead>\n",
              "  <tbody>\n",
              "    <tr>\n",
              "      <th>count</th>\n",
              "      <td>119386.000000</td>\n",
              "      <td>119386.000000</td>\n",
              "      <td>119386.000000</td>\n",
              "      <td>119386.000000</td>\n",
              "    </tr>\n",
              "    <tr>\n",
              "      <th>mean</th>\n",
              "      <td>0.274082</td>\n",
              "      <td>0.503173</td>\n",
              "      <td>0.493285</td>\n",
              "      <td>0.492270</td>\n",
              "    </tr>\n",
              "    <tr>\n",
              "      <th>std</th>\n",
              "      <td>0.271204</td>\n",
              "      <td>0.261641</td>\n",
              "      <td>0.292693</td>\n",
              "      <td>0.205512</td>\n",
              "    </tr>\n",
              "    <tr>\n",
              "      <th>min</th>\n",
              "      <td>0.000000</td>\n",
              "      <td>0.000000</td>\n",
              "      <td>0.000000</td>\n",
              "      <td>0.000000</td>\n",
              "    </tr>\n",
              "    <tr>\n",
              "      <th>25%</th>\n",
              "      <td>0.048257</td>\n",
              "      <td>0.288462</td>\n",
              "      <td>0.233333</td>\n",
              "      <td>0.347996</td>\n",
              "    </tr>\n",
              "    <tr>\n",
              "      <th>50%</th>\n",
              "      <td>0.184987</td>\n",
              "      <td>0.519231</td>\n",
              "      <td>0.500000</td>\n",
              "      <td>0.464347</td>\n",
              "    </tr>\n",
              "    <tr>\n",
              "      <th>75%</th>\n",
              "      <td>0.428954</td>\n",
              "      <td>0.711538</td>\n",
              "      <td>0.733333</td>\n",
              "      <td>0.608798</td>\n",
              "    </tr>\n",
              "    <tr>\n",
              "      <th>max</th>\n",
              "      <td>1.000000</td>\n",
              "      <td>1.000000</td>\n",
              "      <td>1.000000</td>\n",
              "      <td>1.000000</td>\n",
              "    </tr>\n",
              "  </tbody>\n",
              "</table>\n",
              "</div>\n",
              "      <button class=\"colab-df-convert\" onclick=\"convertToInteractive('df-93d659d7-9bbf-4cb3-b3d4-50f2fe9c6d99')\"\n",
              "              title=\"Convert this dataframe to an interactive table.\"\n",
              "              style=\"display:none;\">\n",
              "        \n",
              "  <svg xmlns=\"http://www.w3.org/2000/svg\" height=\"24px\"viewBox=\"0 0 24 24\"\n",
              "       width=\"24px\">\n",
              "    <path d=\"M0 0h24v24H0V0z\" fill=\"none\"/>\n",
              "    <path d=\"M18.56 5.44l.94 2.06.94-2.06 2.06-.94-2.06-.94-.94-2.06-.94 2.06-2.06.94zm-11 1L8.5 8.5l.94-2.06 2.06-.94-2.06-.94L8.5 2.5l-.94 2.06-2.06.94zm10 10l.94 2.06.94-2.06 2.06-.94-2.06-.94-.94-2.06-.94 2.06-2.06.94z\"/><path d=\"M17.41 7.96l-1.37-1.37c-.4-.4-.92-.59-1.43-.59-.52 0-1.04.2-1.43.59L10.3 9.45l-7.72 7.72c-.78.78-.78 2.05 0 2.83L4 21.41c.39.39.9.59 1.41.59.51 0 1.02-.2 1.41-.59l7.78-7.78 2.81-2.81c.8-.78.8-2.07 0-2.86zM5.41 20L4 18.59l7.72-7.72 1.47 1.35L5.41 20z\"/>\n",
              "  </svg>\n",
              "      </button>\n",
              "      \n",
              "  <style>\n",
              "    .colab-df-container {\n",
              "      display:flex;\n",
              "      flex-wrap:wrap;\n",
              "      gap: 12px;\n",
              "    }\n",
              "\n",
              "    .colab-df-convert {\n",
              "      background-color: #E8F0FE;\n",
              "      border: none;\n",
              "      border-radius: 50%;\n",
              "      cursor: pointer;\n",
              "      display: none;\n",
              "      fill: #1967D2;\n",
              "      height: 32px;\n",
              "      padding: 0 0 0 0;\n",
              "      width: 32px;\n",
              "    }\n",
              "\n",
              "    .colab-df-convert:hover {\n",
              "      background-color: #E2EBFA;\n",
              "      box-shadow: 0px 1px 2px rgba(60, 64, 67, 0.3), 0px 1px 3px 1px rgba(60, 64, 67, 0.15);\n",
              "      fill: #174EA6;\n",
              "    }\n",
              "\n",
              "    [theme=dark] .colab-df-convert {\n",
              "      background-color: #3B4455;\n",
              "      fill: #D2E3FC;\n",
              "    }\n",
              "\n",
              "    [theme=dark] .colab-df-convert:hover {\n",
              "      background-color: #434B5C;\n",
              "      box-shadow: 0px 1px 3px 1px rgba(0, 0, 0, 0.15);\n",
              "      filter: drop-shadow(0px 1px 2px rgba(0, 0, 0, 0.3));\n",
              "      fill: #FFFFFF;\n",
              "    }\n",
              "  </style>\n",
              "\n",
              "      <script>\n",
              "        const buttonEl =\n",
              "          document.querySelector('#df-93d659d7-9bbf-4cb3-b3d4-50f2fe9c6d99 button.colab-df-convert');\n",
              "        buttonEl.style.display =\n",
              "          google.colab.kernel.accessAllowed ? 'block' : 'none';\n",
              "\n",
              "        async function convertToInteractive(key) {\n",
              "          const element = document.querySelector('#df-93d659d7-9bbf-4cb3-b3d4-50f2fe9c6d99');\n",
              "          const dataTable =\n",
              "            await google.colab.kernel.invokeFunction('convertToInteractive',\n",
              "                                                     [key], {});\n",
              "          if (!dataTable) return;\n",
              "\n",
              "          const docLinkHtml = 'Like what you see? Visit the ' +\n",
              "            '<a target=\"_blank\" href=https://colab.research.google.com/notebooks/data_table.ipynb>data table notebook</a>'\n",
              "            + ' to learn more about interactive tables.';\n",
              "          element.innerHTML = '';\n",
              "          dataTable['output_type'] = 'display_data';\n",
              "          await google.colab.output.renderOutput(dataTable, element);\n",
              "          const docLink = document.createElement('div');\n",
              "          docLink.innerHTML = docLinkHtml;\n",
              "          element.appendChild(docLink);\n",
              "        }\n",
              "      </script>\n",
              "    </div>\n",
              "  </div>\n",
              "  "
            ]
          },
          "metadata": {},
          "execution_count": 216
        }
      ]
    },
    {
      "cell_type": "markdown",
      "source": [
        "# **Feature encoding**"
      ],
      "metadata": {
        "id": "hFCb8plCxYNR"
      }
    },
    {
      "cell_type": "code",
      "source": [
        "#Label encoding\n",
        "\n",
        "le = LabelEncoder()\n",
        "\n",
        "columns = [\n",
        "    'hotel',\n",
        "    'reserved_room_type',\n",
        "    'assigned_room_type'\n",
        "]\n",
        "\n",
        "for col in columns:\n",
        "    df_clean[col] = le.fit_transform(df_clean[col])\n"
      ],
      "metadata": {
        "id": "vTwIP4gOxaV9"
      },
      "execution_count": 217,
      "outputs": []
    },
    {
      "cell_type": "code",
      "source": [
        "df_clean[['hotel', 'reserved_room_type','assigned_room_type']].head()"
      ],
      "metadata": {
        "colab": {
          "base_uri": "https://localhost:8080/",
          "height": 206
        },
        "id": "bvM_yoPZzo73",
        "outputId": "9d495b8a-7588-4768-8396-d35712096415"
      },
      "execution_count": 218,
      "outputs": [
        {
          "output_type": "execute_result",
          "data": {
            "text/plain": [
              "   hotel  reserved_room_type  assigned_room_type\n",
              "0      1                   2                   2\n",
              "1      1                   2                   2\n",
              "2      1                   0                   2\n",
              "3      1                   0                   0\n",
              "4      1                   0                   0"
            ],
            "text/html": [
              "\n",
              "  <div id=\"df-b4820250-dd3c-4c6f-a709-0bac407b3454\">\n",
              "    <div class=\"colab-df-container\">\n",
              "      <div>\n",
              "<style scoped>\n",
              "    .dataframe tbody tr th:only-of-type {\n",
              "        vertical-align: middle;\n",
              "    }\n",
              "\n",
              "    .dataframe tbody tr th {\n",
              "        vertical-align: top;\n",
              "    }\n",
              "\n",
              "    .dataframe thead th {\n",
              "        text-align: right;\n",
              "    }\n",
              "</style>\n",
              "<table border=\"1\" class=\"dataframe\">\n",
              "  <thead>\n",
              "    <tr style=\"text-align: right;\">\n",
              "      <th></th>\n",
              "      <th>hotel</th>\n",
              "      <th>reserved_room_type</th>\n",
              "      <th>assigned_room_type</th>\n",
              "    </tr>\n",
              "  </thead>\n",
              "  <tbody>\n",
              "    <tr>\n",
              "      <th>0</th>\n",
              "      <td>1</td>\n",
              "      <td>2</td>\n",
              "      <td>2</td>\n",
              "    </tr>\n",
              "    <tr>\n",
              "      <th>1</th>\n",
              "      <td>1</td>\n",
              "      <td>2</td>\n",
              "      <td>2</td>\n",
              "    </tr>\n",
              "    <tr>\n",
              "      <th>2</th>\n",
              "      <td>1</td>\n",
              "      <td>0</td>\n",
              "      <td>2</td>\n",
              "    </tr>\n",
              "    <tr>\n",
              "      <th>3</th>\n",
              "      <td>1</td>\n",
              "      <td>0</td>\n",
              "      <td>0</td>\n",
              "    </tr>\n",
              "    <tr>\n",
              "      <th>4</th>\n",
              "      <td>1</td>\n",
              "      <td>0</td>\n",
              "      <td>0</td>\n",
              "    </tr>\n",
              "  </tbody>\n",
              "</table>\n",
              "</div>\n",
              "      <button class=\"colab-df-convert\" onclick=\"convertToInteractive('df-b4820250-dd3c-4c6f-a709-0bac407b3454')\"\n",
              "              title=\"Convert this dataframe to an interactive table.\"\n",
              "              style=\"display:none;\">\n",
              "        \n",
              "  <svg xmlns=\"http://www.w3.org/2000/svg\" height=\"24px\"viewBox=\"0 0 24 24\"\n",
              "       width=\"24px\">\n",
              "    <path d=\"M0 0h24v24H0V0z\" fill=\"none\"/>\n",
              "    <path d=\"M18.56 5.44l.94 2.06.94-2.06 2.06-.94-2.06-.94-.94-2.06-.94 2.06-2.06.94zm-11 1L8.5 8.5l.94-2.06 2.06-.94-2.06-.94L8.5 2.5l-.94 2.06-2.06.94zm10 10l.94 2.06.94-2.06 2.06-.94-2.06-.94-.94-2.06-.94 2.06-2.06.94z\"/><path d=\"M17.41 7.96l-1.37-1.37c-.4-.4-.92-.59-1.43-.59-.52 0-1.04.2-1.43.59L10.3 9.45l-7.72 7.72c-.78.78-.78 2.05 0 2.83L4 21.41c.39.39.9.59 1.41.59.51 0 1.02-.2 1.41-.59l7.78-7.78 2.81-2.81c.8-.78.8-2.07 0-2.86zM5.41 20L4 18.59l7.72-7.72 1.47 1.35L5.41 20z\"/>\n",
              "  </svg>\n",
              "      </button>\n",
              "      \n",
              "  <style>\n",
              "    .colab-df-container {\n",
              "      display:flex;\n",
              "      flex-wrap:wrap;\n",
              "      gap: 12px;\n",
              "    }\n",
              "\n",
              "    .colab-df-convert {\n",
              "      background-color: #E8F0FE;\n",
              "      border: none;\n",
              "      border-radius: 50%;\n",
              "      cursor: pointer;\n",
              "      display: none;\n",
              "      fill: #1967D2;\n",
              "      height: 32px;\n",
              "      padding: 0 0 0 0;\n",
              "      width: 32px;\n",
              "    }\n",
              "\n",
              "    .colab-df-convert:hover {\n",
              "      background-color: #E2EBFA;\n",
              "      box-shadow: 0px 1px 2px rgba(60, 64, 67, 0.3), 0px 1px 3px 1px rgba(60, 64, 67, 0.15);\n",
              "      fill: #174EA6;\n",
              "    }\n",
              "\n",
              "    [theme=dark] .colab-df-convert {\n",
              "      background-color: #3B4455;\n",
              "      fill: #D2E3FC;\n",
              "    }\n",
              "\n",
              "    [theme=dark] .colab-df-convert:hover {\n",
              "      background-color: #434B5C;\n",
              "      box-shadow: 0px 1px 3px 1px rgba(0, 0, 0, 0.15);\n",
              "      filter: drop-shadow(0px 1px 2px rgba(0, 0, 0, 0.3));\n",
              "      fill: #FFFFFF;\n",
              "    }\n",
              "  </style>\n",
              "\n",
              "      <script>\n",
              "        const buttonEl =\n",
              "          document.querySelector('#df-b4820250-dd3c-4c6f-a709-0bac407b3454 button.colab-df-convert');\n",
              "        buttonEl.style.display =\n",
              "          google.colab.kernel.accessAllowed ? 'block' : 'none';\n",
              "\n",
              "        async function convertToInteractive(key) {\n",
              "          const element = document.querySelector('#df-b4820250-dd3c-4c6f-a709-0bac407b3454');\n",
              "          const dataTable =\n",
              "            await google.colab.kernel.invokeFunction('convertToInteractive',\n",
              "                                                     [key], {});\n",
              "          if (!dataTable) return;\n",
              "\n",
              "          const docLinkHtml = 'Like what you see? Visit the ' +\n",
              "            '<a target=\"_blank\" href=https://colab.research.google.com/notebooks/data_table.ipynb>data table notebook</a>'\n",
              "            + ' to learn more about interactive tables.';\n",
              "          element.innerHTML = '';\n",
              "          dataTable['output_type'] = 'display_data';\n",
              "          await google.colab.output.renderOutput(dataTable, element);\n",
              "          const docLink = document.createElement('div');\n",
              "          docLink.innerHTML = docLinkHtml;\n",
              "          element.appendChild(docLink);\n",
              "        }\n",
              "      </script>\n",
              "    </div>\n",
              "  </div>\n",
              "  "
            ]
          },
          "metadata": {},
          "execution_count": 218
        }
      ]
    },
    {
      "cell_type": "code",
      "source": [
        "#One Hot Encoding\n",
        "\n",
        "for i in ['distribution_channel', 'deposit_type', 'customer_type', 'reservation_status']:\n",
        "    onehots = pd.get_dummies(df_clean[i], prefix=i)\n",
        "    df_clean = df_clean.join(onehots)\n"
      ],
      "metadata": {
        "id": "abtDDwBKU1vL"
      },
      "execution_count": 219,
      "outputs": []
    },
    {
      "cell_type": "code",
      "source": [
        "df_clean = df_clean.drop(columns=['distribution_channel', 'deposit_type', 'customer_type', 'reservation_status'], axis =1)\n",
        "df_clean.head()"
      ],
      "metadata": {
        "colab": {
          "base_uri": "https://localhost:8080/",
          "height": 317
        },
        "id": "Vp_kqXDBVO0a",
        "outputId": "b0eecad7-f4e5-47cd-d389-d1430983dc5e"
      },
      "execution_count": 220,
      "outputs": [
        {
          "output_type": "execute_result",
          "data": {
            "text/plain": [
              "   hotel  is_canceled  lead_time  arrival_date_year arrival_date_month  \\\n",
              "0      1            0        342               2015               July   \n",
              "1      1            0        373               2015               July   \n",
              "2      1            0          7               2015               July   \n",
              "3      1            0         13               2015               July   \n",
              "4      1            0         14               2015               July   \n",
              "\n",
              "   arrival_date_week_number  arrival_date_day_of_month  \\\n",
              "0                        27                          1   \n",
              "1                        27                          1   \n",
              "2                        27                          1   \n",
              "3                        27                          1   \n",
              "4                        27                          1   \n",
              "\n",
              "   stays_in_weekend_nights  stays_in_week_nights  adults  ...  \\\n",
              "0                        0                     0       2  ...   \n",
              "1                        0                     0       2  ...   \n",
              "2                        0                     1       1  ...   \n",
              "3                        0                     1       1  ...   \n",
              "4                        0                     2       2  ...   \n",
              "\n",
              "   deposit_type_No Deposit  deposit_type_Non Refund deposit_type_Refundable  \\\n",
              "0                        1                        0                       0   \n",
              "1                        1                        0                       0   \n",
              "2                        1                        0                       0   \n",
              "3                        1                        0                       0   \n",
              "4                        1                        0                       0   \n",
              "\n",
              "  customer_type_Contract customer_type_Group  customer_type_Transient  \\\n",
              "0                      0                   0                        1   \n",
              "1                      0                   0                        1   \n",
              "2                      0                   0                        1   \n",
              "3                      0                   0                        1   \n",
              "4                      0                   0                        1   \n",
              "\n",
              "   customer_type_Transient-Party  reservation_status_Canceled  \\\n",
              "0                              0                            0   \n",
              "1                              0                            0   \n",
              "2                              0                            0   \n",
              "3                              0                            0   \n",
              "4                              0                            0   \n",
              "\n",
              "   reservation_status_Check-Out  reservation_status_No-Show  \n",
              "0                             1                           0  \n",
              "1                             1                           0  \n",
              "2                             1                           0  \n",
              "3                             1                           0  \n",
              "4                             1                           0  \n",
              "\n",
              "[5 rows x 50 columns]"
            ],
            "text/html": [
              "\n",
              "  <div id=\"df-b797bbcc-ae84-47ff-af8e-8082066870c8\">\n",
              "    <div class=\"colab-df-container\">\n",
              "      <div>\n",
              "<style scoped>\n",
              "    .dataframe tbody tr th:only-of-type {\n",
              "        vertical-align: middle;\n",
              "    }\n",
              "\n",
              "    .dataframe tbody tr th {\n",
              "        vertical-align: top;\n",
              "    }\n",
              "\n",
              "    .dataframe thead th {\n",
              "        text-align: right;\n",
              "    }\n",
              "</style>\n",
              "<table border=\"1\" class=\"dataframe\">\n",
              "  <thead>\n",
              "    <tr style=\"text-align: right;\">\n",
              "      <th></th>\n",
              "      <th>hotel</th>\n",
              "      <th>is_canceled</th>\n",
              "      <th>lead_time</th>\n",
              "      <th>arrival_date_year</th>\n",
              "      <th>arrival_date_month</th>\n",
              "      <th>arrival_date_week_number</th>\n",
              "      <th>arrival_date_day_of_month</th>\n",
              "      <th>stays_in_weekend_nights</th>\n",
              "      <th>stays_in_week_nights</th>\n",
              "      <th>adults</th>\n",
              "      <th>...</th>\n",
              "      <th>deposit_type_No Deposit</th>\n",
              "      <th>deposit_type_Non Refund</th>\n",
              "      <th>deposit_type_Refundable</th>\n",
              "      <th>customer_type_Contract</th>\n",
              "      <th>customer_type_Group</th>\n",
              "      <th>customer_type_Transient</th>\n",
              "      <th>customer_type_Transient-Party</th>\n",
              "      <th>reservation_status_Canceled</th>\n",
              "      <th>reservation_status_Check-Out</th>\n",
              "      <th>reservation_status_No-Show</th>\n",
              "    </tr>\n",
              "  </thead>\n",
              "  <tbody>\n",
              "    <tr>\n",
              "      <th>0</th>\n",
              "      <td>1</td>\n",
              "      <td>0</td>\n",
              "      <td>342</td>\n",
              "      <td>2015</td>\n",
              "      <td>July</td>\n",
              "      <td>27</td>\n",
              "      <td>1</td>\n",
              "      <td>0</td>\n",
              "      <td>0</td>\n",
              "      <td>2</td>\n",
              "      <td>...</td>\n",
              "      <td>1</td>\n",
              "      <td>0</td>\n",
              "      <td>0</td>\n",
              "      <td>0</td>\n",
              "      <td>0</td>\n",
              "      <td>1</td>\n",
              "      <td>0</td>\n",
              "      <td>0</td>\n",
              "      <td>1</td>\n",
              "      <td>0</td>\n",
              "    </tr>\n",
              "    <tr>\n",
              "      <th>1</th>\n",
              "      <td>1</td>\n",
              "      <td>0</td>\n",
              "      <td>373</td>\n",
              "      <td>2015</td>\n",
              "      <td>July</td>\n",
              "      <td>27</td>\n",
              "      <td>1</td>\n",
              "      <td>0</td>\n",
              "      <td>0</td>\n",
              "      <td>2</td>\n",
              "      <td>...</td>\n",
              "      <td>1</td>\n",
              "      <td>0</td>\n",
              "      <td>0</td>\n",
              "      <td>0</td>\n",
              "      <td>0</td>\n",
              "      <td>1</td>\n",
              "      <td>0</td>\n",
              "      <td>0</td>\n",
              "      <td>1</td>\n",
              "      <td>0</td>\n",
              "    </tr>\n",
              "    <tr>\n",
              "      <th>2</th>\n",
              "      <td>1</td>\n",
              "      <td>0</td>\n",
              "      <td>7</td>\n",
              "      <td>2015</td>\n",
              "      <td>July</td>\n",
              "      <td>27</td>\n",
              "      <td>1</td>\n",
              "      <td>0</td>\n",
              "      <td>1</td>\n",
              "      <td>1</td>\n",
              "      <td>...</td>\n",
              "      <td>1</td>\n",
              "      <td>0</td>\n",
              "      <td>0</td>\n",
              "      <td>0</td>\n",
              "      <td>0</td>\n",
              "      <td>1</td>\n",
              "      <td>0</td>\n",
              "      <td>0</td>\n",
              "      <td>1</td>\n",
              "      <td>0</td>\n",
              "    </tr>\n",
              "    <tr>\n",
              "      <th>3</th>\n",
              "      <td>1</td>\n",
              "      <td>0</td>\n",
              "      <td>13</td>\n",
              "      <td>2015</td>\n",
              "      <td>July</td>\n",
              "      <td>27</td>\n",
              "      <td>1</td>\n",
              "      <td>0</td>\n",
              "      <td>1</td>\n",
              "      <td>1</td>\n",
              "      <td>...</td>\n",
              "      <td>1</td>\n",
              "      <td>0</td>\n",
              "      <td>0</td>\n",
              "      <td>0</td>\n",
              "      <td>0</td>\n",
              "      <td>1</td>\n",
              "      <td>0</td>\n",
              "      <td>0</td>\n",
              "      <td>1</td>\n",
              "      <td>0</td>\n",
              "    </tr>\n",
              "    <tr>\n",
              "      <th>4</th>\n",
              "      <td>1</td>\n",
              "      <td>0</td>\n",
              "      <td>14</td>\n",
              "      <td>2015</td>\n",
              "      <td>July</td>\n",
              "      <td>27</td>\n",
              "      <td>1</td>\n",
              "      <td>0</td>\n",
              "      <td>2</td>\n",
              "      <td>2</td>\n",
              "      <td>...</td>\n",
              "      <td>1</td>\n",
              "      <td>0</td>\n",
              "      <td>0</td>\n",
              "      <td>0</td>\n",
              "      <td>0</td>\n",
              "      <td>1</td>\n",
              "      <td>0</td>\n",
              "      <td>0</td>\n",
              "      <td>1</td>\n",
              "      <td>0</td>\n",
              "    </tr>\n",
              "  </tbody>\n",
              "</table>\n",
              "<p>5 rows × 50 columns</p>\n",
              "</div>\n",
              "      <button class=\"colab-df-convert\" onclick=\"convertToInteractive('df-b797bbcc-ae84-47ff-af8e-8082066870c8')\"\n",
              "              title=\"Convert this dataframe to an interactive table.\"\n",
              "              style=\"display:none;\">\n",
              "        \n",
              "  <svg xmlns=\"http://www.w3.org/2000/svg\" height=\"24px\"viewBox=\"0 0 24 24\"\n",
              "       width=\"24px\">\n",
              "    <path d=\"M0 0h24v24H0V0z\" fill=\"none\"/>\n",
              "    <path d=\"M18.56 5.44l.94 2.06.94-2.06 2.06-.94-2.06-.94-.94-2.06-.94 2.06-2.06.94zm-11 1L8.5 8.5l.94-2.06 2.06-.94-2.06-.94L8.5 2.5l-.94 2.06-2.06.94zm10 10l.94 2.06.94-2.06 2.06-.94-2.06-.94-.94-2.06-.94 2.06-2.06.94z\"/><path d=\"M17.41 7.96l-1.37-1.37c-.4-.4-.92-.59-1.43-.59-.52 0-1.04.2-1.43.59L10.3 9.45l-7.72 7.72c-.78.78-.78 2.05 0 2.83L4 21.41c.39.39.9.59 1.41.59.51 0 1.02-.2 1.41-.59l7.78-7.78 2.81-2.81c.8-.78.8-2.07 0-2.86zM5.41 20L4 18.59l7.72-7.72 1.47 1.35L5.41 20z\"/>\n",
              "  </svg>\n",
              "      </button>\n",
              "      \n",
              "  <style>\n",
              "    .colab-df-container {\n",
              "      display:flex;\n",
              "      flex-wrap:wrap;\n",
              "      gap: 12px;\n",
              "    }\n",
              "\n",
              "    .colab-df-convert {\n",
              "      background-color: #E8F0FE;\n",
              "      border: none;\n",
              "      border-radius: 50%;\n",
              "      cursor: pointer;\n",
              "      display: none;\n",
              "      fill: #1967D2;\n",
              "      height: 32px;\n",
              "      padding: 0 0 0 0;\n",
              "      width: 32px;\n",
              "    }\n",
              "\n",
              "    .colab-df-convert:hover {\n",
              "      background-color: #E2EBFA;\n",
              "      box-shadow: 0px 1px 2px rgba(60, 64, 67, 0.3), 0px 1px 3px 1px rgba(60, 64, 67, 0.15);\n",
              "      fill: #174EA6;\n",
              "    }\n",
              "\n",
              "    [theme=dark] .colab-df-convert {\n",
              "      background-color: #3B4455;\n",
              "      fill: #D2E3FC;\n",
              "    }\n",
              "\n",
              "    [theme=dark] .colab-df-convert:hover {\n",
              "      background-color: #434B5C;\n",
              "      box-shadow: 0px 1px 3px 1px rgba(0, 0, 0, 0.15);\n",
              "      filter: drop-shadow(0px 1px 2px rgba(0, 0, 0, 0.3));\n",
              "      fill: #FFFFFF;\n",
              "    }\n",
              "  </style>\n",
              "\n",
              "      <script>\n",
              "        const buttonEl =\n",
              "          document.querySelector('#df-b797bbcc-ae84-47ff-af8e-8082066870c8 button.colab-df-convert');\n",
              "        buttonEl.style.display =\n",
              "          google.colab.kernel.accessAllowed ? 'block' : 'none';\n",
              "\n",
              "        async function convertToInteractive(key) {\n",
              "          const element = document.querySelector('#df-b797bbcc-ae84-47ff-af8e-8082066870c8');\n",
              "          const dataTable =\n",
              "            await google.colab.kernel.invokeFunction('convertToInteractive',\n",
              "                                                     [key], {});\n",
              "          if (!dataTable) return;\n",
              "\n",
              "          const docLinkHtml = 'Like what you see? Visit the ' +\n",
              "            '<a target=\"_blank\" href=https://colab.research.google.com/notebooks/data_table.ipynb>data table notebook</a>'\n",
              "            + ' to learn more about interactive tables.';\n",
              "          element.innerHTML = '';\n",
              "          dataTable['output_type'] = 'display_data';\n",
              "          await google.colab.output.renderOutput(dataTable, element);\n",
              "          const docLink = document.createElement('div');\n",
              "          docLink.innerHTML = docLinkHtml;\n",
              "          element.appendChild(docLink);\n",
              "        }\n",
              "      </script>\n",
              "    </div>\n",
              "  </div>\n",
              "  "
            ]
          },
          "metadata": {},
          "execution_count": 220
        }
      ]
    },
    {
      "cell_type": "code",
      "source": [
        "df_clean.info()"
      ],
      "metadata": {
        "colab": {
          "base_uri": "https://localhost:8080/"
        },
        "id": "87-X_D3bVz3U",
        "outputId": "fbfd804e-c256-4e2f-b01f-bca124eaa225"
      },
      "execution_count": 221,
      "outputs": [
        {
          "output_type": "stream",
          "name": "stdout",
          "text": [
            "<class 'pandas.core.frame.DataFrame'>\n",
            "Int64Index: 119386 entries, 0 to 119389\n",
            "Data columns (total 50 columns):\n",
            " #   Column                          Non-Null Count   Dtype  \n",
            "---  ------                          --------------   -----  \n",
            " 0   hotel                           119386 non-null  int64  \n",
            " 1   is_canceled                     119386 non-null  int64  \n",
            " 2   lead_time                       119386 non-null  int64  \n",
            " 3   arrival_date_year               119386 non-null  int64  \n",
            " 4   arrival_date_month              119386 non-null  object \n",
            " 5   arrival_date_week_number        119386 non-null  int64  \n",
            " 6   arrival_date_day_of_month       119386 non-null  int64  \n",
            " 7   stays_in_weekend_nights         119386 non-null  int64  \n",
            " 8   stays_in_week_nights            119386 non-null  int64  \n",
            " 9   adults                          119386 non-null  int64  \n",
            " 10  children                        119386 non-null  float64\n",
            " 11  babies                          119386 non-null  int64  \n",
            " 12  meal                            119386 non-null  object \n",
            " 13  country                         119386 non-null  object \n",
            " 14  market_segment                  119386 non-null  object \n",
            " 15  is_repeated_guest               119386 non-null  int64  \n",
            " 16  previous_cancellations          119386 non-null  int64  \n",
            " 17  previous_bookings_not_canceled  119386 non-null  int64  \n",
            " 18  reserved_room_type              119386 non-null  int64  \n",
            " 19  assigned_room_type              119386 non-null  int64  \n",
            " 20  booking_changes                 119386 non-null  int64  \n",
            " 21  agent                           119386 non-null  int64  \n",
            " 22  days_in_waiting_list            119386 non-null  int64  \n",
            " 23  adr                             119386 non-null  float64\n",
            " 24  required_car_parking_spaces     119386 non-null  int64  \n",
            " 25  total_of_special_requests       119386 non-null  int64  \n",
            " 26  reservation_status_date         119386 non-null  object \n",
            " 27  name                            119386 non-null  object \n",
            " 28  email                           119386 non-null  object \n",
            " 29  phone-number                    119386 non-null  object \n",
            " 30  credit_card                     119386 non-null  object \n",
            " 31  lead_time_norm                  119386 non-null  float64\n",
            " 32  arrival_date_week_number_norm   119386 non-null  float64\n",
            " 33  arrival_date_day_of_month_norm  119386 non-null  float64\n",
            " 34  adr_norm                        119386 non-null  float64\n",
            " 35  distribution_channel_Corporate  119386 non-null  uint8  \n",
            " 36  distribution_channel_Direct     119386 non-null  uint8  \n",
            " 37  distribution_channel_GDS        119386 non-null  uint8  \n",
            " 38  distribution_channel_TA/TO      119386 non-null  uint8  \n",
            " 39  distribution_channel_Undefined  119386 non-null  uint8  \n",
            " 40  deposit_type_No Deposit         119386 non-null  uint8  \n",
            " 41  deposit_type_Non Refund         119386 non-null  uint8  \n",
            " 42  deposit_type_Refundable         119386 non-null  uint8  \n",
            " 43  customer_type_Contract          119386 non-null  uint8  \n",
            " 44  customer_type_Group             119386 non-null  uint8  \n",
            " 45  customer_type_Transient         119386 non-null  uint8  \n",
            " 46  customer_type_Transient-Party   119386 non-null  uint8  \n",
            " 47  reservation_status_Canceled     119386 non-null  uint8  \n",
            " 48  reservation_status_Check-Out    119386 non-null  uint8  \n",
            " 49  reservation_status_No-Show      119386 non-null  uint8  \n",
            "dtypes: float64(6), int64(20), object(9), uint8(15)\n",
            "memory usage: 38.5+ MB\n"
          ]
        }
      ]
    },
    {
      "cell_type": "markdown",
      "source": [
        "# **Handle class imbalance**"
      ],
      "metadata": {
        "id": "NgJvTpox16WV"
      }
    },
    {
      "cell_type": "code",
      "source": [
        "df_clean['is_canceled'].value_counts()"
      ],
      "metadata": {
        "colab": {
          "base_uri": "https://localhost:8080/"
        },
        "id": "hSNl5uek19fD",
        "outputId": "1ecd2945-7861-4bbc-f04f-1bf1344bc100"
      },
      "execution_count": 222,
      "outputs": [
        {
          "output_type": "execute_result",
          "data": {
            "text/plain": [
              "0    75166\n",
              "1    44220\n",
              "Name: is_canceled, dtype: int64"
            ]
          },
          "metadata": {},
          "execution_count": 222
        }
      ]
    },
    {
      "cell_type": "code",
      "source": [
        "plt.figure(figsize=(5, 6))\n",
        "cancel_ax = sns.countplot(df_clean['is_canceled'])\n",
        "\n",
        "for p in cancel_ax.patches:\n",
        "    cancel_ax.annotate(format(p.get_height(), '.0f'), \n",
        "                   (p.get_x() + p.get_width() / 2., p.get_height()), \n",
        "                   ha = 'center', va = 'center', \n",
        "                   xytext = (0, 9), \n",
        "                   textcoords = 'offset points')\n",
        "\n",
        "plt.show()"
      ],
      "metadata": {
        "colab": {
          "base_uri": "https://localhost:8080/",
          "height": 0
        },
        "id": "_498WVGc2K8Y",
        "outputId": "286ddb42-80f5-4a35-e335-e066fc05fefd"
      },
      "execution_count": 223,
      "outputs": [
        {
          "output_type": "stream",
          "name": "stderr",
          "text": [
            "/usr/local/lib/python3.7/dist-packages/seaborn/_decorators.py:43: FutureWarning: Pass the following variable as a keyword arg: x. From version 0.12, the only valid positional argument will be `data`, and passing other arguments without an explicit keyword will result in an error or misinterpretation.\n",
            "  FutureWarning\n"
          ]
        },
        {
          "output_type": "display_data",
          "data": {
            "text/plain": [
              "<Figure size 360x432 with 1 Axes>"
            ],
            "image/png": "[encoded data removed]"
          },
          "metadata": {
            "needs_background": "light"
          }
        }
      ]
    },
    {
      "cell_type": "markdown",
      "source": [
        "# **2. Feature Engineering**"
      ],
      "metadata": {
        "id": "c8j_EX942qvU"
      }
    },
    {
      "cell_type": "markdown",
      "source": [
        "# **Feature extraction (Add New Features)**"
      ],
      "metadata": {
        "id": "50gfGgSZ4n2u"
      }
    },
    {
      "cell_type": "markdown",
      "source": [
        "\n",
        "> **Total Stays**\n",
        "</br>Dari kolom stays_in_weekend_nights dan stays_in_week_nights, kita bisa mendapatkan total jumlah hari menginap. Terlihat data `total stays` bernilai 0, hal ini memungkinkan sebab konsumen dapat check in dan checkout dihari yang sama\n",
        "\n"
      ],
      "metadata": {
        "id": "oIJv8PbH49pY"
      }
    },
    {
      "cell_type": "code",
      "source": [
        "df_clean['total_stays'] = df_clean['stays_in_weekend_nights'] + df_clean['stays_in_week_nights']\n",
        "df_clean.head()"
      ],
      "metadata": {
        "colab": {
          "base_uri": "https://localhost:8080/",
          "height": 317
        },
        "id": "kzjtIZsg5P_B",
        "outputId": "5cb9f4bf-b7e0-4562-b3f8-991f6d289bac"
      },
      "execution_count": 224,
      "outputs": [
        {
          "output_type": "execute_result",
          "data": {
            "text/plain": [
              "   hotel  is_canceled  lead_time  arrival_date_year arrival_date_month  \\\n",
              "0      1            0        342               2015               July   \n",
              "1      1            0        373               2015               July   \n",
              "2      1            0          7               2015               July   \n",
              "3      1            0         13               2015               July   \n",
              "4      1            0         14               2015               July   \n",
              "\n",
              "   arrival_date_week_number  arrival_date_day_of_month  \\\n",
              "0                        27                          1   \n",
              "1                        27                          1   \n",
              "2                        27                          1   \n",
              "3                        27                          1   \n",
              "4                        27                          1   \n",
              "\n",
              "   stays_in_weekend_nights  stays_in_week_nights  adults  ...  \\\n",
              "0                        0                     0       2  ...   \n",
              "1                        0                     0       2  ...   \n",
              "2                        0                     1       1  ...   \n",
              "3                        0                     1       1  ...   \n",
              "4                        0                     2       2  ...   \n",
              "\n",
              "   deposit_type_Non Refund  deposit_type_Refundable customer_type_Contract  \\\n",
              "0                        0                        0                      0   \n",
              "1                        0                        0                      0   \n",
              "2                        0                        0                      0   \n",
              "3                        0                        0                      0   \n",
              "4                        0                        0                      0   \n",
              "\n",
              "  customer_type_Group customer_type_Transient  customer_type_Transient-Party  \\\n",
              "0                   0                       1                              0   \n",
              "1                   0                       1                              0   \n",
              "2                   0                       1                              0   \n",
              "3                   0                       1                              0   \n",
              "4                   0                       1                              0   \n",
              "\n",
              "   reservation_status_Canceled  reservation_status_Check-Out  \\\n",
              "0                            0                             1   \n",
              "1                            0                             1   \n",
              "2                            0                             1   \n",
              "3                            0                             1   \n",
              "4                            0                             1   \n",
              "\n",
              "   reservation_status_No-Show  total_stays  \n",
              "0                           0            0  \n",
              "1                           0            0  \n",
              "2                           0            1  \n",
              "3                           0            1  \n",
              "4                           0            2  \n",
              "\n",
              "[5 rows x 51 columns]"
            ],
            "text/html": [
              "\n",
              "  <div id=\"df-c05c19c7-df9f-4388-a7da-89bebd29dde9\">\n",
              "    <div class=\"colab-df-container\">\n",
              "      <div>\n",
              "<style scoped>\n",
              "    .dataframe tbody tr th:only-of-type {\n",
              "        vertical-align: middle;\n",
              "    }\n",
              "\n",
              "    .dataframe tbody tr th {\n",
              "        vertical-align: top;\n",
              "    }\n",
              "\n",
              "    .dataframe thead th {\n",
              "        text-align: right;\n",
              "    }\n",
              "</style>\n",
              "<table border=\"1\" class=\"dataframe\">\n",
              "  <thead>\n",
              "    <tr style=\"text-align: right;\">\n",
              "      <th></th>\n",
              "      <th>hotel</th>\n",
              "      <th>is_canceled</th>\n",
              "      <th>lead_time</th>\n",
              "      <th>arrival_date_year</th>\n",
              "      <th>arrival_date_month</th>\n",
              "      <th>arrival_date_week_number</th>\n",
              "      <th>arrival_date_day_of_month</th>\n",
              "      <th>stays_in_weekend_nights</th>\n",
              "      <th>stays_in_week_nights</th>\n",
              "      <th>adults</th>\n",
              "      <th>...</th>\n",
              "      <th>deposit_type_Non Refund</th>\n",
              "      <th>deposit_type_Refundable</th>\n",
              "      <th>customer_type_Contract</th>\n",
              "      <th>customer_type_Group</th>\n",
              "      <th>customer_type_Transient</th>\n",
              "      <th>customer_type_Transient-Party</th>\n",
              "      <th>reservation_status_Canceled</th>\n",
              "      <th>reservation_status_Check-Out</th>\n",
              "      <th>reservation_status_No-Show</th>\n",
              "      <th>total_stays</th>\n",
              "    </tr>\n",
              "  </thead>\n",
              "  <tbody>\n",
              "    <tr>\n",
              "      <th>0</th>\n",
              "      <td>1</td>\n",
              "      <td>0</td>\n",
              "      <td>342</td>\n",
              "      <td>2015</td>\n",
              "      <td>July</td>\n",
              "      <td>27</td>\n",
              "      <td>1</td>\n",
              "      <td>0</td>\n",
              "      <td>0</td>\n",
              "      <td>2</td>\n",
              "      <td>...</td>\n",
              "      <td>0</td>\n",
              "      <td>0</td>\n",
              "      <td>0</td>\n",
              "      <td>0</td>\n",
              "      <td>1</td>\n",
              "      <td>0</td>\n",
              "      <td>0</td>\n",
              "      <td>1</td>\n",
              "      <td>0</td>\n",
              "      <td>0</td>\n",
              "    </tr>\n",
              "    <tr>\n",
              "      <th>1</th>\n",
              "      <td>1</td>\n",
              "      <td>0</td>\n",
              "      <td>373</td>\n",
              "      <td>2015</td>\n",
              "      <td>July</td>\n",
              "      <td>27</td>\n",
              "      <td>1</td>\n",
              "      <td>0</td>\n",
              "      <td>0</td>\n",
              "      <td>2</td>\n",
              "      <td>...</td>\n",
              "      <td>0</td>\n",
              "      <td>0</td>\n",
              "      <td>0</td>\n",
              "      <td>0</td>\n",
              "      <td>1</td>\n",
              "      <td>0</td>\n",
              "      <td>0</td>\n",
              "      <td>1</td>\n",
              "      <td>0</td>\n",
              "      <td>0</td>\n",
              "    </tr>\n",
              "    <tr>\n",
              "      <th>2</th>\n",
              "      <td>1</td>\n",
              "      <td>0</td>\n",
              "      <td>7</td>\n",
              "      <td>2015</td>\n",
              "      <td>July</td>\n",
              "      <td>27</td>\n",
              "      <td>1</td>\n",
              "      <td>0</td>\n",
              "      <td>1</td>\n",
              "      <td>1</td>\n",
              "      <td>...</td>\n",
              "      <td>0</td>\n",
              "      <td>0</td>\n",
              "      <td>0</td>\n",
              "      <td>0</td>\n",
              "      <td>1</td>\n",
              "      <td>0</td>\n",
              "      <td>0</td>\n",
              "      <td>1</td>\n",
              "      <td>0</td>\n",
              "      <td>1</td>\n",
              "    </tr>\n",
              "    <tr>\n",
              "      <th>3</th>\n",
              "      <td>1</td>\n",
              "      <td>0</td>\n",
              "      <td>13</td>\n",
              "      <td>2015</td>\n",
              "      <td>July</td>\n",
              "      <td>27</td>\n",
              "      <td>1</td>\n",
              "      <td>0</td>\n",
              "      <td>1</td>\n",
              "      <td>1</td>\n",
              "      <td>...</td>\n",
              "      <td>0</td>\n",
              "      <td>0</td>\n",
              "      <td>0</td>\n",
              "      <td>0</td>\n",
              "      <td>1</td>\n",
              "      <td>0</td>\n",
              "      <td>0</td>\n",
              "      <td>1</td>\n",
              "      <td>0</td>\n",
              "      <td>1</td>\n",
              "    </tr>\n",
              "    <tr>\n",
              "      <th>4</th>\n",
              "      <td>1</td>\n",
              "      <td>0</td>\n",
              "      <td>14</td>\n",
              "      <td>2015</td>\n",
              "      <td>July</td>\n",
              "      <td>27</td>\n",
              "      <td>1</td>\n",
              "      <td>0</td>\n",
              "      <td>2</td>\n",
              "      <td>2</td>\n",
              "      <td>...</td>\n",
              "      <td>0</td>\n",
              "      <td>0</td>\n",
              "      <td>0</td>\n",
              "      <td>0</td>\n",
              "      <td>1</td>\n",
              "      <td>0</td>\n",
              "      <td>0</td>\n",
              "      <td>1</td>\n",
              "      <td>0</td>\n",
              "      <td>2</td>\n",
              "    </tr>\n",
              "  </tbody>\n",
              "</table>\n",
              "<p>5 rows × 51 columns</p>\n",
              "</div>\n",
              "      <button class=\"colab-df-convert\" onclick=\"convertToInteractive('df-c05c19c7-df9f-4388-a7da-89bebd29dde9')\"\n",
              "              title=\"Convert this dataframe to an interactive table.\"\n",
              "              style=\"display:none;\">\n",
              "        \n",
              "  <svg xmlns=\"http://www.w3.org/2000/svg\" height=\"24px\"viewBox=\"0 0 24 24\"\n",
              "       width=\"24px\">\n",
              "    <path d=\"M0 0h24v24H0V0z\" fill=\"none\"/>\n",
              "    <path d=\"M18.56 5.44l.94 2.06.94-2.06 2.06-.94-2.06-.94-.94-2.06-.94 2.06-2.06.94zm-11 1L8.5 8.5l.94-2.06 2.06-.94-2.06-.94L8.5 2.5l-.94 2.06-2.06.94zm10 10l.94 2.06.94-2.06 2.06-.94-2.06-.94-.94-2.06-.94 2.06-2.06.94z\"/><path d=\"M17.41 7.96l-1.37-1.37c-.4-.4-.92-.59-1.43-.59-.52 0-1.04.2-1.43.59L10.3 9.45l-7.72 7.72c-.78.78-.78 2.05 0 2.83L4 21.41c.39.39.9.59 1.41.59.51 0 1.02-.2 1.41-.59l7.78-7.78 2.81-2.81c.8-.78.8-2.07 0-2.86zM5.41 20L4 18.59l7.72-7.72 1.47 1.35L5.41 20z\"/>\n",
              "  </svg>\n",
              "      </button>\n",
              "      \n",
              "  <style>\n",
              "    .colab-df-container {\n",
              "      display:flex;\n",
              "      flex-wrap:wrap;\n",
              "      gap: 12px;\n",
              "    }\n",
              "\n",
              "    .colab-df-convert {\n",
              "      background-color: #E8F0FE;\n",
              "      border: none;\n",
              "      border-radius: 50%;\n",
              "      cursor: pointer;\n",
              "      display: none;\n",
              "      fill: #1967D2;\n",
              "      height: 32px;\n",
              "      padding: 0 0 0 0;\n",
              "      width: 32px;\n",
              "    }\n",
              "\n",
              "    .colab-df-convert:hover {\n",
              "      background-color: #E2EBFA;\n",
              "      box-shadow: 0px 1px 2px rgba(60, 64, 67, 0.3), 0px 1px 3px 1px rgba(60, 64, 67, 0.15);\n",
              "      fill: #174EA6;\n",
              "    }\n",
              "\n",
              "    [theme=dark] .colab-df-convert {\n",
              "      background-color: #3B4455;\n",
              "      fill: #D2E3FC;\n",
              "    }\n",
              "\n",
              "    [theme=dark] .colab-df-convert:hover {\n",
              "      background-color: #434B5C;\n",
              "      box-shadow: 0px 1px 3px 1px rgba(0, 0, 0, 0.15);\n",
              "      filter: drop-shadow(0px 1px 2px rgba(0, 0, 0, 0.3));\n",
              "      fill: #FFFFFF;\n",
              "    }\n",
              "  </style>\n",
              "\n",
              "      <script>\n",
              "        const buttonEl =\n",
              "          document.querySelector('#df-c05c19c7-df9f-4388-a7da-89bebd29dde9 button.colab-df-convert');\n",
              "        buttonEl.style.display =\n",
              "          google.colab.kernel.accessAllowed ? 'block' : 'none';\n",
              "\n",
              "        async function convertToInteractive(key) {\n",
              "          const element = document.querySelector('#df-c05c19c7-df9f-4388-a7da-89bebd29dde9');\n",
              "          const dataTable =\n",
              "            await google.colab.kernel.invokeFunction('convertToInteractive',\n",
              "                                                     [key], {});\n",
              "          if (!dataTable) return;\n",
              "\n",
              "          const docLinkHtml = 'Like what you see? Visit the ' +\n",
              "            '<a target=\"_blank\" href=https://colab.research.google.com/notebooks/data_table.ipynb>data table notebook</a>'\n",
              "            + ' to learn more about interactive tables.';\n",
              "          element.innerHTML = '';\n",
              "          dataTable['output_type'] = 'display_data';\n",
              "          await google.colab.output.renderOutput(dataTable, element);\n",
              "          const docLink = document.createElement('div');\n",
              "          docLink.innerHTML = docLinkHtml;\n",
              "          element.appendChild(docLink);\n",
              "        }\n",
              "      </script>\n",
              "    </div>\n",
              "  </div>\n",
              "  "
            ]
          },
          "metadata": {},
          "execution_count": 224
        }
      ]
    },
    {
      "cell_type": "markdown",
      "source": [
        "\n",
        "> **Total Guest**\n",
        "</br>Dari kolom `adults, children and babies` kita bisa mendapatkan total jumlah orang yang menginap\n",
        "\n"
      ],
      "metadata": {
        "id": "2NaEc5pz5360"
      }
    },
    {
      "cell_type": "code",
      "source": [
        "df_clean['total_guests'] = df_clean['adults'] + df_clean['children'] + df_clean['babies']\n",
        "df_clean.head()"
      ],
      "metadata": {
        "colab": {
          "base_uri": "https://localhost:8080/",
          "height": 317
        },
        "id": "DLnki_8n6ELU",
        "outputId": "59cb0834-d19e-4811-b799-28ae3d010219"
      },
      "execution_count": 225,
      "outputs": [
        {
          "output_type": "execute_result",
          "data": {
            "text/plain": [
              "   hotel  is_canceled  lead_time  arrival_date_year arrival_date_month  \\\n",
              "0      1            0        342               2015               July   \n",
              "1      1            0        373               2015               July   \n",
              "2      1            0          7               2015               July   \n",
              "3      1            0         13               2015               July   \n",
              "4      1            0         14               2015               July   \n",
              "\n",
              "   arrival_date_week_number  arrival_date_day_of_month  \\\n",
              "0                        27                          1   \n",
              "1                        27                          1   \n",
              "2                        27                          1   \n",
              "3                        27                          1   \n",
              "4                        27                          1   \n",
              "\n",
              "   stays_in_weekend_nights  stays_in_week_nights  adults  ...  \\\n",
              "0                        0                     0       2  ...   \n",
              "1                        0                     0       2  ...   \n",
              "2                        0                     1       1  ...   \n",
              "3                        0                     1       1  ...   \n",
              "4                        0                     2       2  ...   \n",
              "\n",
              "   deposit_type_Refundable  customer_type_Contract customer_type_Group  \\\n",
              "0                        0                       0                   0   \n",
              "1                        0                       0                   0   \n",
              "2                        0                       0                   0   \n",
              "3                        0                       0                   0   \n",
              "4                        0                       0                   0   \n",
              "\n",
              "  customer_type_Transient customer_type_Transient-Party  \\\n",
              "0                       1                             0   \n",
              "1                       1                             0   \n",
              "2                       1                             0   \n",
              "3                       1                             0   \n",
              "4                       1                             0   \n",
              "\n",
              "   reservation_status_Canceled  reservation_status_Check-Out  \\\n",
              "0                            0                             1   \n",
              "1                            0                             1   \n",
              "2                            0                             1   \n",
              "3                            0                             1   \n",
              "4                            0                             1   \n",
              "\n",
              "   reservation_status_No-Show  total_stays  total_guests  \n",
              "0                           0            0           2.0  \n",
              "1                           0            0           2.0  \n",
              "2                           0            1           1.0  \n",
              "3                           0            1           1.0  \n",
              "4                           0            2           2.0  \n",
              "\n",
              "[5 rows x 52 columns]"
            ],
            "text/html": [
              "\n",
              "  <div id=\"df-3ea54969-595d-47c9-8de1-17bb18aeecfd\">\n",
              "    <div class=\"colab-df-container\">\n",
              "      <div>\n",
              "<style scoped>\n",
              "    .dataframe tbody tr th:only-of-type {\n",
              "        vertical-align: middle;\n",
              "    }\n",
              "\n",
              "    .dataframe tbody tr th {\n",
              "        vertical-align: top;\n",
              "    }\n",
              "\n",
              "    .dataframe thead th {\n",
              "        text-align: right;\n",
              "    }\n",
              "</style>\n",
              "<table border=\"1\" class=\"dataframe\">\n",
              "  <thead>\n",
              "    <tr style=\"text-align: right;\">\n",
              "      <th></th>\n",
              "      <th>hotel</th>\n",
              "      <th>is_canceled</th>\n",
              "      <th>lead_time</th>\n",
              "      <th>arrival_date_year</th>\n",
              "      <th>arrival_date_month</th>\n",
              "      <th>arrival_date_week_number</th>\n",
              "      <th>arrival_date_day_of_month</th>\n",
              "      <th>stays_in_weekend_nights</th>\n",
              "      <th>stays_in_week_nights</th>\n",
              "      <th>adults</th>\n",
              "      <th>...</th>\n",
              "      <th>deposit_type_Refundable</th>\n",
              "      <th>customer_type_Contract</th>\n",
              "      <th>customer_type_Group</th>\n",
              "      <th>customer_type_Transient</th>\n",
              "      <th>customer_type_Transient-Party</th>\n",
              "      <th>reservation_status_Canceled</th>\n",
              "      <th>reservation_status_Check-Out</th>\n",
              "      <th>reservation_status_No-Show</th>\n",
              "      <th>total_stays</th>\n",
              "      <th>total_guests</th>\n",
              "    </tr>\n",
              "  </thead>\n",
              "  <tbody>\n",
              "    <tr>\n",
              "      <th>0</th>\n",
              "      <td>1</td>\n",
              "      <td>0</td>\n",
              "      <td>342</td>\n",
              "      <td>2015</td>\n",
              "      <td>July</td>\n",
              "      <td>27</td>\n",
              "      <td>1</td>\n",
              "      <td>0</td>\n",
              "      <td>0</td>\n",
              "      <td>2</td>\n",
              "      <td>...</td>\n",
              "      <td>0</td>\n",
              "      <td>0</td>\n",
              "      <td>0</td>\n",
              "      <td>1</td>\n",
              "      <td>0</td>\n",
              "      <td>0</td>\n",
              "      <td>1</td>\n",
              "      <td>0</td>\n",
              "      <td>0</td>\n",
              "      <td>2.0</td>\n",
              "    </tr>\n",
              "    <tr>\n",
              "      <th>1</th>\n",
              "      <td>1</td>\n",
              "      <td>0</td>\n",
              "      <td>373</td>\n",
              "      <td>2015</td>\n",
              "      <td>July</td>\n",
              "      <td>27</td>\n",
              "      <td>1</td>\n",
              "      <td>0</td>\n",
              "      <td>0</td>\n",
              "      <td>2</td>\n",
              "      <td>...</td>\n",
              "      <td>0</td>\n",
              "      <td>0</td>\n",
              "      <td>0</td>\n",
              "      <td>1</td>\n",
              "      <td>0</td>\n",
              "      <td>0</td>\n",
              "      <td>1</td>\n",
              "      <td>0</td>\n",
              "      <td>0</td>\n",
              "      <td>2.0</td>\n",
              "    </tr>\n",
              "    <tr>\n",
              "      <th>2</th>\n",
              "      <td>1</td>\n",
              "      <td>0</td>\n",
              "      <td>7</td>\n",
              "      <td>2015</td>\n",
              "      <td>July</td>\n",
              "      <td>27</td>\n",
              "      <td>1</td>\n",
              "      <td>0</td>\n",
              "      <td>1</td>\n",
              "      <td>1</td>\n",
              "      <td>...</td>\n",
              "      <td>0</td>\n",
              "      <td>0</td>\n",
              "      <td>0</td>\n",
              "      <td>1</td>\n",
              "      <td>0</td>\n",
              "      <td>0</td>\n",
              "      <td>1</td>\n",
              "      <td>0</td>\n",
              "      <td>1</td>\n",
              "      <td>1.0</td>\n",
              "    </tr>\n",
              "    <tr>\n",
              "      <th>3</th>\n",
              "      <td>1</td>\n",
              "      <td>0</td>\n",
              "      <td>13</td>\n",
              "      <td>2015</td>\n",
              "      <td>July</td>\n",
              "      <td>27</td>\n",
              "      <td>1</td>\n",
              "      <td>0</td>\n",
              "      <td>1</td>\n",
              "      <td>1</td>\n",
              "      <td>...</td>\n",
              "      <td>0</td>\n",
              "      <td>0</td>\n",
              "      <td>0</td>\n",
              "      <td>1</td>\n",
              "      <td>0</td>\n",
              "      <td>0</td>\n",
              "      <td>1</td>\n",
              "      <td>0</td>\n",
              "      <td>1</td>\n",
              "      <td>1.0</td>\n",
              "    </tr>\n",
              "    <tr>\n",
              "      <th>4</th>\n",
              "      <td>1</td>\n",
              "      <td>0</td>\n",
              "      <td>14</td>\n",
              "      <td>2015</td>\n",
              "      <td>July</td>\n",
              "      <td>27</td>\n",
              "      <td>1</td>\n",
              "      <td>0</td>\n",
              "      <td>2</td>\n",
              "      <td>2</td>\n",
              "      <td>...</td>\n",
              "      <td>0</td>\n",
              "      <td>0</td>\n",
              "      <td>0</td>\n",
              "      <td>1</td>\n",
              "      <td>0</td>\n",
              "      <td>0</td>\n",
              "      <td>1</td>\n",
              "      <td>0</td>\n",
              "      <td>2</td>\n",
              "      <td>2.0</td>\n",
              "    </tr>\n",
              "  </tbody>\n",
              "</table>\n",
              "<p>5 rows × 52 columns</p>\n",
              "</div>\n",
              "      <button class=\"colab-df-convert\" onclick=\"convertToInteractive('df-3ea54969-595d-47c9-8de1-17bb18aeecfd')\"\n",
              "              title=\"Convert this dataframe to an interactive table.\"\n",
              "              style=\"display:none;\">\n",
              "        \n",
              "  <svg xmlns=\"http://www.w3.org/2000/svg\" height=\"24px\"viewBox=\"0 0 24 24\"\n",
              "       width=\"24px\">\n",
              "    <path d=\"M0 0h24v24H0V0z\" fill=\"none\"/>\n",
              "    <path d=\"M18.56 5.44l.94 2.06.94-2.06 2.06-.94-2.06-.94-.94-2.06-.94 2.06-2.06.94zm-11 1L8.5 8.5l.94-2.06 2.06-.94-2.06-.94L8.5 2.5l-.94 2.06-2.06.94zm10 10l.94 2.06.94-2.06 2.06-.94-2.06-.94-.94-2.06-.94 2.06-2.06.94z\"/><path d=\"M17.41 7.96l-1.37-1.37c-.4-.4-.92-.59-1.43-.59-.52 0-1.04.2-1.43.59L10.3 9.45l-7.72 7.72c-.78.78-.78 2.05 0 2.83L4 21.41c.39.39.9.59 1.41.59.51 0 1.02-.2 1.41-.59l7.78-7.78 2.81-2.81c.8-.78.8-2.07 0-2.86zM5.41 20L4 18.59l7.72-7.72 1.47 1.35L5.41 20z\"/>\n",
              "  </svg>\n",
              "      </button>\n",
              "      \n",
              "  <style>\n",
              "    .colab-df-container {\n",
              "      display:flex;\n",
              "      flex-wrap:wrap;\n",
              "      gap: 12px;\n",
              "    }\n",
              "\n",
              "    .colab-df-convert {\n",
              "      background-color: #E8F0FE;\n",
              "      border: none;\n",
              "      border-radius: 50%;\n",
              "      cursor: pointer;\n",
              "      display: none;\n",
              "      fill: #1967D2;\n",
              "      height: 32px;\n",
              "      padding: 0 0 0 0;\n",
              "      width: 32px;\n",
              "    }\n",
              "\n",
              "    .colab-df-convert:hover {\n",
              "      background-color: #E2EBFA;\n",
              "      box-shadow: 0px 1px 2px rgba(60, 64, 67, 0.3), 0px 1px 3px 1px rgba(60, 64, 67, 0.15);\n",
              "      fill: #174EA6;\n",
              "    }\n",
              "\n",
              "    [theme=dark] .colab-df-convert {\n",
              "      background-color: #3B4455;\n",
              "      fill: #D2E3FC;\n",
              "    }\n",
              "\n",
              "    [theme=dark] .colab-df-convert:hover {\n",
              "      background-color: #434B5C;\n",
              "      box-shadow: 0px 1px 3px 1px rgba(0, 0, 0, 0.15);\n",
              "      filter: drop-shadow(0px 1px 2px rgba(0, 0, 0, 0.3));\n",
              "      fill: #FFFFFF;\n",
              "    }\n",
              "  </style>\n",
              "\n",
              "      <script>\n",
              "        const buttonEl =\n",
              "          document.querySelector('#df-3ea54969-595d-47c9-8de1-17bb18aeecfd button.colab-df-convert');\n",
              "        buttonEl.style.display =\n",
              "          google.colab.kernel.accessAllowed ? 'block' : 'none';\n",
              "\n",
              "        async function convertToInteractive(key) {\n",
              "          const element = document.querySelector('#df-3ea54969-595d-47c9-8de1-17bb18aeecfd');\n",
              "          const dataTable =\n",
              "            await google.colab.kernel.invokeFunction('convertToInteractive',\n",
              "                                                     [key], {});\n",
              "          if (!dataTable) return;\n",
              "\n",
              "          const docLinkHtml = 'Like what you see? Visit the ' +\n",
              "            '<a target=\"_blank\" href=https://colab.research.google.com/notebooks/data_table.ipynb>data table notebook</a>'\n",
              "            + ' to learn more about interactive tables.';\n",
              "          element.innerHTML = '';\n",
              "          dataTable['output_type'] = 'display_data';\n",
              "          await google.colab.output.renderOutput(dataTable, element);\n",
              "          const docLink = document.createElement('div');\n",
              "          docLink.innerHTML = docLinkHtml;\n",
              "          element.appendChild(docLink);\n",
              "        }\n",
              "      </script>\n",
              "    </div>\n",
              "  </div>\n",
              "  "
            ]
          },
          "metadata": {},
          "execution_count": 225
        }
      ]
    },
    {
      "cell_type": "markdown",
      "source": [
        "\n",
        "> **Kids**\n",
        "</br>Dari kolom `children and babies` kita bisa mendapatkan total jumlah anak yang menginap. Karena biasanya hanya ada kategori tamu dewasa dan anak (dibawah 17 tahun) dalam pemesanan kamar hotel\n",
        "\n"
      ],
      "metadata": {
        "id": "LlH-lhC-6RjD"
      }
    },
    {
      "cell_type": "code",
      "source": [
        "df_clean['kids'] = df_clean['children'] + df_clean['babies']\n",
        "df_clean.head()"
      ],
      "metadata": {
        "colab": {
          "base_uri": "https://localhost:8080/",
          "height": 317
        },
        "id": "fNvCT20V6pBx",
        "outputId": "ae8d2752-f586-4fdc-fc35-06343c665ab3"
      },
      "execution_count": 226,
      "outputs": [
        {
          "output_type": "execute_result",
          "data": {
            "text/plain": [
              "   hotel  is_canceled  lead_time  arrival_date_year arrival_date_month  \\\n",
              "0      1            0        342               2015               July   \n",
              "1      1            0        373               2015               July   \n",
              "2      1            0          7               2015               July   \n",
              "3      1            0         13               2015               July   \n",
              "4      1            0         14               2015               July   \n",
              "\n",
              "   arrival_date_week_number  arrival_date_day_of_month  \\\n",
              "0                        27                          1   \n",
              "1                        27                          1   \n",
              "2                        27                          1   \n",
              "3                        27                          1   \n",
              "4                        27                          1   \n",
              "\n",
              "   stays_in_weekend_nights  stays_in_week_nights  adults  ...  \\\n",
              "0                        0                     0       2  ...   \n",
              "1                        0                     0       2  ...   \n",
              "2                        0                     1       1  ...   \n",
              "3                        0                     1       1  ...   \n",
              "4                        0                     2       2  ...   \n",
              "\n",
              "   customer_type_Contract  customer_type_Group customer_type_Transient  \\\n",
              "0                       0                    0                       1   \n",
              "1                       0                    0                       1   \n",
              "2                       0                    0                       1   \n",
              "3                       0                    0                       1   \n",
              "4                       0                    0                       1   \n",
              "\n",
              "  customer_type_Transient-Party reservation_status_Canceled  \\\n",
              "0                             0                           0   \n",
              "1                             0                           0   \n",
              "2                             0                           0   \n",
              "3                             0                           0   \n",
              "4                             0                           0   \n",
              "\n",
              "   reservation_status_Check-Out  reservation_status_No-Show  total_stays  \\\n",
              "0                             1                           0            0   \n",
              "1                             1                           0            0   \n",
              "2                             1                           0            1   \n",
              "3                             1                           0            1   \n",
              "4                             1                           0            2   \n",
              "\n",
              "   total_guests  kids  \n",
              "0           2.0   0.0  \n",
              "1           2.0   0.0  \n",
              "2           1.0   0.0  \n",
              "3           1.0   0.0  \n",
              "4           2.0   0.0  \n",
              "\n",
              "[5 rows x 53 columns]"
            ],
            "text/html": [
              "\n",
              "  <div id=\"df-4be887ee-cfc3-41af-8535-0afadb0d939e\">\n",
              "    <div class=\"colab-df-container\">\n",
              "      <div>\n",
              "<style scoped>\n",
              "    .dataframe tbody tr th:only-of-type {\n",
              "        vertical-align: middle;\n",
              "    }\n",
              "\n",
              "    .dataframe tbody tr th {\n",
              "        vertical-align: top;\n",
              "    }\n",
              "\n",
              "    .dataframe thead th {\n",
              "        text-align: right;\n",
              "    }\n",
              "</style>\n",
              "<table border=\"1\" class=\"dataframe\">\n",
              "  <thead>\n",
              "    <tr style=\"text-align: right;\">\n",
              "      <th></th>\n",
              "      <th>hotel</th>\n",
              "      <th>is_canceled</th>\n",
              "      <th>lead_time</th>\n",
              "      <th>arrival_date_year</th>\n",
              "      <th>arrival_date_month</th>\n",
              "      <th>arrival_date_week_number</th>\n",
              "      <th>arrival_date_day_of_month</th>\n",
              "      <th>stays_in_weekend_nights</th>\n",
              "      <th>stays_in_week_nights</th>\n",
              "      <th>adults</th>\n",
              "      <th>...</th>\n",
              "      <th>customer_type_Contract</th>\n",
              "      <th>customer_type_Group</th>\n",
              "      <th>customer_type_Transient</th>\n",
              "      <th>customer_type_Transient-Party</th>\n",
              "      <th>reservation_status_Canceled</th>\n",
              "      <th>reservation_status_Check-Out</th>\n",
              "      <th>reservation_status_No-Show</th>\n",
              "      <th>total_stays</th>\n",
              "      <th>total_guests</th>\n",
              "      <th>kids</th>\n",
              "    </tr>\n",
              "  </thead>\n",
              "  <tbody>\n",
              "    <tr>\n",
              "      <th>0</th>\n",
              "      <td>1</td>\n",
              "      <td>0</td>\n",
              "      <td>342</td>\n",
              "      <td>2015</td>\n",
              "      <td>July</td>\n",
              "      <td>27</td>\n",
              "      <td>1</td>\n",
              "      <td>0</td>\n",
              "      <td>0</td>\n",
              "      <td>2</td>\n",
              "      <td>...</td>\n",
              "      <td>0</td>\n",
              "      <td>0</td>\n",
              "      <td>1</td>\n",
              "      <td>0</td>\n",
              "      <td>0</td>\n",
              "      <td>1</td>\n",
              "      <td>0</td>\n",
              "      <td>0</td>\n",
              "      <td>2.0</td>\n",
              "      <td>0.0</td>\n",
              "    </tr>\n",
              "    <tr>\n",
              "      <th>1</th>\n",
              "      <td>1</td>\n",
              "      <td>0</td>\n",
              "      <td>373</td>\n",
              "      <td>2015</td>\n",
              "      <td>July</td>\n",
              "      <td>27</td>\n",
              "      <td>1</td>\n",
              "      <td>0</td>\n",
              "      <td>0</td>\n",
              "      <td>2</td>\n",
              "      <td>...</td>\n",
              "      <td>0</td>\n",
              "      <td>0</td>\n",
              "      <td>1</td>\n",
              "      <td>0</td>\n",
              "      <td>0</td>\n",
              "      <td>1</td>\n",
              "      <td>0</td>\n",
              "      <td>0</td>\n",
              "      <td>2.0</td>\n",
              "      <td>0.0</td>\n",
              "    </tr>\n",
              "    <tr>\n",
              "      <th>2</th>\n",
              "      <td>1</td>\n",
              "      <td>0</td>\n",
              "      <td>7</td>\n",
              "      <td>2015</td>\n",
              "      <td>July</td>\n",
              "      <td>27</td>\n",
              "      <td>1</td>\n",
              "      <td>0</td>\n",
              "      <td>1</td>\n",
              "      <td>1</td>\n",
              "      <td>...</td>\n",
              "      <td>0</td>\n",
              "      <td>0</td>\n",
              "      <td>1</td>\n",
              "      <td>0</td>\n",
              "      <td>0</td>\n",
              "      <td>1</td>\n",
              "      <td>0</td>\n",
              "      <td>1</td>\n",
              "      <td>1.0</td>\n",
              "      <td>0.0</td>\n",
              "    </tr>\n",
              "    <tr>\n",
              "      <th>3</th>\n",
              "      <td>1</td>\n",
              "      <td>0</td>\n",
              "      <td>13</td>\n",
              "      <td>2015</td>\n",
              "      <td>July</td>\n",
              "      <td>27</td>\n",
              "      <td>1</td>\n",
              "      <td>0</td>\n",
              "      <td>1</td>\n",
              "      <td>1</td>\n",
              "      <td>...</td>\n",
              "      <td>0</td>\n",
              "      <td>0</td>\n",
              "      <td>1</td>\n",
              "      <td>0</td>\n",
              "      <td>0</td>\n",
              "      <td>1</td>\n",
              "      <td>0</td>\n",
              "      <td>1</td>\n",
              "      <td>1.0</td>\n",
              "      <td>0.0</td>\n",
              "    </tr>\n",
              "    <tr>\n",
              "      <th>4</th>\n",
              "      <td>1</td>\n",
              "      <td>0</td>\n",
              "      <td>14</td>\n",
              "      <td>2015</td>\n",
              "      <td>July</td>\n",
              "      <td>27</td>\n",
              "      <td>1</td>\n",
              "      <td>0</td>\n",
              "      <td>2</td>\n",
              "      <td>2</td>\n",
              "      <td>...</td>\n",
              "      <td>0</td>\n",
              "      <td>0</td>\n",
              "      <td>1</td>\n",
              "      <td>0</td>\n",
              "      <td>0</td>\n",
              "      <td>1</td>\n",
              "      <td>0</td>\n",
              "      <td>2</td>\n",
              "      <td>2.0</td>\n",
              "      <td>0.0</td>\n",
              "    </tr>\n",
              "  </tbody>\n",
              "</table>\n",
              "<p>5 rows × 53 columns</p>\n",
              "</div>\n",
              "      <button class=\"colab-df-convert\" onclick=\"convertToInteractive('df-4be887ee-cfc3-41af-8535-0afadb0d939e')\"\n",
              "              title=\"Convert this dataframe to an interactive table.\"\n",
              "              style=\"display:none;\">\n",
              "        \n",
              "  <svg xmlns=\"http://www.w3.org/2000/svg\" height=\"24px\"viewBox=\"0 0 24 24\"\n",
              "       width=\"24px\">\n",
              "    <path d=\"M0 0h24v24H0V0z\" fill=\"none\"/>\n",
              "    <path d=\"M18.56 5.44l.94 2.06.94-2.06 2.06-.94-2.06-.94-.94-2.06-.94 2.06-2.06.94zm-11 1L8.5 8.5l.94-2.06 2.06-.94-2.06-.94L8.5 2.5l-.94 2.06-2.06.94zm10 10l.94 2.06.94-2.06 2.06-.94-2.06-.94-.94-2.06-.94 2.06-2.06.94z\"/><path d=\"M17.41 7.96l-1.37-1.37c-.4-.4-.92-.59-1.43-.59-.52 0-1.04.2-1.43.59L10.3 9.45l-7.72 7.72c-.78.78-.78 2.05 0 2.83L4 21.41c.39.39.9.59 1.41.59.51 0 1.02-.2 1.41-.59l7.78-7.78 2.81-2.81c.8-.78.8-2.07 0-2.86zM5.41 20L4 18.59l7.72-7.72 1.47 1.35L5.41 20z\"/>\n",
              "  </svg>\n",
              "      </button>\n",
              "      \n",
              "  <style>\n",
              "    .colab-df-container {\n",
              "      display:flex;\n",
              "      flex-wrap:wrap;\n",
              "      gap: 12px;\n",
              "    }\n",
              "\n",
              "    .colab-df-convert {\n",
              "      background-color: #E8F0FE;\n",
              "      border: none;\n",
              "      border-radius: 50%;\n",
              "      cursor: pointer;\n",
              "      display: none;\n",
              "      fill: #1967D2;\n",
              "      height: 32px;\n",
              "      padding: 0 0 0 0;\n",
              "      width: 32px;\n",
              "    }\n",
              "\n",
              "    .colab-df-convert:hover {\n",
              "      background-color: #E2EBFA;\n",
              "      box-shadow: 0px 1px 2px rgba(60, 64, 67, 0.3), 0px 1px 3px 1px rgba(60, 64, 67, 0.15);\n",
              "      fill: #174EA6;\n",
              "    }\n",
              "\n",
              "    [theme=dark] .colab-df-convert {\n",
              "      background-color: #3B4455;\n",
              "      fill: #D2E3FC;\n",
              "    }\n",
              "\n",
              "    [theme=dark] .colab-df-convert:hover {\n",
              "      background-color: #434B5C;\n",
              "      box-shadow: 0px 1px 3px 1px rgba(0, 0, 0, 0.15);\n",
              "      filter: drop-shadow(0px 1px 2px rgba(0, 0, 0, 0.3));\n",
              "      fill: #FFFFFF;\n",
              "    }\n",
              "  </style>\n",
              "\n",
              "      <script>\n",
              "        const buttonEl =\n",
              "          document.querySelector('#df-4be887ee-cfc3-41af-8535-0afadb0d939e button.colab-df-convert');\n",
              "        buttonEl.style.display =\n",
              "          google.colab.kernel.accessAllowed ? 'block' : 'none';\n",
              "\n",
              "        async function convertToInteractive(key) {\n",
              "          const element = document.querySelector('#df-4be887ee-cfc3-41af-8535-0afadb0d939e');\n",
              "          const dataTable =\n",
              "            await google.colab.kernel.invokeFunction('convertToInteractive',\n",
              "                                                     [key], {});\n",
              "          if (!dataTable) return;\n",
              "\n",
              "          const docLinkHtml = 'Like what you see? Visit the ' +\n",
              "            '<a target=\"_blank\" href=https://colab.research.google.com/notebooks/data_table.ipynb>data table notebook</a>'\n",
              "            + ' to learn more about interactive tables.';\n",
              "          element.innerHTML = '';\n",
              "          dataTable['output_type'] = 'display_data';\n",
              "          await google.colab.output.renderOutput(dataTable, element);\n",
              "          const docLink = document.createElement('div');\n",
              "          docLink.innerHTML = docLinkHtml;\n",
              "          element.appendChild(docLink);\n",
              "        }\n",
              "      </script>\n",
              "    </div>\n",
              "  </div>\n",
              "  "
            ]
          },
          "metadata": {},
          "execution_count": 226
        }
      ]
    },
    {
      "cell_type": "markdown",
      "source": [
        "> **Guest Location**\n",
        "</br>Karena kolom `country` memiliki data yang sangat besar, maka akan dikategorikan menjadi local & international. Pengkategorian mengacu pada lokasi hotel pada dataset yang berada di negara Portugal untuk penduduk local dan selain itu akan di kategorikan sebagai international"
      ],
      "metadata": {
        "id": "iBMorWa-6zPp"
      }
    },
    {
      "cell_type": "code",
      "source": [
        "df_clean['guest_location'] = df_clean['country'].apply(lambda x: 'Local' if x == 'PRT' else 'International')\n",
        "df_clean['guest_location'].value_counts()"
      ],
      "metadata": {
        "colab": {
          "base_uri": "https://localhost:8080/"
        },
        "id": "CU1od7Uu7dCe",
        "outputId": "d77b8574-f376-4018-d4ba-500dd874373d"
      },
      "execution_count": 227,
      "outputs": [
        {
          "output_type": "execute_result",
          "data": {
            "text/plain": [
              "International    70312\n",
              "Local            49074\n",
              "Name: guest_location, dtype: int64"
            ]
          },
          "metadata": {},
          "execution_count": 227
        }
      ]
    },
    {
      "cell_type": "markdown",
      "source": [
        "> **Arrival Columns**\n",
        "</br>Dari kolom ini akan digenerate kolom baru berdasrkan bulan dan hari "
      ],
      "metadata": {
        "id": "Qh1PLxFDdOH4"
      }
    },
    {
      "cell_type": "markdown",
      "source": [
        "> **Meal Columns**\n",
        "</br>Dari kolom ini didapat data bernilai 'undentified'. Dari source dataset ini menyebutkan bahwa undentified sama dengan SC (no meal package), untuk itu kami akan mengganti nilai undentified menjadi SC"
      ],
      "metadata": {
        "id": "MSxYemHUfC0y"
      }
    },
    {
      "cell_type": "code",
      "source": [
        "df_clean['meal'].unique()"
      ],
      "metadata": {
        "colab": {
          "base_uri": "https://localhost:8080/"
        },
        "id": "9Xcq3JeVfhIU",
        "outputId": "5a03413a-ce29-486d-ec3e-fe278da17254"
      },
      "execution_count": 228,
      "outputs": [
        {
          "output_type": "execute_result",
          "data": {
            "text/plain": [
              "array(['BB', 'FB', 'HB', 'SC', 'Undefined'], dtype=object)"
            ]
          },
          "metadata": {},
          "execution_count": 228
        }
      ]
    },
    {
      "cell_type": "code",
      "source": [
        "df_clean['meal'].value_counts()"
      ],
      "metadata": {
        "colab": {
          "base_uri": "https://localhost:8080/"
        },
        "id": "Cy0J965omnm5",
        "outputId": "0b37b8e4-8a8a-4220-972e-94af766e7a5f"
      },
      "execution_count": 229,
      "outputs": [
        {
          "output_type": "execute_result",
          "data": {
            "text/plain": [
              "BB           92306\n",
              "HB           14463\n",
              "SC           10650\n",
              "Undefined     1169\n",
              "FB             798\n",
              "Name: meal, dtype: int64"
            ]
          },
          "metadata": {},
          "execution_count": 229
        }
      ]
    },
    {
      "cell_type": "code",
      "source": [
        "df_clean['meal'] = df_clean['meal'].str.replace('Undefined', 'SC')\n",
        "df_clean['meal'].unique()"
      ],
      "metadata": {
        "colab": {
          "base_uri": "https://localhost:8080/"
        },
        "id": "byahyT5_i1JC",
        "outputId": "a937461c-4414-451c-ad26-9d1adc75300c"
      },
      "execution_count": 230,
      "outputs": [
        {
          "output_type": "execute_result",
          "data": {
            "text/plain": [
              "array(['BB', 'FB', 'HB', 'SC'], dtype=object)"
            ]
          },
          "metadata": {},
          "execution_count": 230
        }
      ]
    },
    {
      "cell_type": "markdown",
      "source": [
        "> **Distribution Channel**\n",
        "</br>Dari kolom ini didapat data bernilai Undefined dan akan di ganti menjadi TA/TO yang merupakan nilai modus"
      ],
      "metadata": {
        "id": "VJJWIHvojTeq"
      }
    },
    {
      "cell_type": "markdown",
      "source": [
        "> **Market Segment**\n",
        "</br>Dari kolom ini didapat data bernilai Undefined dan akan di ganti menjadi online TA yang merupakan modus"
      ],
      "metadata": {
        "id": "s3xl6Asdo4XP"
      }
    },
    {
      "cell_type": "code",
      "source": [
        "df_clean['market_segment'].value_counts()"
      ],
      "metadata": {
        "colab": {
          "base_uri": "https://localhost:8080/"
        },
        "id": "pLkKzv0hpQCF",
        "outputId": "401f5b87-8cc0-4279-80f9-191397122fc5"
      },
      "execution_count": 231,
      "outputs": [
        {
          "output_type": "execute_result",
          "data": {
            "text/plain": [
              "Online TA        56476\n",
              "Offline TA/TO    24219\n",
              "Groups           19811\n",
              "Direct           12605\n",
              "Corporate         5295\n",
              "Complementary      743\n",
              "Aviation           237\n",
              "Name: market_segment, dtype: int64"
            ]
          },
          "metadata": {},
          "execution_count": 231
        }
      ]
    },
    {
      "cell_type": "code",
      "source": [
        "df_clean['market_segment'] = df_clean['market_segment'].replace('Undefined', 'Online TA')\n",
        "df_clean['market_segment'].unique()"
      ],
      "metadata": {
        "colab": {
          "base_uri": "https://localhost:8080/"
        },
        "id": "Qwf6ZRYOpT_u",
        "outputId": "0de29732-bb5e-4684-897d-cbd4771e1c15"
      },
      "execution_count": 232,
      "outputs": [
        {
          "output_type": "execute_result",
          "data": {
            "text/plain": [
              "array(['Direct', 'Corporate', 'Online TA', 'Offline TA/TO',\n",
              "       'Complementary', 'Groups', 'Aviation'], dtype=object)"
            ]
          },
          "metadata": {},
          "execution_count": 232
        }
      ]
    },
    {
      "cell_type": "markdown",
      "source": [
        "# **Feature selection (Remove Irrelevant Features)**"
      ],
      "metadata": {
        "id": "jy8tCMIr2x0J"
      }
    },
    {
      "cell_type": "code",
      "source": [
        "df_clean[['name', 'email', 'phone-number', 'credit_card']].head()"
      ],
      "metadata": {
        "colab": {
          "base_uri": "https://localhost:8080/",
          "height": 206
        },
        "id": "9cXEiMRQ2xCA",
        "outputId": "6aac70e7-2db6-48b8-b49d-bdd113a97306"
      },
      "execution_count": 233,
      "outputs": [
        {
          "output_type": "execute_result",
          "data": {
            "text/plain": [
              "             name                        email  phone-number       credit_card\n",
              "0   Ernest Barnes  Ernest.Barnes31@outlook.com  669-792-1661  ************4322\n",
              "1    Andrea Baker       Andrea_Baker94@aol.com  858-637-6955  ************9157\n",
              "2  Rebecca Parker   Rebecca_Parker@comcast.net  652-885-2745  ************3734\n",
              "3    Laura Murray            Laura_M@gmail.com  364-656-8427  ************5677\n",
              "4     Linda Hines           LHines@verizon.com  713-226-5883  ************5498"
            ],
            "text/html": [
              "\n",
              "  <div id=\"df-33cadb63-ebe2-46b3-9de9-03c85aa5345c\">\n",
              "    <div class=\"colab-df-container\">\n",
              "      <div>\n",
              "<style scoped>\n",
              "    .dataframe tbody tr th:only-of-type {\n",
              "        vertical-align: middle;\n",
              "    }\n",
              "\n",
              "    .dataframe tbody tr th {\n",
              "        vertical-align: top;\n",
              "    }\n",
              "\n",
              "    .dataframe thead th {\n",
              "        text-align: right;\n",
              "    }\n",
              "</style>\n",
              "<table border=\"1\" class=\"dataframe\">\n",
              "  <thead>\n",
              "    <tr style=\"text-align: right;\">\n",
              "      <th></th>\n",
              "      <th>name</th>\n",
              "      <th>email</th>\n",
              "      <th>phone-number</th>\n",
              "      <th>credit_card</th>\n",
              "    </tr>\n",
              "  </thead>\n",
              "  <tbody>\n",
              "    <tr>\n",
              "      <th>0</th>\n",
              "      <td>Ernest Barnes</td>\n",
              "      <td>Ernest.Barnes31@outlook.com</td>\n",
              "      <td>669-792-1661</td>\n",
              "      <td>************4322</td>\n",
              "    </tr>\n",
              "    <tr>\n",
              "      <th>1</th>\n",
              "      <td>Andrea Baker</td>\n",
              "      <td>Andrea_Baker94@aol.com</td>\n",
              "      <td>858-637-6955</td>\n",
              "      <td>************9157</td>\n",
              "    </tr>\n",
              "    <tr>\n",
              "      <th>2</th>\n",
              "      <td>Rebecca Parker</td>\n",
              "      <td>Rebecca_Parker@comcast.net</td>\n",
              "      <td>652-885-2745</td>\n",
              "      <td>************3734</td>\n",
              "    </tr>\n",
              "    <tr>\n",
              "      <th>3</th>\n",
              "      <td>Laura Murray</td>\n",
              "      <td>Laura_M@gmail.com</td>\n",
              "      <td>364-656-8427</td>\n",
              "      <td>************5677</td>\n",
              "    </tr>\n",
              "    <tr>\n",
              "      <th>4</th>\n",
              "      <td>Linda Hines</td>\n",
              "      <td>LHines@verizon.com</td>\n",
              "      <td>713-226-5883</td>\n",
              "      <td>************5498</td>\n",
              "    </tr>\n",
              "  </tbody>\n",
              "</table>\n",
              "</div>\n",
              "      <button class=\"colab-df-convert\" onclick=\"convertToInteractive('df-33cadb63-ebe2-46b3-9de9-03c85aa5345c')\"\n",
              "              title=\"Convert this dataframe to an interactive table.\"\n",
              "              style=\"display:none;\">\n",
              "        \n",
              "  <svg xmlns=\"http://www.w3.org/2000/svg\" height=\"24px\"viewBox=\"0 0 24 24\"\n",
              "       width=\"24px\">\n",
              "    <path d=\"M0 0h24v24H0V0z\" fill=\"none\"/>\n",
              "    <path d=\"M18.56 5.44l.94 2.06.94-2.06 2.06-.94-2.06-.94-.94-2.06-.94 2.06-2.06.94zm-11 1L8.5 8.5l.94-2.06 2.06-.94-2.06-.94L8.5 2.5l-.94 2.06-2.06.94zm10 10l.94 2.06.94-2.06 2.06-.94-2.06-.94-.94-2.06-.94 2.06-2.06.94z\"/><path d=\"M17.41 7.96l-1.37-1.37c-.4-.4-.92-.59-1.43-.59-.52 0-1.04.2-1.43.59L10.3 9.45l-7.72 7.72c-.78.78-.78 2.05 0 2.83L4 21.41c.39.39.9.59 1.41.59.51 0 1.02-.2 1.41-.59l7.78-7.78 2.81-2.81c.8-.78.8-2.07 0-2.86zM5.41 20L4 18.59l7.72-7.72 1.47 1.35L5.41 20z\"/>\n",
              "  </svg>\n",
              "      </button>\n",
              "      \n",
              "  <style>\n",
              "    .colab-df-container {\n",
              "      display:flex;\n",
              "      flex-wrap:wrap;\n",
              "      gap: 12px;\n",
              "    }\n",
              "\n",
              "    .colab-df-convert {\n",
              "      background-color: #E8F0FE;\n",
              "      border: none;\n",
              "      border-radius: 50%;\n",
              "      cursor: pointer;\n",
              "      display: none;\n",
              "      fill: #1967D2;\n",
              "      height: 32px;\n",
              "      padding: 0 0 0 0;\n",
              "      width: 32px;\n",
              "    }\n",
              "\n",
              "    .colab-df-convert:hover {\n",
              "      background-color: #E2EBFA;\n",
              "      box-shadow: 0px 1px 2px rgba(60, 64, 67, 0.3), 0px 1px 3px 1px rgba(60, 64, 67, 0.15);\n",
              "      fill: #174EA6;\n",
              "    }\n",
              "\n",
              "    [theme=dark] .colab-df-convert {\n",
              "      background-color: #3B4455;\n",
              "      fill: #D2E3FC;\n",
              "    }\n",
              "\n",
              "    [theme=dark] .colab-df-convert:hover {\n",
              "      background-color: #434B5C;\n",
              "      box-shadow: 0px 1px 3px 1px rgba(0, 0, 0, 0.15);\n",
              "      filter: drop-shadow(0px 1px 2px rgba(0, 0, 0, 0.3));\n",
              "      fill: #FFFFFF;\n",
              "    }\n",
              "  </style>\n",
              "\n",
              "      <script>\n",
              "        const buttonEl =\n",
              "          document.querySelector('#df-33cadb63-ebe2-46b3-9de9-03c85aa5345c button.colab-df-convert');\n",
              "        buttonEl.style.display =\n",
              "          google.colab.kernel.accessAllowed ? 'block' : 'none';\n",
              "\n",
              "        async function convertToInteractive(key) {\n",
              "          const element = document.querySelector('#df-33cadb63-ebe2-46b3-9de9-03c85aa5345c');\n",
              "          const dataTable =\n",
              "            await google.colab.kernel.invokeFunction('convertToInteractive',\n",
              "                                                     [key], {});\n",
              "          if (!dataTable) return;\n",
              "\n",
              "          const docLinkHtml = 'Like what you see? Visit the ' +\n",
              "            '<a target=\"_blank\" href=https://colab.research.google.com/notebooks/data_table.ipynb>data table notebook</a>'\n",
              "            + ' to learn more about interactive tables.';\n",
              "          element.innerHTML = '';\n",
              "          dataTable['output_type'] = 'display_data';\n",
              "          await google.colab.output.renderOutput(dataTable, element);\n",
              "          const docLink = document.createElement('div');\n",
              "          docLink.innerHTML = docLinkHtml;\n",
              "          element.appendChild(docLink);\n",
              "        }\n",
              "      </script>\n",
              "    </div>\n",
              "  </div>\n",
              "  "
            ]
          },
          "metadata": {},
          "execution_count": 233
        }
      ]
    },
    {
      "cell_type": "code",
      "source": [
        "#Delete 'name', 'email', 'phone-number', 'credit_card' attributes\n",
        "df_clean.drop(['name', 'email', 'phone-number', 'credit_card'], axis = 1, inplace=True)"
      ],
      "metadata": {
        "id": "QxIeQ46f3nux"
      },
      "execution_count": 234,
      "outputs": []
    },
    {
      "cell_type": "markdown",
      "source": [
        "\n",
        "Kolom `name, email, phone-number, credit_card` adalah kolom yang tidak memiliki pola, jadi kita dapat menghapus kolom tersebut"
      ],
      "metadata": {
        "id": "M-wswo1P3u9N"
      }
    },
    {
      "cell_type": "markdown",
      "source": [
        "# **Feature selection (Remove Redundant Column)**"
      ],
      "metadata": {
        "id": "sK7OzgW6334n"
      }
    },
    {
      "cell_type": "code",
      "source": [
        "#Delete 'stays_in_weekend_nights', 'stays_in_week_nights', 'children', & 'babies'\n",
        "df_clean.drop(['stays_in_weekend_nights', 'stays_in_week_nights', 'children', 'babies','adr','lead_time'], axis = 1, inplace=True)"
      ],
      "metadata": {
        "id": "Q1ib8QGy7rYC"
      },
      "execution_count": 235,
      "outputs": []
    },
    {
      "cell_type": "markdown",
      "source": [
        "\n",
        "*   Kolom `stays_in_weekend_nights` dan `stays_in_week_nights` dihapus karena sudah ada kolom `total_stays`\n",
        "*   Kolom `children` dan `babies` dihapus karena sudah ada kolom `kids`"
      ],
      "metadata": {
        "id": "jXNi1pGE8EkE"
      }
    },
    {
      "cell_type": "markdown",
      "source": [
        "Apakah kolom yang sudah di transformasi bisa ikut dihapus?"
      ],
      "metadata": {
        "id": "GDURqvG-74ew"
      }
    },
    {
      "cell_type": "code",
      "source": [
        "df_clean.info()"
      ],
      "metadata": {
        "colab": {
          "base_uri": "https://localhost:8080/"
        },
        "id": "DXuEJRCs7xZD",
        "outputId": "f8ae13fd-e38c-4e75-9845-3dc989c353bc"
      },
      "execution_count": 236,
      "outputs": [
        {
          "output_type": "stream",
          "name": "stdout",
          "text": [
            "<class 'pandas.core.frame.DataFrame'>\n",
            "Int64Index: 119386 entries, 0 to 119389\n",
            "Data columns (total 44 columns):\n",
            " #   Column                          Non-Null Count   Dtype  \n",
            "---  ------                          --------------   -----  \n",
            " 0   hotel                           119386 non-null  int64  \n",
            " 1   is_canceled                     119386 non-null  int64  \n",
            " 2   arrival_date_year               119386 non-null  int64  \n",
            " 3   arrival_date_month              119386 non-null  object \n",
            " 4   arrival_date_week_number        119386 non-null  int64  \n",
            " 5   arrival_date_day_of_month       119386 non-null  int64  \n",
            " 6   adults                          119386 non-null  int64  \n",
            " 7   meal                            119386 non-null  object \n",
            " 8   country                         119386 non-null  object \n",
            " 9   market_segment                  119386 non-null  object \n",
            " 10  is_repeated_guest               119386 non-null  int64  \n",
            " 11  previous_cancellations          119386 non-null  int64  \n",
            " 12  previous_bookings_not_canceled  119386 non-null  int64  \n",
            " 13  reserved_room_type              119386 non-null  int64  \n",
            " 14  assigned_room_type              119386 non-null  int64  \n",
            " 15  booking_changes                 119386 non-null  int64  \n",
            " 16  agent                           119386 non-null  int64  \n",
            " 17  days_in_waiting_list            119386 non-null  int64  \n",
            " 18  required_car_parking_spaces     119386 non-null  int64  \n",
            " 19  total_of_special_requests       119386 non-null  int64  \n",
            " 20  reservation_status_date         119386 non-null  object \n",
            " 21  lead_time_norm                  119386 non-null  float64\n",
            " 22  arrival_date_week_number_norm   119386 non-null  float64\n",
            " 23  arrival_date_day_of_month_norm  119386 non-null  float64\n",
            " 24  adr_norm                        119386 non-null  float64\n",
            " 25  distribution_channel_Corporate  119386 non-null  uint8  \n",
            " 26  distribution_channel_Direct     119386 non-null  uint8  \n",
            " 27  distribution_channel_GDS        119386 non-null  uint8  \n",
            " 28  distribution_channel_TA/TO      119386 non-null  uint8  \n",
            " 29  distribution_channel_Undefined  119386 non-null  uint8  \n",
            " 30  deposit_type_No Deposit         119386 non-null  uint8  \n",
            " 31  deposit_type_Non Refund         119386 non-null  uint8  \n",
            " 32  deposit_type_Refundable         119386 non-null  uint8  \n",
            " 33  customer_type_Contract          119386 non-null  uint8  \n",
            " 34  customer_type_Group             119386 non-null  uint8  \n",
            " 35  customer_type_Transient         119386 non-null  uint8  \n",
            " 36  customer_type_Transient-Party   119386 non-null  uint8  \n",
            " 37  reservation_status_Canceled     119386 non-null  uint8  \n",
            " 38  reservation_status_Check-Out    119386 non-null  uint8  \n",
            " 39  reservation_status_No-Show      119386 non-null  uint8  \n",
            " 40  total_stays                     119386 non-null  int64  \n",
            " 41  total_guests                    119386 non-null  float64\n",
            " 42  kids                            119386 non-null  float64\n",
            " 43  guest_location                  119386 non-null  object \n",
            "dtypes: float64(6), int64(17), object(6), uint8(15)\n",
            "memory usage: 33.1+ MB\n"
          ]
        }
      ]
    },
    {
      "cell_type": "markdown",
      "source": [
        "# **Feature Tambahan**"
      ],
      "metadata": {
        "id": "oJ2oM4J0K_cN"
      }
    },
    {
      "cell_type": "markdown",
      "source": [
        "*   Creating two dataframes, Split data Resort Hotel & City Hotel\n",
        "*   Creating new feature: `Weekday vs Weekend` \n",
        "*   Creating new feature: `Summer vs Winter` \n"
      ],
      "metadata": {
        "id": "8m5EOOdwLGWX"
      }
    },
    {
      "cell_type": "markdown",
      "source": [
        "\n",
        "\n",
        "*  **Customer Satisfaction Rate (Rating)**: \n",
        "Fitur ini perlu ditambahkan karena dapat digunakan untuk menilai kinerja pelayanan hotel dan mungkin saja berpengaruh terhadap cancellation rate. Hipotesis dari kami adalah semakin tinggi rating yang diberikan kepada hotel, maka akan semakin rendah cancellation rate.\n",
        "*  **Total Revenue:** Pada Dataset hanya disajikan data mengenai Average Daily Rate (ADR), yang didapatkan dari pendapatan kamar/kamar terisi. Fitur ini belum belum menggambarkan pengeluaran tiap customer per order. Total Revenue dapat digunakan untuk menganalisis efektifivitas pricing yang telah ditetapkan dan mungkin mungkin saja berpengaruh terhadap cancellation rate. \n",
        "\n",
        "*  **Reason For Staying:** Alasan seseorang melakukan pemesanan hotel diantaranya adalah Business Trip atau Holiday. Dengan mengetahui alasan tersebut, kedepannya dapat dibuat Marketing Campaign dengan bekerja sama dengan sebuah perusahaan atau tempat wisata di daerah setempat. Selain itu, kita juga akan mengetahui hubungan antara Reason For Staying dan Cancellation rate di hotel tersebut. \n",
        "*  **Reason For Cancelled:** Alasan seseorang melakukan pembatalan reservation hotel diantaranya adalah Change Mind, Find Better Hotel, Weather Issue, dan lain sebagainya. Faktor alasan pembatalan yang dikarenakan alasan pribadi customer dapat dimaklumi, namun jika alasan pembatalan karena find better hotel, diperlukan evaluasi kinerja ataupun fasilitas dari hotel tersebut dibandingkan dengan hotel competitor sekitar.\n",
        "\n",
        "*  **Promotion Apply:** Dengan adanya fitur ini, dapat diketahui efektifitas promosi yang sedang dijalankan, sekaligus mengetahui apakah customer yang order dengan menggunakan promo, kemungkinan cancel nya akan lebih tinggi atau rendah. \n",
        "\n",
        "\n",
        "\n",
        "\n",
        "\n"
      ],
      "metadata": {
        "id": "DIz3Oonw5Xpq"
      }
    },
    {
      "cell_type": "markdown",
      "source": [
        "# **Modelling**"
      ],
      "metadata": {
        "id": "1l1syEBjsGEL"
      }
    },
    {
      "cell_type": "markdown",
      "source": [
        "## modelling"
      ],
      "metadata": {
        "id": "ZL-3VetDeC-L"
      }
    },
    {
      "cell_type": "code",
      "source": [
        "le = LabelEncoder()\n",
        "\n",
        "columns = [\n",
        "    'guest_location','meal','market_segment'\n",
        "]\n",
        "\n",
        "for col in columns:\n",
        "    df_clean[col] = le.fit_transform(df_clean[col])"
      ],
      "metadata": {
        "id": "tSQIMnvcwmAV"
      },
      "execution_count": 237,
      "outputs": []
    },
    {
      "cell_type": "code",
      "source": [
        "df_clean.info()"
      ],
      "metadata": {
        "colab": {
          "base_uri": "https://localhost:8080/"
        },
        "id": "IQKhxb62uBD4",
        "outputId": "1e08a4b4-c185-438b-8f4c-f643da2ea60e"
      },
      "execution_count": 238,
      "outputs": [
        {
          "output_type": "stream",
          "name": "stdout",
          "text": [
            "<class 'pandas.core.frame.DataFrame'>\n",
            "Int64Index: 119386 entries, 0 to 119389\n",
            "Data columns (total 44 columns):\n",
            " #   Column                          Non-Null Count   Dtype  \n",
            "---  ------                          --------------   -----  \n",
            " 0   hotel                           119386 non-null  int64  \n",
            " 1   is_canceled                     119386 non-null  int64  \n",
            " 2   arrival_date_year               119386 non-null  int64  \n",
            " 3   arrival_date_month              119386 non-null  object \n",
            " 4   arrival_date_week_number        119386 non-null  int64  \n",
            " 5   arrival_date_day_of_month       119386 non-null  int64  \n",
            " 6   adults                          119386 non-null  int64  \n",
            " 7   meal                            119386 non-null  int64  \n",
            " 8   country                         119386 non-null  object \n",
            " 9   market_segment                  119386 non-null  int64  \n",
            " 10  is_repeated_guest               119386 non-null  int64  \n",
            " 11  previous_cancellations          119386 non-null  int64  \n",
            " 12  previous_bookings_not_canceled  119386 non-null  int64  \n",
            " 13  reserved_room_type              119386 non-null  int64  \n",
            " 14  assigned_room_type              119386 non-null  int64  \n",
            " 15  booking_changes                 119386 non-null  int64  \n",
            " 16  agent                           119386 non-null  int64  \n",
            " 17  days_in_waiting_list            119386 non-null  int64  \n",
            " 18  required_car_parking_spaces     119386 non-null  int64  \n",
            " 19  total_of_special_requests       119386 non-null  int64  \n",
            " 20  reservation_status_date         119386 non-null  object \n",
            " 21  lead_time_norm                  119386 non-null  float64\n",
            " 22  arrival_date_week_number_norm   119386 non-null  float64\n",
            " 23  arrival_date_day_of_month_norm  119386 non-null  float64\n",
            " 24  adr_norm                        119386 non-null  float64\n",
            " 25  distribution_channel_Corporate  119386 non-null  uint8  \n",
            " 26  distribution_channel_Direct     119386 non-null  uint8  \n",
            " 27  distribution_channel_GDS        119386 non-null  uint8  \n",
            " 28  distribution_channel_TA/TO      119386 non-null  uint8  \n",
            " 29  distribution_channel_Undefined  119386 non-null  uint8  \n",
            " 30  deposit_type_No Deposit         119386 non-null  uint8  \n",
            " 31  deposit_type_Non Refund         119386 non-null  uint8  \n",
            " 32  deposit_type_Refundable         119386 non-null  uint8  \n",
            " 33  customer_type_Contract          119386 non-null  uint8  \n",
            " 34  customer_type_Group             119386 non-null  uint8  \n",
            " 35  customer_type_Transient         119386 non-null  uint8  \n",
            " 36  customer_type_Transient-Party   119386 non-null  uint8  \n",
            " 37  reservation_status_Canceled     119386 non-null  uint8  \n",
            " 38  reservation_status_Check-Out    119386 non-null  uint8  \n",
            " 39  reservation_status_No-Show      119386 non-null  uint8  \n",
            " 40  total_stays                     119386 non-null  int64  \n",
            " 41  total_guests                    119386 non-null  float64\n",
            " 42  kids                            119386 non-null  float64\n",
            " 43  guest_location                  119386 non-null  int64  \n",
            "dtypes: float64(6), int64(20), object(3), uint8(15)\n",
            "memory usage: 33.1+ MB\n"
          ]
        }
      ]
    },
    {
      "cell_type": "code",
      "source": [
        "df_clean.columns.tolist()"
      ],
      "metadata": {
        "colab": {
          "base_uri": "https://localhost:8080/"
        },
        "id": "DVVIsiDRuvRD",
        "outputId": "abd53928-bc3a-4a31-e956-b60a1396e850"
      },
      "execution_count": 239,
      "outputs": [
        {
          "output_type": "execute_result",
          "data": {
            "text/plain": [
              "['hotel',\n",
              " 'is_canceled',\n",
              " 'arrival_date_year',\n",
              " 'arrival_date_month',\n",
              " 'arrival_date_week_number',\n",
              " 'arrival_date_day_of_month',\n",
              " 'adults',\n",
              " 'meal',\n",
              " 'country',\n",
              " 'market_segment',\n",
              " 'is_repeated_guest',\n",
              " 'previous_cancellations',\n",
              " 'previous_bookings_not_canceled',\n",
              " 'reserved_room_type',\n",
              " 'assigned_room_type',\n",
              " 'booking_changes',\n",
              " 'agent',\n",
              " 'days_in_waiting_list',\n",
              " 'required_car_parking_spaces',\n",
              " 'total_of_special_requests',\n",
              " 'reservation_status_date',\n",
              " 'lead_time_norm',\n",
              " 'arrival_date_week_number_norm',\n",
              " 'arrival_date_day_of_month_norm',\n",
              " 'adr_norm',\n",
              " 'distribution_channel_Corporate',\n",
              " 'distribution_channel_Direct',\n",
              " 'distribution_channel_GDS',\n",
              " 'distribution_channel_TA/TO',\n",
              " 'distribution_channel_Undefined',\n",
              " 'deposit_type_No Deposit',\n",
              " 'deposit_type_Non Refund',\n",
              " 'deposit_type_Refundable',\n",
              " 'customer_type_Contract',\n",
              " 'customer_type_Group',\n",
              " 'customer_type_Transient',\n",
              " 'customer_type_Transient-Party',\n",
              " 'reservation_status_Canceled',\n",
              " 'reservation_status_Check-Out',\n",
              " 'reservation_status_No-Show',\n",
              " 'total_stays',\n",
              " 'total_guests',\n",
              " 'kids',\n",
              " 'guest_location']"
            ]
          },
          "metadata": {},
          "execution_count": 239
        }
      ]
    },
    {
      "cell_type": "code",
      "source": [
        "cancel_corr = df_clean.corr()[\"is_canceled\"]\n",
        "cancel_corr.abs().sort_values(ascending=False)[1:]"
      ],
      "metadata": {
        "colab": {
          "base_uri": "https://localhost:8080/"
        },
        "id": "XXWvZONos8GF",
        "outputId": "7565b2b9-8ba7-4365-ed22-c85212fe5efa"
      },
      "execution_count": 240,
      "outputs": [
        {
          "output_type": "execute_result",
          "data": {
            "text/plain": [
              "reservation_status_Check-Out      1.000000\n",
              "reservation_status_Canceled       0.978433\n",
              "deposit_type_Non Refund           0.481488\n",
              "deposit_type_No Deposit           0.477942\n",
              "guest_location                    0.331560\n",
              "lead_time_norm                    0.295229\n",
              "previous_cancellations            0.270962\n",
              "total_of_special_requests         0.242783\n",
              "required_car_parking_spaces       0.197393\n",
              "booking_changes                   0.186895\n",
              "distribution_channel_TA/TO        0.176056\n",
              "assigned_room_type                0.176025\n",
              "distribution_channel_Direct       0.151609\n",
              "hotel                             0.136505\n",
              "customer_type_Transient           0.133170\n",
              "reservation_status_No-Show        0.131760\n",
              "customer_type_Transient-Party     0.124231\n",
              "previous_bookings_not_canceled    0.115401\n",
              "agent                             0.102122\n",
              "days_in_waiting_list              0.099043\n",
              "is_repeated_guest                 0.084788\n",
              "distribution_channel_Corporate    0.075420\n",
              "reserved_room_type                0.061284\n",
              "adults                            0.059604\n",
              "market_segment                    0.059314\n",
              "adr_norm                          0.052416\n",
              "total_guests                      0.045760\n",
              "customer_type_Group               0.038696\n",
              "customer_type_Contract            0.023663\n",
              "total_stays                       0.023125\n",
              "arrival_date_year                 0.016732\n",
              "meal                              0.015671\n",
              "distribution_channel_GDS          0.014889\n",
              "deposit_type_Refundable           0.011310\n",
              "arrival_date_week_number          0.008132\n",
              "arrival_date_week_number_norm     0.008132\n",
              "arrival_date_day_of_month_norm    0.006084\n",
              "arrival_date_day_of_month         0.006084\n",
              "kids                              0.002766\n",
              "distribution_channel_Undefined    0.002220\n",
              "Name: is_canceled, dtype: float64"
            ]
          },
          "metadata": {},
          "execution_count": 240
        }
      ]
    },
    {
      "cell_type": "code",
      "source": [
        "numerical = df_clean.loc[:, (df_clean.dtypes == int) | (df_clean.dtypes == float)].columns.tolist()\n",
        "numerical"
      ],
      "metadata": {
        "colab": {
          "base_uri": "https://localhost:8080/"
        },
        "id": "D_8lzKxssr0D",
        "outputId": "dced5c24-5b57-4b32-cf3f-2c0c1dd25982"
      },
      "execution_count": 241,
      "outputs": [
        {
          "output_type": "execute_result",
          "data": {
            "text/plain": [
              "['hotel',\n",
              " 'is_canceled',\n",
              " 'arrival_date_year',\n",
              " 'arrival_date_week_number',\n",
              " 'arrival_date_day_of_month',\n",
              " 'adults',\n",
              " 'meal',\n",
              " 'market_segment',\n",
              " 'is_repeated_guest',\n",
              " 'previous_cancellations',\n",
              " 'previous_bookings_not_canceled',\n",
              " 'reserved_room_type',\n",
              " 'assigned_room_type',\n",
              " 'booking_changes',\n",
              " 'agent',\n",
              " 'days_in_waiting_list',\n",
              " 'required_car_parking_spaces',\n",
              " 'total_of_special_requests',\n",
              " 'lead_time_norm',\n",
              " 'arrival_date_week_number_norm',\n",
              " 'arrival_date_day_of_month_norm',\n",
              " 'adr_norm',\n",
              " 'total_stays',\n",
              " 'total_guests',\n",
              " 'kids',\n",
              " 'guest_location']"
            ]
          },
          "metadata": {},
          "execution_count": 241
        }
      ]
    },
    {
      "cell_type": "code",
      "source": [
        "from sklearn.metrics import accuracy_score, precision_score, recall_score, f1_score, roc_auc_score, confusion_matrix, classification_report\n",
        "\n",
        "def eval_classification(model, xtrain, ytrain, xtest, ytest):\n",
        "    pred = model.predict(xtest)\n",
        "    print(\"Accuracy (Test Set): %.4f\" % accuracy_score(ytest, pred))\n",
        "    print(\"Precision (Test Set): %.4f\" % precision_score(ytest, pred))\n",
        "    print(\"Recall (Test Set): %.4f\" % recall_score(ytest, pred))\n",
        "    print(\"F1-Score (Test Set): %.4f\" % f1_score(ytest, pred))\n",
        "    \n",
        "    y_pred_proba = model.predict_proba(xtest)\n",
        "    print(\"AUC: %.4f\" % roc_auc_score(ytest, y_pred_proba[:, 1]))\n",
        "\n",
        "def show_cmatrix(ytest, pred):\n",
        "    # Creating confusion matrix \n",
        "    cm = confusion_matrix(ytest, pred)\n",
        "\n",
        "    # Putting the matrix a dataframe form  \n",
        "    cm_df = pd.DataFrame(cm, index=['Actually Not Canceled', 'Actually Canceled'],\n",
        "                 columns=['Predicted Not Canceled', 'Predicted Canceled'])\n",
        "    \n",
        "    # visualizing the confusion matrix\n",
        "    sns.set(font_scale=1.2)\n",
        "    plt.figure(figsize=(10,4))\n",
        "        \n",
        "    sns.heatmap(cm, annot=True, fmt='g', cmap=\"Blues\",xticklabels=cm_df.columns, yticklabels=cm_df.index, annot_kws={\"size\": 20})\n",
        "    plt.title(\"Confusion Matrix\", size=20)\n",
        "    plt.xlabel('Predicted Class')\n",
        "    plt.ylabel('True Class');"
      ],
      "metadata": {
        "id": "5_1njpRK5P-P"
      },
      "execution_count": 242,
      "outputs": []
    },
    {
      "cell_type": "markdown",
      "source": [
        "## **Split Data**"
      ],
      "metadata": {
        "id": "_1EoiOBR_vSL"
      }
    },
    {
      "cell_type": "code",
      "source": [
        "# Split Feature and Label\n",
        "X = df_clean[['hotel','adults','is_repeated_guest','previous_cancellations','previous_bookings_not_canceled','reserved_room_type','assigned_room_type','booking_changes','days_in_waiting_list',\n",
        " 'required_car_parking_spaces','total_of_special_requests','lead_time_norm','adr_norm',\n",
        " 'distribution_channel_Corporate',\n",
        " 'distribution_channel_Direct',\n",
        " 'distribution_channel_GDS',\n",
        " 'distribution_channel_TA/TO',\n",
        " 'distribution_channel_Undefined',\n",
        " 'deposit_type_No Deposit',\n",
        " 'deposit_type_Non Refund',\n",
        " 'deposit_type_Refundable',\n",
        " 'customer_type_Contract',\n",
        " 'customer_type_Group',\n",
        " 'customer_type_Transient',\n",
        " 'customer_type_Transient-Party','total_stays',\n",
        " 'total_guests','kids','arrival_date_year',\n",
        " 'arrival_date_week_number_norm',\n",
        " 'arrival_date_day_of_month_norm','guest_location','meal','market_segment',\n",
        "]]\n",
        "\n",
        "y = df_clean['is_canceled'] # target / label\n",
        "\n",
        "#Splitting the data into Train and Test\n",
        "from sklearn.model_selection import train_test_split \n",
        "X_train, X_test, y_train, y_test = train_test_split(X, y, test_size = 0.3, random_state = 42)"
      ],
      "metadata": {
        "id": "6POuKVzvsJ4f"
      },
      "execution_count": 243,
      "outputs": []
    },
    {
      "cell_type": "markdown",
      "source": [
        "## **LightGBM**"
      ],
      "metadata": {
        "id": "d5ajE3ovAp-R"
      }
    },
    {
      "cell_type": "markdown",
      "source": [
        "membuat model dengan parameter default"
      ],
      "metadata": {
        "id": "SmSeKAu5c9Qi"
      }
    },
    {
      "cell_type": "code",
      "source": [
        "# build the lightgbm model\n",
        "import lightgbm as lgb\n",
        "clf = lgb.LGBMClassifier()\n",
        "clf.fit(X_train, y_train)\n",
        "# predict the results\n",
        "y_pred=clf.predict(X_test)\n",
        "# view accuracy\n",
        "from sklearn.metrics import accuracy_score\n",
        "accuracy=accuracy_score(y_pred, y_test)\n",
        "print('LightGBM Model accuracy score: {0:0.4f}'.format(accuracy_score(y_test, y_pred)))\n",
        "eval_classification(clf, X_train, y_train, X_test, y_test)"
      ],
      "metadata": {
        "colab": {
          "base_uri": "https://localhost:8080/"
        },
        "id": "HdikZNPsOVqK",
        "outputId": "ad4d7b40-8bac-4c2c-cc67-48fbac5e10ec"
      },
      "execution_count": 244,
      "outputs": [
        {
          "output_type": "stream",
          "name": "stdout",
          "text": [
            "LightGBM Model accuracy score: 0.8641\n",
            "Accuracy (Test Set): 0.8641\n",
            "Precision (Test Set): 0.8494\n",
            "Recall (Test Set): 0.7716\n",
            "F1-Score (Test Set): 0.8086\n",
            "AUC: 0.9417\n"
          ]
        }
      ]
    },
    {
      "cell_type": "markdown",
      "source": [
        "hasil akurasi model jika menggunakan data train"
      ],
      "metadata": {
        "id": "o7K91H4FdA6f"
      }
    },
    {
      "cell_type": "code",
      "source": [
        "# compare train and test set accuracy\n",
        "y_pred_train = clf.predict(X_train)\n",
        "print('Training-set accuracy score: {0:0.4f}'. format(accuracy_score(y_train, y_pred_train)))"
      ],
      "metadata": {
        "colab": {
          "base_uri": "https://localhost:8080/"
        },
        "id": "r_UQ75Fqd1Eh",
        "outputId": "53bdf2da-ef72-4bf6-f033-5f41b4ac40c4"
      },
      "execution_count": 245,
      "outputs": [
        {
          "output_type": "stream",
          "name": "stdout",
          "text": [
            "Training-set accuracy score: 0.8709\n"
          ]
        }
      ]
    },
    {
      "cell_type": "markdown",
      "source": [
        "membandingkan hasil akurasi model jika menggunakan data train dan data tes"
      ],
      "metadata": {
        "id": "2LUH0lBudD7x"
      }
    },
    {
      "cell_type": "code",
      "source": [
        "# check for overfitting\n",
        "# print the scores on training and test set\n",
        "print('Training set score: {:.4f}'.format(clf.score(X_train, y_train)))\n",
        "print('Test set score: {:.4f}'.format(clf.score(X_test, y_test)))"
      ],
      "metadata": {
        "colab": {
          "base_uri": "https://localhost:8080/"
        },
        "id": "eiyZQTMPeIpE",
        "outputId": "eef8a99c-6567-42ca-f9d7-133507e6b370"
      },
      "execution_count": 246,
      "outputs": [
        {
          "output_type": "stream",
          "name": "stdout",
          "text": [
            "Training set score: 0.8709\n",
            "Test set score: 0.8641\n"
          ]
        }
      ]
    },
    {
      "cell_type": "markdown",
      "source": [
        "### Hyperparameter tuning with optuna (framework untuk hyperparameter)"
      ],
      "metadata": {
        "id": "Pe7nABZ80fUb"
      }
    },
    {
      "cell_type": "code",
      "source": [
        "train_data = lgb.Dataset(X_train, label=y_train)\n",
        "num_boost_rounds = 150"
      ],
      "metadata": {
        "id": "e21qAhkfSfmN"
      },
      "execution_count": 247,
      "outputs": []
    },
    {
      "cell_type": "markdown",
      "source": [
        "install packagenya terlebih dahulu"
      ],
      "metadata": {
        "id": "AGYwFI6fdU1A"
      }
    },
    {
      "cell_type": "code",
      "source": [
        "# hyperparameter tuning framework\n",
        "%pip install optuna"
      ],
      "metadata": {
        "colab": {
          "base_uri": "https://localhost:8080/"
        },
        "id": "K91So1iXCy1k",
        "outputId": "b6e11706-21f3-4f33-9d1a-1753f5e603cd"
      },
      "execution_count": 248,
      "outputs": [
        {
          "output_type": "stream",
          "name": "stdout",
          "text": [
            "Looking in indexes: https://pypi.org/simple, https://us-python.pkg.dev/colab-wheels/public/simple/\n",
            "Collecting optuna\n",
            "  Downloading optuna-2.10.1-py3-none-any.whl (308 kB)\n",
            "\u001b[K     |████████████████████████████████| 308 kB 14.0 MB/s \n",
            "\u001b[?25hRequirement already satisfied: tqdm in /usr/local/lib/python3.7/dist-packages (from optuna) (4.64.0)\n",
            "Collecting alembic\n",
            "  Downloading alembic-1.8.1-py3-none-any.whl (209 kB)\n",
            "\u001b[K     |████████████████████████████████| 209 kB 55.0 MB/s \n",
            "\u001b[?25hCollecting colorlog\n",
            "  Downloading colorlog-6.6.0-py2.py3-none-any.whl (11 kB)\n",
            "Requirement already satisfied: numpy in /usr/local/lib/python3.7/dist-packages (from optuna) (1.21.6)\n",
            "Requirement already satisfied: PyYAML in /usr/local/lib/python3.7/dist-packages (from optuna) (6.0)\n",
            "Collecting cliff\n",
            "  Downloading cliff-3.10.1-py3-none-any.whl (81 kB)\n",
            "\u001b[K     |████████████████████████████████| 81 kB 10.2 MB/s \n",
            "\u001b[?25hCollecting cmaes>=0.8.2\n",
            "  Downloading cmaes-0.8.2-py3-none-any.whl (15 kB)\n",
            "Requirement already satisfied: scipy!=1.4.0 in /usr/local/lib/python3.7/dist-packages (from optuna) (1.7.3)\n",
            "Requirement already satisfied: sqlalchemy>=1.1.0 in /usr/local/lib/python3.7/dist-packages (from optuna) (1.4.40)\n",
            "Requirement already satisfied: packaging>=20.0 in /usr/local/lib/python3.7/dist-packages (from optuna) (21.3)\n",
            "Requirement already satisfied: pyparsing!=3.0.5,>=2.0.2 in /usr/local/lib/python3.7/dist-packages (from packaging>=20.0->optuna) (3.0.9)\n",
            "Requirement already satisfied: importlib-metadata in /usr/local/lib/python3.7/dist-packages (from sqlalchemy>=1.1.0->optuna) (4.12.0)\n",
            "Requirement already satisfied: greenlet!=0.4.17 in /usr/local/lib/python3.7/dist-packages (from sqlalchemy>=1.1.0->optuna) (1.1.2)\n",
            "Requirement already satisfied: importlib-resources in /usr/local/lib/python3.7/dist-packages (from alembic->optuna) (5.9.0)\n",
            "Collecting Mako\n",
            "  Downloading Mako-1.2.1-py3-none-any.whl (78 kB)\n",
            "\u001b[K     |████████████████████████████████| 78 kB 8.2 MB/s \n",
            "\u001b[?25hCollecting autopage>=0.4.0\n",
            "  Downloading autopage-0.5.1-py3-none-any.whl (29 kB)\n",
            "Collecting pbr!=2.1.0,>=2.0.0\n",
            "  Downloading pbr-5.10.0-py2.py3-none-any.whl (112 kB)\n",
            "\u001b[K     |████████████████████████████████| 112 kB 58.2 MB/s \n",
            "\u001b[?25hCollecting cmd2>=1.0.0\n",
            "  Downloading cmd2-2.4.2-py3-none-any.whl (147 kB)\n",
            "\u001b[K     |████████████████████████████████| 147 kB 57.8 MB/s \n",
            "\u001b[?25hRequirement already satisfied: PrettyTable>=0.7.2 in /usr/local/lib/python3.7/dist-packages (from cliff->optuna) (3.3.0)\n",
            "Collecting stevedore>=2.0.1\n",
            "  Downloading stevedore-3.5.0-py3-none-any.whl (49 kB)\n",
            "\u001b[K     |████████████████████████████████| 49 kB 6.1 MB/s \n",
            "\u001b[?25hCollecting pyperclip>=1.6\n",
            "  Downloading pyperclip-1.8.2.tar.gz (20 kB)\n",
            "Requirement already satisfied: attrs>=16.3.0 in /usr/local/lib/python3.7/dist-packages (from cmd2>=1.0.0->cliff->optuna) (22.1.0)\n",
            "Requirement already satisfied: wcwidth>=0.1.7 in /usr/local/lib/python3.7/dist-packages (from cmd2>=1.0.0->cliff->optuna) (0.2.5)\n",
            "Requirement already satisfied: typing-extensions in /usr/local/lib/python3.7/dist-packages (from cmd2>=1.0.0->cliff->optuna) (4.1.1)\n",
            "Requirement already satisfied: zipp>=0.5 in /usr/local/lib/python3.7/dist-packages (from importlib-metadata->sqlalchemy>=1.1.0->optuna) (3.8.1)\n",
            "Requirement already satisfied: MarkupSafe>=0.9.2 in /usr/local/lib/python3.7/dist-packages (from Mako->alembic->optuna) (2.0.1)\n",
            "Building wheels for collected packages: pyperclip\n",
            "  Building wheel for pyperclip (setup.py) ... \u001b[?25l\u001b[?25hdone\n",
            "  Created wheel for pyperclip: filename=pyperclip-1.8.2-py3-none-any.whl size=11137 sha256=4d64dfefd832645a4efc44e9846a98774311b2484630bce2d8a8b94ca3effec6\n",
            "  Stored in directory: /root/.cache/pip/wheels/9f/18/84/8f69f8b08169c7bae2dde6bd7daf0c19fca8c8e500ee620a28\n",
            "Successfully built pyperclip\n",
            "Installing collected packages: pyperclip, pbr, stevedore, Mako, cmd2, autopage, colorlog, cmaes, cliff, alembic, optuna\n",
            "Successfully installed Mako-1.2.1 alembic-1.8.1 autopage-0.5.1 cliff-3.10.1 cmaes-0.8.2 cmd2-2.4.2 colorlog-6.6.0 optuna-2.10.1 pbr-5.10.0 pyperclip-1.8.2 stevedore-3.5.0\n"
          ]
        }
      ]
    },
    {
      "cell_type": "markdown",
      "source": [
        "mencoba hyperparameter tuning dengan parameter objective, metric, num_boost_round, dan learning rate. nanti optuna akan mencoba coba kombinasi parameter yang tepat dan melakukan trial sejumlah yang kita masukkan (disini n_trial yang digunakan 100)."
      ],
      "metadata": {
        "id": "DDyzER3cdZK5"
      }
    },
    {
      "cell_type": "code",
      "source": [
        "import optuna\n",
        "\n",
        "def objective_lgbm(trial):\n",
        "    \n",
        "    param = {\n",
        "        'objective': 'binary',\n",
        "        'metric': 'accuracy_score',\n",
        "        'num_leaves': trial.suggest_int('num_leaves', 10,100),\n",
        "        'num_boost_rounds': trial.suggest_int('num_boost_rounds', 100,300),\n",
        "        'learning_rate': trial.suggest_loguniform('learning_rate', 0.1,1)\n",
        "    }\n",
        "    \n",
        "    LightGBM_Manual = lgb.train(param, train_data, num_boost_rounds)\n",
        "    preds=LightGBM_Manual.predict(X_test)\n",
        "    pred_labels = np.rint(preds)\n",
        "    accuracy = round(accuracy_score(y_test, pred_labels),4)\n",
        "    return accuracy\n",
        "    \n",
        "study_lgbm = optuna.create_study(direction='maximize',study_name=\"LGBM\")\n",
        "study_lgbm.optimize(objective_lgbm, n_trials=100)"
      ],
      "metadata": {
        "colab": {
          "base_uri": "https://localhost:8080/"
        },
        "id": "Pcaz6j1EC4aN",
        "outputId": "e78fad06-cb70-4200-e880-860fab1d55c3"
      },
      "execution_count": 249,
      "outputs": [
        {
          "output_type": "stream",
          "name": "stderr",
          "text": [
            "\u001b[32m[I 2022-08-28 13:46:29,017]\u001b[0m A new study created in memory with name: LGBM\u001b[0m\n",
            "\u001b[32m[I 2022-08-28 13:46:31,740]\u001b[0m Trial 0 finished with value: 0.8686 and parameters: {'num_leaves': 76, 'num_boost_rounds': 151, 'learning_rate': 0.5742909980665357}. Best is trial 0 with value: 0.8686.\u001b[0m\n",
            "\u001b[32m[I 2022-08-28 13:46:33,471]\u001b[0m Trial 1 finished with value: 0.8582 and parameters: {'num_leaves': 16, 'num_boost_rounds': 193, 'learning_rate': 0.7111052442829112}. Best is trial 0 with value: 0.8686.\u001b[0m\n",
            "\u001b[32m[I 2022-08-28 13:46:36,756]\u001b[0m Trial 2 finished with value: 0.8328 and parameters: {'num_leaves': 91, 'num_boost_rounds': 134, 'learning_rate': 0.9494306891294825}. Best is trial 0 with value: 0.8686.\u001b[0m\n",
            "\u001b[32m[I 2022-08-28 13:46:44,731]\u001b[0m Trial 3 finished with value: 0.8747 and parameters: {'num_leaves': 52, 'num_boost_rounds': 142, 'learning_rate': 0.5136543184385115}. Best is trial 3 with value: 0.8747.\u001b[0m\n",
            "\u001b[32m[I 2022-08-28 13:46:54,254]\u001b[0m Trial 4 finished with value: 0.873 and parameters: {'num_leaves': 21, 'num_boost_rounds': 276, 'learning_rate': 0.3698883074938599}. Best is trial 3 with value: 0.8747.\u001b[0m\n",
            "\u001b[32m[I 2022-08-28 13:47:05,323]\u001b[0m Trial 5 finished with value: 0.8779 and parameters: {'num_leaves': 51, 'num_boost_rounds': 278, 'learning_rate': 0.22318203233396428}. Best is trial 5 with value: 0.8779.\u001b[0m\n",
            "\u001b[32m[I 2022-08-28 13:47:08,890]\u001b[0m Trial 6 finished with value: 0.8662 and parameters: {'num_leaves': 12, 'num_boost_rounds': 289, 'learning_rate': 0.2340975421068118}. Best is trial 5 with value: 0.8779.\u001b[0m\n",
            "\u001b[32m[I 2022-08-28 13:47:11,299]\u001b[0m Trial 7 finished with value: 0.8771 and parameters: {'num_leaves': 73, 'num_boost_rounds': 124, 'learning_rate': 0.14193896717580742}. Best is trial 5 with value: 0.8779.\u001b[0m\n",
            "\u001b[32m[I 2022-08-28 13:47:13,321]\u001b[0m Trial 8 finished with value: 0.8662 and parameters: {'num_leaves': 69, 'num_boost_rounds': 139, 'learning_rate': 0.6113184725482171}. Best is trial 5 with value: 0.8779.\u001b[0m\n",
            "\u001b[32m[I 2022-08-28 13:47:14,795]\u001b[0m Trial 9 finished with value: 0.8642 and parameters: {'num_leaves': 11, 'num_boost_rounds': 296, 'learning_rate': 0.6072176368522779}. Best is trial 5 with value: 0.8779.\u001b[0m\n",
            "\u001b[32m[I 2022-08-28 13:47:17,009]\u001b[0m Trial 10 finished with value: 0.8724 and parameters: {'num_leaves': 36, 'num_boost_rounds': 242, 'learning_rate': 0.12398952482882045}. Best is trial 5 with value: 0.8779.\u001b[0m\n",
            "\u001b[32m[I 2022-08-28 13:47:19,200]\u001b[0m Trial 11 finished with value: 0.8762 and parameters: {'num_leaves': 53, 'num_boost_rounds': 199, 'learning_rate': 0.1555334869432032}. Best is trial 5 with value: 0.8779.\u001b[0m\n",
            "\u001b[32m[I 2022-08-28 13:47:21,489]\u001b[0m Trial 12 finished with value: 0.8793 and parameters: {'num_leaves': 71, 'num_boost_rounds': 104, 'learning_rate': 0.20766950224349062}. Best is trial 12 with value: 0.8793.\u001b[0m\n",
            "\u001b[32m[I 2022-08-28 13:47:23,453]\u001b[0m Trial 13 finished with value: 0.8748 and parameters: {'num_leaves': 39, 'num_boost_rounds': 247, 'learning_rate': 0.24776314274267744}. Best is trial 12 with value: 0.8793.\u001b[0m\n",
            "\u001b[32m[I 2022-08-28 13:47:25,945]\u001b[0m Trial 14 finished with value: 0.8814 and parameters: {'num_leaves': 98, 'num_boost_rounds': 176, 'learning_rate': 0.1973670567376909}. Best is trial 14 with value: 0.8814.\u001b[0m\n",
            "\u001b[32m[I 2022-08-28 13:47:28,723]\u001b[0m Trial 15 finished with value: 0.8785 and parameters: {'num_leaves': 98, 'num_boost_rounds': 170, 'learning_rate': 0.10068944695120159}. Best is trial 14 with value: 0.8814.\u001b[0m\n",
            "\u001b[32m[I 2022-08-28 13:47:30,974]\u001b[0m Trial 16 finished with value: 0.8795 and parameters: {'num_leaves': 83, 'num_boost_rounds': 103, 'learning_rate': 0.35519506683079627}. Best is trial 14 with value: 0.8814.\u001b[0m\n",
            "\u001b[32m[I 2022-08-28 13:47:33,211]\u001b[0m Trial 17 finished with value: 0.8798 and parameters: {'num_leaves': 86, 'num_boost_rounds': 100, 'learning_rate': 0.3655005946602537}. Best is trial 14 with value: 0.8814.\u001b[0m\n",
            "\u001b[32m[I 2022-08-28 13:47:35,557]\u001b[0m Trial 18 finished with value: 0.8786 and parameters: {'num_leaves': 100, 'num_boost_rounds': 171, 'learning_rate': 0.44796735987147446}. Best is trial 14 with value: 0.8814.\u001b[0m\n",
            "\u001b[32m[I 2022-08-28 13:47:37,868]\u001b[0m Trial 19 finished with value: 0.8809 and parameters: {'num_leaves': 88, 'num_boost_rounds': 227, 'learning_rate': 0.27525356826433717}. Best is trial 14 with value: 0.8814.\u001b[0m\n",
            "\u001b[32m[I 2022-08-28 13:47:40,163]\u001b[0m Trial 20 finished with value: 0.8811 and parameters: {'num_leaves': 91, 'num_boost_rounds': 231, 'learning_rate': 0.28842238378619706}. Best is trial 14 with value: 0.8814.\u001b[0m\n",
            "\u001b[32m[I 2022-08-28 13:47:42,507]\u001b[0m Trial 21 finished with value: 0.8807 and parameters: {'num_leaves': 91, 'num_boost_rounds': 220, 'learning_rate': 0.2741385917484373}. Best is trial 14 with value: 0.8814.\u001b[0m\n",
            "\u001b[32m[I 2022-08-28 13:47:44,883]\u001b[0m Trial 22 finished with value: 0.8804 and parameters: {'num_leaves': 81, 'num_boost_rounds': 224, 'learning_rate': 0.18108819782867241}. Best is trial 14 with value: 0.8814.\u001b[0m\n",
            "\u001b[32m[I 2022-08-28 13:47:47,076]\u001b[0m Trial 23 finished with value: 0.8786 and parameters: {'num_leaves': 64, 'num_boost_rounds': 219, 'learning_rate': 0.18069081310340745}. Best is trial 14 with value: 0.8814.\u001b[0m\n",
            "\u001b[32m[I 2022-08-28 13:47:49,374]\u001b[0m Trial 24 finished with value: 0.8814 and parameters: {'num_leaves': 93, 'num_boost_rounds': 256, 'learning_rate': 0.3097598225375847}. Best is trial 14 with value: 0.8814.\u001b[0m\n",
            "\u001b[32m[I 2022-08-28 13:47:51,708]\u001b[0m Trial 25 finished with value: 0.8811 and parameters: {'num_leaves': 95, 'num_boost_rounds': 258, 'learning_rate': 0.31007734540012616}. Best is trial 14 with value: 0.8814.\u001b[0m\n",
            "\u001b[32m[I 2022-08-28 13:47:54,021]\u001b[0m Trial 26 finished with value: 0.8811 and parameters: {'num_leaves': 98, 'num_boost_rounds': 256, 'learning_rate': 0.32525296486391253}. Best is trial 14 with value: 0.8814.\u001b[0m\n",
            "\u001b[32m[I 2022-08-28 13:47:56,218]\u001b[0m Trial 27 finished with value: 0.8772 and parameters: {'num_leaves': 79, 'num_boost_rounds': 178, 'learning_rate': 0.43533740590120784}. Best is trial 14 with value: 0.8814.\u001b[0m\n",
            "\u001b[32m[I 2022-08-28 13:47:58,410]\u001b[0m Trial 28 finished with value: 0.8775 and parameters: {'num_leaves': 63, 'num_boost_rounds': 208, 'learning_rate': 0.18155853372265082}. Best is trial 14 with value: 0.8814.\u001b[0m\n",
            "\u001b[32m[I 2022-08-28 13:48:00,738]\u001b[0m Trial 29 finished with value: 0.879 and parameters: {'num_leaves': 100, 'num_boost_rounds': 262, 'learning_rate': 0.4202606653842387}. Best is trial 14 with value: 0.8814.\u001b[0m\n",
            "\u001b[32m[I 2022-08-28 13:48:03,045]\u001b[0m Trial 30 finished with value: 0.8808 and parameters: {'num_leaves': 77, 'num_boost_rounds': 156, 'learning_rate': 0.2024508467284779}. Best is trial 14 with value: 0.8814.\u001b[0m\n",
            "\u001b[32m[I 2022-08-28 13:48:05,424]\u001b[0m Trial 31 finished with value: 0.8805 and parameters: {'num_leaves': 94, 'num_boost_rounds': 257, 'learning_rate': 0.31610164852830036}. Best is trial 14 with value: 0.8814.\u001b[0m\n",
            "\u001b[32m[I 2022-08-28 13:48:07,768]\u001b[0m Trial 32 finished with value: 0.8814 and parameters: {'num_leaves': 95, 'num_boost_rounds': 268, 'learning_rate': 0.3230297480353176}. Best is trial 14 with value: 0.8814.\u001b[0m\n",
            "\u001b[32m[I 2022-08-28 13:48:09,981]\u001b[0m Trial 33 finished with value: 0.8395 and parameters: {'num_leaves': 85, 'num_boost_rounds': 271, 'learning_rate': 0.7892412808939964}. Best is trial 14 with value: 0.8814.\u001b[0m\n",
            "\u001b[32m[I 2022-08-28 13:48:13,164]\u001b[0m Trial 34 finished with value: 0.8819 and parameters: {'num_leaves': 95, 'num_boost_rounds': 189, 'learning_rate': 0.25734965115559644}. Best is trial 34 with value: 0.8819.\u001b[0m\n",
            "\u001b[32m[I 2022-08-28 13:48:15,528]\u001b[0m Trial 35 finished with value: 0.8817 and parameters: {'num_leaves': 90, 'num_boost_rounds': 188, 'learning_rate': 0.26644640119406343}. Best is trial 34 with value: 0.8819.\u001b[0m\n",
            "\u001b[32m[I 2022-08-28 13:48:17,931]\u001b[0m Trial 36 finished with value: 0.8824 and parameters: {'num_leaves': 89, 'num_boost_rounds': 187, 'learning_rate': 0.24999198004413642}. Best is trial 36 with value: 0.8824.\u001b[0m\n",
            "\u001b[32m[I 2022-08-28 13:48:20,273]\u001b[0m Trial 37 finished with value: 0.8809 and parameters: {'num_leaves': 89, 'num_boost_rounds': 188, 'learning_rate': 0.2525330106857154}. Best is trial 36 with value: 0.8824.\u001b[0m\n",
            "\u001b[32m[I 2022-08-28 13:48:22,423]\u001b[0m Trial 38 finished with value: 0.8753 and parameters: {'num_leaves': 75, 'num_boost_rounds': 207, 'learning_rate': 0.5130315223068673}. Best is trial 36 with value: 0.8824.\u001b[0m\n",
            "\u001b[32m[I 2022-08-28 13:48:24,686]\u001b[0m Trial 39 finished with value: 0.8804 and parameters: {'num_leaves': 83, 'num_boost_rounds': 152, 'learning_rate': 0.24321179754572955}. Best is trial 36 with value: 0.8824.\u001b[0m\n",
            "\u001b[32m[I 2022-08-28 13:48:26,773]\u001b[0m Trial 40 finished with value: 0.8762 and parameters: {'num_leaves': 65, 'num_boost_rounds': 187, 'learning_rate': 0.38065949129182863}. Best is trial 36 with value: 0.8824.\u001b[0m\n",
            "\u001b[32m[I 2022-08-28 13:48:29,514]\u001b[0m Trial 41 finished with value: 0.8813 and parameters: {'num_leaves': 93, 'num_boost_rounds': 162, 'learning_rate': 0.1644068991907693}. Best is trial 36 with value: 0.8824.\u001b[0m\n",
            "\u001b[32m[I 2022-08-28 13:48:34,587]\u001b[0m Trial 42 finished with value: 0.88 and parameters: {'num_leaves': 87, 'num_boost_rounds': 285, 'learning_rate': 0.22056043658455254}. Best is trial 36 with value: 0.8824.\u001b[0m\n",
            "\u001b[32m[I 2022-08-28 13:48:37,122]\u001b[0m Trial 43 finished with value: 0.8821 and parameters: {'num_leaves': 95, 'num_boost_rounds': 181, 'learning_rate': 0.19719542224845815}. Best is trial 36 with value: 0.8824.\u001b[0m\n",
            "\u001b[32m[I 2022-08-28 13:48:38,915]\u001b[0m Trial 44 finished with value: 0.8717 and parameters: {'num_leaves': 23, 'num_boost_rounds': 196, 'learning_rate': 0.26325120889491743}. Best is trial 36 with value: 0.8824.\u001b[0m\n",
            "\u001b[32m[I 2022-08-28 13:48:41,153]\u001b[0m Trial 45 finished with value: 0.8737 and parameters: {'num_leaves': 47, 'num_boost_rounds': 209, 'learning_rate': 0.131645134872509}. Best is trial 36 with value: 0.8824.\u001b[0m\n",
            "\u001b[32m[I 2022-08-28 13:48:43,391]\u001b[0m Trial 46 finished with value: 0.8799 and parameters: {'num_leaves': 79, 'num_boost_rounds': 182, 'learning_rate': 0.23640232745480552}. Best is trial 36 with value: 0.8824.\u001b[0m\n",
            "\u001b[32m[I 2022-08-28 13:48:45,923]\u001b[0m Trial 47 finished with value: 0.8802 and parameters: {'num_leaves': 91, 'num_boost_rounds': 143, 'learning_rate': 0.16525114124585638}. Best is trial 36 with value: 0.8824.\u001b[0m\n",
            "\u001b[32m[I 2022-08-28 13:48:49,964]\u001b[0m Trial 48 finished with value: 0.8806 and parameters: {'num_leaves': 96, 'num_boost_rounds': 169, 'learning_rate': 0.20588973062404684}. Best is trial 36 with value: 0.8824.\u001b[0m\n",
            "\u001b[32m[I 2022-08-28 13:48:52,016]\u001b[0m Trial 49 finished with value: 0.8781 and parameters: {'num_leaves': 58, 'num_boost_rounds': 195, 'learning_rate': 0.2944751243819652}. Best is trial 36 with value: 0.8824.\u001b[0m\n",
            "\u001b[32m[I 2022-08-28 13:48:54,189]\u001b[0m Trial 50 finished with value: 0.8783 and parameters: {'num_leaves': 69, 'num_boost_rounds': 163, 'learning_rate': 0.2276801442871567}. Best is trial 36 with value: 0.8824.\u001b[0m\n",
            "\u001b[32m[I 2022-08-28 13:48:56,578]\u001b[0m Trial 51 finished with value: 0.88 and parameters: {'num_leaves': 87, 'num_boost_rounds': 175, 'learning_rate': 0.1993208926839098}. Best is trial 36 with value: 0.8824.\u001b[0m\n",
            "\u001b[32m[I 2022-08-28 13:48:59,229]\u001b[0m Trial 52 finished with value: 0.8797 and parameters: {'num_leaves': 100, 'num_boost_rounds': 188, 'learning_rate': 0.14502680919514147}. Best is trial 36 with value: 0.8824.\u001b[0m\n",
            "\u001b[32m[I 2022-08-28 13:49:01,576]\u001b[0m Trial 53 finished with value: 0.8798 and parameters: {'num_leaves': 96, 'num_boost_rounds': 201, 'learning_rate': 0.3419900652093616}. Best is trial 36 with value: 0.8824.\u001b[0m\n",
            "\u001b[32m[I 2022-08-28 13:49:03,977]\u001b[0m Trial 54 finished with value: 0.8821 and parameters: {'num_leaves': 92, 'num_boost_rounds': 181, 'learning_rate': 0.19315714916569554}. Best is trial 36 with value: 0.8824.\u001b[0m\n",
            "\u001b[32m[I 2022-08-28 13:49:06,385]\u001b[0m Trial 55 finished with value: 0.8815 and parameters: {'num_leaves': 83, 'num_boost_rounds': 125, 'learning_rate': 0.19183225345100982}. Best is trial 36 with value: 0.8824.\u001b[0m\n",
            "\u001b[32m[I 2022-08-28 13:49:09,013]\u001b[0m Trial 56 finished with value: 0.8774 and parameters: {'num_leaves': 84, 'num_boost_rounds': 129, 'learning_rate': 0.10533935785677999}. Best is trial 36 with value: 0.8824.\u001b[0m\n",
            "\u001b[32m[I 2022-08-28 13:49:11,484]\u001b[0m Trial 57 finished with value: 0.8809 and parameters: {'num_leaves': 89, 'num_boost_rounds': 140, 'learning_rate': 0.1866543119994973}. Best is trial 36 with value: 0.8824.\u001b[0m\n",
            "\u001b[32m[I 2022-08-28 13:49:13,801]\u001b[0m Trial 58 finished with value: 0.8806 and parameters: {'num_leaves': 83, 'num_boost_rounds': 123, 'learning_rate': 0.22063010159228316}. Best is trial 36 with value: 0.8824.\u001b[0m\n",
            "\u001b[32m[I 2022-08-28 13:49:16,304]\u001b[0m Trial 59 finished with value: 0.8795 and parameters: {'num_leaves': 91, 'num_boost_rounds': 182, 'learning_rate': 0.16317113053102034}. Best is trial 36 with value: 0.8824.\u001b[0m\n",
            "\u001b[32m[I 2022-08-28 13:49:18,761]\u001b[0m Trial 60 finished with value: 0.878 and parameters: {'num_leaves': 80, 'num_boost_rounds': 215, 'learning_rate': 0.15085637551268036}. Best is trial 36 with value: 0.8824.\u001b[0m\n",
            "\u001b[32m[I 2022-08-28 13:49:21,166]\u001b[0m Trial 61 finished with value: 0.8821 and parameters: {'num_leaves': 96, 'num_boost_rounds': 116, 'learning_rate': 0.26309733689591286}. Best is trial 36 with value: 0.8824.\u001b[0m\n",
            "\u001b[32m[I 2022-08-28 13:49:23,589]\u001b[0m Trial 62 finished with value: 0.8819 and parameters: {'num_leaves': 97, 'num_boost_rounds': 114, 'learning_rate': 0.2647137794784215}. Best is trial 36 with value: 0.8824.\u001b[0m\n",
            "\u001b[32m[I 2022-08-28 13:49:25,984]\u001b[0m Trial 63 finished with value: 0.8812 and parameters: {'num_leaves': 97, 'num_boost_rounds': 110, 'learning_rate': 0.2682329665600894}. Best is trial 36 with value: 0.8824.\u001b[0m\n",
            "\u001b[32m[I 2022-08-28 13:49:28,402]\u001b[0m Trial 64 finished with value: 0.8821 and parameters: {'num_leaves': 100, 'num_boost_rounds': 113, 'learning_rate': 0.293576996289064}. Best is trial 36 with value: 0.8824.\u001b[0m\n",
            "\u001b[32m[I 2022-08-28 13:49:30,870]\u001b[0m Trial 65 finished with value: 0.8822 and parameters: {'num_leaves': 100, 'num_boost_rounds': 113, 'learning_rate': 0.28808055614651334}. Best is trial 36 with value: 0.8824.\u001b[0m\n",
            "\u001b[32m[I 2022-08-28 13:49:33,252]\u001b[0m Trial 66 finished with value: 0.8807 and parameters: {'num_leaves': 100, 'num_boost_rounds': 115, 'learning_rate': 0.2866998119787628}. Best is trial 36 with value: 0.8824.\u001b[0m\n",
            "\u001b[32m[I 2022-08-28 13:49:35,559]\u001b[0m Trial 67 finished with value: 0.88 and parameters: {'num_leaves': 92, 'num_boost_rounds': 149, 'learning_rate': 0.39644193845360187}. Best is trial 36 with value: 0.8824.\u001b[0m\n",
            "\u001b[32m[I 2022-08-28 13:49:37,969]\u001b[0m Trial 68 finished with value: 0.8819 and parameters: {'num_leaves': 100, 'num_boost_rounds': 107, 'learning_rate': 0.3395326320179607}. Best is trial 36 with value: 0.8824.\u001b[0m\n",
            "\u001b[32m[I 2022-08-28 13:49:40,447]\u001b[0m Trial 69 finished with value: 0.8816 and parameters: {'num_leaves': 94, 'num_boost_rounds': 135, 'learning_rate': 0.21802065983079577}. Best is trial 36 with value: 0.8824.\u001b[0m\n",
            "\u001b[32m[I 2022-08-28 13:49:42,347]\u001b[0m Trial 70 finished with value: 0.8752 and parameters: {'num_leaves': 30, 'num_boost_rounds': 119, 'learning_rate': 0.2425544251259885}. Best is trial 36 with value: 0.8824.\u001b[0m\n",
            "\u001b[32m[I 2022-08-28 13:49:44,654]\u001b[0m Trial 71 finished with value: 0.8803 and parameters: {'num_leaves': 94, 'num_boost_rounds': 105, 'learning_rate': 0.3460178789725521}. Best is trial 36 with value: 0.8824.\u001b[0m\n",
            "\u001b[32m[I 2022-08-28 13:49:47,098]\u001b[0m Trial 72 finished with value: 0.881 and parameters: {'num_leaves': 100, 'num_boost_rounds': 100, 'learning_rate': 0.29837699197431766}. Best is trial 36 with value: 0.8824.\u001b[0m\n",
            "\u001b[32m[I 2022-08-28 13:49:49,507]\u001b[0m Trial 73 finished with value: 0.8824 and parameters: {'num_leaves': 98, 'num_boost_rounds': 111, 'learning_rate': 0.2785680562458686}. Best is trial 36 with value: 0.8824.\u001b[0m\n",
            "\u001b[32m[I 2022-08-28 13:49:51,878]\u001b[0m Trial 74 finished with value: 0.8819 and parameters: {'num_leaves': 88, 'num_boost_rounds': 113, 'learning_rate': 0.25326243852702746}. Best is trial 36 with value: 0.8824.\u001b[0m\n",
            "\u001b[32m[I 2022-08-28 13:49:54,307]\u001b[0m Trial 75 finished with value: 0.8813 and parameters: {'num_leaves': 97, 'num_boost_rounds': 127, 'learning_rate': 0.2824806121525799}. Best is trial 36 with value: 0.8824.\u001b[0m\n",
            "\u001b[32m[I 2022-08-28 13:49:56,666]\u001b[0m Trial 76 finished with value: 0.8797 and parameters: {'num_leaves': 98, 'num_boost_rounds': 132, 'learning_rate': 0.3339017357051577}. Best is trial 36 with value: 0.8824.\u001b[0m\n",
            "\u001b[32m[I 2022-08-28 13:49:58,973]\u001b[0m Trial 77 finished with value: 0.8779 and parameters: {'num_leaves': 92, 'num_boost_rounds': 120, 'learning_rate': 0.374859468510953}. Best is trial 36 with value: 0.8824.\u001b[0m\n",
            "\u001b[32m[I 2022-08-28 13:50:01,491]\u001b[0m Trial 78 finished with value: 0.8797 and parameters: {'num_leaves': 97, 'num_boost_rounds': 114, 'learning_rate': 0.21261002016157624}. Best is trial 36 with value: 0.8824.\u001b[0m\n",
            "\u001b[32m[I 2022-08-28 13:50:03,906]\u001b[0m Trial 79 finished with value: 0.8808 and parameters: {'num_leaves': 94, 'num_boost_rounds': 238, 'learning_rate': 0.23424180201584824}. Best is trial 36 with value: 0.8824.\u001b[0m\n",
            "\u001b[32m[I 2022-08-28 13:50:06,153]\u001b[0m Trial 80 finished with value: 0.8817 and parameters: {'num_leaves': 86, 'num_boost_rounds': 164, 'learning_rate': 0.3049976688676957}. Best is trial 36 with value: 0.8824.\u001b[0m\n",
            "\u001b[32m[I 2022-08-28 13:50:08,552]\u001b[0m Trial 81 finished with value: 0.8806 and parameters: {'num_leaves': 91, 'num_boost_rounds': 111, 'learning_rate': 0.2527260878411918}. Best is trial 36 with value: 0.8824.\u001b[0m\n",
            "\u001b[32m[I 2022-08-28 13:50:10,864]\u001b[0m Trial 82 finished with value: 0.8804 and parameters: {'num_leaves': 89, 'num_boost_rounds': 117, 'learning_rate': 0.2816163304099308}. Best is trial 36 with value: 0.8824.\u001b[0m\n",
            "\u001b[32m[I 2022-08-28 13:50:13,211]\u001b[0m Trial 83 finished with value: 0.8813 and parameters: {'num_leaves': 87, 'num_boost_rounds': 202, 'learning_rate': 0.2522195128584093}. Best is trial 36 with value: 0.8824.\u001b[0m\n",
            "\u001b[32m[I 2022-08-28 13:50:15,599]\u001b[0m Trial 84 finished with value: 0.883 and parameters: {'num_leaves': 96, 'num_boost_rounds': 107, 'learning_rate': 0.26587222534561905}. Best is trial 84 with value: 0.883.\u001b[0m\n",
            "\u001b[32m[I 2022-08-28 13:50:17,945]\u001b[0m Trial 85 finished with value: 0.8786 and parameters: {'num_leaves': 98, 'num_boost_rounds': 106, 'learning_rate': 0.3594345607166813}. Best is trial 84 with value: 0.883.\u001b[0m\n",
            "\u001b[32m[I 2022-08-28 13:50:20,299]\u001b[0m Trial 86 finished with value: 0.8372 and parameters: {'num_leaves': 94, 'num_boost_rounds': 100, 'learning_rate': 0.9916075443298248}. Best is trial 84 with value: 0.883.\u001b[0m\n",
            "\u001b[32m[I 2022-08-28 13:50:22,812]\u001b[0m Trial 87 finished with value: 0.8794 and parameters: {'num_leaves': 88, 'num_boost_rounds': 134, 'learning_rate': 0.1710117381552315}. Best is trial 84 with value: 0.883.\u001b[0m\n",
            "\u001b[32m[I 2022-08-28 13:50:25,209]\u001b[0m Trial 88 finished with value: 0.8804 and parameters: {'num_leaves': 96, 'num_boost_rounds': 122, 'learning_rate': 0.3168270177669844}. Best is trial 84 with value: 0.883.\u001b[0m\n",
            "\u001b[32m[I 2022-08-28 13:50:27,177]\u001b[0m Trial 89 finished with value: 0.8775 and parameters: {'num_leaves': 45, 'num_boost_rounds': 144, 'learning_rate': 0.27822086041880856}. Best is trial 84 with value: 0.883.\u001b[0m\n",
            "\u001b[32m[I 2022-08-28 13:50:29,625]\u001b[0m Trial 90 finished with value: 0.8815 and parameters: {'num_leaves': 98, 'num_boost_rounds': 110, 'learning_rate': 0.23169915740439312}. Best is trial 84 with value: 0.883.\u001b[0m\n",
            "\u001b[32m[I 2022-08-28 13:50:32,050]\u001b[0m Trial 91 finished with value: 0.882 and parameters: {'num_leaves': 100, 'num_boost_rounds': 108, 'learning_rate': 0.3032010867302057}. Best is trial 84 with value: 0.883.\u001b[0m\n",
            "\u001b[32m[I 2022-08-28 13:50:34,414]\u001b[0m Trial 92 finished with value: 0.8801 and parameters: {'num_leaves': 93, 'num_boost_rounds': 109, 'learning_rate': 0.29927372234594085}. Best is trial 84 with value: 0.883.\u001b[0m\n",
            "\u001b[32m[I 2022-08-28 13:50:36,829]\u001b[0m Trial 93 finished with value: 0.8809 and parameters: {'num_leaves': 95, 'num_boost_rounds': 182, 'learning_rate': 0.2617493411480379}. Best is trial 84 with value: 0.883.\u001b[0m\n",
            "\u001b[32m[I 2022-08-28 13:50:39,201]\u001b[0m Trial 94 finished with value: 0.879 and parameters: {'num_leaves': 100, 'num_boost_rounds': 118, 'learning_rate': 0.4693367575646973}. Best is trial 84 with value: 0.883.\u001b[0m\n",
            "\u001b[32m[I 2022-08-28 13:50:41,685]\u001b[0m Trial 95 finished with value: 0.882 and parameters: {'num_leaves': 98, 'num_boost_rounds': 129, 'learning_rate': 0.20995066509306445}. Best is trial 84 with value: 0.883.\u001b[0m\n",
            "\u001b[32m[I 2022-08-28 13:50:44,209]\u001b[0m Trial 96 finished with value: 0.8821 and parameters: {'num_leaves': 98, 'num_boost_rounds': 124, 'learning_rate': 0.20642105212064726}. Best is trial 84 with value: 0.883.\u001b[0m\n",
            "\u001b[32m[I 2022-08-28 13:50:48,180]\u001b[0m Trial 97 finished with value: 0.8802 and parameters: {'num_leaves': 90, 'num_boost_rounds': 124, 'learning_rate': 0.19056439459902844}. Best is trial 84 with value: 0.883.\u001b[0m\n",
            "\u001b[32m[I 2022-08-28 13:50:50,623]\u001b[0m Trial 98 finished with value: 0.8827 and parameters: {'num_leaves': 92, 'num_boost_rounds': 130, 'learning_rate': 0.2117167973126823}. Best is trial 84 with value: 0.883.\u001b[0m\n",
            "\u001b[32m[I 2022-08-28 13:50:53,096]\u001b[0m Trial 99 finished with value: 0.8798 and parameters: {'num_leaves': 92, 'num_boost_rounds': 135, 'learning_rate': 0.1796457769011597}. Best is trial 84 with value: 0.883.\u001b[0m\n"
          ]
        }
      ]
    },
    {
      "cell_type": "markdown",
      "source": [
        "dari proses hyperparameter tuning dengan optima kita bisa melihat parameter apa saja yang dapat digunakan untuk mendapatkan hasil akurasi terbaik"
      ],
      "metadata": {
        "id": "VYn9Z4yPdapr"
      }
    },
    {
      "cell_type": "code",
      "source": [
        "trial_lgbm = study_lgbm.best_trial\n",
        "print(\"Model Accuracy --> \",trial_lgbm.value)\n",
        "print(\"Model's Best parameters --> \",trial_lgbm.params)"
      ],
      "metadata": {
        "colab": {
          "base_uri": "https://localhost:8080/"
        },
        "id": "9IdP2_pZE-13",
        "outputId": "830d6b08-ce58-49d5-c798-f9414ab551e6"
      },
      "execution_count": 250,
      "outputs": [
        {
          "output_type": "stream",
          "name": "stdout",
          "text": [
            "Model Accuracy -->  0.883\n",
            "Model's Best parameters -->  {'num_leaves': 96, 'num_boost_rounds': 107, 'learning_rate': 0.26587222534561905}\n"
          ]
        }
      ]
    },
    {
      "cell_type": "markdown",
      "source": [
        "membentuk model dengan best parameter diatas"
      ],
      "metadata": {
        "id": "8Bi-eKIvdnO_"
      }
    },
    {
      "cell_type": "code",
      "source": [
        "# build the lightgbm model\n",
        "model_LGBM = lgb.LGBMClassifier(**trial_lgbm.params)\n",
        "fit_model_LGBM = model_LGBM.fit(X_train,y_train)\n",
        "pred_LGBM = fit_model_LGBM.predict(X_test)\n",
        "accuracy=accuracy_score(y_test, pred_LGBM)\n",
        "print('LightGBM Model accuracy score: {0:0.4f}'.format(accuracy_score(y_test, pred_LGBM)))"
      ],
      "metadata": {
        "colab": {
          "base_uri": "https://localhost:8080/"
        },
        "id": "pibKEbn3FDHc",
        "outputId": "c3b70c8e-9c58-4b15-ede4-1f841a50596d"
      },
      "execution_count": 251,
      "outputs": [
        {
          "output_type": "stream",
          "name": "stdout",
          "text": [
            "LightGBM Model accuracy score: 0.8796\n"
          ]
        }
      ]
    },
    {
      "cell_type": "code",
      "source": [
        "y_pred_train = fit_model_LGBM.predict(X_train)\n",
        "print('Training-set accuracy score: {0:0.4f}'. format(accuracy_score(y_train, y_pred_train)))"
      ],
      "metadata": {
        "colab": {
          "base_uri": "https://localhost:8080/"
        },
        "id": "laQr_yW1yjSN",
        "outputId": "2abfc99b-6590-4816-a917-6bedfe513e1f"
      },
      "execution_count": 252,
      "outputs": [
        {
          "output_type": "stream",
          "name": "stdout",
          "text": [
            "Training-set accuracy score: 0.9295\n"
          ]
        }
      ]
    },
    {
      "cell_type": "markdown",
      "source": [
        "cek hasil akurasi model dengan data train dan test lagi untuk mengecek model tsb overfit atau tidak"
      ],
      "metadata": {
        "id": "Le_vGeX2dwDq"
      }
    },
    {
      "cell_type": "code",
      "source": [
        "# check for overfitting\n",
        "# print the scores on training and test set\n",
        "print('Training set score: {:.4f}'.format(model_LGBM.score(X_train, y_train)))\n",
        "print('Test set score: {:.4f}'.format(model_LGBM.score(X_test, y_test)))"
      ],
      "metadata": {
        "colab": {
          "base_uri": "https://localhost:8080/"
        },
        "id": "PmDq05PmzVkI",
        "outputId": "e5fcb40f-e059-43c2-adec-91708200d95f"
      },
      "execution_count": 253,
      "outputs": [
        {
          "output_type": "stream",
          "name": "stdout",
          "text": [
            "Training set score: 0.9295\n",
            "Test set score: 0.8796\n"
          ]
        }
      ]
    },
    {
      "cell_type": "code",
      "source": [
        "print(classification_report(y_test, pred_LGBM))"
      ],
      "metadata": {
        "colab": {
          "base_uri": "https://localhost:8080/"
        },
        "id": "ZsRI8T-I2odX",
        "outputId": "ca8695bd-4226-4112-bd8e-cae86f512cce"
      },
      "execution_count": 254,
      "outputs": [
        {
          "output_type": "stream",
          "name": "stdout",
          "text": [
            "              precision    recall  f1-score   support\n",
            "\n",
            "           0       0.89      0.92      0.91     22488\n",
            "           1       0.86      0.81      0.83     13328\n",
            "\n",
            "    accuracy                           0.88     35816\n",
            "   macro avg       0.87      0.87      0.87     35816\n",
            "weighted avg       0.88      0.88      0.88     35816\n",
            "\n"
          ]
        }
      ]
    },
    {
      "cell_type": "code",
      "source": [
        "print(\"Accuracy (Test Set): %.4f\" % accuracy_score(y_test, pred_LGBM))\n",
        "print(\"Precision (Test Set): %.4f\" % precision_score(y_test, pred_LGBM))\n",
        "print(\"Recall (Test Set): %.4f\" % recall_score(y_test, pred_LGBM))\n",
        "print(\"F1-Score (Test Set): %.4f\" % f1_score(y_test, pred_LGBM))"
      ],
      "metadata": {
        "colab": {
          "base_uri": "https://localhost:8080/"
        },
        "id": "P137zbfSVjXw",
        "outputId": "48f0bea7-f988-4a78-e52f-689b1a3d3cbd"
      },
      "execution_count": 255,
      "outputs": [
        {
          "output_type": "stream",
          "name": "stdout",
          "text": [
            "Accuracy (Test Set): 0.8796\n",
            "Precision (Test Set): 0.8586\n",
            "Recall (Test Set): 0.8097\n",
            "F1-Score (Test Set): 0.8334\n"
          ]
        }
      ]
    },
    {
      "cell_type": "markdown",
      "source": [
        "### feature importance"
      ],
      "metadata": {
        "id": "zjWSf3vveV-8"
      }
    },
    {
      "cell_type": "code",
      "source": [
        "ax = lgb.plot_importance(model_LGBM)\n",
        "fig = ax.figure\n",
        "fig.set_size_inches(11, 8)"
      ],
      "metadata": {
        "colab": {
          "base_uri": "https://localhost:8080/",
          "height": 513
        },
        "id": "DkWOaw9y4N2D",
        "outputId": "08604019-50fb-47a9-8156-101a8eba68fa"
      },
      "execution_count": 256,
      "outputs": [
        {
          "output_type": "display_data",
          "data": {
            "text/plain": [
              "<Figure size 792x576 with 1 Axes>"
            ],
            "image/png": "[encoded data removed]"
          },
          "metadata": {
            "needs_background": "light"
          }
        }
      ]
    },
    {
      "cell_type": "code",
      "source": [
        "ax = lgb.plot_importance(model_LGBM, max_num_features=10)\n",
        "fig = ax.figure\n",
        "fig.set_size_inches(11, 8)"
      ],
      "metadata": {
        "id": "pJZ03r-VmLtK",
        "colab": {
          "base_uri": "https://localhost:8080/",
          "height": 513
        },
        "outputId": "05230ed9-378a-4c7d-9e7a-b6d6960ad345"
      },
      "execution_count": 257,
      "outputs": [
        {
          "output_type": "display_data",
          "data": {
            "text/plain": [
              "<Figure size 792x576 with 1 Axes>"
            ],
            "image/png": "[encoded data removed]"
          },
          "metadata": {
            "needs_background": "light"
          }
        }
      ]
    },
    {
      "cell_type": "markdown",
      "source": [
        "dari feature importance ini kita dapat mengetahui lead time merupakan fitur yang paling berpengaruh"
      ],
      "metadata": {
        "id": "XFMk62iNeDMC"
      }
    },
    {
      "cell_type": "markdown",
      "source": [
        "### feature selection from feature importance\n",
        "\n"
      ],
      "metadata": {
        "id": "i7Fj120hg-1p"
      }
    },
    {
      "cell_type": "markdown",
      "source": [
        "mengambil top 10 fitur teratas dari feature importance"
      ],
      "metadata": {
        "id": "7FDnyhHxeLHi"
      }
    },
    {
      "cell_type": "code",
      "source": [
        "importance = []\n",
        "for col,score in zip(X_train.columns,model_LGBM.feature_importances_):\n",
        "    #print(col,score)\n",
        "    if(score > 200):\n",
        "      importance.append(col)\n"
      ],
      "metadata": {
        "id": "KcGlBdvcYQ3t"
      },
      "execution_count": 258,
      "outputs": []
    },
    {
      "cell_type": "code",
      "source": [
        "importance"
      ],
      "metadata": {
        "colab": {
          "base_uri": "https://localhost:8080/"
        },
        "id": "DIeFHV9GZR5B",
        "outputId": "e00b28d7-fd40-4b39-b6f2-10250fa2a0cd"
      },
      "execution_count": 259,
      "outputs": [
        {
          "output_type": "execute_result",
          "data": {
            "text/plain": [
              "['assigned_room_type',\n",
              " 'total_of_special_requests',\n",
              " 'lead_time_norm',\n",
              " 'adr_norm',\n",
              " 'total_stays',\n",
              " 'arrival_date_year',\n",
              " 'arrival_date_week_number_norm',\n",
              " 'arrival_date_day_of_month_norm',\n",
              " 'guest_location',\n",
              " 'market_segment']"
            ]
          },
          "metadata": {},
          "execution_count": 259
        }
      ]
    },
    {
      "cell_type": "markdown",
      "source": [
        "set top 10 fitur teratas menjadi data baru"
      ],
      "metadata": {
        "id": "rruqktlzeTpx"
      }
    },
    {
      "cell_type": "code",
      "source": [
        "X_train_new = X_train[importance]\n",
        "X_test_new = X_test[importance]"
      ],
      "metadata": {
        "id": "MHWVQHSbWQJv"
      },
      "execution_count": 260,
      "outputs": []
    },
    {
      "cell_type": "markdown",
      "source": [
        "### experiment dengan data baru (top 10 fitur)"
      ],
      "metadata": {
        "id": "zEnlGnYphk-1"
      }
    },
    {
      "cell_type": "markdown",
      "source": [
        "mencoba model sebelum ini dengan data baru"
      ],
      "metadata": {
        "id": "IZiMLBrNeYOc"
      }
    },
    {
      "cell_type": "code",
      "source": [
        "# parameter sama seperti sebelumnya\n",
        "model_LGBM = lgb.LGBMClassifier(**trial_lgbm.params)\n",
        "fit_model_LGBM = model_LGBM.fit(X_train_new,y_train)\n",
        "pred_LGBM = fit_model_LGBM.predict(X_test_new)\n",
        "accuracy=accuracy_score(y_test, pred_LGBM)\n",
        "print('LightGBM Model accuracy score: {0:0.4f}'.format(accuracy_score(y_test, pred_LGBM)))"
      ],
      "metadata": {
        "id": "8disUADOiijZ",
        "colab": {
          "base_uri": "https://localhost:8080/"
        },
        "outputId": "96ea8a52-f95d-4e44-91e8-17bf75472dbf"
      },
      "execution_count": 261,
      "outputs": [
        {
          "output_type": "stream",
          "name": "stdout",
          "text": [
            "LightGBM Model accuracy score: 0.8529\n"
          ]
        }
      ]
    },
    {
      "cell_type": "code",
      "source": [
        "train_data = lgb.Dataset(X_train_new, label=y_train)"
      ],
      "metadata": {
        "id": "Z5KomjNQhuYW"
      },
      "execution_count": 262,
      "outputs": []
    },
    {
      "cell_type": "markdown",
      "source": [
        "hyperparameter tuning model baru"
      ],
      "metadata": {
        "id": "3wxfARX4egXl"
      }
    },
    {
      "cell_type": "code",
      "source": [
        "import optuna\n",
        "\n",
        "def objective_lgbm(trial):\n",
        "    \n",
        "    param = {\n",
        "        'objective': 'binary',\n",
        "        'metric': 'accuracy_score',\n",
        "        'num_leaves': trial.suggest_int('num_leaves', 10,100),\n",
        "        'num_boost_rounds': trial.suggest_int('num_boost_rounds', 100,300),\n",
        "        'learning_rate': trial.suggest_loguniform('learning_rate', 0.1,1)\n",
        "    }\n",
        "    \n",
        "    LightGBM_Manual = lgb.train(param, train_data, num_boost_rounds)\n",
        "    preds=LightGBM_Manual.predict(X_test_new)\n",
        "    pred_labels = np.rint(preds)\n",
        "    accuracy = round(accuracy_score(y_test, pred_labels),4)\n",
        "    return accuracy\n",
        "    \n",
        "study_lgbm = optuna.create_study(direction='maximize',study_name=\"LGBM\")\n",
        "study_lgbm.optimize(objective_lgbm, n_trials=100)"
      ],
      "metadata": {
        "colab": {
          "base_uri": "https://localhost:8080/"
        },
        "id": "EDAjNmkph-4I",
        "outputId": "ecfc122f-52ff-4f91-bef6-1490844d2263"
      },
      "execution_count": 263,
      "outputs": [
        {
          "output_type": "stream",
          "name": "stderr",
          "text": [
            "\u001b[32m[I 2022-08-28 13:50:59,141]\u001b[0m A new study created in memory with name: LGBM\u001b[0m\n",
            "\u001b[32m[I 2022-08-28 13:51:00,447]\u001b[0m Trial 0 finished with value: 0.8417 and parameters: {'num_leaves': 24, 'num_boost_rounds': 215, 'learning_rate': 0.2138667006822729}. Best is trial 0 with value: 0.8417.\u001b[0m\n",
            "\u001b[32m[I 2022-08-28 13:51:02,650]\u001b[0m Trial 1 finished with value: 0.8458 and parameters: {'num_leaves': 22, 'num_boost_rounds': 166, 'learning_rate': 0.4184375646233898}. Best is trial 1 with value: 0.8458.\u001b[0m\n",
            "\u001b[32m[I 2022-08-28 13:51:08,231]\u001b[0m Trial 2 finished with value: 0.8465 and parameters: {'num_leaves': 67, 'num_boost_rounds': 276, 'learning_rate': 0.6121091181758433}. Best is trial 2 with value: 0.8465.\u001b[0m\n",
            "\u001b[32m[I 2022-08-28 13:51:15,874]\u001b[0m Trial 3 finished with value: 0.8359 and parameters: {'num_leaves': 25, 'num_boost_rounds': 249, 'learning_rate': 0.10180237522804231}. Best is trial 2 with value: 0.8465.\u001b[0m\n",
            "\u001b[32m[I 2022-08-28 13:51:26,038]\u001b[0m Trial 4 finished with value: 0.8544 and parameters: {'num_leaves': 90, 'num_boost_rounds': 108, 'learning_rate': 0.16202744554249265}. Best is trial 4 with value: 0.8544.\u001b[0m\n",
            "\u001b[32m[I 2022-08-28 13:51:30,467]\u001b[0m Trial 5 finished with value: 0.8226 and parameters: {'num_leaves': 30, 'num_boost_rounds': 280, 'learning_rate': 0.7746685339853844}. Best is trial 4 with value: 0.8544.\u001b[0m\n",
            "\u001b[32m[I 2022-08-28 13:51:33,039]\u001b[0m Trial 6 finished with value: 0.8472 and parameters: {'num_leaves': 52, 'num_boost_rounds': 194, 'learning_rate': 0.13102867070637672}. Best is trial 4 with value: 0.8544.\u001b[0m\n",
            "\u001b[32m[I 2022-08-28 13:51:34,658]\u001b[0m Trial 7 finished with value: 0.8113 and parameters: {'num_leaves': 92, 'num_boost_rounds': 111, 'learning_rate': 0.9038191037138318}. Best is trial 4 with value: 0.8544.\u001b[0m\n",
            "\u001b[32m[I 2022-08-28 13:51:35,930]\u001b[0m Trial 8 finished with value: 0.8223 and parameters: {'num_leaves': 48, 'num_boost_rounds': 235, 'learning_rate': 0.7916214758833765}. Best is trial 4 with value: 0.8544.\u001b[0m\n",
            "\u001b[32m[I 2022-08-28 13:51:37,346]\u001b[0m Trial 9 finished with value: 0.8463 and parameters: {'num_leaves': 49, 'num_boost_rounds': 253, 'learning_rate': 0.15596439137815613}. Best is trial 4 with value: 0.8544.\u001b[0m\n",
            "\u001b[32m[I 2022-08-28 13:51:38,919]\u001b[0m Trial 10 finished with value: 0.8557 and parameters: {'num_leaves': 90, 'num_boost_rounds': 103, 'learning_rate': 0.27498861097743527}. Best is trial 10 with value: 0.8557.\u001b[0m\n",
            "\u001b[32m[I 2022-08-28 13:51:40,558]\u001b[0m Trial 11 finished with value: 0.8554 and parameters: {'num_leaves': 100, 'num_boost_rounds': 101, 'learning_rate': 0.2784505562755791}. Best is trial 10 with value: 0.8557.\u001b[0m\n",
            "\u001b[32m[I 2022-08-28 13:51:42,168]\u001b[0m Trial 12 finished with value: 0.8556 and parameters: {'num_leaves': 100, 'num_boost_rounds': 147, 'learning_rate': 0.3083671051592771}. Best is trial 10 with value: 0.8557.\u001b[0m\n",
            "\u001b[32m[I 2022-08-28 13:51:43,614]\u001b[0m Trial 13 finished with value: 0.8545 and parameters: {'num_leaves': 75, 'num_boost_rounds': 149, 'learning_rate': 0.3976597797780521}. Best is trial 10 with value: 0.8557.\u001b[0m\n",
            "\u001b[32m[I 2022-08-28 13:51:45,103]\u001b[0m Trial 14 finished with value: 0.8546 and parameters: {'num_leaves': 78, 'num_boost_rounds': 139, 'learning_rate': 0.289343923339674}. Best is trial 10 with value: 0.8557.\u001b[0m\n",
            "\u001b[32m[I 2022-08-28 13:51:46,592]\u001b[0m Trial 15 finished with value: 0.8545 and parameters: {'num_leaves': 85, 'num_boost_rounds': 134, 'learning_rate': 0.4478715307030317}. Best is trial 10 with value: 0.8557.\u001b[0m\n",
            "\u001b[32m[I 2022-08-28 13:51:51,032]\u001b[0m Trial 16 finished with value: 0.852 and parameters: {'num_leaves': 63, 'num_boost_rounds': 175, 'learning_rate': 0.22067294743224253}. Best is trial 10 with value: 0.8557.\u001b[0m\n",
            "\u001b[32m[I 2022-08-28 13:51:57,074]\u001b[0m Trial 17 finished with value: 0.8468 and parameters: {'num_leaves': 98, 'num_boost_rounds': 128, 'learning_rate': 0.5369282248343958}. Best is trial 10 with value: 0.8557.\u001b[0m\n",
            "\u001b[32m[I 2022-08-28 13:52:03,544]\u001b[0m Trial 18 finished with value: 0.8319 and parameters: {'num_leaves': 10, 'num_boost_rounds': 165, 'learning_rate': 0.2295724111711922}. Best is trial 10 with value: 0.8557.\u001b[0m\n",
            "\u001b[32m[I 2022-08-28 13:52:05,392]\u001b[0m Trial 19 finished with value: 0.8544 and parameters: {'num_leaves': 79, 'num_boost_rounds': 191, 'learning_rate': 0.35132628330762844}. Best is trial 10 with value: 0.8557.\u001b[0m\n",
            "\u001b[32m[I 2022-08-28 13:52:06,834]\u001b[0m Trial 20 finished with value: 0.8541 and parameters: {'num_leaves': 66, 'num_boost_rounds': 122, 'learning_rate': 0.30372968762973124}. Best is trial 10 with value: 0.8557.\u001b[0m\n",
            "\u001b[32m[I 2022-08-28 13:52:08,514]\u001b[0m Trial 21 finished with value: 0.8578 and parameters: {'num_leaves': 99, 'num_boost_rounds': 101, 'learning_rate': 0.25818475777817157}. Best is trial 21 with value: 0.8578.\u001b[0m\n",
            "\u001b[32m[I 2022-08-28 13:52:10,054]\u001b[0m Trial 22 finished with value: 0.8533 and parameters: {'num_leaves': 89, 'num_boost_rounds': 154, 'learning_rate': 0.2525379978533172}. Best is trial 21 with value: 0.8578.\u001b[0m\n",
            "\u001b[32m[I 2022-08-28 13:52:11,769]\u001b[0m Trial 23 finished with value: 0.855 and parameters: {'num_leaves': 99, 'num_boost_rounds': 100, 'learning_rate': 0.1973434243534049}. Best is trial 21 with value: 0.8578.\u001b[0m\n",
            "\u001b[32m[I 2022-08-28 13:52:13,253]\u001b[0m Trial 24 finished with value: 0.8542 and parameters: {'num_leaves': 82, 'num_boost_rounds': 124, 'learning_rate': 0.34731289448457003}. Best is trial 21 with value: 0.8578.\u001b[0m\n",
            "\u001b[32m[I 2022-08-28 13:52:14,951]\u001b[0m Trial 25 finished with value: 0.8561 and parameters: {'num_leaves': 93, 'num_boost_rounds': 120, 'learning_rate': 0.1713661994237569}. Best is trial 21 with value: 0.8578.\u001b[0m\n",
            "\u001b[32m[I 2022-08-28 13:52:16,507]\u001b[0m Trial 26 finished with value: 0.8518 and parameters: {'num_leaves': 72, 'num_boost_rounds': 118, 'learning_rate': 0.17964286653462394}. Best is trial 21 with value: 0.8578.\u001b[0m\n",
            "\u001b[32m[I 2022-08-28 13:52:18,328]\u001b[0m Trial 27 finished with value: 0.8534 and parameters: {'num_leaves': 93, 'num_boost_rounds': 114, 'learning_rate': 0.13057246905526518}. Best is trial 21 with value: 0.8578.\u001b[0m\n",
            "\u001b[32m[I 2022-08-28 13:52:20,003]\u001b[0m Trial 28 finished with value: 0.8527 and parameters: {'num_leaves': 84, 'num_boost_rounds': 136, 'learning_rate': 0.13663054126078858}. Best is trial 21 with value: 0.8578.\u001b[0m\n",
            "\u001b[32m[I 2022-08-28 13:52:21,537]\u001b[0m Trial 29 finished with value: 0.8425 and parameters: {'num_leaves': 40, 'num_boost_rounds': 204, 'learning_rate': 0.1013980859350187}. Best is trial 21 with value: 0.8578.\u001b[0m\n",
            "\u001b[32m[I 2022-08-28 13:52:22,979]\u001b[0m Trial 30 finished with value: 0.8518 and parameters: {'num_leaves': 59, 'num_boost_rounds': 177, 'learning_rate': 0.2051375420237739}. Best is trial 21 with value: 0.8578.\u001b[0m\n",
            "\u001b[32m[I 2022-08-28 13:52:24,616]\u001b[0m Trial 31 finished with value: 0.8568 and parameters: {'num_leaves': 95, 'num_boost_rounds': 146, 'learning_rate': 0.2618885792183135}. Best is trial 21 with value: 0.8578.\u001b[0m\n",
            "\u001b[32m[I 2022-08-28 13:52:26,219]\u001b[0m Trial 32 finished with value: 0.856 and parameters: {'num_leaves': 93, 'num_boost_rounds': 103, 'learning_rate': 0.23942143542276628}. Best is trial 21 with value: 0.8578.\u001b[0m\n",
            "\u001b[32m[I 2022-08-28 13:52:27,858]\u001b[0m Trial 33 finished with value: 0.8557 and parameters: {'num_leaves': 92, 'num_boost_rounds': 160, 'learning_rate': 0.23970423214118375}. Best is trial 21 with value: 0.8578.\u001b[0m\n",
            "\u001b[32m[I 2022-08-28 13:52:29,607]\u001b[0m Trial 34 finished with value: 0.8536 and parameters: {'num_leaves': 95, 'num_boost_rounds': 300, 'learning_rate': 0.18381715963062872}. Best is trial 21 with value: 0.8578.\u001b[0m\n",
            "\u001b[32m[I 2022-08-28 13:52:31,203]\u001b[0m Trial 35 finished with value: 0.8512 and parameters: {'num_leaves': 72, 'num_boost_rounds': 118, 'learning_rate': 0.15701523848331336}. Best is trial 21 with value: 0.8578.\u001b[0m\n",
            "\u001b[32m[I 2022-08-28 13:52:32,755]\u001b[0m Trial 36 finished with value: 0.8555 and parameters: {'num_leaves': 86, 'num_boost_rounds': 142, 'learning_rate': 0.2552406301561921}. Best is trial 21 with value: 0.8578.\u001b[0m\n",
            "\u001b[32m[I 2022-08-28 13:52:34,353]\u001b[0m Trial 37 finished with value: 0.8547 and parameters: {'num_leaves': 96, 'num_boost_rounds': 130, 'learning_rate': 0.3701246542238943}. Best is trial 21 with value: 0.8578.\u001b[0m\n",
            "\u001b[32m[I 2022-08-28 13:52:35,950]\u001b[0m Trial 38 finished with value: 0.8536 and parameters: {'num_leaves': 87, 'num_boost_rounds': 115, 'learning_rate': 0.2117618178594047}. Best is trial 21 with value: 0.8578.\u001b[0m\n",
            "\u001b[32m[I 2022-08-28 13:52:37,654]\u001b[0m Trial 39 finished with value: 0.8502 and parameters: {'num_leaves': 79, 'num_boost_rounds': 100, 'learning_rate': 0.12030170720667159}. Best is trial 21 with value: 0.8578.\u001b[0m\n",
            "\u001b[32m[I 2022-08-28 13:52:39,296]\u001b[0m Trial 40 finished with value: 0.8539 and parameters: {'num_leaves': 95, 'num_boost_rounds': 111, 'learning_rate': 0.4683087593961768}. Best is trial 21 with value: 0.8578.\u001b[0m\n",
            "\u001b[32m[I 2022-08-28 13:52:40,977]\u001b[0m Trial 41 finished with value: 0.8551 and parameters: {'num_leaves': 91, 'num_boost_rounds': 162, 'learning_rate': 0.17455619295351713}. Best is trial 21 with value: 0.8578.\u001b[0m\n",
            "\u001b[32m[I 2022-08-28 13:52:42,640]\u001b[0m Trial 42 finished with value: 0.856 and parameters: {'num_leaves': 93, 'num_boost_rounds': 224, 'learning_rate': 0.23050029911668954}. Best is trial 21 with value: 0.8578.\u001b[0m\n",
            "\u001b[32m[I 2022-08-28 13:52:44,255]\u001b[0m Trial 43 finished with value: 0.8549 and parameters: {'num_leaves': 82, 'num_boost_rounds': 215, 'learning_rate': 0.19500656719195625}. Best is trial 21 with value: 0.8578.\u001b[0m\n",
            "\u001b[32m[I 2022-08-28 13:52:47,347]\u001b[0m Trial 44 finished with value: 0.8552 and parameters: {'num_leaves': 89, 'num_boost_rounds': 235, 'learning_rate': 0.24387305976693052}. Best is trial 21 with value: 0.8578.\u001b[0m\n",
            "\u001b[32m[I 2022-08-28 13:52:48,969]\u001b[0m Trial 45 finished with value: 0.8539 and parameters: {'num_leaves': 95, 'num_boost_rounds': 232, 'learning_rate': 0.26249392730877164}. Best is trial 21 with value: 0.8578.\u001b[0m\n",
            "\u001b[32m[I 2022-08-28 13:52:50,271]\u001b[0m Trial 46 finished with value: 0.8477 and parameters: {'num_leaves': 40, 'num_boost_rounds': 251, 'learning_rate': 0.31472656104662494}. Best is trial 21 with value: 0.8578.\u001b[0m\n",
            "\u001b[32m[I 2022-08-28 13:52:52,085]\u001b[0m Trial 47 finished with value: 0.8543 and parameters: {'num_leaves': 99, 'num_boost_rounds': 267, 'learning_rate': 0.1460209899373355}. Best is trial 21 with value: 0.8578.\u001b[0m\n",
            "\u001b[32m[I 2022-08-28 13:52:55,685]\u001b[0m Trial 48 finished with value: 0.851 and parameters: {'num_leaves': 74, 'num_boost_rounds': 216, 'learning_rate': 0.16625556975956146}. Best is trial 21 with value: 0.8578.\u001b[0m\n",
            "\u001b[32m[I 2022-08-28 13:52:58,263]\u001b[0m Trial 49 finished with value: 0.8552 and parameters: {'num_leaves': 87, 'num_boost_rounds': 108, 'learning_rate': 0.22565257559523344}. Best is trial 21 with value: 0.8578.\u001b[0m\n",
            "\u001b[32m[I 2022-08-28 13:52:59,919]\u001b[0m Trial 50 finished with value: 0.8548 and parameters: {'num_leaves': 93, 'num_boost_rounds': 180, 'learning_rate': 0.2821755370706397}. Best is trial 21 with value: 0.8578.\u001b[0m\n",
            "\u001b[32m[I 2022-08-28 13:53:01,569]\u001b[0m Trial 51 finished with value: 0.8559 and parameters: {'num_leaves': 92, 'num_boost_rounds': 157, 'learning_rate': 0.23711536412875897}. Best is trial 21 with value: 0.8578.\u001b[0m\n",
            "\u001b[32m[I 2022-08-28 13:53:03,184]\u001b[0m Trial 52 finished with value: 0.8543 and parameters: {'num_leaves': 100, 'num_boost_rounds': 148, 'learning_rate': 0.32994513079129073}. Best is trial 21 with value: 0.8578.\u001b[0m\n",
            "\u001b[32m[I 2022-08-28 13:53:04,715]\u001b[0m Trial 53 finished with value: 0.8555 and parameters: {'num_leaves': 83, 'num_boost_rounds': 129, 'learning_rate': 0.27759654955381935}. Best is trial 21 with value: 0.8578.\u001b[0m\n",
            "\u001b[32m[I 2022-08-28 13:53:06,372]\u001b[0m Trial 54 finished with value: 0.8572 and parameters: {'num_leaves': 97, 'num_boost_rounds': 224, 'learning_rate': 0.2224663550264983}. Best is trial 21 with value: 0.8578.\u001b[0m\n",
            "\u001b[32m[I 2022-08-28 13:53:08,088]\u001b[0m Trial 55 finished with value: 0.8561 and parameters: {'num_leaves': 96, 'num_boost_rounds': 224, 'learning_rate': 0.19180044630135926}. Best is trial 21 with value: 0.8578.\u001b[0m\n",
            "\u001b[32m[I 2022-08-28 13:53:09,828]\u001b[0m Trial 56 finished with value: 0.8557 and parameters: {'num_leaves': 97, 'num_boost_rounds': 228, 'learning_rate': 0.1934415606084787}. Best is trial 21 with value: 0.8578.\u001b[0m\n",
            "\u001b[32m[I 2022-08-28 13:53:11,454]\u001b[0m Trial 57 finished with value: 0.8535 and parameters: {'num_leaves': 88, 'num_boost_rounds': 242, 'learning_rate': 0.2132595202818104}. Best is trial 21 with value: 0.8578.\u001b[0m\n",
            "\u001b[32m[I 2022-08-28 13:53:13,330]\u001b[0m Trial 58 finished with value: 0.8524 and parameters: {'num_leaves': 100, 'num_boost_rounds': 222, 'learning_rate': 0.11400181342311651}. Best is trial 21 with value: 0.8578.\u001b[0m\n",
            "\u001b[32m[I 2022-08-28 13:53:14,483]\u001b[0m Trial 59 finished with value: 0.8299 and parameters: {'num_leaves': 13, 'num_boost_rounds': 202, 'learning_rate': 0.14766166307865106}. Best is trial 21 with value: 0.8578.\u001b[0m\n",
            "\u001b[32m[I 2022-08-28 13:53:16,217]\u001b[0m Trial 60 finished with value: 0.8553 and parameters: {'num_leaves': 96, 'num_boost_rounds': 217, 'learning_rate': 0.17064070596100775}. Best is trial 21 with value: 0.8578.\u001b[0m\n",
            "\u001b[32m[I 2022-08-28 13:53:17,839]\u001b[0m Trial 61 finished with value: 0.8549 and parameters: {'num_leaves': 90, 'num_boost_rounds': 261, 'learning_rate': 0.2162569022873888}. Best is trial 21 with value: 0.8578.\u001b[0m\n",
            "\u001b[32m[I 2022-08-28 13:53:19,479]\u001b[0m Trial 62 finished with value: 0.8566 and parameters: {'num_leaves': 94, 'num_boost_rounds': 245, 'learning_rate': 0.29720006476766037}. Best is trial 21 with value: 0.8578.\u001b[0m\n",
            "\u001b[32m[I 2022-08-28 13:53:21,167]\u001b[0m Trial 63 finished with value: 0.8562 and parameters: {'num_leaves': 97, 'num_boost_rounds': 245, 'learning_rate': 0.2744285657078321}. Best is trial 21 with value: 0.8578.\u001b[0m\n",
            "\u001b[32m[I 2022-08-28 13:53:22,802]\u001b[0m Trial 64 finished with value: 0.8569 and parameters: {'num_leaves': 97, 'num_boost_rounds': 243, 'learning_rate': 0.2976607804786285}. Best is trial 21 with value: 0.8578.\u001b[0m\n",
            "\u001b[32m[I 2022-08-28 13:53:24,424]\u001b[0m Trial 65 finished with value: 0.8534 and parameters: {'num_leaves': 97, 'num_boost_rounds': 244, 'learning_rate': 0.40647440031618787}. Best is trial 21 with value: 0.8578.\u001b[0m\n",
            "\u001b[32m[I 2022-08-28 13:53:25,943]\u001b[0m Trial 66 finished with value: 0.8542 and parameters: {'num_leaves': 85, 'num_boost_rounds': 242, 'learning_rate': 0.2996412213864381}. Best is trial 21 with value: 0.8578.\u001b[0m\n",
            "\u001b[32m[I 2022-08-28 13:53:27,446]\u001b[0m Trial 67 finished with value: 0.8534 and parameters: {'num_leaves': 81, 'num_boost_rounds': 277, 'learning_rate': 0.36919506996831203}. Best is trial 21 with value: 0.8578.\u001b[0m\n",
            "\u001b[32m[I 2022-08-28 13:53:29,004]\u001b[0m Trial 68 finished with value: 0.8556 and parameters: {'num_leaves': 90, 'num_boost_rounds': 261, 'learning_rate': 0.3372051539469801}. Best is trial 21 with value: 0.8578.\u001b[0m\n",
            "\u001b[32m[I 2022-08-28 13:53:30,674]\u001b[0m Trial 69 finished with value: 0.8561 and parameters: {'num_leaves': 100, 'num_boost_rounds': 256, 'learning_rate': 0.2683017787156021}. Best is trial 21 with value: 0.8578.\u001b[0m\n",
            "\u001b[32m[I 2022-08-28 13:53:32,363]\u001b[0m Trial 70 finished with value: 0.8568 and parameters: {'num_leaves': 100, 'num_boost_rounds': 257, 'learning_rate': 0.266317090214196}. Best is trial 21 with value: 0.8578.\u001b[0m\n",
            "\u001b[32m[I 2022-08-28 13:53:34,998]\u001b[0m Trial 71 finished with value: 0.8567 and parameters: {'num_leaves': 98, 'num_boost_rounds': 270, 'learning_rate': 0.2942241804473159}. Best is trial 21 with value: 0.8578.\u001b[0m\n",
            "\u001b[32m[I 2022-08-28 13:53:37,131]\u001b[0m Trial 72 finished with value: 0.8565 and parameters: {'num_leaves': 98, 'num_boost_rounds': 271, 'learning_rate': 0.2950655985645731}. Best is trial 21 with value: 0.8578.\u001b[0m\n",
            "\u001b[32m[I 2022-08-28 13:53:38,757]\u001b[0m Trial 73 finished with value: 0.8563 and parameters: {'num_leaves': 98, 'num_boost_rounds': 294, 'learning_rate': 0.32156085963192027}. Best is trial 21 with value: 0.8578.\u001b[0m\n",
            "\u001b[32m[I 2022-08-28 13:53:40,378]\u001b[0m Trial 74 finished with value: 0.8564 and parameters: {'num_leaves': 94, 'num_boost_rounds': 271, 'learning_rate': 0.294831797624189}. Best is trial 21 with value: 0.8578.\u001b[0m\n",
            "\u001b[32m[I 2022-08-28 13:53:42,053]\u001b[0m Trial 75 finished with value: 0.856 and parameters: {'num_leaves': 100, 'num_boost_rounds': 282, 'learning_rate': 0.2533226692769106}. Best is trial 21 with value: 0.8578.\u001b[0m\n",
            "\u001b[32m[I 2022-08-28 13:53:43,413]\u001b[0m Trial 76 finished with value: 0.8506 and parameters: {'num_leaves': 55, 'num_boost_rounds': 286, 'learning_rate': 0.3736805067558587}. Best is trial 21 with value: 0.8578.\u001b[0m\n",
            "\u001b[32m[I 2022-08-28 13:53:44,989]\u001b[0m Trial 77 finished with value: 0.856 and parameters: {'num_leaves': 90, 'num_boost_rounds': 269, 'learning_rate': 0.3072204426048209}. Best is trial 21 with value: 0.8578.\u001b[0m\n",
            "\u001b[32m[I 2022-08-28 13:53:46,577]\u001b[0m Trial 78 finished with value: 0.8527 and parameters: {'num_leaves': 94, 'num_boost_rounds': 208, 'learning_rate': 0.45516682088334837}. Best is trial 21 with value: 0.8578.\u001b[0m\n",
            "\u001b[32m[I 2022-08-28 13:53:48,146]\u001b[0m Trial 79 finished with value: 0.7965 and parameters: {'num_leaves': 98, 'num_boost_rounds': 256, 'learning_rate': 0.9869083808896575}. Best is trial 21 with value: 0.8578.\u001b[0m\n",
            "\u001b[32m[I 2022-08-28 13:53:49,372]\u001b[0m Trial 80 finished with value: 0.8448 and parameters: {'num_leaves': 29, 'num_boost_rounds': 236, 'learning_rate': 0.2926491067777222}. Best is trial 21 with value: 0.8578.\u001b[0m\n",
            "\u001b[32m[I 2022-08-28 13:53:50,969]\u001b[0m Trial 81 finished with value: 0.8561 and parameters: {'num_leaves': 94, 'num_boost_rounds': 270, 'learning_rate': 0.35030181960822127}. Best is trial 21 with value: 0.8578.\u001b[0m\n",
            "\u001b[32m[I 2022-08-28 13:53:52,595]\u001b[0m Trial 82 finished with value: 0.8567 and parameters: {'num_leaves': 91, 'num_boost_rounds': 262, 'learning_rate': 0.29172492302650616}. Best is trial 21 with value: 0.8578.\u001b[0m\n",
            "\u001b[32m[I 2022-08-28 13:53:54,205]\u001b[0m Trial 83 finished with value: 0.8568 and parameters: {'num_leaves': 91, 'num_boost_rounds': 260, 'learning_rate': 0.25196818192618103}. Best is trial 21 with value: 0.8578.\u001b[0m\n",
            "\u001b[32m[I 2022-08-28 13:53:55,747]\u001b[0m Trial 84 finished with value: 0.8559 and parameters: {'num_leaves': 88, 'num_boost_rounds': 249, 'learning_rate': 0.26438755171007766}. Best is trial 21 with value: 0.8578.\u001b[0m\n",
            "\u001b[32m[I 2022-08-28 13:53:57,355]\u001b[0m Trial 85 finished with value: 0.854 and parameters: {'num_leaves': 91, 'num_boost_rounds': 262, 'learning_rate': 0.25031039542598854}. Best is trial 21 with value: 0.8578.\u001b[0m\n",
            "\u001b[32m[I 2022-08-28 13:53:58,610]\u001b[0m Trial 86 finished with value: 0.8477 and parameters: {'num_leaves': 41, 'num_boost_rounds': 192, 'learning_rate': 0.3220947610067905}. Best is trial 21 with value: 0.8578.\u001b[0m\n",
            "\u001b[32m[I 2022-08-28 13:54:00,176]\u001b[0m Trial 87 finished with value: 0.8546 and parameters: {'num_leaves': 86, 'num_boost_rounds': 255, 'learning_rate': 0.22601100814284059}. Best is trial 21 with value: 0.8578.\u001b[0m\n",
            "\u001b[32m[I 2022-08-28 13:54:01,807]\u001b[0m Trial 88 finished with value: 0.8562 and parameters: {'num_leaves': 95, 'num_boost_rounds': 238, 'learning_rate': 0.27707413453053814}. Best is trial 21 with value: 0.8578.\u001b[0m\n",
            "\u001b[32m[I 2022-08-28 13:54:03,473]\u001b[0m Trial 89 finished with value: 0.8557 and parameters: {'num_leaves': 92, 'num_boost_rounds': 265, 'learning_rate': 0.24239290006184935}. Best is trial 21 with value: 0.8578.\u001b[0m\n",
            "\u001b[32m[I 2022-08-28 13:54:04,962]\u001b[0m Trial 90 finished with value: 0.8315 and parameters: {'num_leaves': 84, 'num_boost_rounds': 170, 'learning_rate': 0.768683754734876}. Best is trial 21 with value: 0.8578.\u001b[0m\n",
            "\u001b[32m[I 2022-08-28 13:54:06,590]\u001b[0m Trial 91 finished with value: 0.8565 and parameters: {'num_leaves': 98, 'num_boost_rounds': 273, 'learning_rate': 0.29086246390362563}. Best is trial 21 with value: 0.8578.\u001b[0m\n",
            "\u001b[32m[I 2022-08-28 13:54:08,220]\u001b[0m Trial 92 finished with value: 0.8553 and parameters: {'num_leaves': 97, 'num_boost_rounds': 287, 'learning_rate': 0.2595299288630421}. Best is trial 21 with value: 0.8578.\u001b[0m\n",
            "\u001b[32m[I 2022-08-28 13:54:09,821]\u001b[0m Trial 93 finished with value: 0.8549 and parameters: {'num_leaves': 100, 'num_boost_rounds': 250, 'learning_rate': 0.3384569587764596}. Best is trial 21 with value: 0.8578.\u001b[0m\n",
            "\u001b[32m[I 2022-08-28 13:54:11,484]\u001b[0m Trial 94 finished with value: 0.857 and parameters: {'num_leaves': 95, 'num_boost_rounds': 279, 'learning_rate': 0.31067528055840093}. Best is trial 21 with value: 0.8578.\u001b[0m\n",
            "\u001b[32m[I 2022-08-28 13:54:13,001]\u001b[0m Trial 95 finished with value: 0.8431 and parameters: {'num_leaves': 77, 'num_boost_rounds': 279, 'learning_rate': 0.3848572306351271}. Best is trial 21 with value: 0.8578.\u001b[0m\n",
            "\u001b[32m[I 2022-08-28 13:54:14,639]\u001b[0m Trial 96 finished with value: 0.8567 and parameters: {'num_leaves': 88, 'num_boost_rounds': 259, 'learning_rate': 0.20805593707075137}. Best is trial 21 with value: 0.8578.\u001b[0m\n",
            "\u001b[32m[I 2022-08-28 13:54:16,225]\u001b[0m Trial 97 finished with value: 0.8557 and parameters: {'num_leaves': 89, 'num_boost_rounds': 258, 'learning_rate': 0.23599523786828294}. Best is trial 21 with value: 0.8578.\u001b[0m\n",
            "\u001b[32m[I 2022-08-28 13:54:17,695]\u001b[0m Trial 98 finished with value: 0.8527 and parameters: {'num_leaves': 67, 'num_boost_rounds': 285, 'learning_rate': 0.20281964358071553}. Best is trial 21 with value: 0.8578.\u001b[0m\n",
            "\u001b[32m[I 2022-08-28 13:54:19,302]\u001b[0m Trial 99 finished with value: 0.8546 and parameters: {'num_leaves': 92, 'num_boost_rounds': 265, 'learning_rate': 0.31497559098996253}. Best is trial 21 with value: 0.8578.\u001b[0m\n"
          ]
        }
      ]
    },
    {
      "cell_type": "code",
      "source": [
        "trial_lgbm = study_lgbm.best_trial\n",
        "print(\"Model Accuracy --> \",trial_lgbm.value)\n",
        "print(\"Model's Best parameters --> \",trial_lgbm.params)"
      ],
      "metadata": {
        "colab": {
          "base_uri": "https://localhost:8080/"
        },
        "id": "8sh1TGtyiKhz",
        "outputId": "1057cb19-c4fa-4d39-8564-55ed53924ab8"
      },
      "execution_count": 264,
      "outputs": [
        {
          "output_type": "stream",
          "name": "stdout",
          "text": [
            "Model Accuracy -->  0.8578\n",
            "Model's Best parameters -->  {'num_leaves': 99, 'num_boost_rounds': 101, 'learning_rate': 0.25818475777817157}\n"
          ]
        }
      ]
    },
    {
      "cell_type": "markdown",
      "source": [
        "membuat model baru setelah hyperparameter tuning"
      ],
      "metadata": {
        "id": "AOQvDnKeek3Y"
      }
    },
    {
      "cell_type": "code",
      "source": [
        "# build the lightgbm model\n",
        "model_LGBM = lgb.LGBMClassifier(**trial_lgbm.params)\n",
        "fit_model_LGBM = model_LGBM.fit(X_train_new,y_train)\n",
        "pred_LGBM = fit_model_LGBM.predict(X_test_new)\n",
        "accuracy=accuracy_score(y_test, pred_LGBM)\n",
        "print('LightGBM Model accuracy score: {0:0.4f}'.format(accuracy_score(y_test, pred_LGBM)))"
      ],
      "metadata": {
        "colab": {
          "base_uri": "https://localhost:8080/"
        },
        "id": "2QzVNpqdivSp",
        "outputId": "5c98a630-418a-4906-8327-d61bde6be84d"
      },
      "execution_count": 265,
      "outputs": [
        {
          "output_type": "stream",
          "name": "stdout",
          "text": [
            "LightGBM Model accuracy score: 0.8541\n"
          ]
        }
      ]
    },
    {
      "cell_type": "code",
      "source": [
        "# compare train and test set accuracy\n",
        "y_pred_train = fit_model_LGBM.predict(X_train_new)\n",
        "print('Training-set accuracy score: {0:0.4f}'. format(accuracy_score(y_train, y_pred_train)))"
      ],
      "metadata": {
        "colab": {
          "base_uri": "https://localhost:8080/"
        },
        "id": "F6V65fF4i-Av",
        "outputId": "8f904804-8c6d-4606-8bac-88bad52b5e3d"
      },
      "execution_count": 266,
      "outputs": [
        {
          "output_type": "stream",
          "name": "stdout",
          "text": [
            "Training-set accuracy score: 0.9021\n"
          ]
        }
      ]
    },
    {
      "cell_type": "markdown",
      "source": [
        "cek overfit"
      ],
      "metadata": {
        "id": "crZ58Bcden2-"
      }
    },
    {
      "cell_type": "code",
      "source": [
        "# accuracy\n",
        "# check for overfitting\n",
        "# print the scores on training and test set\n",
        "print('Training set score: {:.4f}'.format(model_LGBM.score(X_train_new, y_train)))\n",
        "print('Test set score: {:.4f}'.format(model_LGBM.score(X_test_new, y_test)))"
      ],
      "metadata": {
        "colab": {
          "base_uri": "https://localhost:8080/"
        },
        "id": "m9DrMGWyerdv",
        "outputId": "8b0b3292-9bd1-43a0-d093-c5fd8de76104"
      },
      "execution_count": 267,
      "outputs": [
        {
          "output_type": "stream",
          "name": "stdout",
          "text": [
            "Training set score: 0.9021\n",
            "Test set score: 0.8541\n"
          ]
        }
      ]
    },
    {
      "cell_type": "code",
      "source": [
        "# precision recall f1-score\n",
        "print(\"Precision (Test Set): %.4f\" % precision_score(y_test, pred_LGBM))\n",
        "print(\"Recall (Test Set): %.4f\" % recall_score(y_test, pred_LGBM))\n",
        "print(\"F1-Score (Test Set): %.4f\" % f1_score(y_test, pred_LGBM))"
      ],
      "metadata": {
        "colab": {
          "base_uri": "https://localhost:8080/"
        },
        "id": "Y-CLCTwzjNXj",
        "outputId": "65a402ab-baf0-4dee-e7dc-3a78bf4089ac"
      },
      "execution_count": 268,
      "outputs": [
        {
          "output_type": "stream",
          "name": "stdout",
          "text": [
            "Precision (Test Set): 0.8312\n",
            "Recall (Test Set): 0.7628\n",
            "F1-Score (Test Set): 0.7955\n"
          ]
        }
      ]
    },
    {
      "cell_type": "markdown",
      "source": [
        "**Random Forest**"
      ],
      "metadata": {
        "id": "rxIfAK5MsSNQ"
      }
    },
    {
      "cell_type": "code",
      "source": [
        "# Split Feature and Label\n",
        "X = df_clean[['hotel','adults','is_repeated_guest','previous_cancellations','previous_bookings_not_canceled','reserved_room_type','assigned_room_type','booking_changes','days_in_waiting_list',\n",
        " 'required_car_parking_spaces','total_of_special_requests','lead_time_norm','adr_norm',\n",
        " 'distribution_channel_Corporate',\n",
        " 'distribution_channel_Direct',\n",
        " 'distribution_channel_GDS',\n",
        " 'distribution_channel_TA/TO',\n",
        " 'distribution_channel_Undefined',\n",
        " 'deposit_type_No Deposit',\n",
        " 'deposit_type_Non Refund',\n",
        " 'deposit_type_Refundable',\n",
        " 'customer_type_Contract',\n",
        " 'customer_type_Group',\n",
        " 'customer_type_Transient',\n",
        " 'customer_type_Transient-Party','total_stays',\n",
        " 'total_guests','kids','arrival_date_year',\n",
        " 'arrival_date_week_number_norm',\n",
        " 'arrival_date_day_of_month_norm','guest_location','meal','market_segment',\n",
        "]]\n",
        "\n",
        "y = df_clean['is_canceled'] # target / label\n",
        "\n",
        "#Splitting the data into Train and Test\n",
        "from sklearn.model_selection import train_test_split \n",
        "X_train, X_test, y_train, y_test = train_test_split(X, y, test_size = 0.3, random_state = 42)"
      ],
      "metadata": {
        "id": "NEnERCMWqXyy"
      },
      "execution_count": 269,
      "outputs": []
    },
    {
      "cell_type": "code",
      "source": [
        "from sklearn.ensemble import RandomForestClassifier\n",
        "\n",
        "rf = RandomForestClassifier()\n",
        "rf.fit(X_train, y_train)\n",
        "pred = rf.predict(X_test)\n",
        "eval_classification(rf, X_train, y_train, X_test, y_test)"
      ],
      "metadata": {
        "colab": {
          "base_uri": "https://localhost:8080/"
        },
        "id": "v0LvJUNRrd-q",
        "outputId": "fc651cb7-9a44-4d23-b999-fa9bc949dcc6"
      },
      "execution_count": 270,
      "outputs": [
        {
          "output_type": "stream",
          "name": "stdout",
          "text": [
            "Accuracy (Test Set): 0.8845\n",
            "Precision (Test Set): 0.8772\n",
            "Recall (Test Set): 0.8019\n",
            "F1-Score (Test Set): 0.8379\n",
            "AUC: 0.9536\n"
          ]
        }
      ]
    },
    {
      "cell_type": "code",
      "source": [
        "from sklearn.model_selection import RandomizedSearchCV,GridSearchCV\n",
        "from scipy.stats import uniform\n",
        "import numpy as np\n",
        "\n",
        "#List Hyperparameter\n",
        "max_depth = [int(x) for x in np.linspace(1, 110, num = 30)] # Maximum number of levels in tree\n",
        "min_samples_split = [2, 5, 10, 100] # Minimum number of samples required to split a node\n",
        "min_samples_leaf = [1, 2, 4, 10, 20, 50] # Minimum number of samples required at each leaf node\n",
        "max_features = ['auto', 'sqrt'] # Number of features to consider at every split\n",
        "hyperparameters = dict(max_depth=max_depth,\n",
        "                       min_samples_split=min_samples_split, \n",
        "                       min_samples_leaf=min_samples_leaf,\n",
        "                       max_features=max_features\n",
        "                      )\n",
        "\n",
        "\n",
        "# Inisialisasi Model\n",
        "dt = RandomForestClassifier(random_state=42)\n",
        "rf = RandomizedSearchCV(dt, hyperparameters, cv=5, scoring='accuracy')\n",
        "rf.fit(X_train, y_train)\n",
        "\n",
        "# Predict & Evaluation\n",
        "y_pred = rf.predict(X_test)#Check performa dari model\n",
        "eval_classification(rf, X_train, y_train, X_test, y_test)"
      ],
      "metadata": {
        "colab": {
          "base_uri": "https://localhost:8080/"
        },
        "id": "xyQ8bhWXro2g",
        "outputId": "ad9c7f8b-b4d6-4ced-df9d-d8a69e843d18"
      },
      "execution_count": 271,
      "outputs": [
        {
          "output_type": "stream",
          "name": "stdout",
          "text": [
            "Accuracy (Test Set): 0.8816\n",
            "Precision (Test Set): 0.8818\n",
            "Recall (Test Set): 0.7874\n",
            "F1-Score (Test Set): 0.8319\n",
            "AUC: 0.9530\n"
          ]
        }
      ]
    },
    {
      "cell_type": "code",
      "source": [
        "rf.best_params_"
      ],
      "metadata": {
        "colab": {
          "base_uri": "https://localhost:8080/"
        },
        "id": "EBq6F9MIrueY",
        "outputId": "f1877a9e-de31-4d9c-b0aa-1eecc322129c"
      },
      "execution_count": 272,
      "outputs": [
        {
          "output_type": "execute_result",
          "data": {
            "text/plain": [
              "{'min_samples_split': 10,\n",
              " 'min_samples_leaf': 1,\n",
              " 'max_features': 'sqrt',\n",
              " 'max_depth': 83}"
            ]
          },
          "metadata": {},
          "execution_count": 272
        }
      ]
    },
    {
      "cell_type": "code",
      "source": [
        " rf = RandomForestClassifier(random_state = 42,\n",
        "                             min_samples_split= 2,\n",
        "                             min_samples_leaf= 1,\n",
        "                             max_features= 'auto',\n",
        "                             max_depth= 200,\n",
        "                             bootstrap = True,\n",
        "                             n_estimators = 400)\n",
        " rf.fit(X_train, y_train)\n",
        " pred = rf.predict(X_test)\n",
        " eval_classification(rf, X_train, y_train, X_test, y_test)"
      ],
      "metadata": {
        "colab": {
          "base_uri": "https://localhost:8080/"
        },
        "id": "ZGea3II3rxkI",
        "outputId": "b3d0475c-7faf-40d3-cea1-6fee2954fb2c"
      },
      "execution_count": 273,
      "outputs": [
        {
          "output_type": "stream",
          "name": "stdout",
          "text": [
            "Accuracy (Test Set): 0.8868\n",
            "Precision (Test Set): 0.8791\n",
            "Recall (Test Set): 0.8068\n",
            "F1-Score (Test Set): 0.8414\n",
            "AUC: 0.9549\n"
          ]
        }
      ]
    },
    {
      "cell_type": "markdown",
      "source": [
        "###coba (tdk digunakan) (untuk keperluan coba coba)"
      ],
      "metadata": {
        "id": "7XrUOOpTz7-2"
      }
    },
    {
      "cell_type": "code",
      "source": [
        "# Manual tuning\n",
        "import numpy as np\n",
        "train_data = lgb.Dataset(X_train, label=y_train)\n",
        "param = {'objective': 'binary', 'num_leaves': 20, 'learning_rate' : 0.2}\n",
        "num_boost_rounds = 200\n",
        "LightGBM_Manual = lgb.train(param, train_data, num_boost_rounds)\n",
        "# predict the results\n",
        "preds=LightGBM_Manual.predict(X_test)\n",
        "pred_labels = np.rint(preds)\n",
        "accuracy = accuracy_score(y_test, pred_labels)\n",
        "print('LightGBM Model accuracy score: {0:0.4f}'.format(accuracy_score(y_test, pred_labels)))"
      ],
      "metadata": {
        "colab": {
          "base_uri": "https://localhost:8080/"
        },
        "id": "fV2EyFHKCIaN",
        "outputId": "116101a7-8391-4efa-ce24-151d6dff2b68"
      },
      "execution_count": 274,
      "outputs": [
        {
          "output_type": "stream",
          "name": "stdout",
          "text": [
            "LightGBM Model accuracy score: 0.8697\n"
          ]
        }
      ]
    },
    {
      "cell_type": "code",
      "source": [
        "# Manual tuning\n",
        "# Let’s change the number of boosting rounds and learning rate\n",
        "import numpy as np\n",
        "train_data = lgb.Dataset(X_train, label=y_train)\n",
        "param = {'objective': 'binary', 'num_leaves': 20, 'learning_rate' : 0.4}\n",
        "num_boost_rounds = 150\n",
        "LightGBM_Manual = lgb.train(param, train_data, num_boost_rounds)\n",
        "# predict the results\n",
        "preds=LightGBM_Manual.predict(X_test)\n",
        "pred_labels = np.rint(preds)\n",
        "accuracy = accuracy_score(y_test, pred_labels)\n",
        "print('LightGBM Model accuracy score: {0:0.4f}'.format(accuracy_score(y_test, pred_labels)))"
      ],
      "metadata": {
        "colab": {
          "base_uri": "https://localhost:8080/"
        },
        "id": "zi1VDBPsCq0N",
        "outputId": "132c0c15-ffff-4806-cdff-c1e01b5a2580"
      },
      "execution_count": 275,
      "outputs": [
        {
          "output_type": "stream",
          "name": "stdout",
          "text": [
            "LightGBM Model accuracy score: 0.8717\n"
          ]
        }
      ]
    },
    {
      "cell_type": "code",
      "source": [
        "import optuna\n",
        "def objective_lgbm(trial):\n",
        "    \n",
        "    param = {\n",
        "        'objective': 'binary',\n",
        "        'metric': 'accuracy_score',\n",
        "        'num_leaves': trial.suggest_int('num_leaves', 10,100),\n",
        "        'num_boost_rounds': trial.suggest_int('num_boost_rounds', 100,300),\n",
        "        'learning_rate': trial.suggest_loguniform('learning_rate', 0.1,1),\n",
        "        'max_depth': trial.suggest_int('max_depth', 1,100),\n",
        "        'colsample_bytree': trial.suggest_loguniform('colsample_bytree',0.1,1)\n",
        "    }\n",
        "    \n",
        "    LightGBM_Manual = lgb.train(param, train_data, num_boost_rounds)\n",
        "    preds=LightGBM_Manual.predict(X_test)\n",
        "    pred_labels = np.rint(preds)\n",
        "    accuracy = round(accuracy_score(y_test, pred_labels),4)\n",
        "    return accuracy\n",
        "    \n",
        "study_lgbm = optuna.create_study(direction='maximize',study_name=\"LGBM\")\n",
        "study_lgbm.optimize(objective_lgbm, n_trials=100)\n",
        "\n",
        "#Model Accuracy -->  0.8825\n",
        "#LightGBM Model accuracy score: 0.8779"
      ],
      "metadata": {
        "colab": {
          "base_uri": "https://localhost:8080/"
        },
        "id": "W7Jk6ZA1qetN",
        "outputId": "c29467bb-5181-4b11-a2e5-2ed65d41ea78"
      },
      "execution_count": 276,
      "outputs": [
        {
          "output_type": "stream",
          "name": "stderr",
          "text": [
            "\u001b[32m[I 2022-08-28 14:00:47,227]\u001b[0m A new study created in memory with name: LGBM\u001b[0m\n",
            "\u001b[32m[I 2022-08-28 14:00:49,165]\u001b[0m Trial 0 finished with value: 0.8177 and parameters: {'num_leaves': 87, 'num_boost_rounds': 191, 'learning_rate': 0.8664141551464173, 'max_depth': 45, 'colsample_bytree': 0.5019058148219885}. Best is trial 0 with value: 0.8177.\u001b[0m\n",
            "\u001b[32m[I 2022-08-28 14:00:50,790]\u001b[0m Trial 1 finished with value: 0.8635 and parameters: {'num_leaves': 82, 'num_boost_rounds': 207, 'learning_rate': 0.34329994481392195, 'max_depth': 60, 'colsample_bytree': 0.12451137564097933}. Best is trial 1 with value: 0.8635.\u001b[0m\n",
            "\u001b[32m[I 2022-08-28 14:00:52,377]\u001b[0m Trial 2 finished with value: 0.8478 and parameters: {'num_leaves': 62, 'num_boost_rounds': 151, 'learning_rate': 0.11084375766349798, 'max_depth': 19, 'colsample_bytree': 0.1480436481667596}. Best is trial 1 with value: 0.8635.\u001b[0m\n",
            "\u001b[32m[I 2022-08-28 14:00:54,157]\u001b[0m Trial 3 finished with value: 0.8754 and parameters: {'num_leaves': 45, 'num_boost_rounds': 210, 'learning_rate': 0.2613790854388161, 'max_depth': 66, 'colsample_bytree': 0.6664612674283106}. Best is trial 3 with value: 0.8754.\u001b[0m\n",
            "\u001b[32m[I 2022-08-28 14:00:55,576]\u001b[0m Trial 4 finished with value: 0.8632 and parameters: {'num_leaves': 18, 'num_boost_rounds': 242, 'learning_rate': 0.815653316656824, 'max_depth': 52, 'colsample_bytree': 0.7107131256941219}. Best is trial 3 with value: 0.8754.\u001b[0m\n",
            "\u001b[32m[I 2022-08-28 14:00:56,855]\u001b[0m Trial 5 finished with value: 0.8606 and parameters: {'num_leaves': 18, 'num_boost_rounds': 124, 'learning_rate': 0.2055052368038055, 'max_depth': 45, 'colsample_bytree': 0.21196436180783934}. Best is trial 3 with value: 0.8754.\u001b[0m\n",
            "\u001b[32m[I 2022-08-28 14:00:58,371]\u001b[0m Trial 6 finished with value: 0.8695 and parameters: {'num_leaves': 48, 'num_boost_rounds': 280, 'learning_rate': 0.6147205789645567, 'max_depth': 88, 'colsample_bytree': 0.2724046508711103}. Best is trial 3 with value: 0.8754.\u001b[0m\n",
            "\u001b[32m[I 2022-08-28 14:00:59,715]\u001b[0m Trial 7 finished with value: 0.8595 and parameters: {'num_leaves': 22, 'num_boost_rounds': 163, 'learning_rate': 0.8680557648982924, 'max_depth': 33, 'colsample_bytree': 0.7523671492893995}. Best is trial 3 with value: 0.8754.\u001b[0m\n",
            "\u001b[32m[I 2022-08-28 14:01:00,901]\u001b[0m Trial 8 finished with value: 0.8604 and parameters: {'num_leaves': 20, 'num_boost_rounds': 199, 'learning_rate': 0.847841207830895, 'max_depth': 62, 'colsample_bytree': 0.15522835385704672}. Best is trial 3 with value: 0.8754.\u001b[0m\n",
            "\u001b[32m[I 2022-08-28 14:01:02,012]\u001b[0m Trial 9 finished with value: 0.863 and parameters: {'num_leaves': 12, 'num_boost_rounds': 253, 'learning_rate': 0.3599230338554445, 'max_depth': 45, 'colsample_bytree': 0.21306257898441414}. Best is trial 3 with value: 0.8754.\u001b[0m\n",
            "\u001b[32m[I 2022-08-28 14:01:03,910]\u001b[0m Trial 10 finished with value: 0.8727 and parameters: {'num_leaves': 44, 'num_boost_rounds': 299, 'learning_rate': 0.13333619815104716, 'max_depth': 96, 'colsample_bytree': 0.43633701475996167}. Best is trial 3 with value: 0.8754.\u001b[0m\n",
            "\u001b[32m[I 2022-08-28 14:01:05,808]\u001b[0m Trial 11 finished with value: 0.8735 and parameters: {'num_leaves': 43, 'num_boost_rounds': 300, 'learning_rate': 0.14467168966528757, 'max_depth': 97, 'colsample_bytree': 0.4491921735537054}. Best is trial 3 with value: 0.8754.\u001b[0m\n",
            "\u001b[32m[I 2022-08-28 14:01:08,024]\u001b[0m Trial 12 finished with value: 0.8785 and parameters: {'num_leaves': 63, 'num_boost_rounds': 242, 'learning_rate': 0.193653067903978, 'max_depth': 79, 'colsample_bytree': 0.9951123838946445}. Best is trial 12 with value: 0.8785.\u001b[0m\n",
            "\u001b[32m[I 2022-08-28 14:01:10,117]\u001b[0m Trial 13 finished with value: 0.8781 and parameters: {'num_leaves': 68, 'num_boost_rounds': 233, 'learning_rate': 0.23247262285894157, 'max_depth': 74, 'colsample_bytree': 0.8548644947014756}. Best is trial 12 with value: 0.8785.\u001b[0m\n",
            "\u001b[32m[I 2022-08-28 14:01:12,328]\u001b[0m Trial 14 finished with value: 0.8784 and parameters: {'num_leaves': 69, 'num_boost_rounds': 245, 'learning_rate': 0.199149815309313, 'max_depth': 80, 'colsample_bytree': 0.9959159118561015}. Best is trial 12 with value: 0.8785.\u001b[0m\n",
            "\u001b[32m[I 2022-08-28 14:01:14,636]\u001b[0m Trial 15 finished with value: 0.8796 and parameters: {'num_leaves': 74, 'num_boost_rounds': 265, 'learning_rate': 0.1766990513582359, 'max_depth': 80, 'colsample_bytree': 0.9945291791119745}. Best is trial 15 with value: 0.8796.\u001b[0m\n",
            "\u001b[32m[I 2022-08-28 14:01:16,950]\u001b[0m Trial 16 finished with value: 0.8797 and parameters: {'num_leaves': 95, 'num_boost_rounds': 269, 'learning_rate': 0.15310956261773195, 'max_depth': 83, 'colsample_bytree': 0.5573231271672355}. Best is trial 16 with value: 0.8797.\u001b[0m\n",
            "\u001b[32m[I 2022-08-28 14:01:19,303]\u001b[0m Trial 17 finished with value: 0.8809 and parameters: {'num_leaves': 100, 'num_boost_rounds': 269, 'learning_rate': 0.15685062005661699, 'max_depth': 87, 'colsample_bytree': 0.6005533110121027}. Best is trial 17 with value: 0.8809.\u001b[0m\n",
            "\u001b[32m[I 2022-08-28 14:01:20,793]\u001b[0m Trial 18 finished with value: 0.8519 and parameters: {'num_leaves': 99, 'num_boost_rounds': 279, 'learning_rate': 0.10128787377470884, 'max_depth': 4, 'colsample_bytree': 0.34751648566484294}. Best is trial 17 with value: 0.8809.\u001b[0m\n",
            "\u001b[32m[I 2022-08-28 14:01:22,828]\u001b[0m Trial 19 finished with value: 0.8768 and parameters: {'num_leaves': 99, 'num_boost_rounds': 220, 'learning_rate': 0.49610207917559856, 'max_depth': 89, 'colsample_bytree': 0.543365568688459}. Best is trial 17 with value: 0.8809.\u001b[0m\n",
            "\u001b[32m[I 2022-08-28 14:01:25,038]\u001b[0m Trial 20 finished with value: 0.876 and parameters: {'num_leaves': 92, 'num_boost_rounds': 270, 'learning_rate': 0.14767798258626097, 'max_depth': 68, 'colsample_bytree': 0.35655909593822666}. Best is trial 17 with value: 0.8809.\u001b[0m\n",
            "\u001b[32m[I 2022-08-28 14:01:27,183]\u001b[0m Trial 21 finished with value: 0.8791 and parameters: {'num_leaves': 83, 'num_boost_rounds': 263, 'learning_rate': 0.17122825111007406, 'max_depth': 86, 'colsample_bytree': 0.5889417950468342}. Best is trial 17 with value: 0.8809.\u001b[0m\n",
            "\u001b[32m[I 2022-08-28 14:01:29,274]\u001b[0m Trial 22 finished with value: 0.8805 and parameters: {'num_leaves': 76, 'num_boost_rounds': 284, 'learning_rate': 0.27086101357579506, 'max_depth': 75, 'colsample_bytree': 0.7985126852765417}. Best is trial 17 with value: 0.8809.\u001b[0m\n",
            "\u001b[32m[I 2022-08-28 14:01:31,405]\u001b[0m Trial 23 finished with value: 0.8806 and parameters: {'num_leaves': 91, 'num_boost_rounds': 286, 'learning_rate': 0.2786705889613004, 'max_depth': 99, 'colsample_bytree': 0.6199590562382522}. Best is trial 17 with value: 0.8809.\u001b[0m\n",
            "\u001b[32m[I 2022-08-28 14:01:33,450]\u001b[0m Trial 24 finished with value: 0.8805 and parameters: {'num_leaves': 77, 'num_boost_rounds': 289, 'learning_rate': 0.2718283037359634, 'max_depth': 97, 'colsample_bytree': 0.7471683666700664}. Best is trial 17 with value: 0.8809.\u001b[0m\n",
            "\u001b[32m[I 2022-08-28 14:01:35,412]\u001b[0m Trial 25 finished with value: 0.8767 and parameters: {'num_leaves': 90, 'num_boost_rounds': 294, 'learning_rate': 0.4115639943691991, 'max_depth': 99, 'colsample_bytree': 0.43206402613994466}. Best is trial 17 with value: 0.8809.\u001b[0m\n",
            "\u001b[32m[I 2022-08-28 14:01:37,423]\u001b[0m Trial 26 finished with value: 0.8802 and parameters: {'num_leaves': 80, 'num_boost_rounds': 226, 'learning_rate': 0.282266101932399, 'max_depth': 72, 'colsample_bytree': 0.6473519400838055}. Best is trial 17 with value: 0.8809.\u001b[0m\n",
            "\u001b[32m[I 2022-08-28 14:01:39,333]\u001b[0m Trial 27 finished with value: 0.8757 and parameters: {'num_leaves': 89, 'num_boost_rounds': 183, 'learning_rate': 0.44806377285184135, 'max_depth': 92, 'colsample_bytree': 0.29530649765003814}. Best is trial 17 with value: 0.8809.\u001b[0m\n",
            "\u001b[32m[I 2022-08-28 14:01:40,853]\u001b[0m Trial 28 finished with value: 0.875 and parameters: {'num_leaves': 34, 'num_boost_rounds': 283, 'learning_rate': 0.31186814405903057, 'max_depth': 99, 'colsample_bytree': 0.38458327626318994}. Best is trial 17 with value: 0.8809.\u001b[0m\n",
            "\u001b[32m[I 2022-08-28 14:01:42,744]\u001b[0m Trial 29 finished with value: 0.8685 and parameters: {'num_leaves': 86, 'num_boost_rounds': 258, 'learning_rate': 0.591104035836089, 'max_depth': 92, 'colsample_bytree': 0.48602343075375487}. Best is trial 17 with value: 0.8809.\u001b[0m\n",
            "\u001b[32m[I 2022-08-28 14:01:45,077]\u001b[0m Trial 30 finished with value: 0.8802 and parameters: {'num_leaves': 95, 'num_boost_rounds': 289, 'learning_rate': 0.23432861583791686, 'max_depth': 33, 'colsample_bytree': 0.8497447878870873}. Best is trial 17 with value: 0.8809.\u001b[0m\n",
            "\u001b[32m[I 2022-08-28 14:01:47,138]\u001b[0m Trial 31 finished with value: 0.8804 and parameters: {'num_leaves': 75, 'num_boost_rounds': 278, 'learning_rate': 0.28000775588016846, 'max_depth': 92, 'colsample_bytree': 0.8096512523761108}. Best is trial 17 with value: 0.8809.\u001b[0m\n",
            "\u001b[32m[I 2022-08-28 14:01:49,045]\u001b[0m Trial 32 finished with value: 0.8781 and parameters: {'num_leaves': 79, 'num_boost_rounds': 287, 'learning_rate': 0.3725783213223809, 'max_depth': 76, 'colsample_bytree': 0.6062555619146239}. Best is trial 17 with value: 0.8809.\u001b[0m\n",
            "\u001b[32m[I 2022-08-28 14:01:50,988]\u001b[0m Trial 33 finished with value: 0.879 and parameters: {'num_leaves': 58, 'num_boost_rounds': 255, 'learning_rate': 0.23728952821806223, 'max_depth': 57, 'colsample_bytree': 0.6859700122036861}. Best is trial 17 with value: 0.8809.\u001b[0m\n",
            "\u001b[32m[I 2022-08-28 14:01:52,955]\u001b[0m Trial 34 finished with value: 0.88 and parameters: {'num_leaves': 86, 'num_boost_rounds': 274, 'learning_rate': 0.306861525139582, 'max_depth': 85, 'colsample_bytree': 0.5046964481986359}. Best is trial 17 with value: 0.8809.\u001b[0m\n",
            "\u001b[32m[I 2022-08-28 14:01:55,286]\u001b[0m Trial 35 finished with value: 0.8768 and parameters: {'num_leaves': 74, 'num_boost_rounds': 100, 'learning_rate': 0.12145661644579668, 'max_depth': 70, 'colsample_bytree': 0.7824026862685522}. Best is trial 17 with value: 0.8809.\u001b[0m\n",
            "\u001b[32m[I 2022-08-28 14:01:57,369]\u001b[0m Trial 36 finished with value: 0.8799 and parameters: {'num_leaves': 83, 'num_boost_rounds': 291, 'learning_rate': 0.25755985047640234, 'max_depth': 100, 'colsample_bytree': 0.6869892699829082}. Best is trial 17 with value: 0.8809.\u001b[0m\n",
            "\u001b[32m[I 2022-08-28 14:01:59,531]\u001b[0m Trial 37 finished with value: 0.8814 and parameters: {'num_leaves': 100, 'num_boost_rounds': 300, 'learning_rate': 0.32825092021372465, 'max_depth': 93, 'colsample_bytree': 0.6093686972599716}. Best is trial 37 with value: 0.8814.\u001b[0m\n",
            "\u001b[32m[I 2022-08-28 14:02:01,529]\u001b[0m Trial 38 finished with value: 0.8758 and parameters: {'num_leaves': 95, 'num_boost_rounds': 177, 'learning_rate': 0.5256214812052603, 'max_depth': 94, 'colsample_bytree': 0.5322024410712807}. Best is trial 37 with value: 0.8814.\u001b[0m\n",
            "\u001b[32m[I 2022-08-28 14:02:03,083]\u001b[0m Trial 39 finished with value: 0.8561 and parameters: {'num_leaves': 100, 'num_boost_rounds': 146, 'learning_rate': 0.34082985704431007, 'max_depth': 88, 'colsample_bytree': 0.11399654099199724}. Best is trial 37 with value: 0.8814.\u001b[0m\n",
            "\u001b[32m[I 2022-08-28 14:02:05,072]\u001b[0m Trial 40 finished with value: 0.8746 and parameters: {'num_leaves': 94, 'num_boost_rounds': 297, 'learning_rate': 0.39763383327967017, 'max_depth': 63, 'colsample_bytree': 0.23141126469161175}. Best is trial 37 with value: 0.8814.\u001b[0m\n",
            "\u001b[32m[I 2022-08-28 14:02:07,419]\u001b[0m Trial 41 finished with value: 0.8806 and parameters: {'num_leaves': 88, 'num_boost_rounds': 287, 'learning_rate': 0.21375682959376735, 'max_depth': 83, 'colsample_bytree': 0.86282063283738}. Best is trial 37 with value: 0.8814.\u001b[0m\n",
            "\u001b[32m[I 2022-08-28 14:02:09,760]\u001b[0m Trial 42 finished with value: 0.8796 and parameters: {'num_leaves': 88, 'num_boost_rounds': 275, 'learning_rate': 0.21451001246773022, 'max_depth': 82, 'colsample_bytree': 0.8803811056988166}. Best is trial 37 with value: 0.8814.\u001b[0m\n",
            "\u001b[32m[I 2022-08-28 14:02:12,020]\u001b[0m Trial 43 finished with value: 0.88 and parameters: {'num_leaves': 91, 'num_boost_rounds': 300, 'learning_rate': 0.17610893363990854, 'max_depth': 91, 'colsample_bytree': 0.6281018585160476}. Best is trial 37 with value: 0.8814.\u001b[0m\n",
            "\u001b[32m[I 2022-08-28 14:02:14,204]\u001b[0m Trial 44 finished with value: 0.8804 and parameters: {'num_leaves': 100, 'num_boost_rounds': 251, 'learning_rate': 0.3305160551005932, 'max_depth': 95, 'colsample_bytree': 0.7092875525916779}. Best is trial 37 with value: 0.8814.\u001b[0m\n",
            "\u001b[32m[I 2022-08-28 14:02:16,447]\u001b[0m Trial 45 finished with value: 0.8819 and parameters: {'num_leaves': 84, 'num_boost_rounds': 283, 'learning_rate': 0.24520229523573306, 'max_depth': 76, 'colsample_bytree': 0.9001409564427806}. Best is trial 45 with value: 0.8819.\u001b[0m\n",
            "\u001b[32m[I 2022-08-28 14:02:18,174]\u001b[0m Trial 46 finished with value: 0.8605 and parameters: {'num_leaves': 97, 'num_boost_rounds': 262, 'learning_rate': 0.22510786582921016, 'max_depth': 35, 'colsample_bytree': 0.14625241208722148}. Best is trial 45 with value: 0.8819.\u001b[0m\n",
            "\u001b[32m[I 2022-08-28 14:02:20,466]\u001b[0m Trial 47 finished with value: 0.8251 and parameters: {'num_leaves': 84, 'num_boost_rounds': 207, 'learning_rate': 0.9989676459391081, 'max_depth': 52, 'colsample_bytree': 0.9322438855671434}. Best is trial 45 with value: 0.8819.\u001b[0m\n",
            "\u001b[32m[I 2022-08-28 14:02:22,834]\u001b[0m Trial 48 finished with value: 0.8804 and parameters: {'num_leaves': 91, 'num_boost_rounds': 247, 'learning_rate': 0.20012792057770354, 'max_depth': 78, 'colsample_bytree': 0.9089756417873539}. Best is trial 45 with value: 0.8819.\u001b[0m\n",
            "\u001b[32m[I 2022-08-28 14:02:24,849]\u001b[0m Trial 49 finished with value: 0.8744 and parameters: {'num_leaves': 52, 'num_boost_rounds': 238, 'learning_rate': 0.12949771089667172, 'max_depth': 58, 'colsample_bytree': 0.4734707468616665}. Best is trial 45 with value: 0.8819.\u001b[0m\n",
            "\u001b[32m[I 2022-08-28 14:02:26,960]\u001b[0m Trial 50 finished with value: 0.8789 and parameters: {'num_leaves': 70, 'num_boost_rounds': 270, 'learning_rate': 0.16846264006748216, 'max_depth': 84, 'colsample_bytree': 0.6136441373698013}. Best is trial 45 with value: 0.8819.\u001b[0m\n",
            "\u001b[32m[I 2022-08-28 14:02:29,057]\u001b[0m Trial 51 finished with value: 0.8802 and parameters: {'num_leaves': 79, 'num_boost_rounds': 289, 'learning_rate': 0.24845094073031027, 'max_depth': 96, 'colsample_bytree': 0.7448937399075364}. Best is trial 45 with value: 0.8819.\u001b[0m\n",
            "\u001b[32m[I 2022-08-28 14:02:31,012]\u001b[0m Trial 52 finished with value: 0.8779 and parameters: {'num_leaves': 65, 'num_boost_rounds': 282, 'learning_rate': 0.2838783707232234, 'max_depth': 87, 'colsample_bytree': 0.7615607305277684}. Best is trial 45 with value: 0.8819.\u001b[0m\n",
            "\u001b[32m[I 2022-08-28 14:02:33,179]\u001b[0m Trial 53 finished with value: 0.8796 and parameters: {'num_leaves': 87, 'num_boost_rounds': 281, 'learning_rate': 0.30518521469270726, 'max_depth': 75, 'colsample_bytree': 0.8251287585258069}. Best is trial 45 with value: 0.8819.\u001b[0m\n",
            "\u001b[32m[I 2022-08-28 14:02:36,877]\u001b[0m Trial 54 finished with value: 0.8803 and parameters: {'num_leaves': 94, 'num_boost_rounds': 292, 'learning_rate': 0.21269694409822917, 'max_depth': 89, 'colsample_bytree': 0.5718253116221964}. Best is trial 45 with value: 0.8819.\u001b[0m\n",
            "\u001b[32m[I 2022-08-28 14:02:38,875]\u001b[0m Trial 55 finished with value: 0.8739 and parameters: {'num_leaves': 38, 'num_boost_rounds': 269, 'learning_rate': 0.18740532542851998, 'max_depth': 67, 'colsample_bytree': 0.9136814864930427}. Best is trial 45 with value: 0.8819.\u001b[0m\n",
            "\u001b[32m[I 2022-08-28 14:02:41,206]\u001b[0m Trial 56 finished with value: 0.8803 and parameters: {'num_leaves': 96, 'num_boost_rounds': 295, 'learning_rate': 0.16215703648355928, 'max_depth': 81, 'colsample_bytree': 0.6628066056488785}. Best is trial 45 with value: 0.8819.\u001b[0m\n",
            "\u001b[32m[I 2022-08-28 14:02:43,250]\u001b[0m Trial 57 finished with value: 0.8787 and parameters: {'num_leaves': 92, 'num_boost_rounds': 261, 'learning_rate': 0.36456679452666463, 'max_depth': 96, 'colsample_bytree': 0.4115653055934055}. Best is trial 45 with value: 0.8819.\u001b[0m\n",
            "\u001b[32m[I 2022-08-28 14:02:45,531]\u001b[0m Trial 58 finished with value: 0.8793 and parameters: {'num_leaves': 82, 'num_boost_rounds': 282, 'learning_rate': 0.24922577625509088, 'max_depth': 73, 'colsample_bytree': 0.993173161107002}. Best is trial 45 with value: 0.8819.\u001b[0m\n",
            "\u001b[32m[I 2022-08-28 14:02:46,812]\u001b[0m Trial 59 finished with value: 0.8467 and parameters: {'num_leaves': 97, 'num_boost_rounds': 300, 'learning_rate': 0.2673679673833389, 'max_depth': 2, 'colsample_bytree': 0.7586758730033066}. Best is trial 45 with value: 0.8819.\u001b[0m\n",
            "\u001b[32m[I 2022-08-28 14:02:48,801]\u001b[0m Trial 60 finished with value: 0.8771 and parameters: {'num_leaves': 71, 'num_boost_rounds': 275, 'learning_rate': 0.1888878702836347, 'max_depth': 79, 'colsample_bytree': 0.518935136821377}. Best is trial 45 with value: 0.8819.\u001b[0m\n",
            "\u001b[32m[I 2022-08-28 14:02:50,851]\u001b[0m Trial 61 finished with value: 0.8804 and parameters: {'num_leaves': 76, 'num_boost_rounds': 285, 'learning_rate': 0.29268799743731894, 'max_depth': 100, 'colsample_bytree': 0.7297109796574052}. Best is trial 45 with value: 0.8819.\u001b[0m\n",
            "\u001b[32m[I 2022-08-28 14:02:53,053]\u001b[0m Trial 62 finished with value: 0.8794 and parameters: {'num_leaves': 88, 'num_boost_rounds': 288, 'learning_rate': 0.33198430858641276, 'max_depth': 85, 'colsample_bytree': 0.8351145147787095}. Best is trial 45 with value: 0.8819.\u001b[0m\n",
            "\u001b[32m[I 2022-08-28 14:02:55,072]\u001b[0m Trial 63 finished with value: 0.8801 and parameters: {'num_leaves': 77, 'num_boost_rounds': 266, 'learning_rate': 0.2609976094305197, 'max_depth': 92, 'colsample_bytree': 0.6551762016338385}. Best is trial 45 with value: 0.8819.\u001b[0m\n",
            "\u001b[32m[I 2022-08-28 14:02:57,265]\u001b[0m Trial 64 finished with value: 0.879 and parameters: {'num_leaves': 85, 'num_boost_rounds': 277, 'learning_rate': 0.2215727215493152, 'max_depth': 89, 'colsample_bytree': 0.791633494946325}. Best is trial 45 with value: 0.8819.\u001b[0m\n",
            "\u001b[32m[I 2022-08-28 14:02:59,161]\u001b[0m Trial 65 finished with value: 0.879 and parameters: {'num_leaves': 66, 'num_boost_rounds': 293, 'learning_rate': 0.404981801515228, 'max_depth': 76, 'colsample_bytree': 0.7184905071000028}. Best is trial 45 with value: 0.8819.\u001b[0m\n",
            "\u001b[32m[I 2022-08-28 14:03:01,155]\u001b[0m Trial 66 finished with value: 0.8808 and parameters: {'num_leaves': 82, 'num_boost_rounds': 285, 'learning_rate': 0.27101244435347127, 'max_depth': 83, 'colsample_bytree': 0.5567957512000921}. Best is trial 45 with value: 0.8819.\u001b[0m\n",
            "\u001b[32m[I 2022-08-28 14:03:03,195]\u001b[0m Trial 67 finished with value: 0.8802 and parameters: {'num_leaves': 80, 'num_boost_rounds': 273, 'learning_rate': 0.2380092089055799, 'max_depth': 83, 'colsample_bytree': 0.6176634912469395}. Best is trial 45 with value: 0.8819.\u001b[0m\n",
            "\u001b[32m[I 2022-08-28 14:03:05,498]\u001b[0m Trial 68 finished with value: 0.8802 and parameters: {'num_leaves': 93, 'num_boost_rounds': 215, 'learning_rate': 0.14244167662461737, 'max_depth': 97, 'colsample_bytree': 0.5390504473290235}. Best is trial 45 with value: 0.8819.\u001b[0m\n",
            "\u001b[32m[I 2022-08-28 14:03:07,569]\u001b[0m Trial 69 finished with value: 0.8804 and parameters: {'num_leaves': 98, 'num_boost_rounds': 198, 'learning_rate': 0.3004408637351474, 'max_depth': 71, 'colsample_bytree': 0.466493074415734}. Best is trial 45 with value: 0.8819.\u001b[0m\n",
            "\u001b[32m[I 2022-08-28 14:03:09,273]\u001b[0m Trial 70 finished with value: 0.8681 and parameters: {'num_leaves': 25, 'num_boost_rounds': 286, 'learning_rate': 0.1559083175240849, 'max_depth': 63, 'colsample_bytree': 0.5751977269645637}. Best is trial 45 with value: 0.8819.\u001b[0m\n",
            "\u001b[32m[I 2022-08-28 14:03:11,275]\u001b[0m Trial 71 finished with value: 0.8793 and parameters: {'num_leaves': 73, 'num_boost_rounds': 295, 'learning_rate': 0.2723548784682404, 'max_depth': 93, 'colsample_bytree': 0.6757343573380693}. Best is trial 45 with value: 0.8819.\u001b[0m\n",
            "\u001b[32m[I 2022-08-28 14:03:13,204]\u001b[0m Trial 72 finished with value: 0.8766 and parameters: {'num_leaves': 58, 'num_boost_rounds': 279, 'learning_rate': 0.32251535136639153, 'max_depth': 87, 'colsample_bytree': 0.8722600310159488}. Best is trial 45 with value: 0.8819.\u001b[0m\n",
            "\u001b[32m[I 2022-08-28 14:03:15,293]\u001b[0m Trial 73 finished with value: 0.8798 and parameters: {'num_leaves': 82, 'num_boost_rounds': 286, 'learning_rate': 0.3572544201461577, 'max_depth': 90, 'colsample_bytree': 0.7903543828825927}. Best is trial 45 with value: 0.8819.\u001b[0m\n",
            "\u001b[32m[I 2022-08-28 14:03:17,328]\u001b[0m Trial 74 finished with value: 0.8755 and parameters: {'num_leaves': 89, 'num_boost_rounds': 256, 'learning_rate': 0.2482018069456818, 'max_depth': 77, 'colsample_bytree': 0.2549725568078895}. Best is trial 45 with value: 0.8819.\u001b[0m\n",
            "\u001b[32m[I 2022-08-28 14:03:19,446]\u001b[0m Trial 75 finished with value: 0.8808 and parameters: {'num_leaves': 78, 'num_boost_rounds': 300, 'learning_rate': 0.2101408303428464, 'max_depth': 81, 'colsample_bytree': 0.7032765935730316}. Best is trial 45 with value: 0.8819.\u001b[0m\n",
            "\u001b[32m[I 2022-08-28 14:03:21,530]\u001b[0m Trial 76 finished with value: 0.8795 and parameters: {'num_leaves': 86, 'num_boost_rounds': 295, 'learning_rate': 0.20898701087835642, 'max_depth': 17, 'colsample_bytree': 0.595116495933729}. Best is trial 45 with value: 0.8819.\u001b[0m\n",
            "\u001b[32m[I 2022-08-28 14:03:23,802]\u001b[0m Trial 77 finished with value: 0.8801 and parameters: {'num_leaves': 78, 'num_boost_rounds': 300, 'learning_rate': 0.1863106040006688, 'max_depth': 98, 'colsample_bytree': 0.9654203906118485}. Best is trial 45 with value: 0.8819.\u001b[0m\n",
            "\u001b[32m[I 2022-08-28 14:03:25,811]\u001b[0m Trial 78 finished with value: 0.8801 and parameters: {'num_leaves': 81, 'num_boost_rounds': 291, 'learning_rate': 0.23689093687345855, 'max_depth': 81, 'colsample_bytree': 0.4986363500913516}. Best is trial 45 with value: 0.8819.\u001b[0m\n",
            "\u001b[32m[I 2022-08-28 14:03:27,770]\u001b[0m Trial 79 finished with value: 0.8711 and parameters: {'num_leaves': 90, 'num_boost_rounds': 265, 'learning_rate': 0.22529580440099797, 'max_depth': 83, 'colsample_bytree': 0.18968945923754407}. Best is trial 45 with value: 0.8819.\u001b[0m\n",
            "\u001b[32m[I 2022-08-28 14:03:29,821]\u001b[0m Trial 80 finished with value: 0.8771 and parameters: {'num_leaves': 84, 'num_boost_rounds': 271, 'learning_rate': 0.46583231533265007, 'max_depth': 95, 'colsample_bytree': 0.7093490846432081}. Best is trial 45 with value: 0.8819.\u001b[0m\n",
            "\u001b[32m[I 2022-08-28 14:03:31,768]\u001b[0m Trial 81 finished with value: 0.8777 and parameters: {'num_leaves': 72, 'num_boost_rounds': 281, 'learning_rate': 0.2694018091410282, 'max_depth': 69, 'colsample_bytree': 0.6344883662670662}. Best is trial 45 with value: 0.8819.\u001b[0m\n",
            "\u001b[32m[I 2022-08-28 14:03:33,951]\u001b[0m Trial 82 finished with value: 0.8807 and parameters: {'num_leaves': 76, 'num_boost_rounds': 289, 'learning_rate': 0.20082960650222276, 'max_depth': 85, 'colsample_bytree': 0.8482943399123385}. Best is trial 45 with value: 0.8819.\u001b[0m\n",
            "\u001b[32m[I 2022-08-28 14:03:36,369]\u001b[0m Trial 83 finished with value: 0.8817 and parameters: {'num_leaves': 100, 'num_boost_rounds': 290, 'learning_rate': 0.20582346845808006, 'max_depth': 87, 'colsample_bytree': 0.8750323321317702}. Best is trial 45 with value: 0.8819.\u001b[0m\n",
            "\u001b[32m[I 2022-08-28 14:03:38,819]\u001b[0m Trial 84 finished with value: 0.8826 and parameters: {'num_leaves': 100, 'num_boost_rounds': 297, 'learning_rate': 0.19949538798296396, 'max_depth': 87, 'colsample_bytree': 0.9249775710540606}. Best is trial 84 with value: 0.8826.\u001b[0m\n",
            "\u001b[32m[I 2022-08-28 14:03:41,233]\u001b[0m Trial 85 finished with value: 0.8799 and parameters: {'num_leaves': 99, 'num_boost_rounds': 296, 'learning_rate': 0.1991120309227692, 'max_depth': 87, 'colsample_bytree': 0.9044137103340729}. Best is trial 84 with value: 0.8826.\u001b[0m\n",
            "\u001b[32m[I 2022-08-28 14:03:43,685]\u001b[0m Trial 86 finished with value: 0.8811 and parameters: {'num_leaves': 100, 'num_boost_rounds': 144, 'learning_rate': 0.17609913929752408, 'max_depth': 85, 'colsample_bytree': 0.850166145749834}. Best is trial 84 with value: 0.8826.\u001b[0m\n",
            "\u001b[32m[I 2022-08-28 14:03:46,171]\u001b[0m Trial 87 finished with value: 0.881 and parameters: {'num_leaves': 100, 'num_boost_rounds': 128, 'learning_rate': 0.17671906627578549, 'max_depth': 80, 'colsample_bytree': 0.9361060751319297}. Best is trial 84 with value: 0.8826.\u001b[0m\n",
            "\u001b[32m[I 2022-08-28 14:03:48,661]\u001b[0m Trial 88 finished with value: 0.8816 and parameters: {'num_leaves': 97, 'num_boost_rounds': 134, 'learning_rate': 0.17686599242111584, 'max_depth': 79, 'colsample_bytree': 0.9376684839300428}. Best is trial 84 with value: 0.8826.\u001b[0m\n",
            "\u001b[32m[I 2022-08-28 14:03:51,332]\u001b[0m Trial 89 finished with value: 0.8817 and parameters: {'num_leaves': 100, 'num_boost_rounds': 133, 'learning_rate': 0.13762691281668252, 'max_depth': 80, 'colsample_bytree': 0.9446096053864216}. Best is trial 84 with value: 0.8826.\u001b[0m\n",
            "\u001b[32m[I 2022-08-28 14:03:54,037]\u001b[0m Trial 90 finished with value: 0.8785 and parameters: {'num_leaves': 100, 'num_boost_rounds': 132, 'learning_rate': 0.11115940748242897, 'max_depth': 78, 'colsample_bytree': 0.9376330583825462}. Best is trial 84 with value: 0.8826.\u001b[0m\n",
            "\u001b[32m[I 2022-08-28 14:03:56,650]\u001b[0m Trial 91 finished with value: 0.8812 and parameters: {'num_leaves': 97, 'num_boost_rounds': 122, 'learning_rate': 0.1447090391126808, 'max_depth': 80, 'colsample_bytree': 0.9925913053930614}. Best is trial 84 with value: 0.8826.\u001b[0m\n",
            "\u001b[32m[I 2022-08-28 14:03:59,297]\u001b[0m Trial 92 finished with value: 0.8808 and parameters: {'num_leaves': 97, 'num_boost_rounds': 121, 'learning_rate': 0.1343886591170414, 'max_depth': 73, 'colsample_bytree': 0.9621655384182034}. Best is trial 84 with value: 0.8826.\u001b[0m\n",
            "\u001b[32m[I 2022-08-28 14:04:01,809]\u001b[0m Trial 93 finished with value: 0.881 and parameters: {'num_leaves': 95, 'num_boost_rounds': 127, 'learning_rate': 0.15057856018849042, 'max_depth': 79, 'colsample_bytree': 0.9085285187704206}. Best is trial 84 with value: 0.8826.\u001b[0m\n",
            "\u001b[32m[I 2022-08-28 14:04:04,435]\u001b[0m Trial 94 finished with value: 0.8807 and parameters: {'num_leaves': 95, 'num_boost_rounds': 127, 'learning_rate': 0.14563050815919684, 'max_depth': 79, 'colsample_bytree': 0.9951778764344564}. Best is trial 84 with value: 0.8826.\u001b[0m\n",
            "\u001b[32m[I 2022-08-28 14:04:06,969]\u001b[0m Trial 95 finished with value: 0.8813 and parameters: {'num_leaves': 98, 'num_boost_rounds': 141, 'learning_rate': 0.16275374650561727, 'max_depth': 75, 'colsample_bytree': 0.8953010222005272}. Best is trial 84 with value: 0.8826.\u001b[0m\n",
            "\u001b[32m[I 2022-08-28 14:04:09,426]\u001b[0m Trial 96 finished with value: 0.8817 and parameters: {'num_leaves': 98, 'num_boost_rounds': 142, 'learning_rate': 0.16656639381706032, 'max_depth': 75, 'colsample_bytree': 0.826422042133055}. Best is trial 84 with value: 0.8826.\u001b[0m\n",
            "\u001b[32m[I 2022-08-28 14:04:11,837]\u001b[0m Trial 97 finished with value: 0.8808 and parameters: {'num_leaves': 97, 'num_boost_rounds': 146, 'learning_rate': 0.16581573545858855, 'max_depth': 75, 'colsample_bytree': 0.8114971910566356}. Best is trial 84 with value: 0.8826.\u001b[0m\n",
            "\u001b[32m[I 2022-08-28 14:04:14,420]\u001b[0m Trial 98 finished with value: 0.8789 and parameters: {'num_leaves': 93, 'num_boost_rounds': 158, 'learning_rate': 0.12083127328908899, 'max_depth': 41, 'colsample_bytree': 0.8701322449768243}. Best is trial 84 with value: 0.8826.\u001b[0m\n",
            "\u001b[32m[I 2022-08-28 14:04:16,861]\u001b[0m Trial 99 finished with value: 0.8839 and parameters: {'num_leaves': 98, 'num_boost_rounds': 117, 'learning_rate': 0.17670252413840642, 'max_depth': 67, 'colsample_bytree': 0.8276237781627734}. Best is trial 99 with value: 0.8839.\u001b[0m\n"
          ]
        }
      ]
    },
    {
      "cell_type": "code",
      "source": [
        "import optuna\n",
        "def objective_lgbm(trial):\n",
        "    \n",
        "    param = {\n",
        "        'objective': 'binary',\n",
        "        'metric': 'accuracy_score',\n",
        "        'num_leaves': trial.suggest_int('num_leaves', 10,100),\n",
        "        'num_boost_rounds': trial.suggest_int('num_boost_rounds', 100,300),\n",
        "        'learning_rate': trial.suggest_loguniform('learning_rate', 0.0001,1),\n",
        "        'max_depth': trial.suggest_int('max_depth', 1,100),\n",
        "        'colsample_bytree': trial.suggest_loguniform('colsample_bytree',0.1,1),\n",
        "        'reg_alpha' : trial.suggest_loguniform('reg_alpha',0.1,10),\n",
        "        'reg_lambda': trial.suggest_loguniform('reg_lambda',0.1,10),\n",
        "        'min_split_gain': trial.suggest_loguniform('min_split_gain',0.1,1),\n",
        "        'subsample': trial.suggest_loguniform('subsample',0.1,1),\n",
        "    }\n",
        "    \n",
        "    LightGBM_Manual = lgb.train(param, train_data, num_boost_rounds)\n",
        "    preds=LightGBM_Manual.predict(X_test)\n",
        "    pred_labels = np.rint(preds)\n",
        "    accuracy = round(accuracy_score(y_test, pred_labels),4)\n",
        "    return accuracy\n",
        "\n",
        "study_lgbm = optuna.create_study(direction='maximize',study_name=\"LGBM\")\n",
        "study_lgbm.optimize(objective_lgbm, n_trials=200)"
      ],
      "metadata": {
        "colab": {
          "base_uri": "https://localhost:8080/"
        },
        "id": "BfvhWjf5FOzN",
        "outputId": "c96087f7-2366-40cd-dd29-7f79a06f866b"
      },
      "execution_count": 277,
      "outputs": [
        {
          "output_type": "stream",
          "name": "stderr",
          "text": [
            "\u001b[32m[I 2022-08-28 14:04:16,881]\u001b[0m A new study created in memory with name: LGBM\u001b[0m\n",
            "\u001b[32m[I 2022-08-28 14:04:18,579]\u001b[0m Trial 0 finished with value: 0.6279 and parameters: {'num_leaves': 99, 'num_boost_rounds': 252, 'learning_rate': 0.000470880461186719, 'max_depth': 57, 'colsample_bytree': 0.13573012788927638, 'reg_alpha': 0.8920412653427753, 'reg_lambda': 0.6053934583451108, 'min_split_gain': 0.21699917950118466, 'subsample': 0.2496587790765019}. Best is trial 0 with value: 0.6279.\u001b[0m\n",
            "\u001b[32m[I 2022-08-28 14:04:20,086]\u001b[0m Trial 1 finished with value: 0.8684 and parameters: {'num_leaves': 64, 'num_boost_rounds': 209, 'learning_rate': 0.3746021124618698, 'max_depth': 50, 'colsample_bytree': 0.19009824007287987, 'reg_alpha': 0.7187758352113175, 'reg_lambda': 0.8998292418959404, 'min_split_gain': 0.19813496832642383, 'subsample': 0.3907944053119081}. Best is trial 1 with value: 0.8684.\u001b[0m\n",
            "\u001b[32m[I 2022-08-28 14:04:21,961]\u001b[0m Trial 2 finished with value: 0.6279 and parameters: {'num_leaves': 53, 'num_boost_rounds': 245, 'learning_rate': 0.000718322967411794, 'max_depth': 8, 'colsample_bytree': 0.2567833084195607, 'reg_alpha': 1.4305774568173115, 'reg_lambda': 3.372987801442026, 'min_split_gain': 0.30490682569784305, 'subsample': 0.32754279776996603}. Best is trial 1 with value: 0.8684.\u001b[0m\n",
            "\u001b[32m[I 2022-08-28 14:04:23,229]\u001b[0m Trial 3 finished with value: 0.8502 and parameters: {'num_leaves': 33, 'num_boost_rounds': 252, 'learning_rate': 0.1819555149767561, 'max_depth': 96, 'colsample_bytree': 0.13018795470638103, 'reg_alpha': 0.21325752307129842, 'reg_lambda': 4.5919855536212735, 'min_split_gain': 0.9100032051567785, 'subsample': 0.23050745674918177}. Best is trial 1 with value: 0.8684.\u001b[0m\n",
            "\u001b[32m[I 2022-08-28 14:04:25,827]\u001b[0m Trial 4 finished with value: 0.8774 and parameters: {'num_leaves': 99, 'num_boost_rounds': 153, 'learning_rate': 0.13484464562907209, 'max_depth': 26, 'colsample_bytree': 0.6960467099500047, 'reg_alpha': 2.5221912635525365, 'reg_lambda': 0.7263706435586968, 'min_split_gain': 0.11222913802332504, 'subsample': 0.2191942983803371}. Best is trial 4 with value: 0.8774.\u001b[0m\n",
            "\u001b[32m[I 2022-08-28 14:04:27,618]\u001b[0m Trial 5 finished with value: 0.8727 and parameters: {'num_leaves': 78, 'num_boost_rounds': 228, 'learning_rate': 0.19191725693432976, 'max_depth': 96, 'colsample_bytree': 0.4222184604762614, 'reg_alpha': 0.13454578927691407, 'reg_lambda': 7.398708824121351, 'min_split_gain': 0.49558095151707054, 'subsample': 0.3723330208453089}. Best is trial 4 with value: 0.8774.\u001b[0m\n",
            "\u001b[32m[I 2022-08-28 14:04:30,832]\u001b[0m Trial 6 finished with value: 0.6279 and parameters: {'num_leaves': 67, 'num_boost_rounds': 290, 'learning_rate': 0.0011747685166102794, 'max_depth': 88, 'colsample_bytree': 0.7928408887298379, 'reg_alpha': 0.23584466100613924, 'reg_lambda': 0.35353127866153994, 'min_split_gain': 0.12908780373347026, 'subsample': 0.11428921460340975}. Best is trial 4 with value: 0.8774.\u001b[0m\n",
            "\u001b[32m[I 2022-08-28 14:04:34,899]\u001b[0m Trial 7 finished with value: 0.8489 and parameters: {'num_leaves': 88, 'num_boost_rounds': 292, 'learning_rate': 0.009302944448823416, 'max_depth': 74, 'colsample_bytree': 0.6538808146460761, 'reg_alpha': 0.7132537483407358, 'reg_lambda': 0.8345291812630025, 'min_split_gain': 0.30762204228081047, 'subsample': 0.23385190126147687}. Best is trial 4 with value: 0.8774.\u001b[0m\n",
            "\u001b[32m[I 2022-08-28 14:04:36,490]\u001b[0m Trial 8 finished with value: 0.8077 and parameters: {'num_leaves': 10, 'num_boost_rounds': 251, 'learning_rate': 0.01123337108312094, 'max_depth': 14, 'colsample_bytree': 0.5033221556267026, 'reg_alpha': 2.093346424659617, 'reg_lambda': 9.159757822593294, 'min_split_gain': 0.7286257490648176, 'subsample': 0.4209122005058956}. Best is trial 4 with value: 0.8774.\u001b[0m\n",
            "\u001b[32m[I 2022-08-28 14:04:38,831]\u001b[0m Trial 9 finished with value: 0.7745 and parameters: {'num_leaves': 47, 'num_boost_rounds': 234, 'learning_rate': 0.003951089189537241, 'max_depth': 13, 'colsample_bytree': 0.5832758289025681, 'reg_alpha': 4.048710719102114, 'reg_lambda': 0.8062882314955887, 'min_split_gain': 0.14808844372687233, 'subsample': 0.20028913285562783}. Best is trial 4 with value: 0.8774.\u001b[0m\n",
            "\u001b[32m[I 2022-08-28 14:04:42,123]\u001b[0m Trial 10 finished with value: 0.8679 and parameters: {'num_leaves': 97, 'num_boost_rounds': 133, 'learning_rate': 0.045712648244193216, 'max_depth': 33, 'colsample_bytree': 0.9685367294798245, 'reg_alpha': 8.88996627768967, 'reg_lambda': 0.11073571338380672, 'min_split_gain': 0.10377296851784643, 'subsample': 0.7306308653678829}. Best is trial 4 with value: 0.8774.\u001b[0m\n",
            "\u001b[32m[I 2022-08-28 14:04:43,299]\u001b[0m Trial 11 finished with value: 0.8674 and parameters: {'num_leaves': 80, 'num_boost_rounds': 149, 'learning_rate': 0.8374787391791375, 'max_depth': 35, 'colsample_bytree': 0.4119445257763588, 'reg_alpha': 0.12591942839440481, 'reg_lambda': 2.0079135999926008, 'min_split_gain': 0.5349721578128881, 'subsample': 0.6204413610831985}. Best is trial 4 with value: 0.8774.\u001b[0m\n",
            "\u001b[32m[I 2022-08-28 14:04:45,378]\u001b[0m Trial 12 finished with value: 0.8682 and parameters: {'num_leaves': 78, 'num_boost_rounds': 177, 'learning_rate': 0.09041438801650985, 'max_depth': 72, 'colsample_bytree': 0.3429301341522272, 'reg_alpha': 3.077179363015962, 'reg_lambda': 0.24485758933286622, 'min_split_gain': 0.5343500918448916, 'subsample': 0.1289837400345892}. Best is trial 4 with value: 0.8774.\u001b[0m\n",
            "\u001b[32m[I 2022-08-28 14:04:47,386]\u001b[0m Trial 13 finished with value: 0.8492 and parameters: {'num_leaves': 82, 'num_boost_rounds': 100, 'learning_rate': 0.042734705695241876, 'max_depth': 31, 'colsample_bytree': 0.26344796675091015, 'reg_alpha': 7.069107177996155, 'reg_lambda': 1.7869432726060155, 'min_split_gain': 0.4425168555823192, 'subsample': 0.49918312022998423}. Best is trial 4 with value: 0.8774.\u001b[0m\n",
            "\u001b[32m[I 2022-08-28 14:04:49,704]\u001b[0m Trial 14 finished with value: 0.6279 and parameters: {'num_leaves': 69, 'num_boost_rounds': 184, 'learning_rate': 0.00012017140159888239, 'max_depth': 49, 'colsample_bytree': 0.448834498018514, 'reg_alpha': 0.431440073106144, 'reg_lambda': 9.575750440099345, 'min_split_gain': 0.3864096448713088, 'subsample': 0.9341127719895027}. Best is trial 4 with value: 0.8774.\u001b[0m\n",
            "\u001b[32m[I 2022-08-28 14:04:51,314]\u001b[0m Trial 15 finished with value: 0.8759 and parameters: {'num_leaves': 92, 'num_boost_rounds': 149, 'learning_rate': 0.4361497985325269, 'max_depth': 23, 'colsample_bytree': 0.703502375138583, 'reg_alpha': 0.39327668447928477, 'reg_lambda': 2.161587011042571, 'min_split_gain': 0.2320780474269473, 'subsample': 0.15691198976036863}. Best is trial 4 with value: 0.8774.\u001b[0m\n",
            "\u001b[32m[I 2022-08-28 14:04:52,831]\u001b[0m Trial 16 finished with value: 0.8695 and parameters: {'num_leaves': 92, 'num_boost_rounds': 147, 'learning_rate': 0.9442003826554596, 'max_depth': 25, 'colsample_bytree': 0.781587467515733, 'reg_alpha': 0.39605433874069196, 'reg_lambda': 1.572136643339416, 'min_split_gain': 0.20650400643726244, 'subsample': 0.1635145508319532}. Best is trial 4 with value: 0.8774.\u001b[0m\n",
            "\u001b[32m[I 2022-08-28 14:04:54,240]\u001b[0m Trial 17 finished with value: 0.7745 and parameters: {'num_leaves': 35, 'num_boost_rounds': 110, 'learning_rate': 0.020256802533639193, 'max_depth': 2, 'colsample_bytree': 0.9182950477276074, 'reg_alpha': 1.5979109487975103, 'reg_lambda': 0.4066542444865311, 'min_split_gain': 0.10043135106807671, 'subsample': 0.15817629020943547}. Best is trial 4 with value: 0.8774.\u001b[0m\n",
            "\u001b[32m[I 2022-08-28 14:04:55,819]\u001b[0m Trial 18 finished with value: 0.873 and parameters: {'num_leaves': 89, 'num_boost_rounds': 169, 'learning_rate': 0.35089738840264406, 'max_depth': 18, 'colsample_bytree': 0.6617442244333713, 'reg_alpha': 3.9115083932259664, 'reg_lambda': 3.050497720365121, 'min_split_gain': 0.15916440948977817, 'subsample': 0.15336784006197038}. Best is trial 4 with value: 0.8774.\u001b[0m\n",
            "\u001b[32m[I 2022-08-28 14:04:58,104]\u001b[0m Trial 19 finished with value: 0.8679 and parameters: {'num_leaves': 100, 'num_boost_rounds': 127, 'learning_rate': 0.07256584320265203, 'max_depth': 37, 'colsample_bytree': 0.3318098288361016, 'reg_alpha': 0.413251826038301, 'reg_lambda': 1.3782121818591404, 'min_split_gain': 0.25220500578358873, 'subsample': 0.10286009127233255}. Best is trial 4 with value: 0.8774.\u001b[0m\n",
            "\u001b[32m[I 2022-08-28 14:04:59,562]\u001b[0m Trial 20 finished with value: 0.8602 and parameters: {'num_leaves': 11, 'num_boost_rounds': 201, 'learning_rate': 0.17409524219991673, 'max_depth': 23, 'colsample_bytree': 0.5469368430287939, 'reg_alpha': 1.296835430264305, 'reg_lambda': 0.19130604880313867, 'min_split_gain': 0.16893404681844276, 'subsample': 0.2864640672373473}. Best is trial 4 with value: 0.8774.\u001b[0m\n",
            "\u001b[32m[I 2022-08-28 14:05:01,051]\u001b[0m Trial 21 finished with value: 0.8742 and parameters: {'num_leaves': 87, 'num_boost_rounds': 167, 'learning_rate': 0.38571725825569114, 'max_depth': 18, 'colsample_bytree': 0.6859579094489846, 'reg_alpha': 4.020043854363137, 'reg_lambda': 3.006507889529235, 'min_split_gain': 0.14767367134872267, 'subsample': 0.16583770125429464}. Best is trial 4 with value: 0.8774.\u001b[0m\n",
            "\u001b[32m[I 2022-08-28 14:05:02,571]\u001b[0m Trial 22 finished with value: 0.8742 and parameters: {'num_leaves': 88, 'num_boost_rounds': 161, 'learning_rate': 0.43373206237717443, 'max_depth': 45, 'colsample_bytree': 0.7341498692840704, 'reg_alpha': 5.9748878407662, 'reg_lambda': 2.521247620665666, 'min_split_gain': 0.12429692644799173, 'subsample': 0.18716414228735612}. Best is trial 4 with value: 0.8774.\u001b[0m\n",
            "\u001b[32m[I 2022-08-28 14:05:03,997]\u001b[0m Trial 23 finished with value: 0.8718 and parameters: {'num_leaves': 91, 'num_boost_rounds': 154, 'learning_rate': 0.6132713432101131, 'max_depth': 42, 'colsample_bytree': 0.9985749035794563, 'reg_alpha': 6.616002547190187, 'reg_lambda': 4.411318793416618, 'min_split_gain': 0.1300389845516652, 'subsample': 0.20214330770675001}. Best is trial 4 with value: 0.8774.\u001b[0m\n",
            "\u001b[32m[I 2022-08-28 14:05:05,176]\u001b[0m Trial 24 finished with value: 0.8361 and parameters: {'num_leaves': 72, 'num_boost_rounds': 129, 'learning_rate': 0.12330829046587875, 'max_depth': 2, 'colsample_bytree': 0.6055174071433795, 'reg_alpha': 2.519203299792852, 'reg_lambda': 1.3202606649701751, 'min_split_gain': 0.17633014720094012, 'subsample': 0.1307323645143826}. Best is trial 4 with value: 0.8774.\u001b[0m\n",
            "\u001b[32m[I 2022-08-28 14:05:07,815]\u001b[0m Trial 25 finished with value: 0.864 and parameters: {'num_leaves': 60, 'num_boost_rounds': 190, 'learning_rate': 0.04099950363566096, 'max_depth': 61, 'colsample_bytree': 0.7153767632446236, 'reg_alpha': 6.24079727001803, 'reg_lambda': 2.3878348558098828, 'min_split_gain': 0.11963652465290268, 'subsample': 0.17909938491552096}. Best is trial 4 with value: 0.8774.\u001b[0m\n",
            "\u001b[32m[I 2022-08-28 14:05:09,270]\u001b[0m Trial 26 finished with value: 0.8742 and parameters: {'num_leaves': 95, 'num_boost_rounds': 157, 'learning_rate': 0.357282173810321, 'max_depth': 43, 'colsample_bytree': 0.8112375333745228, 'reg_alpha': 5.248678820174856, 'reg_lambda': 0.5686127623344521, 'min_split_gain': 0.2591908369369838, 'subsample': 0.2806516198107635}. Best is trial 4 with value: 0.8774.\u001b[0m\n",
            "\u001b[32m[I 2022-08-28 14:05:10,956]\u001b[0m Trial 27 finished with value: 0.8761 and parameters: {'num_leaves': 95, 'num_boost_rounds': 138, 'learning_rate': 0.2887133366556728, 'max_depth': 26, 'colsample_bytree': 0.8559022349882319, 'reg_alpha': 2.087053203946431, 'reg_lambda': 0.46068015169756943, 'min_split_gain': 0.2698557298328155, 'subsample': 0.2979713930781892}. Best is trial 4 with value: 0.8774.\u001b[0m\n",
            "\u001b[32m[I 2022-08-28 14:05:12,395]\u001b[0m Trial 28 finished with value: 0.7581 and parameters: {'num_leaves': 74, 'num_boost_rounds': 137, 'learning_rate': 0.014468342899528431, 'max_depth': 26, 'colsample_bytree': 0.10374078267165732, 'reg_alpha': 1.0565361226507848, 'reg_lambda': 0.5221402931877442, 'min_split_gain': 0.37966737430788794, 'subsample': 0.3102114757418422}. Best is trial 4 with value: 0.8774.\u001b[0m\n",
            "\u001b[32m[I 2022-08-28 14:05:15,638]\u001b[0m Trial 29 finished with value: 0.7867 and parameters: {'num_leaves': 100, 'num_boost_rounds': 116, 'learning_rate': 0.0028331963729381036, 'max_depth': 59, 'colsample_bytree': 0.8724204497884127, 'reg_alpha': 2.0316124746587465, 'reg_lambda': 0.2673633233287578, 'min_split_gain': 0.24596014771297406, 'subsample': 0.2560971461212512}. Best is trial 4 with value: 0.8774.\u001b[0m\n",
            "\u001b[32m[I 2022-08-28 14:05:17,587]\u001b[0m Trial 30 finished with value: 0.8767 and parameters: {'num_leaves': 83, 'num_boost_rounds': 118, 'learning_rate': 0.21443751611357087, 'max_depth': 28, 'colsample_bytree': 0.4883218143350877, 'reg_alpha': 0.6248908972455665, 'reg_lambda': 1.2176120296221997, 'min_split_gain': 0.22645008108976727, 'subsample': 0.21992591120340596}. Best is trial 4 with value: 0.8774.\u001b[0m\n",
            "\u001b[32m[I 2022-08-28 14:05:19,441]\u001b[0m Trial 31 finished with value: 0.8766 and parameters: {'num_leaves': 85, 'num_boost_rounds': 116, 'learning_rate': 0.21301771220325944, 'max_depth': 27, 'colsample_bytree': 0.49720806223746106, 'reg_alpha': 0.5468236590009603, 'reg_lambda': 1.0061788524403132, 'min_split_gain': 0.23068676735431046, 'subsample': 0.23759609570080967}. Best is trial 4 with value: 0.8774.\u001b[0m\n",
            "\u001b[32m[I 2022-08-28 14:05:21,525]\u001b[0m Trial 32 finished with value: 0.878 and parameters: {'num_leaves': 84, 'num_boost_rounds': 112, 'learning_rate': 0.19279324875297588, 'max_depth': 28, 'colsample_bytree': 0.4984289327521646, 'reg_alpha': 0.6460187332143055, 'reg_lambda': 0.6872641031158714, 'min_split_gain': 0.20573499718465482, 'subsample': 0.22240423853670951}. Best is trial 32 with value: 0.878.\u001b[0m\n",
            "\u001b[32m[I 2022-08-28 14:05:23,909]\u001b[0m Trial 33 finished with value: 0.8751 and parameters: {'num_leaves': 83, 'num_boost_rounds': 116, 'learning_rate': 0.09971043042542581, 'max_depth': 10, 'colsample_bytree': 0.5039585600479203, 'reg_alpha': 0.6792913909496521, 'reg_lambda': 1.0320068992429643, 'min_split_gain': 0.1916528800552191, 'subsample': 0.23000426564364157}. Best is trial 32 with value: 0.878.\u001b[0m\n",
            "\u001b[32m[I 2022-08-28 14:05:26,056]\u001b[0m Trial 34 finished with value: 0.8642 and parameters: {'num_leaves': 61, 'num_boost_rounds': 101, 'learning_rate': 0.056223189166539705, 'max_depth': 38, 'colsample_bytree': 0.3657186625505586, 'reg_alpha': 0.513613343166374, 'reg_lambda': 0.7345746070218331, 'min_split_gain': 0.3472188908202968, 'subsample': 0.3580698428711813}. Best is trial 32 with value: 0.878.\u001b[0m\n",
            "\u001b[32m[I 2022-08-28 14:05:28,208]\u001b[0m Trial 35 finished with value: 0.8407 and parameters: {'num_leaves': 74, 'num_boost_rounds': 118, 'learning_rate': 0.023082069701466097, 'max_depth': 30, 'colsample_bytree': 0.2949897337696841, 'reg_alpha': 0.271582187864402, 'reg_lambda': 1.074378658151912, 'min_split_gain': 0.21227083170381128, 'subsample': 0.20309679116738674}. Best is trial 32 with value: 0.878.\u001b[0m\n",
            "\u001b[32m[I 2022-08-28 14:05:29,741]\u001b[0m Trial 36 finished with value: 0.8592 and parameters: {'num_leaves': 52, 'num_boost_rounds': 124, 'learning_rate': 0.16842878806557812, 'max_depth': 53, 'colsample_bytree': 0.17228597536213244, 'reg_alpha': 0.9304752988632293, 'reg_lambda': 1.1340853573426535, 'min_split_gain': 0.2936240127505138, 'subsample': 0.24706495274198043}. Best is trial 32 with value: 0.878.\u001b[0m\n",
            "\u001b[32m[I 2022-08-28 14:05:31,643]\u001b[0m Trial 37 finished with value: 0.8768 and parameters: {'num_leaves': 84, 'num_boost_rounds': 275, 'learning_rate': 0.24866188764112818, 'max_depth': 19, 'colsample_bytree': 0.4609365423260175, 'reg_alpha': 0.5289786560116639, 'reg_lambda': 0.6815462194752244, 'min_split_gain': 0.18513383154788285, 'subsample': 0.42725165132487586}. Best is trial 32 with value: 0.878.\u001b[0m\n",
            "\u001b[32m[I 2022-08-28 14:05:33,705]\u001b[0m Trial 38 finished with value: 0.8721 and parameters: {'num_leaves': 66, 'num_boost_rounds': 210, 'learning_rate': 0.1219484430543651, 'max_depth': 17, 'colsample_bytree': 0.378507541125628, 'reg_alpha': 1.1743667634183785, 'reg_lambda': 0.6261144725567641, 'min_split_gain': 0.18656791880520945, 'subsample': 0.42922630019888997}. Best is trial 32 with value: 0.878.\u001b[0m\n",
            "\u001b[32m[I 2022-08-28 14:05:35,251]\u001b[0m Trial 39 finished with value: 0.8692 and parameters: {'num_leaves': 77, 'num_boost_rounds': 223, 'learning_rate': 0.6186060349594606, 'max_depth': 8, 'colsample_bytree': 0.439010359047648, 'reg_alpha': 0.30266239528943334, 'reg_lambda': 0.32796046979190013, 'min_split_gain': 0.1466769672352245, 'subsample': 0.3392872874105303}. Best is trial 32 with value: 0.878.\u001b[0m\n",
            "\u001b[32m[I 2022-08-28 14:05:37,171]\u001b[0m Trial 40 finished with value: 0.8443 and parameters: {'num_leaves': 46, 'num_boost_rounds': 281, 'learning_rate': 0.028676670554459105, 'max_depth': 66, 'colsample_bytree': 0.29499974661757256, 'reg_alpha': 0.1691986552086262, 'reg_lambda': 0.7247232893678768, 'min_split_gain': 0.11280666497814738, 'subsample': 0.516959043805832}. Best is trial 32 with value: 0.878.\u001b[0m\n",
            "\u001b[32m[I 2022-08-28 14:05:39,055]\u001b[0m Trial 41 finished with value: 0.8774 and parameters: {'num_leaves': 85, 'num_boost_rounds': 272, 'learning_rate': 0.22620132042473698, 'max_depth': 20, 'colsample_bytree': 0.4997612899822725, 'reg_alpha': 0.6107099388440103, 'reg_lambda': 1.0086794780225614, 'min_split_gain': 0.2104681009066144, 'subsample': 0.21590592356259397}. Best is trial 32 with value: 0.878.\u001b[0m\n",
            "\u001b[32m[I 2022-08-28 14:05:40,879]\u001b[0m Trial 42 finished with value: 0.8777 and parameters: {'num_leaves': 84, 'num_boost_rounds': 298, 'learning_rate': 0.25826458690317516, 'max_depth': 20, 'colsample_bytree': 0.5754199090505281, 'reg_alpha': 0.673712039408865, 'reg_lambda': 0.6742904662598103, 'min_split_gain': 0.20475136613627662, 'subsample': 0.21496407796947653}. Best is trial 32 with value: 0.878.\u001b[0m\n",
            "\u001b[32m[I 2022-08-28 14:05:42,420]\u001b[0m Trial 43 finished with value: 0.8734 and parameters: {'num_leaves': 96, 'num_boost_rounds': 276, 'learning_rate': 0.6112288194445168, 'max_depth': 20, 'colsample_bytree': 0.6104828481167706, 'reg_alpha': 0.8009878009772274, 'reg_lambda': 0.6313729649851907, 'min_split_gain': 0.13790392129248608, 'subsample': 0.26769367508817377}. Best is trial 32 with value: 0.878.\u001b[0m\n",
            "\u001b[32m[I 2022-08-28 14:05:44,906]\u001b[0m Trial 44 finished with value: 0.8716 and parameters: {'num_leaves': 79, 'num_boost_rounds': 265, 'learning_rate': 0.06735779693371369, 'max_depth': 10, 'colsample_bytree': 0.5507489608328067, 'reg_alpha': 0.771463969609614, 'reg_lambda': 0.8482084095181512, 'min_split_gain': 0.164262678190167, 'subsample': 0.4021475942284761}. Best is trial 32 with value: 0.878.\u001b[0m\n",
            "\u001b[32m[I 2022-08-28 14:05:47,109]\u001b[0m Trial 45 finished with value: 0.8752 and parameters: {'num_leaves': 85, 'num_boost_rounds': 298, 'learning_rate': 0.1335908070629113, 'max_depth': 14, 'colsample_bytree': 0.39962007340392436, 'reg_alpha': 1.5134714694934082, 'reg_lambda': 0.4422978139412908, 'min_split_gain': 0.19107642674788103, 'subsample': 0.5065733312343026}. Best is trial 32 with value: 0.878.\u001b[0m\n",
            "\u001b[32m[I 2022-08-28 14:05:48,821]\u001b[0m Trial 46 finished with value: 0.8746 and parameters: {'num_leaves': 93, 'num_boost_rounds': 262, 'learning_rate': 0.24925565145601503, 'max_depth': 33, 'colsample_bytree': 0.4480046828300409, 'reg_alpha': 0.5503026988480706, 'reg_lambda': 0.3459062562203108, 'min_split_gain': 0.3055989921612393, 'subsample': 0.4505106677983551}. Best is trial 32 with value: 0.878.\u001b[0m\n",
            "\u001b[32m[I 2022-08-28 14:05:51,446]\u001b[0m Trial 47 finished with value: 0.7763 and parameters: {'num_leaves': 71, 'num_boost_rounds': 286, 'learning_rate': 0.0037769509909617864, 'max_depth': 22, 'colsample_bytree': 0.5476871352434303, 'reg_alpha': 0.32631821997754107, 'reg_lambda': 0.8722799904574154, 'min_split_gain': 0.2104202776806916, 'subsample': 0.13534932610636843}. Best is trial 32 with value: 0.878.\u001b[0m\n",
            "\u001b[32m[I 2022-08-28 14:05:53,539]\u001b[0m Trial 48 finished with value: 0.6279 and parameters: {'num_leaves': 77, 'num_boost_rounds': 243, 'learning_rate': 0.00019826017843273716, 'max_depth': 6, 'colsample_bytree': 0.6029997374350495, 'reg_alpha': 0.20410585100780282, 'reg_lambda': 1.5883274029893812, 'min_split_gain': 0.28547567383409134, 'subsample': 0.21145390167520653}. Best is trial 32 with value: 0.878.\u001b[0m\n",
            "\u001b[32m[I 2022-08-28 14:05:55,219]\u001b[0m Trial 49 finished with value: 0.8589 and parameters: {'num_leaves': 16, 'num_boost_rounds': 300, 'learning_rate': 0.08931215662961114, 'max_depth': 84, 'colsample_bytree': 0.49269451390625574, 'reg_alpha': 0.9306743925462363, 'reg_lambda': 0.6751461965351087, 'min_split_gain': 0.3374266236662242, 'subsample': 0.33930148919070774}. Best is trial 32 with value: 0.878.\u001b[0m\n",
            "\u001b[32m[I 2022-08-28 14:05:57,865]\u001b[0m Trial 50 finished with value: 0.8403 and parameters: {'num_leaves': 63, 'num_boost_rounds': 271, 'learning_rate': 0.008543510960392447, 'max_depth': 15, 'colsample_bytree': 0.6381703926063321, 'reg_alpha': 0.601357924881004, 'reg_lambda': 0.49974479418629525, 'min_split_gain': 0.6453403994599161, 'subsample': 0.18384576632183192}. Best is trial 32 with value: 0.878.\u001b[0m\n",
            "\u001b[32m[I 2022-08-28 14:05:59,731]\u001b[0m Trial 51 finished with value: 0.876 and parameters: {'num_leaves': 82, 'num_boost_rounds': 258, 'learning_rate': 0.27830344912896043, 'max_depth': 30, 'colsample_bytree': 0.472566031998573, 'reg_alpha': 0.44670551956029647, 'reg_lambda': 1.3088241326423893, 'min_split_gain': 0.1859637745012622, 'subsample': 0.22534940493152328}. Best is trial 32 with value: 0.878.\u001b[0m\n",
            "\u001b[32m[I 2022-08-28 14:06:01,781]\u001b[0m Trial 52 finished with value: 0.8767 and parameters: {'num_leaves': 90, 'num_boost_rounds': 291, 'learning_rate': 0.1802249000625402, 'max_depth': 29, 'colsample_bytree': 0.5433453571417857, 'reg_alpha': 0.6751349096431147, 'reg_lambda': 0.8847554728684374, 'min_split_gain': 0.2309743707545907, 'subsample': 0.5897335889731524}. Best is trial 32 with value: 0.878.\u001b[0m\n",
            "\u001b[32m[I 2022-08-28 14:06:03,523]\u001b[0m Trial 53 finished with value: 0.8667 and parameters: {'num_leaves': 89, 'num_boost_rounds': 290, 'learning_rate': 0.1549862331577887, 'max_depth': 38, 'colsample_bytree': 0.22946035033982184, 'reg_alpha': 0.10098987578138574, 'reg_lambda': 0.8974187637311789, 'min_split_gain': 0.9346532046564269, 'subsample': 0.6158359030828912}. Best is trial 32 with value: 0.878.\u001b[0m\n",
            "\u001b[32m[I 2022-08-28 14:06:04,780]\u001b[0m Trial 54 finished with value: 0.866 and parameters: {'num_leaves': 84, 'num_boost_rounds': 246, 'learning_rate': 0.9256461497572456, 'max_depth': 21, 'colsample_bytree': 0.40448366757309623, 'reg_alpha': 0.8116920618340412, 'reg_lambda': 1.1739949656788442, 'min_split_gain': 0.16146585848595335, 'subsample': 0.2183021037284308}. Best is trial 32 with value: 0.878.\u001b[0m\n",
            "\u001b[32m[I 2022-08-28 14:06:06,361]\u001b[0m Trial 55 finished with value: 0.8754 and parameters: {'num_leaves': 81, 'num_boost_rounds': 107, 'learning_rate': 0.4638748150267624, 'max_depth': 13, 'colsample_bytree': 0.772451075210006, 'reg_alpha': 0.337770551615053, 'reg_lambda': 1.844311782847744, 'min_split_gain': 0.23083558504440918, 'subsample': 0.14270850053731693}. Best is trial 32 with value: 0.878.\u001b[0m\n",
            "\u001b[32m[I 2022-08-28 14:06:09,003]\u001b[0m Trial 56 finished with value: 0.8769 and parameters: {'num_leaves': 98, 'num_boost_rounds': 274, 'learning_rate': 0.08316458652253593, 'max_depth': 33, 'colsample_bytree': 0.564643833136495, 'reg_alpha': 1.0594796763739935, 'reg_lambda': 0.38260409265152284, 'min_split_gain': 0.11020303062792836, 'subsample': 0.786432042917023}. Best is trial 32 with value: 0.878.\u001b[0m\n",
            "\u001b[32m[I 2022-08-28 14:06:11,991]\u001b[0m Trial 57 finished with value: 0.8718 and parameters: {'num_leaves': 98, 'num_boost_rounds': 273, 'learning_rate': 0.0416735235277329, 'max_depth': 35, 'colsample_bytree': 0.6743398193145224, 'reg_alpha': 1.0808491283491513, 'reg_lambda': 0.2762528494638997, 'min_split_gain': 0.10764252641154692, 'subsample': 0.8874372531960858}. Best is trial 32 with value: 0.878.\u001b[0m\n",
            "\u001b[32m[I 2022-08-28 14:06:14,629]\u001b[0m Trial 58 finished with value: 0.8752 and parameters: {'num_leaves': 93, 'num_boost_rounds': 283, 'learning_rate': 0.08347132709494046, 'max_depth': 23, 'colsample_bytree': 0.5604022024201725, 'reg_alpha': 2.8177066028847166, 'reg_lambda': 0.5832233209648798, 'min_split_gain': 0.13812512512462935, 'subsample': 0.7101261548539269}. Best is trial 32 with value: 0.878.\u001b[0m\n",
            "\u001b[32m[I 2022-08-28 14:06:16,932]\u001b[0m Trial 59 finished with value: 0.8729 and parameters: {'num_leaves': 100, 'num_boost_rounds': 233, 'learning_rate': 0.109469703345555, 'max_depth': 41, 'colsample_bytree': 0.35526377742037263, 'reg_alpha': 1.6919912537295767, 'reg_lambda': 0.17995705366900433, 'min_split_gain': 0.10926297007578768, 'subsample': 0.7435653905628481}. Best is trial 32 with value: 0.878.\u001b[0m\n",
            "\u001b[32m[I 2022-08-28 14:06:19,586]\u001b[0m Trial 60 finished with value: 0.8713 and parameters: {'num_leaves': 86, 'num_boost_rounds': 252, 'learning_rate': 0.054767062059118736, 'max_depth': 47, 'colsample_bytree': 0.5267273684583579, 'reg_alpha': 0.4833656400898187, 'reg_lambda': 0.35786698113941307, 'min_split_gain': 0.15287927782470206, 'subsample': 0.18980381477832162}. Best is trial 32 with value: 0.878.\u001b[0m\n",
            "\u001b[32m[I 2022-08-28 14:06:21,553]\u001b[0m Trial 61 finished with value: 0.8789 and parameters: {'num_leaves': 90, 'num_boost_rounds': 294, 'learning_rate': 0.2634591256088394, 'max_depth': 33, 'colsample_bytree': 0.5920424848355047, 'reg_alpha': 0.6950848713455688, 'reg_lambda': 0.7482053219756563, 'min_split_gain': 0.17460176389256168, 'subsample': 0.5634597334078135}. Best is trial 61 with value: 0.8789.\u001b[0m\n",
            "\u001b[32m[I 2022-08-28 14:06:23,545]\u001b[0m Trial 62 finished with value: 0.8768 and parameters: {'num_leaves': 96, 'num_boost_rounds': 267, 'learning_rate': 0.2731584310167926, 'max_depth': 33, 'colsample_bytree': 0.6476073528332531, 'reg_alpha': 1.3152966163441198, 'reg_lambda': 0.39756940775176564, 'min_split_gain': 0.11728132139746394, 'subsample': 0.8595325895633773}. Best is trial 61 with value: 0.8789.\u001b[0m\n",
            "\u001b[32m[I 2022-08-28 14:06:25,284]\u001b[0m Trial 63 finished with value: 0.8763 and parameters: {'num_leaves': 93, 'num_boost_rounds': 296, 'learning_rate': 0.5576134369001127, 'max_depth': 34, 'colsample_bytree': 0.7410994361396417, 'reg_alpha': 0.8645190881558676, 'reg_lambda': 0.40579285142176424, 'min_split_gain': 0.12448623207125761, 'subsample': 0.9971173034199645}. Best is trial 61 with value: 0.8789.\u001b[0m\n",
            "\u001b[32m[I 2022-08-28 14:06:28,672]\u001b[0m Trial 64 finished with value: 0.879 and parameters: {'num_leaves': 89, 'num_boost_rounds': 278, 'learning_rate': 0.326330534442077, 'max_depth': 18, 'colsample_bytree': 0.5878623238411388, 'reg_alpha': 0.3719775837668559, 'reg_lambda': 0.767368873692178, 'min_split_gain': 0.17032518093722038, 'subsample': 0.5436159273086816}. Best is trial 64 with value: 0.879.\u001b[0m\n",
            "\u001b[32m[I 2022-08-28 14:06:30,370]\u001b[0m Trial 65 finished with value: 0.8781 and parameters: {'num_leaves': 89, 'num_boost_rounds': 279, 'learning_rate': 0.38260852303813814, 'max_depth': 25, 'colsample_bytree': 0.6148822299352523, 'reg_alpha': 0.37276687519421625, 'reg_lambda': 0.5122832497473803, 'min_split_gain': 0.17209061881722867, 'subsample': 0.6831455081442958}. Best is trial 64 with value: 0.879.\u001b[0m\n",
            "\u001b[32m[I 2022-08-28 14:06:31,827]\u001b[0m Trial 66 finished with value: 0.8709 and parameters: {'num_leaves': 88, 'num_boost_rounds': 287, 'learning_rate': 0.7680734921593407, 'max_depth': 25, 'colsample_bytree': 0.6002755178360323, 'reg_alpha': 0.3564957779691187, 'reg_lambda': 0.5329201501171216, 'min_split_gain': 0.1771263662569065, 'subsample': 0.5507465563877624}. Best is trial 64 with value: 0.879.\u001b[0m\n",
            "\u001b[32m[I 2022-08-28 14:06:33,630]\u001b[0m Trial 67 finished with value: 0.8775 and parameters: {'num_leaves': 79, 'num_boost_rounds': 280, 'learning_rate': 0.3892824595342131, 'max_depth': 16, 'colsample_bytree': 0.8178826635575657, 'reg_alpha': 0.24834332272629225, 'reg_lambda': 0.7935666529260356, 'min_split_gain': 0.20671499555539724, 'subsample': 0.682098544140288}. Best is trial 64 with value: 0.879.\u001b[0m\n",
            "\u001b[32m[I 2022-08-28 14:06:35,518]\u001b[0m Trial 68 finished with value: 0.8708 and parameters: {'num_leaves': 90, 'num_boost_rounds': 180, 'learning_rate': 0.35532813921853884, 'max_depth': 5, 'colsample_bytree': 0.9024249140954355, 'reg_alpha': 0.24637666896991706, 'reg_lambda': 0.7541601284981391, 'min_split_gain': 0.17149071668020338, 'subsample': 0.6521711398496309}. Best is trial 64 with value: 0.879.\u001b[0m\n",
            "\u001b[32m[I 2022-08-28 14:06:37,137]\u001b[0m Trial 69 finished with value: 0.8764 and parameters: {'num_leaves': 75, 'num_boost_rounds': 279, 'learning_rate': 0.5006736244126548, 'max_depth': 12, 'colsample_bytree': 0.8023246704926242, 'reg_alpha': 0.1913389189209209, 'reg_lambda': 1.6058655210470323, 'min_split_gain': 0.19980767705356733, 'subsample': 0.68299483463733}. Best is trial 64 with value: 0.879.\u001b[0m\n",
            "\u001b[32m[I 2022-08-28 14:06:38,905]\u001b[0m Trial 70 finished with value: 0.8762 and parameters: {'num_leaves': 80, 'num_boost_rounds': 255, 'learning_rate': 0.32740168825695265, 'max_depth': 100, 'colsample_bytree': 0.6955780478863549, 'reg_alpha': 0.3709925325257652, 'reg_lambda': 0.48091238346384796, 'min_split_gain': 0.20529886868060376, 'subsample': 0.5705752712472228}. Best is trial 64 with value: 0.879.\u001b[0m\n",
            "\u001b[32m[I 2022-08-28 14:06:40,335]\u001b[0m Trial 71 finished with value: 0.8723 and parameters: {'num_leaves': 87, 'num_boost_rounds': 294, 'learning_rate': 0.7177541507421364, 'max_depth': 16, 'colsample_bytree': 0.6332842535270998, 'reg_alpha': 0.2813968771238606, 'reg_lambda': 0.9895954369471492, 'min_split_gain': 0.24978403083168382, 'subsample': 0.2682897196838723}. Best is trial 64 with value: 0.879.\u001b[0m\n",
            "\u001b[32m[I 2022-08-28 14:06:42,394]\u001b[0m Trial 72 finished with value: 0.8793 and parameters: {'num_leaves': 92, 'num_boost_rounds': 283, 'learning_rate': 0.41253153424378863, 'max_depth': 24, 'colsample_bytree': 0.7424416030929718, 'reg_alpha': 0.42469102734748193, 'reg_lambda': 0.7644962405573796, 'min_split_gain': 0.1357911410219849, 'subsample': 0.16759171468489262}. Best is trial 72 with value: 0.8793.\u001b[0m\n",
            "\u001b[32m[I 2022-08-28 14:06:44,369]\u001b[0m Trial 73 finished with value: 0.879 and parameters: {'num_leaves': 91, 'num_boost_rounds': 285, 'learning_rate': 0.3820606238847173, 'max_depth': 19, 'colsample_bytree': 0.8258083172155831, 'reg_alpha': 0.47722589412442945, 'reg_lambda': 0.5724157832783571, 'min_split_gain': 0.14242118056857478, 'subsample': 0.4632398687853709}. Best is trial 72 with value: 0.8793.\u001b[0m\n",
            "\u001b[32m[I 2022-08-28 14:06:46,253]\u001b[0m Trial 74 finished with value: 0.8687 and parameters: {'num_leaves': 91, 'num_boost_rounds': 285, 'learning_rate': 0.9947111611165026, 'max_depth': 17, 'colsample_bytree': 0.8694607447150452, 'reg_alpha': 0.44844876237926806, 'reg_lambda': 0.572492243401158, 'min_split_gain': 0.1398351483862685, 'subsample': 0.7878217194761383}. Best is trial 72 with value: 0.8793.\u001b[0m\n",
            "\u001b[32m[I 2022-08-28 14:06:48,426]\u001b[0m Trial 75 finished with value: 0.8782 and parameters: {'num_leaves': 95, 'num_boost_rounds': 280, 'learning_rate': 0.40003312704613425, 'max_depth': 24, 'colsample_bytree': 0.9502723727500222, 'reg_alpha': 0.2500857587517999, 'reg_lambda': 0.7736456272645605, 'min_split_gain': 0.15442959570832707, 'subsample': 0.6251471895653508}. Best is trial 72 with value: 0.8793.\u001b[0m\n",
            "\u001b[32m[I 2022-08-28 14:06:50,418]\u001b[0m Trial 76 finished with value: 0.8784 and parameters: {'num_leaves': 95, 'num_boost_rounds': 292, 'learning_rate': 0.5080064052807388, 'max_depth': 24, 'colsample_bytree': 0.951880423821523, 'reg_alpha': 0.40977649349053336, 'reg_lambda': 0.6498844839339496, 'min_split_gain': 0.1553556237702376, 'subsample': 0.6295962682640742}. Best is trial 72 with value: 0.8793.\u001b[0m\n",
            "\u001b[32m[I 2022-08-28 14:06:52,289]\u001b[0m Trial 77 finished with value: 0.876 and parameters: {'num_leaves': 94, 'num_boost_rounds': 267, 'learning_rate': 0.49026747794116016, 'max_depth': 25, 'colsample_bytree': 0.9466921304882759, 'reg_alpha': 0.41141967685120495, 'reg_lambda': 0.44551603072018786, 'min_split_gain': 0.15305050759818578, 'subsample': 0.4660033863590472}. Best is trial 72 with value: 0.8793.\u001b[0m\n",
            "\u001b[32m[I 2022-08-28 14:06:55,778]\u001b[0m Trial 78 finished with value: 0.6279 and parameters: {'num_leaves': 97, 'num_boost_rounds': 293, 'learning_rate': 0.001284617503404371, 'max_depth': 24, 'colsample_bytree': 0.9416872542605993, 'reg_alpha': 0.16203857820681086, 'reg_lambda': 0.6084922882806758, 'min_split_gain': 0.13112541782635412, 'subsample': 0.5436623631584502}. Best is trial 72 with value: 0.8793.\u001b[0m\n",
            "\u001b[32m[I 2022-08-28 14:06:57,586]\u001b[0m Trial 79 finished with value: 0.873 and parameters: {'num_leaves': 91, 'num_boost_rounds': 262, 'learning_rate': 0.7246644710470355, 'max_depth': 37, 'colsample_bytree': 0.9912259662254844, 'reg_alpha': 0.2987390293533661, 'reg_lambda': 0.754275122647608, 'min_split_gain': 0.156780010803971, 'subsample': 0.48360255932547946}. Best is trial 72 with value: 0.8793.\u001b[0m\n",
            "\u001b[32m[I 2022-08-28 14:06:59,476]\u001b[0m Trial 80 finished with value: 0.8767 and parameters: {'num_leaves': 95, 'num_boost_rounds': 216, 'learning_rate': 0.4142561533447787, 'max_depth': 28, 'colsample_bytree': 0.7402815034406878, 'reg_alpha': 0.4581468480226494, 'reg_lambda': 0.295352571296238, 'min_split_gain': 0.14615719125834334, 'subsample': 0.6110083817092863}. Best is trial 72 with value: 0.8793.\u001b[0m\n",
            "\u001b[32m[I 2022-08-28 14:07:01,783]\u001b[0m Trial 81 finished with value: 0.8799 and parameters: {'num_leaves': 88, 'num_boost_rounds': 290, 'learning_rate': 0.19998971671218613, 'max_depth': 21, 'colsample_bytree': 0.8244289680336279, 'reg_alpha': 0.3945158851731482, 'reg_lambda': 0.6671655570081518, 'min_split_gain': 0.1745375227916115, 'subsample': 0.6392656150325873}. Best is trial 81 with value: 0.8799.\u001b[0m\n",
            "\u001b[32m[I 2022-08-28 14:07:04,087]\u001b[0m Trial 82 finished with value: 0.8796 and parameters: {'num_leaves': 88, 'num_boost_rounds': 289, 'learning_rate': 0.19291511449337365, 'max_depth': 27, 'colsample_bytree': 0.8720897120445466, 'reg_alpha': 0.32767428224726663, 'reg_lambda': 0.655157334045013, 'min_split_gain': 0.17635446487983528, 'subsample': 0.6576382432320176}. Best is trial 81 with value: 0.8799.\u001b[0m\n",
            "\u001b[32m[I 2022-08-28 14:07:06,526]\u001b[0m Trial 83 finished with value: 0.879 and parameters: {'num_leaves': 88, 'num_boost_rounds': 289, 'learning_rate': 0.14956481584583892, 'max_depth': 22, 'colsample_bytree': 0.8483938359671221, 'reg_alpha': 0.39866132997341386, 'reg_lambda': 0.5546685459671038, 'min_split_gain': 0.17334098808810386, 'subsample': 0.6416898150598938}. Best is trial 81 with value: 0.8799.\u001b[0m\n",
            "\u001b[32m[I 2022-08-28 14:07:08,922]\u001b[0m Trial 84 finished with value: 0.8795 and parameters: {'num_leaves': 87, 'num_boost_rounds': 288, 'learning_rate': 0.15425224384857272, 'max_depth': 22, 'colsample_bytree': 0.8470860681068954, 'reg_alpha': 0.3163310365238795, 'reg_lambda': 0.9521208482405118, 'min_split_gain': 0.13422065423143573, 'subsample': 0.5374722170449049}. Best is trial 81 with value: 0.8799.\u001b[0m\n",
            "\u001b[32m[I 2022-08-28 14:07:11,395]\u001b[0m Trial 85 finished with value: 0.8777 and parameters: {'num_leaves': 87, 'num_boost_rounds': 288, 'learning_rate': 0.15422146498425857, 'max_depth': 11, 'colsample_bytree': 0.8330507349436483, 'reg_alpha': 0.3214142187532408, 'reg_lambda': 0.958650883238523, 'min_split_gain': 0.12840314373179884, 'subsample': 0.5274887122023036}. Best is trial 81 with value: 0.8799.\u001b[0m\n",
            "\u001b[32m[I 2022-08-28 14:07:13,748]\u001b[0m Trial 86 finished with value: 0.8801 and parameters: {'num_leaves': 92, 'num_boost_rounds': 300, 'learning_rate': 0.20003890792821194, 'max_depth': 19, 'colsample_bytree': 0.8897674730229248, 'reg_alpha': 0.3928406120419266, 'reg_lambda': 0.6441970030236073, 'min_split_gain': 0.14016491628963365, 'subsample': 0.5894903627495659}. Best is trial 86 with value: 0.8801.\u001b[0m\n",
            "\u001b[32m[I 2022-08-28 14:07:16,011]\u001b[0m Trial 87 finished with value: 0.8796 and parameters: {'num_leaves': 91, 'num_boost_rounds': 300, 'learning_rate': 0.19871776318863638, 'max_depth': 19, 'colsample_bytree': 0.7686897545129528, 'reg_alpha': 0.22461349811528858, 'reg_lambda': 0.5520690099554435, 'min_split_gain': 0.13589414567875002, 'subsample': 0.5765637286564355}. Best is trial 86 with value: 0.8801.\u001b[0m\n",
            "\u001b[32m[I 2022-08-28 14:07:18,420]\u001b[0m Trial 88 finished with value: 0.8776 and parameters: {'num_leaves': 87, 'num_boost_rounds': 300, 'learning_rate': 0.12589331418337654, 'max_depth': 19, 'colsample_bytree': 0.7662943892467141, 'reg_alpha': 0.17403782951785635, 'reg_lambda': 0.5440625299319523, 'min_split_gain': 0.11866290787440094, 'subsample': 0.3791150744413119}. Best is trial 86 with value: 0.8801.\u001b[0m\n",
            "\u001b[32m[I 2022-08-28 14:07:20,293]\u001b[0m Trial 89 finished with value: 0.8726 and parameters: {'num_leaves': 29, 'num_boost_rounds': 285, 'learning_rate': 0.19787919293783715, 'max_depth': 14, 'colsample_bytree': 0.8827760245258822, 'reg_alpha': 0.27431216923954854, 'reg_lambda': 0.4442634848860247, 'min_split_gain': 0.13387029015502824, 'subsample': 0.7636490185966602}. Best is trial 86 with value: 0.8801.\u001b[0m\n",
            "\u001b[32m[I 2022-08-28 14:07:22,485]\u001b[0m Trial 90 finished with value: 0.8667 and parameters: {'num_leaves': 92, 'num_boost_rounds': 288, 'learning_rate': 0.137297081133329, 'max_depth': 6, 'colsample_bytree': 0.8400484351779549, 'reg_alpha': 0.21806000600195133, 'reg_lambda': 0.22544076528562348, 'min_split_gain': 0.14345058554095108, 'subsample': 0.47900692742889417}. Best is trial 86 with value: 0.8801.\u001b[0m\n",
            "\u001b[32m[I 2022-08-28 14:07:24,351]\u001b[0m Trial 91 finished with value: 0.8779 and parameters: {'num_leaves': 82, 'num_boost_rounds': 294, 'learning_rate': 0.2971378584928122, 'max_depth': 22, 'colsample_bytree': 0.6997516092862281, 'reg_alpha': 0.5003322812025769, 'reg_lambda': 0.8393156309710536, 'min_split_gain': 0.17902131682845632, 'subsample': 0.5523251979157021}. Best is trial 86 with value: 0.8801.\u001b[0m\n",
            "\u001b[32m[I 2022-08-28 14:07:26,697]\u001b[0m Trial 92 finished with value: 0.8778 and parameters: {'num_leaves': 90, 'num_boost_rounds': 296, 'learning_rate': 0.20915785778769475, 'max_depth': 18, 'colsample_bytree': 0.8963087236606357, 'reg_alpha': 0.5720059695503821, 'reg_lambda': 6.463696870496403, 'min_split_gain': 0.16650298565773397, 'subsample': 0.5815807829116431}. Best is trial 86 with value: 0.8801.\u001b[0m\n",
            "\u001b[32m[I 2022-08-28 14:07:29,114]\u001b[0m Trial 93 finished with value: 0.8808 and parameters: {'num_leaves': 92, 'num_boost_rounds': 300, 'learning_rate': 0.16807882041182817, 'max_depth': 21, 'colsample_bytree': 0.7921614554633604, 'reg_alpha': 0.3255572313642769, 'reg_lambda': 0.623521115660291, 'min_split_gain': 0.1628508911886402, 'subsample': 0.11522269951697406}. Best is trial 93 with value: 0.8808.\u001b[0m\n",
            "\u001b[32m[I 2022-08-28 14:07:31,677]\u001b[0m Trial 94 finished with value: 0.877 and parameters: {'num_leaves': 98, 'num_boost_rounds': 290, 'learning_rate': 0.1584547293030376, 'max_depth': 9, 'colsample_bytree': 0.7575863856025632, 'reg_alpha': 0.2174449364179448, 'reg_lambda': 0.5856392801840598, 'min_split_gain': 0.10038211209347604, 'subsample': 0.11563887517126267}. Best is trial 93 with value: 0.8808.\u001b[0m\n",
            "\u001b[32m[I 2022-08-28 14:07:34,287]\u001b[0m Trial 95 finished with value: 0.8776 and parameters: {'num_leaves': 92, 'num_boost_rounds': 300, 'learning_rate': 0.11219991322983457, 'max_depth': 20, 'colsample_bytree': 0.78466088798621, 'reg_alpha': 0.2998839488128755, 'reg_lambda': 0.6786576613997672, 'min_split_gain': 0.12204847544604401, 'subsample': 0.6542835148675272}. Best is trial 93 with value: 0.8808.\u001b[0m\n",
            "\u001b[32m[I 2022-08-28 14:07:37,170]\u001b[0m Trial 96 finished with value: 0.8751 and parameters: {'num_leaves': 87, 'num_boost_rounds': 283, 'learning_rate': 0.06924565526086564, 'max_depth': 22, 'colsample_bytree': 0.8465745814844561, 'reg_alpha': 0.3441949651039265, 'reg_lambda': 1.1137091265896943, 'min_split_gain': 0.132857443271196, 'subsample': 0.4518128108076283}. Best is trial 93 with value: 0.8808.\u001b[0m\n",
            "\u001b[32m[I 2022-08-28 14:07:39,388]\u001b[0m Trial 97 finished with value: 0.8792 and parameters: {'num_leaves': 85, 'num_boost_rounds': 271, 'learning_rate': 0.19462099864943655, 'max_depth': 31, 'colsample_bytree': 0.725150155712772, 'reg_alpha': 0.39358304787900494, 'reg_lambda': 0.462061462120633, 'min_split_gain': 0.1643021100704588, 'subsample': 0.11918938175917963}. Best is trial 93 with value: 0.8808.\u001b[0m\n",
            "\u001b[32m[I 2022-08-28 14:07:41,883]\u001b[0m Trial 98 finished with value: 0.8774 and parameters: {'num_leaves': 85, 'num_boost_rounds': 269, 'learning_rate': 0.10121791523907502, 'max_depth': 31, 'colsample_bytree': 0.7154446058270441, 'reg_alpha': 0.4067302241946708, 'reg_lambda': 0.31511268210645, 'min_split_gain': 0.16162870153014508, 'subsample': 0.10970120029156047}. Best is trial 93 with value: 0.8808.\u001b[0m\n",
            "\u001b[32m[I 2022-08-28 14:07:44,085]\u001b[0m Trial 99 finished with value: 0.88 and parameters: {'num_leaves': 76, 'num_boost_rounds': 276, 'learning_rate': 0.18980773139286014, 'max_depth': 28, 'colsample_bytree': 0.7932256780772456, 'reg_alpha': 0.31993920581383806, 'reg_lambda': 0.47797210739163676, 'min_split_gain': 0.19517451589366036, 'subsample': 0.12546812229447857}. Best is trial 93 with value: 0.8808.\u001b[0m\n",
            "\u001b[32m[I 2022-08-28 14:07:46,291]\u001b[0m Trial 100 finished with value: 0.8792 and parameters: {'num_leaves': 77, 'num_boost_rounds': 273, 'learning_rate': 0.21378650708610225, 'max_depth': 27, 'colsample_bytree': 0.9059260601309476, 'reg_alpha': 0.13279501343588854, 'reg_lambda': 0.49085505304775245, 'min_split_gain': 0.21935480005886662, 'subsample': 0.1220321467634468}. Best is trial 93 with value: 0.8808.\u001b[0m\n",
            "\u001b[32m[I 2022-08-28 14:07:48,453]\u001b[0m Trial 101 finished with value: 0.8799 and parameters: {'num_leaves': 70, 'num_boost_rounds': 261, 'learning_rate': 0.21488903429164097, 'max_depth': 27, 'colsample_bytree': 0.8992342313585148, 'reg_alpha': 0.10366142087181734, 'reg_lambda': 0.4859719054415173, 'min_split_gain': 0.18343878475181355, 'subsample': 0.12207406938330287}. Best is trial 93 with value: 0.8808.\u001b[0m\n",
            "\u001b[32m[I 2022-08-28 14:07:50,586]\u001b[0m Trial 102 finished with value: 0.8784 and parameters: {'num_leaves': 68, 'num_boost_rounds': 260, 'learning_rate': 0.23013480495377253, 'max_depth': 26, 'colsample_bytree': 0.9303421926681433, 'reg_alpha': 0.13511675718569469, 'reg_lambda': 0.4656359099212717, 'min_split_gain': 0.21889563410072777, 'subsample': 0.12350869762118998}. Best is trial 93 with value: 0.8808.\u001b[0m\n",
            "\u001b[32m[I 2022-08-28 14:07:52,796]\u001b[0m Trial 103 finished with value: 0.8792 and parameters: {'num_leaves': 77, 'num_boost_rounds': 275, 'learning_rate': 0.17848467691648337, 'max_depth': 28, 'colsample_bytree': 0.7907289586583792, 'reg_alpha': 0.12620189387600694, 'reg_lambda': 0.4242823993378727, 'min_split_gain': 0.1841954514614336, 'subsample': 0.1009187848220804}. Best is trial 93 with value: 0.8808.\u001b[0m\n",
            "\u001b[32m[I 2022-08-28 14:07:54,962]\u001b[0m Trial 104 finished with value: 0.879 and parameters: {'num_leaves': 72, 'num_boost_rounds': 277, 'learning_rate': 0.18131762958258119, 'max_depth': 30, 'colsample_bytree': 0.7870109585329393, 'reg_alpha': 0.11823638365541295, 'reg_lambda': 0.3581367918889863, 'min_split_gain': 0.1480946911111175, 'subsample': 0.10158111085381451}. Best is trial 93 with value: 0.8808.\u001b[0m\n",
            "\u001b[32m[I 2022-08-28 14:07:57,843]\u001b[0m Trial 105 finished with value: 0.8725 and parameters: {'num_leaves': 76, 'num_boost_rounds': 265, 'learning_rate': 0.06019061441183892, 'max_depth': 29, 'colsample_bytree': 0.8995949720706492, 'reg_alpha': 0.10604136741013082, 'reg_lambda': 0.4158155302013148, 'min_split_gain': 0.18999934267486385, 'subsample': 0.10807342408227658}. Best is trial 93 with value: 0.8808.\u001b[0m\n",
            "\u001b[32m[I 2022-08-28 14:08:00,057]\u001b[0m Trial 106 finished with value: 0.8783 and parameters: {'num_leaves': 71, 'num_boost_rounds': 282, 'learning_rate': 0.23004696321006243, 'max_depth': 26, 'colsample_bytree': 0.9933417450110478, 'reg_alpha': 0.152274617135984, 'reg_lambda': 0.4963100866538577, 'min_split_gain': 0.2167760913651198, 'subsample': 0.14519378881645165}. Best is trial 93 with value: 0.8808.\u001b[0m\n",
            "\u001b[32m[I 2022-08-28 14:08:01,652]\u001b[0m Trial 107 finished with value: 0.8427 and parameters: {'num_leaves': 64, 'num_boost_rounds': 275, 'learning_rate': 0.0953953776721919, 'max_depth': 27, 'colsample_bytree': 0.14784881519115214, 'reg_alpha': 0.14283574973161464, 'reg_lambda': 0.6160292766311241, 'min_split_gain': 0.18254575600246503, 'subsample': 0.13018018409391918}. Best is trial 93 with value: 0.8808.\u001b[0m\n",
            "\u001b[32m[I 2022-08-28 14:08:03,881]\u001b[0m Trial 108 finished with value: 0.875 and parameters: {'num_leaves': 54, 'num_boost_rounds': 300, 'learning_rate': 0.13011477831249468, 'max_depth': 15, 'colsample_bytree': 0.800140709162809, 'reg_alpha': 0.11545918730740458, 'reg_lambda': 0.5227801826769979, 'min_split_gain': 0.1914700443024555, 'subsample': 0.12396031920364435}. Best is trial 93 with value: 0.8808.\u001b[0m\n",
            "\u001b[32m[I 2022-08-28 14:08:06,100]\u001b[0m Trial 109 finished with value: 0.8792 and parameters: {'num_leaves': 81, 'num_boost_rounds': 245, 'learning_rate': 0.17215137542885814, 'max_depth': 35, 'colsample_bytree': 0.6767369873162399, 'reg_alpha': 0.18799526648782186, 'reg_lambda': 0.37835494117779894, 'min_split_gain': 0.1617242185457028, 'subsample': 0.11795063887190488}. Best is trial 93 with value: 0.8808.\u001b[0m\n",
            "\u001b[32m[I 2022-08-28 14:08:08,702]\u001b[0m Trial 110 finished with value: 0.8756 and parameters: {'num_leaves': 80, 'num_boost_rounds': 241, 'learning_rate': 0.07847584150448285, 'max_depth': 55, 'colsample_bytree': 0.6853722264554365, 'reg_alpha': 0.2320693137082224, 'reg_lambda': 0.22915269452771445, 'min_split_gain': 0.11600658123330901, 'subsample': 0.10548287290299854}. Best is trial 93 with value: 0.8808.\u001b[0m\n",
            "\u001b[32m[I 2022-08-28 14:08:10,829]\u001b[0m Trial 111 finished with value: 0.878 and parameters: {'num_leaves': 77, 'num_boost_rounds': 271, 'learning_rate': 0.1987932961659749, 'max_depth': 40, 'colsample_bytree': 0.729532575039394, 'reg_alpha': 0.12781139787074033, 'reg_lambda': 0.441809623553461, 'min_split_gain': 0.19723117148451313, 'subsample': 0.12120530435818735}. Best is trial 93 with value: 0.8808.\u001b[0m\n",
            "\u001b[32m[I 2022-08-28 14:08:12,649]\u001b[0m Trial 112 finished with value: 0.8763 and parameters: {'num_leaves': 57, 'num_boost_rounds': 256, 'learning_rate': 0.3009342241423707, 'max_depth': 31, 'colsample_bytree': 0.6637673151459952, 'reg_alpha': 0.18594319403175316, 'reg_lambda': 0.327783616579055, 'min_split_gain': 0.1643567884137151, 'subsample': 0.11681764587882312}. Best is trial 93 with value: 0.8808.\u001b[0m\n",
            "\u001b[32m[I 2022-08-28 14:08:14,958]\u001b[0m Trial 113 finished with value: 0.8788 and parameters: {'num_leaves': 82, 'num_boost_rounds': 296, 'learning_rate': 0.16446487707714463, 'max_depth': 28, 'colsample_bytree': 0.8739836951547595, 'reg_alpha': 0.14514095276089795, 'reg_lambda': 0.3730683167206106, 'min_split_gain': 0.1258051029138233, 'subsample': 0.13994144926322047}. Best is trial 93 with value: 0.8808.\u001b[0m\n",
            "\u001b[32m[I 2022-08-28 14:08:17,006]\u001b[0m Trial 114 finished with value: 0.8796 and parameters: {'num_leaves': 70, 'num_boost_rounds': 274, 'learning_rate': 0.24271822936489584, 'max_depth': 21, 'colsample_bytree': 0.755697671576621, 'reg_alpha': 0.31362560051860666, 'reg_lambda': 0.6925854698777966, 'min_split_gain': 0.17988057628884233, 'subsample': 0.11204254644536867}. Best is trial 93 with value: 0.8808.\u001b[0m\n",
            "\u001b[32m[I 2022-08-28 14:08:19,425]\u001b[0m Trial 115 finished with value: 0.8767 and parameters: {'num_leaves': 74, 'num_boost_rounds': 291, 'learning_rate': 0.11611496475695064, 'max_depth': 22, 'colsample_bytree': 0.76283783006099, 'reg_alpha': 0.2711039500230443, 'reg_lambda': 0.9395334776758986, 'min_split_gain': 0.13781563775554037, 'subsample': 0.11068562497923135}. Best is trial 93 with value: 0.8808.\u001b[0m\n",
            "\u001b[32m[I 2022-08-28 14:08:21,532]\u001b[0m Trial 116 finished with value: 0.8789 and parameters: {'num_leaves': 83, 'num_boost_rounds': 283, 'learning_rate': 0.2621363101782731, 'max_depth': 36, 'colsample_bytree': 0.7211905313999498, 'reg_alpha': 0.3292899643691033, 'reg_lambda': 0.6968643261657648, 'min_split_gain': 0.14952132339183255, 'subsample': 0.16665985226405078}. Best is trial 93 with value: 0.8808.\u001b[0m\n",
            "\u001b[32m[I 2022-08-28 14:08:24,939]\u001b[0m Trial 117 finished with value: 0.8751 and parameters: {'num_leaves': 68, 'num_boost_rounds': 263, 'learning_rate': 0.3001208770281792, 'max_depth': 21, 'colsample_bytree': 0.8013411946047697, 'reg_alpha': 0.30368256487209694, 'reg_lambda': 0.6360046068360518, 'min_split_gain': 0.19685789376912952, 'subsample': 0.10261384903723324}. Best is trial 93 with value: 0.8808.\u001b[0m\n",
            "\u001b[32m[I 2022-08-28 14:08:27,195]\u001b[0m Trial 118 finished with value: 0.8762 and parameters: {'num_leaves': 70, 'num_boost_rounds': 277, 'learning_rate': 0.1443156767373588, 'max_depth': 13, 'colsample_bytree': 0.7461403075622687, 'reg_alpha': 0.3593619697786494, 'reg_lambda': 0.8497139533135084, 'min_split_gain': 0.1795394790816577, 'subsample': 0.15244139902717455}. Best is trial 93 with value: 0.8808.\u001b[0m\n",
            "\u001b[32m[I 2022-08-28 14:08:28,701]\u001b[0m Trial 119 finished with value: 0.8704 and parameters: {'num_leaves': 73, 'num_boost_rounds': 270, 'learning_rate': 0.2405360732370478, 'max_depth': 32, 'colsample_bytree': 0.9158763270138321, 'reg_alpha': 0.25909109403068026, 'reg_lambda': 0.5187151322778905, 'min_split_gain': 0.8696149002849454, 'subsample': 0.13259063505593296}. Best is trial 93 with value: 0.8808.\u001b[0m\n",
            "\u001b[32m[I 2022-08-28 14:08:31,690]\u001b[0m Trial 120 finished with value: 0.84 and parameters: {'num_leaves': 61, 'num_boost_rounds': 288, 'learning_rate': 0.005862940060519166, 'max_depth': 16, 'colsample_bytree': 0.8686795888868081, 'reg_alpha': 0.23527433490303262, 'reg_lambda': 0.7092377967278428, 'min_split_gain': 0.13676900894908173, 'subsample': 0.12342948011285064}. Best is trial 93 with value: 0.8808.\u001b[0m\n",
            "\u001b[32m[I 2022-08-28 14:08:33,896]\u001b[0m Trial 121 finished with value: 0.8794 and parameters: {'num_leaves': 79, 'num_boost_rounds': 275, 'learning_rate': 0.19576082016009946, 'max_depth': 27, 'colsample_bytree': 0.7963278244988791, 'reg_alpha': 0.12015877082224893, 'reg_lambda': 0.4829136477845461, 'min_split_gain': 0.1673207979961521, 'subsample': 0.12725561158690393}. Best is trial 93 with value: 0.8808.\u001b[0m\n",
            "\u001b[32m[I 2022-08-28 14:08:35,987]\u001b[0m Trial 122 finished with value: 0.8791 and parameters: {'num_leaves': 79, 'num_boost_rounds': 247, 'learning_rate': 0.33529084765150874, 'max_depth': 23, 'colsample_bytree': 0.8263131012617358, 'reg_alpha': 0.19880145998003262, 'reg_lambda': 0.6062144311259282, 'min_split_gain': 0.15828900663618767, 'subsample': 0.13589376243854345}. Best is trial 93 with value: 0.8808.\u001b[0m\n",
            "\u001b[32m[I 2022-08-28 14:08:38,253]\u001b[0m Trial 123 finished with value: 0.879 and parameters: {'num_leaves': 78, 'num_boost_rounds': 274, 'learning_rate': 0.21734412427873154, 'max_depth': 27, 'colsample_bytree': 0.9061414704922777, 'reg_alpha': 0.11698203949130931, 'reg_lambda': 0.41708147177370203, 'min_split_gain': 0.1834607549386874, 'subsample': 0.11084886279285538}. Best is trial 93 with value: 0.8808.\u001b[0m\n",
            "\u001b[32m[I 2022-08-28 14:08:40,433]\u001b[0m Trial 124 finished with value: 0.8785 and parameters: {'num_leaves': 85, 'num_boost_rounds': 296, 'learning_rate': 0.17701797394078433, 'max_depth': 20, 'colsample_bytree': 0.6632586047923515, 'reg_alpha': 0.17669011959863007, 'reg_lambda': 0.4652369074000999, 'min_split_gain': 0.16454925690358413, 'subsample': 0.11468021255686008}. Best is trial 93 with value: 0.8808.\u001b[0m\n",
            "\u001b[32m[I 2022-08-28 14:08:42,798]\u001b[0m Trial 125 finished with value: 0.8754 and parameters: {'num_leaves': 74, 'num_boost_rounds': 281, 'learning_rate': 0.11872749869198648, 'max_depth': 24, 'colsample_bytree': 0.7833271939498989, 'reg_alpha': 0.10523216993351153, 'reg_lambda': 0.5435015646469226, 'min_split_gain': 0.2682466625309762, 'subsample': 0.14681853642703516}. Best is trial 93 with value: 0.8808.\u001b[0m\n",
            "\u001b[32m[I 2022-08-28 14:08:44,986]\u001b[0m Trial 126 finished with value: 0.8768 and parameters: {'num_leaves': 67, 'num_boost_rounds': 292, 'learning_rate': 0.16448387166419834, 'max_depth': 29, 'colsample_bytree': 0.810009686944316, 'reg_alpha': 0.21483011284468692, 'reg_lambda': 0.3822647306721775, 'min_split_gain': 0.14460384845660204, 'subsample': 0.12768088379116177}. Best is trial 93 with value: 0.8808.\u001b[0m\n",
            "\u001b[32m[I 2022-08-28 14:08:46,840]\u001b[0m Trial 127 finished with value: 0.8747 and parameters: {'num_leaves': 83, 'num_boost_rounds': 268, 'learning_rate': 0.6167836144827339, 'max_depth': 77, 'colsample_bytree': 0.9645856778842895, 'reg_alpha': 0.31252701800724497, 'reg_lambda': 0.4788495141954934, 'min_split_gain': 0.17245083625814103, 'subsample': 0.11980101040464908}. Best is trial 93 with value: 0.8808.\u001b[0m\n",
            "\u001b[32m[I 2022-08-28 14:08:48,914]\u001b[0m Trial 128 finished with value: 0.8352 and parameters: {'num_leaves': 81, 'num_boost_rounds': 198, 'learning_rate': 0.030145797594834448, 'max_depth': 18, 'colsample_bytree': 0.21375958481097185, 'reg_alpha': 0.28289124681275135, 'reg_lambda': 0.6287269709459137, 'min_split_gain': 0.44423662274052045, 'subsample': 0.5938158099858423}. Best is trial 93 with value: 0.8808.\u001b[0m\n",
            "\u001b[32m[I 2022-08-28 14:08:50,834]\u001b[0m Trial 129 finished with value: 0.8759 and parameters: {'num_leaves': 43, 'num_boost_rounds': 286, 'learning_rate': 0.26871986159725136, 'max_depth': 24, 'colsample_bytree': 0.8490380653458227, 'reg_alpha': 0.1609286290475818, 'reg_lambda': 0.8285283175312188, 'min_split_gain': 0.15225041173237044, 'subsample': 0.1119588411956004}. Best is trial 93 with value: 0.8808.\u001b[0m\n",
            "\u001b[32m[I 2022-08-28 14:08:52,441]\u001b[0m Trial 130 finished with value: 0.8766 and parameters: {'num_leaves': 93, 'num_boost_rounds': 278, 'learning_rate': 0.4658356549188406, 'max_depth': 21, 'colsample_bytree': 0.7194519097914178, 'reg_alpha': 0.43681905478259747, 'reg_lambda': 0.6779274532337844, 'min_split_gain': 0.16666576981236236, 'subsample': 0.10058569136596146}. Best is trial 93 with value: 0.8808.\u001b[0m\n",
            "\u001b[32m[I 2022-08-28 14:08:54,660]\u001b[0m Trial 131 finished with value: 0.8799 and parameters: {'num_leaves': 85, 'num_boost_rounds': 259, 'learning_rate': 0.19991361998193227, 'max_depth': 34, 'colsample_bytree': 0.7402220897081598, 'reg_alpha': 0.3760822128875021, 'reg_lambda': 0.4962778609578211, 'min_split_gain': 0.1587286357304762, 'subsample': 0.13735826740452559}. Best is trial 93 with value: 0.8808.\u001b[0m\n",
            "\u001b[32m[I 2022-08-28 14:08:56,934]\u001b[0m Trial 132 finished with value: 0.8806 and parameters: {'num_leaves': 86, 'num_boost_rounds': 272, 'learning_rate': 0.2043667082049122, 'max_depth': 26, 'colsample_bytree': 0.8733271008533009, 'reg_alpha': 0.3875153661670276, 'reg_lambda': 0.5043163848561109, 'min_split_gain': 0.15667333494046004, 'subsample': 0.13374186939030933}. Best is trial 93 with value: 0.8808.\u001b[0m\n",
            "\u001b[32m[I 2022-08-28 14:08:59,323]\u001b[0m Trial 133 finished with value: 0.8768 and parameters: {'num_leaves': 86, 'num_boost_rounds': 260, 'learning_rate': 0.1372990998032597, 'max_depth': 31, 'colsample_bytree': 0.749376875147213, 'reg_alpha': 0.3693162104043325, 'reg_lambda': 0.5450678398299097, 'min_split_gain': 0.1300221827596163, 'subsample': 0.13810886680678502}. Best is trial 93 with value: 0.8808.\u001b[0m\n",
            "\u001b[32m[I 2022-08-28 14:09:02,037]\u001b[0m Trial 134 finished with value: 0.877 and parameters: {'num_leaves': 90, 'num_boost_rounds': 283, 'learning_rate': 0.09380614900597539, 'max_depth': 26, 'colsample_bytree': 0.8592620940003107, 'reg_alpha': 0.3436021314654346, 'reg_lambda': 0.42384759705075803, 'min_split_gain': 0.14218542737447043, 'subsample': 0.1498762032425451}. Best is trial 93 with value: 0.8808.\u001b[0m\n",
            "\u001b[32m[I 2022-08-28 14:09:04,281]\u001b[0m Trial 135 finished with value: 0.8799 and parameters: {'num_leaves': 88, 'num_boost_rounds': 251, 'learning_rate': 0.2508198681621251, 'max_depth': 17, 'colsample_bytree': 0.8186956460573642, 'reg_alpha': 0.5311068990896426, 'reg_lambda': 0.5972388582434877, 'min_split_gain': 0.15613206198255414, 'subsample': 0.16073210838660443}. Best is trial 93 with value: 0.8808.\u001b[0m\n",
            "\u001b[32m[I 2022-08-28 14:09:06,294]\u001b[0m Trial 136 finished with value: 0.8785 and parameters: {'num_leaves': 88, 'num_boost_rounds': 251, 'learning_rate': 0.354026381450674, 'max_depth': 18, 'colsample_bytree': 0.8341556143841774, 'reg_alpha': 0.4724760066674688, 'reg_lambda': 0.7440532100879941, 'min_split_gain': 0.15400506396617214, 'subsample': 0.16019365413449677}. Best is trial 93 with value: 0.8808.\u001b[0m\n",
            "\u001b[32m[I 2022-08-28 14:09:08,467]\u001b[0m Trial 137 finished with value: 0.8793 and parameters: {'num_leaves': 94, 'num_boost_rounds': 256, 'learning_rate': 0.2497245787036478, 'max_depth': 23, 'colsample_bytree': 0.7582781279705098, 'reg_alpha': 0.5074338267414503, 'reg_lambda': 0.5843491296848847, 'min_split_gain': 0.15839138486624388, 'subsample': 0.17968478964652546}. Best is trial 93 with value: 0.8808.\u001b[0m\n",
            "\u001b[32m[I 2022-08-28 14:09:11,885]\u001b[0m Trial 138 finished with value: 0.6279 and parameters: {'num_leaves': 92, 'num_boost_rounds': 266, 'learning_rate': 0.00039191631941027754, 'max_depth': 16, 'colsample_bytree': 0.994274320706972, 'reg_alpha': 0.4246723537013617, 'reg_lambda': 0.7855842568856217, 'min_split_gain': 0.14951147693200176, 'subsample': 0.12689695260040093}. Best is trial 93 with value: 0.8808.\u001b[0m\n",
            "\u001b[32m[I 2022-08-28 14:09:14,086]\u001b[0m Trial 139 finished with value: 0.8778 and parameters: {'num_leaves': 96, 'num_boost_rounds': 254, 'learning_rate': 0.2568377065539435, 'max_depth': 12, 'colsample_bytree': 0.9306651770998868, 'reg_alpha': 0.5176170930440118, 'reg_lambda': 0.5795766340580649, 'min_split_gain': 0.17770039239529456, 'subsample': 0.14175541035752498}. Best is trial 93 with value: 0.8808.\u001b[0m\n",
            "\u001b[32m[I 2022-08-28 14:09:16,195]\u001b[0m Trial 140 finished with value: 0.878 and parameters: {'num_leaves': 94, 'num_boost_rounds': 250, 'learning_rate': 0.30320344966951185, 'max_depth': 20, 'colsample_bytree': 0.7717475358877811, 'reg_alpha': 0.3376623495159475, 'reg_lambda': 0.649930583002718, 'min_split_gain': 0.15666551711397886, 'subsample': 0.12801869873713415}. Best is trial 93 with value: 0.8808.\u001b[0m\n",
            "\u001b[32m[I 2022-08-28 14:09:18,475]\u001b[0m Trial 141 finished with value: 0.8784 and parameters: {'num_leaves': 88, 'num_boost_rounds': 259, 'learning_rate': 0.22237745386812946, 'max_depth': 23, 'colsample_bytree': 0.805596667665355, 'reg_alpha': 0.5570149268788207, 'reg_lambda': 0.9051816148665255, 'min_split_gain': 0.13613908765966568, 'subsample': 0.17564515685913526}. Best is trial 93 with value: 0.8808.\u001b[0m\n",
            "\u001b[32m[I 2022-08-28 14:09:20,964]\u001b[0m Trial 142 finished with value: 0.8791 and parameters: {'num_leaves': 89, 'num_boost_rounds': 296, 'learning_rate': 0.1477751275673907, 'max_depth': 24, 'colsample_bytree': 0.8875264413780419, 'reg_alpha': 0.4533432638872131, 'reg_lambda': 0.5770346768597818, 'min_split_gain': 0.1428156857419953, 'subsample': 0.16673065690658426}. Best is trial 93 with value: 0.8808.\u001b[0m\n",
            "\u001b[32m[I 2022-08-28 14:09:23,297]\u001b[0m Trial 143 finished with value: 0.8797 and parameters: {'num_leaves': 93, 'num_boost_rounds': 264, 'learning_rate': 0.19585095358724586, 'max_depth': 21, 'colsample_bytree': 0.7078677963059569, 'reg_alpha': 0.3927594242818711, 'reg_lambda': 0.6958794899516032, 'min_split_gain': 0.1681219718812125, 'subsample': 0.13107324184679237}. Best is trial 93 with value: 0.8808.\u001b[0m\n",
            "\u001b[32m[I 2022-08-28 14:09:25,472]\u001b[0m Trial 144 finished with value: 0.8796 and parameters: {'num_leaves': 86, 'num_boost_rounds': 262, 'learning_rate': 0.1963389491565456, 'max_depth': 17, 'colsample_bytree': 0.7019858043816727, 'reg_alpha': 0.39277800486512626, 'reg_lambda': 0.5266188240787276, 'min_split_gain': 0.1689435967018592, 'subsample': 0.13263134161811063}. Best is trial 93 with value: 0.8808.\u001b[0m\n",
            "\u001b[32m[I 2022-08-28 14:09:27,635]\u001b[0m Trial 145 finished with value: 0.8775 and parameters: {'num_leaves': 85, 'num_boost_rounds': 262, 'learning_rate': 0.19645688712688075, 'max_depth': 17, 'colsample_bytree': 0.6382793245366041, 'reg_alpha': 0.3811560462157648, 'reg_lambda': 0.5047224128270922, 'min_split_gain': 0.16970438203819094, 'subsample': 0.13210510008528456}. Best is trial 93 with value: 0.8808.\u001b[0m\n",
            "\u001b[32m[I 2022-08-28 14:09:30,199]\u001b[0m Trial 146 finished with value: 0.8777 and parameters: {'num_leaves': 90, 'num_boost_rounds': 265, 'learning_rate': 0.10326462397637186, 'max_depth': 15, 'colsample_bytree': 0.7003656241250701, 'reg_alpha': 0.2920108030141612, 'reg_lambda': 0.7044681517452737, 'min_split_gain': 0.19825458668170223, 'subsample': 0.6993930542758546}. Best is trial 93 with value: 0.8808.\u001b[0m\n",
            "\u001b[32m[I 2022-08-28 14:09:32,649]\u001b[0m Trial 147 finished with value: 0.8777 and parameters: {'num_leaves': 87, 'num_boost_rounds': 238, 'learning_rate': 0.13204985328559185, 'max_depth': 18, 'colsample_bytree': 0.8261393719336302, 'reg_alpha': 0.3204848842743476, 'reg_lambda': 0.5225666999130806, 'min_split_gain': 0.1754970683352054, 'subsample': 0.13377170064668714}. Best is trial 93 with value: 0.8808.\u001b[0m\n",
            "\u001b[32m[I 2022-08-28 14:09:34,942]\u001b[0m Trial 148 finished with value: 0.8784 and parameters: {'num_leaves': 84, 'num_boost_rounds': 269, 'learning_rate': 0.1834800705250067, 'max_depth': 20, 'colsample_bytree': 0.8535806180584238, 'reg_alpha': 0.3563439203054599, 'reg_lambda': 0.6443802366313227, 'min_split_gain': 0.16559841204488576, 'subsample': 0.15498581250623497}. Best is trial 93 with value: 0.8808.\u001b[0m\n",
            "\u001b[32m[I 2022-08-28 14:09:36,372]\u001b[0m Trial 149 finished with value: 0.8714 and parameters: {'num_leaves': 87, 'num_boost_rounds': 291, 'learning_rate': 0.32742914227932646, 'max_depth': 21, 'colsample_bytree': 0.6896581248337574, 'reg_alpha': 8.766707907331073, 'reg_lambda': 0.49040269345494664, 'min_split_gain': 0.18930662254052816, 'subsample': 0.14110049961095805}. Best is trial 93 with value: 0.8808.\u001b[0m\n",
            "\u001b[32m[I 2022-08-28 14:09:38,551]\u001b[0m Trial 150 finished with value: 0.8789 and parameters: {'num_leaves': 83, 'num_boost_rounds': 300, 'learning_rate': 0.21672079107133854, 'max_depth': 14, 'colsample_bytree': 0.7771356839979587, 'reg_alpha': 0.4070795285874572, 'reg_lambda': 0.6219006100058772, 'min_split_gain': 0.17118889148757815, 'subsample': 0.5151123367140933}. Best is trial 93 with value: 0.8808.\u001b[0m\n",
            "\u001b[32m[I 2022-08-28 14:09:40,748]\u001b[0m Trial 151 finished with value: 0.881 and parameters: {'num_leaves': 94, 'num_boost_rounds': 259, 'learning_rate': 0.2507617200733329, 'max_depth': 26, 'colsample_bytree': 0.7368738304736658, 'reg_alpha': 0.4892477453757383, 'reg_lambda': 0.11067428819396881, 'min_split_gain': 0.1577167733192906, 'subsample': 0.14684038236634864}. Best is trial 151 with value: 0.881.\u001b[0m\n",
            "\u001b[32m[I 2022-08-28 14:09:43,194]\u001b[0m Trial 152 finished with value: 0.8788 and parameters: {'num_leaves': 91, 'num_boost_rounds': 258, 'learning_rate': 0.1555629354048097, 'max_depth': 27, 'colsample_bytree': 0.8762037725211286, 'reg_alpha': 0.3875955991701596, 'reg_lambda': 0.562330339300599, 'min_split_gain': 0.1492373004311073, 'subsample': 0.1362223846410083}. Best is trial 151 with value: 0.881.\u001b[0m\n",
            "\u001b[32m[I 2022-08-28 14:09:44,589]\u001b[0m Trial 153 finished with value: 0.8514 and parameters: {'num_leaves': 99, 'num_boost_rounds': 249, 'learning_rate': 0.27294331668298616, 'max_depth': 25, 'colsample_bytree': 0.11319899648225838, 'reg_alpha': 0.3245104278552023, 'reg_lambda': 0.16612205145985326, 'min_split_gain': 0.15839124297709922, 'subsample': 0.14675941294938183}. Best is trial 151 with value: 0.881.\u001b[0m\n",
            "\u001b[32m[I 2022-08-28 14:09:46,862]\u001b[0m Trial 154 finished with value: 0.8777 and parameters: {'num_leaves': 97, 'num_boost_rounds': 254, 'learning_rate': 0.21453168438287967, 'max_depth': 19, 'colsample_bytree': 0.8098327213910241, 'reg_alpha': 0.28842714399812297, 'reg_lambda': 3.472137453778675, 'min_split_gain': 0.18197068118397658, 'subsample': 0.13011832462746895}. Best is trial 151 with value: 0.881.\u001b[0m\n",
            "\u001b[32m[I 2022-08-28 14:09:49,211]\u001b[0m Trial 155 finished with value: 0.8802 and parameters: {'num_leaves': 93, 'num_boost_rounds': 266, 'learning_rate': 0.17570116651072726, 'max_depth': 29, 'colsample_bytree': 0.7118228535837813, 'reg_alpha': 0.45720866523978804, 'reg_lambda': 0.7051050818167724, 'min_split_gain': 0.1475153730601531, 'subsample': 0.11572083142640065}. Best is trial 151 with value: 0.881.\u001b[0m\n",
            "\u001b[32m[I 2022-08-28 14:09:51,770]\u001b[0m Trial 156 finished with value: 0.8774 and parameters: {'num_leaves': 93, 'num_boost_rounds': 262, 'learning_rate': 0.11321097655521108, 'max_depth': 29, 'colsample_bytree': 0.7126640830778692, 'reg_alpha': 0.4813225915889888, 'reg_lambda': 1.2295771565702818, 'min_split_gain': 0.1458739700933557, 'subsample': 0.6577018206972102}. Best is trial 151 with value: 0.881.\u001b[0m\n",
            "\u001b[32m[I 2022-08-28 14:09:54,134]\u001b[0m Trial 157 finished with value: 0.8801 and parameters: {'num_leaves': 96, 'num_boost_rounds': 266, 'learning_rate': 0.1553267830879254, 'max_depth': 22, 'colsample_bytree': 0.6258901129705662, 'reg_alpha': 0.612249947338767, 'reg_lambda': 0.14464248718946768, 'min_split_gain': 0.12579772078373233, 'subsample': 0.5993641103428714}. Best is trial 151 with value: 0.881.\u001b[0m\n",
            "\u001b[32m[I 2022-08-28 14:09:56,067]\u001b[0m Trial 158 finished with value: 0.8795 and parameters: {'num_leaves': 96, 'num_boost_rounds': 268, 'learning_rate': 0.2846925976035043, 'max_depth': 33, 'colsample_bytree': 0.6687594744139301, 'reg_alpha': 0.7146474976430813, 'reg_lambda': 0.1147146617081312, 'min_split_gain': 0.1256871869571781, 'subsample': 0.1066180949108075}. Best is trial 151 with value: 0.881.\u001b[0m\n",
            "\u001b[32m[I 2022-08-28 14:09:58,579]\u001b[0m Trial 159 finished with value: 0.8789 and parameters: {'num_leaves': 98, 'num_boost_rounds': 264, 'learning_rate': 0.1280729128333943, 'max_depth': 51, 'colsample_bytree': 0.7447283067147898, 'reg_alpha': 0.5779301898627075, 'reg_lambda': 0.10135694156477652, 'min_split_gain': 0.15983334356717316, 'subsample': 0.1143219966923222}. Best is trial 151 with value: 0.881.\u001b[0m\n",
            "\u001b[32m[I 2022-08-28 14:10:00,601]\u001b[0m Trial 160 finished with value: 0.8793 and parameters: {'num_leaves': 94, 'num_boost_rounds': 257, 'learning_rate': 0.2398930710234385, 'max_depth': 17, 'colsample_bytree': 0.6355658819003148, 'reg_alpha': 0.5256000036124884, 'reg_lambda': 0.6906151338488752, 'min_split_gain': 0.19050697355548443, 'subsample': 0.11734189226262744}. Best is trial 151 with value: 0.881.\u001b[0m\n",
            "\u001b[32m[I 2022-08-28 14:10:02,935]\u001b[0m Trial 161 finished with value: 0.8796 and parameters: {'num_leaves': 89, 'num_boost_rounds': 270, 'learning_rate': 0.16117316718527322, 'max_depth': 22, 'colsample_bytree': 0.713910388722529, 'reg_alpha': 0.4350394450461882, 'reg_lambda': 0.13121222496827567, 'min_split_gain': 0.1296343267306955, 'subsample': 0.6119011436532141}. Best is trial 151 with value: 0.881.\u001b[0m\n",
            "\u001b[32m[I 2022-08-28 14:10:05,295]\u001b[0m Trial 162 finished with value: 0.8795 and parameters: {'num_leaves': 91, 'num_boost_rounds': 271, 'learning_rate': 0.17802483550389983, 'max_depth': 22, 'colsample_bytree': 0.6975689335248185, 'reg_alpha': 0.620739587933829, 'reg_lambda': 0.1730450255118975, 'min_split_gain': 0.12841197191238715, 'subsample': 0.6670332332864572}. Best is trial 151 with value: 0.881.\u001b[0m\n",
            "\u001b[32m[I 2022-08-28 14:10:07,663]\u001b[0m Trial 163 finished with value: 0.8787 and parameters: {'num_leaves': 89, 'num_boost_rounds': 260, 'learning_rate': 0.15112848170703855, 'max_depth': 25, 'colsample_bytree': 0.7622108514164238, 'reg_alpha': 0.4476478973973945, 'reg_lambda': 0.1079603725979586, 'min_split_gain': 0.11950010566351085, 'subsample': 0.6337554923667347}. Best is trial 151 with value: 0.881.\u001b[0m\n",
            "\u001b[32m[I 2022-08-28 14:10:09,520]\u001b[0m Trial 164 finished with value: 0.8776 and parameters: {'num_leaves': 93, 'num_boost_rounds': 266, 'learning_rate': 0.33764234913268787, 'max_depth': 20, 'colsample_bytree': 0.6223912213458795, 'reg_alpha': 0.42957034171349506, 'reg_lambda': 0.12432664443305819, 'min_split_gain': 0.15187673878405694, 'subsample': 0.600399101537919}. Best is trial 151 with value: 0.881.\u001b[0m\n",
            "\u001b[32m[I 2022-08-28 14:10:12,576]\u001b[0m Trial 165 finished with value: 0.6279 and parameters: {'num_leaves': 100, 'num_boost_rounds': 272, 'learning_rate': 0.0015307801759926584, 'max_depth': 29, 'colsample_bytree': 0.6618144719118868, 'reg_alpha': 0.3823849150032046, 'reg_lambda': 0.6145914904626838, 'min_split_gain': 0.14242684731798802, 'subsample': 0.5734297659360407}. Best is trial 151 with value: 0.881.\u001b[0m\n",
            "\u001b[32m[I 2022-08-28 14:10:14,903]\u001b[0m Trial 166 finished with value: 0.8798 and parameters: {'num_leaves': 95, 'num_boost_rounds': 264, 'learning_rate': 0.18609368957203992, 'max_depth': 26, 'colsample_bytree': 0.7394679098486224, 'reg_alpha': 0.49186429354884686, 'reg_lambda': 0.12986024738525376, 'min_split_gain': 0.11405189785640765, 'subsample': 0.12351651737823253}. Best is trial 151 with value: 0.881.\u001b[0m\n",
            "\u001b[32m[I 2022-08-28 14:10:17,141]\u001b[0m Trial 167 finished with value: 0.8806 and parameters: {'num_leaves': 96, 'num_boost_rounds': 253, 'learning_rate': 0.24656055132891094, 'max_depth': 25, 'colsample_bytree': 0.7260284040671646, 'reg_alpha': 0.4882494086328662, 'reg_lambda': 0.13997852185303064, 'min_split_gain': 0.11087616307479184, 'subsample': 0.12367039097841948}. Best is trial 151 with value: 0.881.\u001b[0m\n",
            "\u001b[32m[I 2022-08-28 14:10:19,556]\u001b[0m Trial 168 finished with value: 0.8799 and parameters: {'num_leaves': 96, 'num_boost_rounds': 253, 'learning_rate': 0.16969403309131875, 'max_depth': 25, 'colsample_bytree': 0.717355549429475, 'reg_alpha': 0.6325669069151306, 'reg_lambda': 0.15660890954310488, 'min_split_gain': 0.12363360053870805, 'subsample': 0.12285374616340622}. Best is trial 151 with value: 0.881.\u001b[0m\n",
            "\u001b[32m[I 2022-08-28 14:10:23,105]\u001b[0m Trial 169 finished with value: 0.8743 and parameters: {'num_leaves': 97, 'num_boost_rounds': 252, 'learning_rate': 0.23041832825796368, 'max_depth': 64, 'colsample_bytree': 0.318933352131381, 'reg_alpha': 0.5714984184331205, 'reg_lambda': 0.1893637920570856, 'min_split_gain': 0.10373606071785331, 'subsample': 0.11853980780484177}. Best is trial 151 with value: 0.881.\u001b[0m\n",
            "\u001b[32m[I 2022-08-28 14:10:25,099]\u001b[0m Trial 170 finished with value: 0.8783 and parameters: {'num_leaves': 95, 'num_boost_rounds': 243, 'learning_rate': 0.42148855253068374, 'max_depth': 25, 'colsample_bytree': 0.7324239581933143, 'reg_alpha': 0.6414306093732884, 'reg_lambda': 0.14000863285533927, 'min_split_gain': 0.10952718466725325, 'subsample': 0.12341967833575941}. Best is trial 151 with value: 0.881.\u001b[0m\n",
            "\u001b[32m[I 2022-08-28 14:10:27,270]\u001b[0m Trial 171 finished with value: 0.8793 and parameters: {'num_leaves': 96, 'num_boost_rounds': 254, 'learning_rate': 0.2743448979428655, 'max_depth': 26, 'colsample_bytree': 0.6849736427234248, 'reg_alpha': 0.501236810056793, 'reg_lambda': 0.14942903685022962, 'min_split_gain': 0.12144172002656546, 'subsample': 0.13550505146992659}. Best is trial 151 with value: 0.881.\u001b[0m\n",
            "\u001b[32m[I 2022-08-28 14:10:30,514]\u001b[0m Trial 172 finished with value: 0.8608 and parameters: {'num_leaves': 98, 'num_boost_rounds': 248, 'learning_rate': 0.014920382002750067, 'max_depth': 30, 'colsample_bytree': 0.7702651589543059, 'reg_alpha': 0.4684502393832128, 'reg_lambda': 0.16245886315606076, 'min_split_gain': 0.10934190440048212, 'subsample': 0.11298510018231399}. Best is trial 151 with value: 0.881.\u001b[0m\n",
            "\u001b[32m[I 2022-08-28 14:10:32,933]\u001b[0m Trial 173 finished with value: 0.8797 and parameters: {'num_leaves': 94, 'num_boost_rounds': 229, 'learning_rate': 0.16332446966269726, 'max_depth': 22, 'colsample_bytree': 0.7290981632250957, 'reg_alpha': 0.7741022099363232, 'reg_lambda': 0.1262316453827178, 'min_split_gain': 0.113395079493708, 'subsample': 0.12499694783181128}. Best is trial 151 with value: 0.881.\u001b[0m\n",
            "\u001b[32m[I 2022-08-28 14:10:35,379]\u001b[0m Trial 174 finished with value: 0.8783 and parameters: {'num_leaves': 94, 'num_boost_rounds': 220, 'learning_rate': 0.12879713913946758, 'max_depth': 24, 'colsample_bytree': 0.6502893627907916, 'reg_alpha': 0.703713155605445, 'reg_lambda': 0.1187642872965637, 'min_split_gain': 0.11814638254370528, 'subsample': 0.10721432936868039}. Best is trial 151 with value: 0.881.\u001b[0m\n",
            "\u001b[32m[I 2022-08-28 14:10:37,764]\u001b[0m Trial 175 finished with value: 0.8798 and parameters: {'num_leaves': 92, 'num_boost_rounds': 231, 'learning_rate': 0.17342331462419974, 'max_depth': 22, 'colsample_bytree': 0.7389664666918887, 'reg_alpha': 0.6104832975031438, 'reg_lambda': 0.13578794403183653, 'min_split_gain': 0.10603218308787454, 'subsample': 0.12570845424307792}. Best is trial 151 with value: 0.881.\u001b[0m\n",
            "\u001b[32m[I 2022-08-28 14:10:40,177]\u001b[0m Trial 176 finished with value: 0.8812 and parameters: {'num_leaves': 99, 'num_boost_rounds': 241, 'learning_rate': 0.17770271448046496, 'max_depth': 22, 'colsample_bytree': 0.7479021432411546, 'reg_alpha': 0.7641281628894645, 'reg_lambda': 0.14854790715279698, 'min_split_gain': 0.1056394745341373, 'subsample': 0.12455738545849748}. Best is trial 176 with value: 0.8812.\u001b[0m\n",
            "\u001b[32m[I 2022-08-28 14:10:42,772]\u001b[0m Trial 177 finished with value: 0.8782 and parameters: {'num_leaves': 98, 'num_boost_rounds': 230, 'learning_rate': 0.10317059039324333, 'max_depth': 26, 'colsample_bytree': 0.7247971115375471, 'reg_alpha': 0.7796321834421269, 'reg_lambda': 0.14934229625590942, 'min_split_gain': 0.10421412789002102, 'subsample': 0.12486473814058646}. Best is trial 176 with value: 0.8812.\u001b[0m\n",
            "\u001b[32m[I 2022-08-28 14:10:45,246]\u001b[0m Trial 178 finished with value: 0.8808 and parameters: {'num_leaves': 100, 'num_boost_rounds': 236, 'learning_rate': 0.17092004053080537, 'max_depth': 28, 'colsample_bytree': 0.7977160370053712, 'reg_alpha': 0.8416697329425311, 'reg_lambda': 0.1344671156116651, 'min_split_gain': 0.11254323139244982, 'subsample': 0.14074921998581863}. Best is trial 176 with value: 0.8812.\u001b[0m\n",
            "\u001b[32m[I 2022-08-28 14:10:47,826]\u001b[0m Trial 179 finished with value: 0.8792 and parameters: {'num_leaves': 100, 'num_boost_rounds': 232, 'learning_rate': 0.12807817900126575, 'max_depth': 28, 'colsample_bytree': 0.797377834753047, 'reg_alpha': 0.8879649684358859, 'reg_lambda': 0.14708922336152383, 'min_split_gain': 0.11313623381627401, 'subsample': 0.14325115728014134}. Best is trial 176 with value: 0.8812.\u001b[0m\n",
            "\u001b[32m[I 2022-08-28 14:10:50,681]\u001b[0m Trial 180 finished with value: 0.8769 and parameters: {'num_leaves': 100, 'num_boost_rounds': 238, 'learning_rate': 0.08279127522440963, 'max_depth': 31, 'colsample_bytree': 0.825269612695806, 'reg_alpha': 0.7641704469919847, 'reg_lambda': 0.1336176817747758, 'min_split_gain': 0.10371589649818443, 'subsample': 0.12118143939439366}. Best is trial 176 with value: 0.8812.\u001b[0m\n",
            "\u001b[32m[I 2022-08-28 14:10:53,098]\u001b[0m Trial 181 finished with value: 0.8797 and parameters: {'num_leaves': 95, 'num_boost_rounds': 224, 'learning_rate': 0.1723036907033196, 'max_depth': 23, 'colsample_bytree': 0.7576569799459051, 'reg_alpha': 1.0020655675681749, 'reg_lambda': 0.12845861590252522, 'min_split_gain': 0.11284063036193863, 'subsample': 0.12691261151965097}. Best is trial 176 with value: 0.8812.\u001b[0m\n",
            "\u001b[32m[I 2022-08-28 14:10:55,574]\u001b[0m Trial 182 finished with value: 0.8797 and parameters: {'num_leaves': 96, 'num_boost_rounds': 237, 'learning_rate': 0.17796570781087725, 'max_depth': 24, 'colsample_bytree': 0.7905524988018439, 'reg_alpha': 0.8561564392310029, 'reg_lambda': 0.2107307548722069, 'min_split_gain': 0.10745517936286056, 'subsample': 0.13011026386620225}. Best is trial 176 with value: 0.8812.\u001b[0m\n",
            "\u001b[32m[I 2022-08-28 14:10:58,201]\u001b[0m Trial 183 finished with value: 0.879 and parameters: {'num_leaves': 97, 'num_boost_rounds': 242, 'learning_rate': 0.1438073558363667, 'max_depth': 29, 'colsample_bytree': 0.8342486839593787, 'reg_alpha': 0.9701109395844322, 'reg_lambda': 0.10809699007500367, 'min_split_gain': 0.10023768487987283, 'subsample': 0.138906927427524}. Best is trial 176 with value: 0.8812.\u001b[0m\n",
            "\u001b[32m[I 2022-08-28 14:11:00,595]\u001b[0m Trial 184 finished with value: 0.8823 and parameters: {'num_leaves': 96, 'num_boost_rounds': 234, 'learning_rate': 0.23601531689210287, 'max_depth': 26, 'colsample_bytree': 0.7924479091332521, 'reg_alpha': 0.8608387091742392, 'reg_lambda': 0.15141764823351714, 'min_split_gain': 0.10706226663642575, 'subsample': 0.14789077888620905}. Best is trial 184 with value: 0.8823.\u001b[0m\n",
            "\u001b[32m[I 2022-08-28 14:11:02,758]\u001b[0m Trial 185 finished with value: 0.8806 and parameters: {'num_leaves': 98, 'num_boost_rounds': 235, 'learning_rate': 0.30376412352079646, 'max_depth': 27, 'colsample_bytree': 0.9125396382694068, 'reg_alpha': 1.2134086089742682, 'reg_lambda': 0.15918617933893459, 'min_split_gain': 0.11505676336101599, 'subsample': 0.14933879137717831}. Best is trial 184 with value: 0.8823.\u001b[0m\n",
            "\u001b[32m[I 2022-08-28 14:11:04,897]\u001b[0m Trial 186 finished with value: 0.8803 and parameters: {'num_leaves': 99, 'num_boost_rounds': 234, 'learning_rate': 0.30623653767729037, 'max_depth': 34, 'colsample_bytree': 0.8979190172828498, 'reg_alpha': 1.1927428841060848, 'reg_lambda': 0.204437146418456, 'min_split_gain': 0.10712826141116852, 'subsample': 0.15074790018327514}. Best is trial 184 with value: 0.8823.\u001b[0m\n",
            "\u001b[32m[I 2022-08-28 14:11:07,020]\u001b[0m Trial 187 finished with value: 0.8787 and parameters: {'num_leaves': 99, 'num_boost_rounds': 224, 'learning_rate': 0.34373068200643936, 'max_depth': 34, 'colsample_bytree': 0.9287556212325717, 'reg_alpha': 1.744179588708651, 'reg_lambda': 0.1596244960337625, 'min_split_gain': 0.1042811557160641, 'subsample': 0.15602968429922787}. Best is trial 184 with value: 0.8823.\u001b[0m\n",
            "\u001b[32m[I 2022-08-28 14:11:09,419]\u001b[0m Trial 188 finished with value: 0.8815 and parameters: {'num_leaves': 100, 'num_boost_rounds': 236, 'learning_rate': 0.2742066237680423, 'max_depth': 39, 'colsample_bytree': 0.9606641121061776, 'reg_alpha': 0.6838607413231755, 'reg_lambda': 0.147194449758475, 'min_split_gain': 0.11751982006465693, 'subsample': 0.1492525578238209}. Best is trial 184 with value: 0.8823.\u001b[0m\n",
            "\u001b[32m[I 2022-08-28 14:11:11,813]\u001b[0m Trial 189 finished with value: 0.881 and parameters: {'num_leaves': 98, 'num_boost_rounds': 236, 'learning_rate': 0.3069511357455089, 'max_depth': 39, 'colsample_bytree': 0.9495370734770101, 'reg_alpha': 0.6511498209038679, 'reg_lambda': 0.1881198194127178, 'min_split_gain': 0.12323600815259282, 'subsample': 0.16025880415010973}. Best is trial 184 with value: 0.8823.\u001b[0m\n",
            "\u001b[32m[I 2022-08-28 14:11:14,062]\u001b[0m Trial 190 finished with value: 0.8806 and parameters: {'num_leaves': 99, 'num_boost_rounds': 237, 'learning_rate': 0.3022736356037434, 'max_depth': 39, 'colsample_bytree': 0.9704380547385381, 'reg_alpha': 1.064026253779035, 'reg_lambda': 0.19888959789913283, 'min_split_gain': 0.11943859668310089, 'subsample': 0.15065557548903638}. Best is trial 184 with value: 0.8823.\u001b[0m\n",
            "\u001b[32m[I 2022-08-28 14:11:16,266]\u001b[0m Trial 191 finished with value: 0.8807 and parameters: {'num_leaves': 99, 'num_boost_rounds': 235, 'learning_rate': 0.30480438669784726, 'max_depth': 40, 'colsample_bytree': 0.9603035661948296, 'reg_alpha': 1.154789462911662, 'reg_lambda': 0.20370049692572512, 'min_split_gain': 0.12282167005896553, 'subsample': 0.15071129507853026}. Best is trial 184 with value: 0.8823.\u001b[0m\n",
            "\u001b[32m[I 2022-08-28 14:11:18,189]\u001b[0m Trial 192 finished with value: 0.878 and parameters: {'num_leaves': 99, 'num_boost_rounds': 236, 'learning_rate': 0.40159450626789167, 'max_depth': 43, 'colsample_bytree': 0.9587233507687335, 'reg_alpha': 1.144927533255481, 'reg_lambda': 0.20632692875894912, 'min_split_gain': 0.11635402722333628, 'subsample': 0.15188956898585618}. Best is trial 184 with value: 0.8823.\u001b[0m\n",
            "\u001b[32m[I 2022-08-28 14:11:20,423]\u001b[0m Trial 193 finished with value: 0.8794 and parameters: {'num_leaves': 100, 'num_boost_rounds': 234, 'learning_rate': 0.29438934427725133, 'max_depth': 39, 'colsample_bytree': 0.995606544664603, 'reg_alpha': 1.2091346568841794, 'reg_lambda': 0.1870464411015976, 'min_split_gain': 0.12195586008906426, 'subsample': 0.15853580547347626}. Best is trial 184 with value: 0.8823.\u001b[0m\n",
            "\u001b[32m[I 2022-08-28 14:11:22,304]\u001b[0m Trial 194 finished with value: 0.8762 and parameters: {'num_leaves': 98, 'num_boost_rounds': 241, 'learning_rate': 0.5088130080878944, 'max_depth': 47, 'colsample_bytree': 0.9366719120807729, 'reg_alpha': 1.3422850806882012, 'reg_lambda': 0.2584385372481779, 'min_split_gain': 0.12430052040062324, 'subsample': 0.14906891866799743}. Best is trial 184 with value: 0.8823.\u001b[0m\n",
            "\u001b[32m[I 2022-08-28 14:11:24,298]\u001b[0m Trial 195 finished with value: 0.8792 and parameters: {'num_leaves': 97, 'num_boost_rounds': 245, 'learning_rate': 0.32676026524758645, 'max_depth': 42, 'colsample_bytree': 0.9617831916461054, 'reg_alpha': 1.4679416340400573, 'reg_lambda': 0.20518091549763912, 'min_split_gain': 0.11651691249470787, 'subsample': 0.16467407851630958}. Best is trial 184 with value: 0.8823.\u001b[0m\n",
            "\u001b[32m[I 2022-08-28 14:11:26,697]\u001b[0m Trial 196 finished with value: 0.8819 and parameters: {'num_leaves': 100, 'num_boost_rounds': 228, 'learning_rate': 0.2590782424400106, 'max_depth': 38, 'colsample_bytree': 0.9038495769245083, 'reg_alpha': 1.136910035311186, 'reg_lambda': 0.17527206707957707, 'min_split_gain': 0.11054782595190699, 'subsample': 0.1459021772872257}. Best is trial 184 with value: 0.8823.\u001b[0m\n",
            "\u001b[32m[I 2022-08-28 14:11:28,751]\u001b[0m Trial 197 finished with value: 0.8791 and parameters: {'num_leaves': 100, 'num_boost_rounds': 225, 'learning_rate': 0.37766213068438365, 'max_depth': 36, 'colsample_bytree': 0.9050773169834314, 'reg_alpha': 1.0926658523681112, 'reg_lambda': 0.16858636545882066, 'min_split_gain': 0.11023668739290039, 'subsample': 0.14826776954288312}. Best is trial 184 with value: 0.8823.\u001b[0m\n",
            "\u001b[32m[I 2022-08-28 14:11:31,042]\u001b[0m Trial 198 finished with value: 0.8796 and parameters: {'num_leaves': 98, 'num_boost_rounds': 235, 'learning_rate': 0.2952424026414956, 'max_depth': 44, 'colsample_bytree': 0.9988296806513853, 'reg_alpha': 1.2472625942117672, 'reg_lambda': 0.18558969396092612, 'min_split_gain': 0.12171126824797954, 'subsample': 0.17158064507573198}. Best is trial 184 with value: 0.8823.\u001b[0m\n",
            "\u001b[32m[I 2022-08-28 14:11:33,439]\u001b[0m Trial 199 finished with value: 0.8802 and parameters: {'num_leaves': 100, 'num_boost_rounds': 240, 'learning_rate': 0.2561139722237515, 'max_depth': 40, 'colsample_bytree': 0.8903904668855492, 'reg_alpha': 1.0421247884055664, 'reg_lambda': 0.15472104369736034, 'min_split_gain': 0.11280671109732421, 'subsample': 0.19396405032558803}. Best is trial 184 with value: 0.8823.\u001b[0m\n"
          ]
        }
      ]
    },
    {
      "cell_type": "code",
      "source": [
        "trial_lgbm = study_lgbm.best_trial\n",
        "print(\"Model Accuracy --> \",trial_lgbm.value)\n",
        "print(\"Model's Best parameters --> \",trial_lgbm.params)"
      ],
      "metadata": {
        "colab": {
          "base_uri": "https://localhost:8080/"
        },
        "id": "o7ZoyH1GGCU4",
        "outputId": "84c4bf57-9868-4d6f-a26d-c8e513c2b9d6"
      },
      "execution_count": 278,
      "outputs": [
        {
          "output_type": "stream",
          "name": "stdout",
          "text": [
            "Model Accuracy -->  0.8823\n",
            "Model's Best parameters -->  {'num_leaves': 96, 'num_boost_rounds': 234, 'learning_rate': 0.23601531689210287, 'max_depth': 26, 'colsample_bytree': 0.7924479091332521, 'reg_alpha': 0.8608387091742392, 'reg_lambda': 0.15141764823351714, 'min_split_gain': 0.10706226663642575, 'subsample': 0.14789077888620905}\n"
          ]
        }
      ]
    },
    {
      "cell_type": "code",
      "source": [
        "trial_lgbm2 = study_lgbm.best_trial\n",
        "model_LGBM2 = lgb.LGBMClassifier(**trial_lgbm2.params)\n",
        "fit_model_LGBM2 = model_LGBM2.fit(X_train,y_train)\n",
        "pred_LGBM2 = fit_model_LGBM2.predict(X_test)\n",
        "# view accuracy manually tuned\n",
        "accuracy=accuracy_score(y_test, pred_LGBM2)\n",
        "print('LightGBM Model accuracy score: {0:0.4f}'.format(accuracy_score(y_test, pred_LGBM2)))"
      ],
      "metadata": {
        "colab": {
          "base_uri": "https://localhost:8080/"
        },
        "id": "nviyQZEBGDmM",
        "outputId": "9ac0e9ff-bfd0-4ba5-bef8-cbc989cc6237"
      },
      "execution_count": 279,
      "outputs": [
        {
          "output_type": "stream",
          "name": "stdout",
          "text": [
            "LightGBM Model accuracy score: 0.8794\n"
          ]
        }
      ]
    },
    {
      "cell_type": "code",
      "source": [
        "optuna.visualization.plot_param_importances(study_lgbm)"
      ],
      "metadata": {
        "colab": {
          "base_uri": "https://localhost:8080/",
          "height": 0
        },
        "id": "6J1NXlr6Vo4Z",
        "outputId": "75ed17cd-bfbc-4b99-9f8d-6519ca53051f"
      },
      "execution_count": 280,
      "outputs": [
        {
          "output_type": "display_data",
          "data": {
            "text/html": [
              "<html>\n",
              "<head><meta charset=\"utf-8\" /></head>\n",
              "<body>\n",
              "    <div>            <script src=\"https://cdnjs.cloudflare.com/ajax/libs/mathjax/2.7.5/MathJax.js?config=TeX-AMS-MML_SVG\"></script><script type=\"text/javascript\">if (window.MathJax) {MathJax.Hub.Config({SVG: {font: \"STIX-Web\"}});}</script>                <script type=\"text/javascript\">window.PlotlyConfig = {MathJaxConfig: 'local'};</script>\n",
              "        <script src=\"https://cdn.plot.ly/plotly-2.8.3.min.js\"></script>                <div id=\"62d03d5f-9872-439b-8c7d-0bf6cc3205de\" class=\"plotly-graph-div\" style=\"height:525px; width:100%;\"></div>            <script type=\"text/javascript\">                                    window.PLOTLYENV=window.PLOTLYENV || {};                                    if (document.getElementById(\"62d03d5f-9872-439b-8c7d-0bf6cc3205de\")) {                    Plotly.newPlot(                        \"62d03d5f-9872-439b-8c7d-0bf6cc3205de\",                        [{\"cliponaxis\":false,\"hovertemplate\":[\"reg_lambda (LogUniformDistribution): 0.000543411680358747<extra></extra>\",\"min_split_gain (LogUniformDistribution): 0.0009488824478416941<extra></extra>\",\"reg_alpha (LogUniformDistribution): 0.0011070745717882775<extra></extra>\",\"subsample (LogUniformDistribution): 0.0018309695816714979<extra></extra>\",\"num_boost_rounds (IntUniformDistribution): 0.0037384006812687244<extra></extra>\",\"num_leaves (IntUniformDistribution): 0.022109433300002344<extra></extra>\",\"max_depth (IntUniformDistribution): 0.04977904808541539<extra></extra>\",\"colsample_bytree (LogUniformDistribution): 0.10289000663478022<extra></extra>\",\"learning_rate (LogUniformDistribution): 0.8170527730168731<extra></extra>\"],\"marker\":{\"color\":\"rgb(66,146,198)\"},\"orientation\":\"h\",\"text\":[\"0.000543411680358747\",\"0.0009488824478416941\",\"0.0011070745717882775\",\"0.0018309695816714979\",\"0.0037384006812687244\",\"0.022109433300002344\",\"0.04977904808541539\",\"0.10289000663478022\",\"0.8170527730168731\"],\"textposition\":\"outside\",\"texttemplate\":\"%{text:.2f}\",\"x\":[0.000543411680358747,0.0009488824478416941,0.0011070745717882775,0.0018309695816714979,0.0037384006812687244,0.022109433300002344,0.04977904808541539,0.10289000663478022,0.8170527730168731],\"y\":[\"reg_lambda\",\"min_split_gain\",\"reg_alpha\",\"subsample\",\"num_boost_rounds\",\"num_leaves\",\"max_depth\",\"colsample_bytree\",\"learning_rate\"],\"type\":\"bar\"}],                        {\"showlegend\":false,\"title\":{\"text\":\"Hyperparameter Importances\"},\"xaxis\":{\"title\":{\"text\":\"Importance for Objective Value\"}},\"yaxis\":{\"title\":{\"text\":\"Hyperparameter\"}},\"template\":{\"data\":{\"bar\":[{\"error_x\":{\"color\":\"#2a3f5f\"},\"error_y\":{\"color\":\"#2a3f5f\"},\"marker\":{\"line\":{\"color\":\"#E5ECF6\",\"width\":0.5},\"pattern\":{\"fillmode\":\"overlay\",\"size\":10,\"solidity\":0.2}},\"type\":\"bar\"}],\"barpolar\":[{\"marker\":{\"line\":{\"color\":\"#E5ECF6\",\"width\":0.5},\"pattern\":{\"fillmode\":\"overlay\",\"size\":10,\"solidity\":0.2}},\"type\":\"barpolar\"}],\"carpet\":[{\"aaxis\":{\"endlinecolor\":\"#2a3f5f\",\"gridcolor\":\"white\",\"linecolor\":\"white\",\"minorgridcolor\":\"white\",\"startlinecolor\":\"#2a3f5f\"},\"baxis\":{\"endlinecolor\":\"#2a3f5f\",\"gridcolor\":\"white\",\"linecolor\":\"white\",\"minorgridcolor\":\"white\",\"startlinecolor\":\"#2a3f5f\"},\"type\":\"carpet\"}],\"choropleth\":[{\"colorbar\":{\"outlinewidth\":0,\"ticks\":\"\"},\"type\":\"choropleth\"}],\"contour\":[{\"colorbar\":{\"outlinewidth\":0,\"ticks\":\"\"},\"colorscale\":[[0.0,\"#0d0887\"],[0.1111111111111111,\"#46039f\"],[0.2222222222222222,\"#7201a8\"],[0.3333333333333333,\"#9c179e\"],[0.4444444444444444,\"#bd3786\"],[0.5555555555555556,\"#d8576b\"],[0.6666666666666666,\"#ed7953\"],[0.7777777777777778,\"#fb9f3a\"],[0.8888888888888888,\"#fdca26\"],[1.0,\"#f0f921\"]],\"type\":\"contour\"}],\"contourcarpet\":[{\"colorbar\":{\"outlinewidth\":0,\"ticks\":\"\"},\"type\":\"contourcarpet\"}],\"heatmap\":[{\"colorbar\":{\"outlinewidth\":0,\"ticks\":\"\"},\"colorscale\":[[0.0,\"#0d0887\"],[0.1111111111111111,\"#46039f\"],[0.2222222222222222,\"#7201a8\"],[0.3333333333333333,\"#9c179e\"],[0.4444444444444444,\"#bd3786\"],[0.5555555555555556,\"#d8576b\"],[0.6666666666666666,\"#ed7953\"],[0.7777777777777778,\"#fb9f3a\"],[0.8888888888888888,\"#fdca26\"],[1.0,\"#f0f921\"]],\"type\":\"heatmap\"}],\"heatmapgl\":[{\"colorbar\":{\"outlinewidth\":0,\"ticks\":\"\"},\"colorscale\":[[0.0,\"#0d0887\"],[0.1111111111111111,\"#46039f\"],[0.2222222222222222,\"#7201a8\"],[0.3333333333333333,\"#9c179e\"],[0.4444444444444444,\"#bd3786\"],[0.5555555555555556,\"#d8576b\"],[0.6666666666666666,\"#ed7953\"],[0.7777777777777778,\"#fb9f3a\"],[0.8888888888888888,\"#fdca26\"],[1.0,\"#f0f921\"]],\"type\":\"heatmapgl\"}],\"histogram\":[{\"marker\":{\"pattern\":{\"fillmode\":\"overlay\",\"size\":10,\"solidity\":0.2}},\"type\":\"histogram\"}],\"histogram2d\":[{\"colorbar\":{\"outlinewidth\":0,\"ticks\":\"\"},\"colorscale\":[[0.0,\"#0d0887\"],[0.1111111111111111,\"#46039f\"],[0.2222222222222222,\"#7201a8\"],[0.3333333333333333,\"#9c179e\"],[0.4444444444444444,\"#bd3786\"],[0.5555555555555556,\"#d8576b\"],[0.6666666666666666,\"#ed7953\"],[0.7777777777777778,\"#fb9f3a\"],[0.8888888888888888,\"#fdca26\"],[1.0,\"#f0f921\"]],\"type\":\"histogram2d\"}],\"histogram2dcontour\":[{\"colorbar\":{\"outlinewidth\":0,\"ticks\":\"\"},\"colorscale\":[[0.0,\"#0d0887\"],[0.1111111111111111,\"#46039f\"],[0.2222222222222222,\"#7201a8\"],[0.3333333333333333,\"#9c179e\"],[0.4444444444444444,\"#bd3786\"],[0.5555555555555556,\"#d8576b\"],[0.6666666666666666,\"#ed7953\"],[0.7777777777777778,\"#fb9f3a\"],[0.8888888888888888,\"#fdca26\"],[1.0,\"#f0f921\"]],\"type\":\"histogram2dcontour\"}],\"mesh3d\":[{\"colorbar\":{\"outlinewidth\":0,\"ticks\":\"\"},\"type\":\"mesh3d\"}],\"parcoords\":[{\"line\":{\"colorbar\":{\"outlinewidth\":0,\"ticks\":\"\"}},\"type\":\"parcoords\"}],\"pie\":[{\"automargin\":true,\"type\":\"pie\"}],\"scatter\":[{\"marker\":{\"colorbar\":{\"outlinewidth\":0,\"ticks\":\"\"}},\"type\":\"scatter\"}],\"scatter3d\":[{\"line\":{\"colorbar\":{\"outlinewidth\":0,\"ticks\":\"\"}},\"marker\":{\"colorbar\":{\"outlinewidth\":0,\"ticks\":\"\"}},\"type\":\"scatter3d\"}],\"scattercarpet\":[{\"marker\":{\"colorbar\":{\"outlinewidth\":0,\"ticks\":\"\"}},\"type\":\"scattercarpet\"}],\"scattergeo\":[{\"marker\":{\"colorbar\":{\"outlinewidth\":0,\"ticks\":\"\"}},\"type\":\"scattergeo\"}],\"scattergl\":[{\"marker\":{\"colorbar\":{\"outlinewidth\":0,\"ticks\":\"\"}},\"type\":\"scattergl\"}],\"scattermapbox\":[{\"marker\":{\"colorbar\":{\"outlinewidth\":0,\"ticks\":\"\"}},\"type\":\"scattermapbox\"}],\"scatterpolar\":[{\"marker\":{\"colorbar\":{\"outlinewidth\":0,\"ticks\":\"\"}},\"type\":\"scatterpolar\"}],\"scatterpolargl\":[{\"marker\":{\"colorbar\":{\"outlinewidth\":0,\"ticks\":\"\"}},\"type\":\"scatterpolargl\"}],\"scatterternary\":[{\"marker\":{\"colorbar\":{\"outlinewidth\":0,\"ticks\":\"\"}},\"type\":\"scatterternary\"}],\"surface\":[{\"colorbar\":{\"outlinewidth\":0,\"ticks\":\"\"},\"colorscale\":[[0.0,\"#0d0887\"],[0.1111111111111111,\"#46039f\"],[0.2222222222222222,\"#7201a8\"],[0.3333333333333333,\"#9c179e\"],[0.4444444444444444,\"#bd3786\"],[0.5555555555555556,\"#d8576b\"],[0.6666666666666666,\"#ed7953\"],[0.7777777777777778,\"#fb9f3a\"],[0.8888888888888888,\"#fdca26\"],[1.0,\"#f0f921\"]],\"type\":\"surface\"}],\"table\":[{\"cells\":{\"fill\":{\"color\":\"#EBF0F8\"},\"line\":{\"color\":\"white\"}},\"header\":{\"fill\":{\"color\":\"#C8D4E3\"},\"line\":{\"color\":\"white\"}},\"type\":\"table\"}]},\"layout\":{\"annotationdefaults\":{\"arrowcolor\":\"#2a3f5f\",\"arrowhead\":0,\"arrowwidth\":1},\"autotypenumbers\":\"strict\",\"coloraxis\":{\"colorbar\":{\"outlinewidth\":0,\"ticks\":\"\"}},\"colorscale\":{\"diverging\":[[0,\"#8e0152\"],[0.1,\"#c51b7d\"],[0.2,\"#de77ae\"],[0.3,\"#f1b6da\"],[0.4,\"#fde0ef\"],[0.5,\"#f7f7f7\"],[0.6,\"#e6f5d0\"],[0.7,\"#b8e186\"],[0.8,\"#7fbc41\"],[0.9,\"#4d9221\"],[1,\"#276419\"]],\"sequential\":[[0.0,\"#0d0887\"],[0.1111111111111111,\"#46039f\"],[0.2222222222222222,\"#7201a8\"],[0.3333333333333333,\"#9c179e\"],[0.4444444444444444,\"#bd3786\"],[0.5555555555555556,\"#d8576b\"],[0.6666666666666666,\"#ed7953\"],[0.7777777777777778,\"#fb9f3a\"],[0.8888888888888888,\"#fdca26\"],[1.0,\"#f0f921\"]],\"sequentialminus\":[[0.0,\"#0d0887\"],[0.1111111111111111,\"#46039f\"],[0.2222222222222222,\"#7201a8\"],[0.3333333333333333,\"#9c179e\"],[0.4444444444444444,\"#bd3786\"],[0.5555555555555556,\"#d8576b\"],[0.6666666666666666,\"#ed7953\"],[0.7777777777777778,\"#fb9f3a\"],[0.8888888888888888,\"#fdca26\"],[1.0,\"#f0f921\"]]},\"colorway\":[\"#636efa\",\"#EF553B\",\"#00cc96\",\"#ab63fa\",\"#FFA15A\",\"#19d3f3\",\"#FF6692\",\"#B6E880\",\"#FF97FF\",\"#FECB52\"],\"font\":{\"color\":\"#2a3f5f\"},\"geo\":{\"bgcolor\":\"white\",\"lakecolor\":\"white\",\"landcolor\":\"#E5ECF6\",\"showlakes\":true,\"showland\":true,\"subunitcolor\":\"white\"},\"hoverlabel\":{\"align\":\"left\"},\"hovermode\":\"closest\",\"mapbox\":{\"style\":\"light\"},\"paper_bgcolor\":\"white\",\"plot_bgcolor\":\"#E5ECF6\",\"polar\":{\"angularaxis\":{\"gridcolor\":\"white\",\"linecolor\":\"white\",\"ticks\":\"\"},\"bgcolor\":\"#E5ECF6\",\"radialaxis\":{\"gridcolor\":\"white\",\"linecolor\":\"white\",\"ticks\":\"\"}},\"scene\":{\"xaxis\":{\"backgroundcolor\":\"#E5ECF6\",\"gridcolor\":\"white\",\"gridwidth\":2,\"linecolor\":\"white\",\"showbackground\":true,\"ticks\":\"\",\"zerolinecolor\":\"white\"},\"yaxis\":{\"backgroundcolor\":\"#E5ECF6\",\"gridcolor\":\"white\",\"gridwidth\":2,\"linecolor\":\"white\",\"showbackground\":true,\"ticks\":\"\",\"zerolinecolor\":\"white\"},\"zaxis\":{\"backgroundcolor\":\"#E5ECF6\",\"gridcolor\":\"white\",\"gridwidth\":2,\"linecolor\":\"white\",\"showbackground\":true,\"ticks\":\"\",\"zerolinecolor\":\"white\"}},\"shapedefaults\":{\"line\":{\"color\":\"#2a3f5f\"}},\"ternary\":{\"aaxis\":{\"gridcolor\":\"white\",\"linecolor\":\"white\",\"ticks\":\"\"},\"baxis\":{\"gridcolor\":\"white\",\"linecolor\":\"white\",\"ticks\":\"\"},\"bgcolor\":\"#E5ECF6\",\"caxis\":{\"gridcolor\":\"white\",\"linecolor\":\"white\",\"ticks\":\"\"}},\"title\":{\"x\":0.05},\"xaxis\":{\"automargin\":true,\"gridcolor\":\"white\",\"linecolor\":\"white\",\"ticks\":\"\",\"title\":{\"standoff\":15},\"zerolinecolor\":\"white\",\"zerolinewidth\":2},\"yaxis\":{\"automargin\":true,\"gridcolor\":\"white\",\"linecolor\":\"white\",\"ticks\":\"\",\"title\":{\"standoff\":15},\"zerolinecolor\":\"white\",\"zerolinewidth\":2}}}},                        {\"responsive\": true}                    ).then(function(){\n",
              "                            \n",
              "var gd = document.getElementById('62d03d5f-9872-439b-8c7d-0bf6cc3205de');\n",
              "var x = new MutationObserver(function (mutations, observer) {{\n",
              "        var display = window.getComputedStyle(gd).display;\n",
              "        if (!display || display === 'none') {{\n",
              "            console.log([gd, 'removed!']);\n",
              "            Plotly.purge(gd);\n",
              "            observer.disconnect();\n",
              "        }}\n",
              "}});\n",
              "\n",
              "// Listen for the removal of the full notebook cells\n",
              "var notebookContainer = gd.closest('#notebook-container');\n",
              "if (notebookContainer) {{\n",
              "    x.observe(notebookContainer, {childList: true});\n",
              "}}\n",
              "\n",
              "// Listen for the clearing of the current output cell\n",
              "var outputEl = gd.closest('.output');\n",
              "if (outputEl) {{\n",
              "    x.observe(outputEl, {childList: true});\n",
              "}}\n",
              "\n",
              "                        })                };                            </script>        </div>\n",
              "</body>\n",
              "</html>"
            ]
          },
          "metadata": {}
        }
      ]
    },
    {
      "cell_type": "code",
      "source": [
        "from optuna.integration import LightGBMPruningCallback\n",
        "import lightgbm as lgbm\n",
        "from sklearn.metrics import log_loss, mean_squared_error"
      ],
      "metadata": {
        "id": "fvWKnSX5rmcc"
      },
      "execution_count": 281,
      "outputs": []
    },
    {
      "cell_type": "code",
      "source": [
        "def objective(trial, X, y):\n",
        "    param_grid = {'num_leaves': trial.suggest_int('num_leaves', 10,100),\n",
        "        'num_boost_rounds': trial.suggest_int('num_boost_rounds', 100,300),\n",
        "        'learning_rate': trial.suggest_loguniform('learning_rate', 0.1,1),\n",
        "        'max_depth': trial.suggest_int('max_depth', 1,100),\n",
        "        'colsample_bytree': trial.suggest_loguniform('colsample_bytree',0.1,1),\n",
        "        'reg_alpha' : trial.suggest_loguniform('reg_alpha',0.1,10),\n",
        "        'reg_lambda': trial.suggest_loguniform('reg_lambda',0.1,10),\n",
        "        'min_split_gain': trial.suggest_loguniform('min_split_gain',0.1,1),\n",
        "        'subsample': trial.suggest_loguniform('subsample',0.1,1) \n",
        "    }\n",
        "\n",
        "    cv = StratifiedKFold(n_splits=5, shuffle=True, random_state=1121218)\n",
        "    cv_scores = np.empty(5)\n",
        "    for idx, (train_idx, test_idx) in enumerate(cv.split(X, y)):\n",
        "        X_train, X_test = X.iloc[train_idx], X.iloc[test_idx]\n",
        "        y_train, y_test = y[train_idx], y[test_idx]\n",
        "    model = lgbm.LGBMClassifier(objective=\"binary\", **param_grid)\n",
        "    model.fit(\n",
        "        X_train,\n",
        "        y_train,\n",
        "        eval_set=[(X_test, y_test)],\n",
        "        eval_metric=\"binary_logloss\",\n",
        "        early_stopping_rounds=100,\n",
        "        callbacks=[\n",
        "            LightGBMPruningCallback(trial, \"binary_logloss\")\n",
        "        ],  # Add a pruning callback\n",
        "    )\n",
        "    preds = model.predict_proba(X_test)\n",
        "    cv_scores[idx] = log_loss(y_test, preds)\n",
        "\n",
        "    return np.mean(cv_scores)"
      ],
      "metadata": {
        "id": "7TeGo3egrZtQ"
      },
      "execution_count": 282,
      "outputs": []
    },
    {
      "cell_type": "code",
      "source": [],
      "metadata": {
        "id": "f-53vhcvrx1f"
      },
      "execution_count": 282,
      "outputs": []
    }
  ]
}